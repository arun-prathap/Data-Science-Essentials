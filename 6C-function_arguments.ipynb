{
  "nbformat": 4,
  "nbformat_minor": 0,
  "metadata": {
    "kernelspec": {
      "display_name": "Python 3",
      "language": "python",
      "name": "python3"
    },
    "language_info": {
      "codemirror_mode": {
        "name": "ipython",
        "version": 3
      },
      "file_extension": ".py",
      "mimetype": "text/x-python",
      "name": "python",
      "nbconvert_exporter": "python",
      "pygments_lexer": "ipython3",
      "version": "3.6.1"
    },
    "colab": {
      "name": "3_function_arguments.ipynb",
      "provenance": []
    }
  },
  "cells": [
    {
      "cell_type": "markdown",
      "metadata": {
        "id": "xkpauDXqJRw3"
      },
      "source": [
        "# Function Arguments\n"
      ]
    },
    {
      "cell_type": "code",
      "metadata": {
        "id": "AbKNcisrJRxJ",
        "outputId": "f976634a-fc4f-4989-fd75-37df54fce822",
        "colab": {
          "base_uri": "https://localhost:8080/"
        }
      },
      "source": [
        "def greet(name, msg):\n",
        "    \"\"\"\n",
        "    This function greets to person with the provided message\n",
        "    \"\"\"\n",
        "    print(\"Hello {0} , {1}\".format(name, msg))\n",
        "\n",
        "#call the function with arguments\n",
        "greet(\"satish\", \"Good Morning\")\n"
      ],
      "execution_count": 1,
      "outputs": [
        {
          "output_type": "stream",
          "name": "stdout",
          "text": [
            "Hello satish , Good Morning\n"
          ]
        }
      ]
    },
    {
      "cell_type": "code",
      "metadata": {
        "id": "DdftwAr7JRxN",
        "outputId": "da3be2e8-2c00-40ab-ecbe-1b53bbc45bb1",
        "colab": {
          "base_uri": "https://localhost:8080/",
          "height": 200
        }
      },
      "source": [
        "#suppose if we pass one argument\n",
        "\n",
        "greet(\"satish\") #will get an error\n"
      ],
      "execution_count": 3,
      "outputs": [
        {
          "output_type": "error",
          "ename": "TypeError",
          "evalue": "ignored",
          "traceback": [
            "\u001b[0;31m---------------------------------------------------------------------------\u001b[0m",
            "\u001b[0;31mTypeError\u001b[0m                                 Traceback (most recent call last)",
            "\u001b[0;32m<ipython-input-3-9d5e3e310d8f>\u001b[0m in \u001b[0;36m<module>\u001b[0;34m()\u001b[0m\n\u001b[1;32m      1\u001b[0m \u001b[0;31m#suppose if we pass one argument\u001b[0m\u001b[0;34m\u001b[0m\u001b[0;34m\u001b[0m\u001b[0;34m\u001b[0m\u001b[0m\n\u001b[1;32m      2\u001b[0m \u001b[0;34m\u001b[0m\u001b[0m\n\u001b[0;32m----> 3\u001b[0;31m \u001b[0mgreet\u001b[0m\u001b[0;34m(\u001b[0m\u001b[0;34m\"satish\"\u001b[0m\u001b[0;34m,\u001b[0m\u001b[0;34m)\u001b[0m \u001b[0;31m#will get an error\u001b[0m\u001b[0;34m\u001b[0m\u001b[0;34m\u001b[0m\u001b[0m\n\u001b[0m",
            "\u001b[0;31mTypeError\u001b[0m: greet() missing 1 required positional argument: 'msg'"
          ]
        }
      ]
    },
    {
      "cell_type": "markdown",
      "metadata": {
        "id": "BzHHwgCdJRxP"
      },
      "source": [
        "# Different Forms of Arguments"
      ]
    },
    {
      "cell_type": "markdown",
      "metadata": {
        "id": "CksOvu0JJRxQ"
      },
      "source": [
        "# 1. Default Arguments"
      ]
    },
    {
      "cell_type": "markdown",
      "metadata": {
        "id": "T23E9xJoJRxQ"
      },
      "source": [
        "We can provide a default value to an argument by using the assignment operator (=). "
      ]
    },
    {
      "cell_type": "code",
      "metadata": {
        "id": "CFAS8GZ7JRxR",
        "outputId": "eeaef608-f1f6-461e-d453-bd2a06f245ed",
        "colab": {
          "base_uri": "https://localhost:8080/"
        }
      },
      "source": [
        "def greet(name, msg=\"Good Morning\"):\n",
        "    \"\"\"\n",
        "    This function greets to person with the provided message\n",
        "    if message is not provided, it defaults to \"Good Morning\"\n",
        "    \"\"\"\n",
        "    print(\"Hello {0} , {1}\".format(name, msg))\n",
        "\n",
        "greet(\"satish\", \"Good Night\")\n"
      ],
      "execution_count": 7,
      "outputs": [
        {
          "output_type": "stream",
          "name": "stdout",
          "text": [
            "Hello satish , Good Night\n"
          ]
        }
      ]
    },
    {
      "cell_type": "code",
      "metadata": {
        "id": "L-VGeAvoJRxS",
        "outputId": "2ea8b066-a61c-4116-81b5-7f20ecadf19f",
        "colab": {
          "base_uri": "https://localhost:8080/"
        }
      },
      "source": [
        "#with out msg argument\n",
        "greet(\"satish\")\n"
      ],
      "execution_count": 5,
      "outputs": [
        {
          "output_type": "stream",
          "name": "stdout",
          "text": [
            "Hello satish , Good Morning\n"
          ]
        }
      ]
    },
    {
      "cell_type": "markdown",
      "metadata": {
        "id": "3jJg69PgJRxU"
      },
      "source": [
        "Once we have a default argument, all the arguments to its right must also have default values."
      ]
    },
    {
      "cell_type": "markdown",
      "metadata": {
        "id": "kvC03lIFJRxU"
      },
      "source": [
        "def greet(msg=\"Good Morning\", name)   \n",
        "\n",
        "#will get a SyntaxError : non-default argument follows default argument"
      ]
    },
    {
      "cell_type": "markdown",
      "metadata": {
        "id": "WDX2OrUKJRxV"
      },
      "source": [
        "# 2. Keyword Arguments"
      ]
    },
    {
      "cell_type": "markdown",
      "metadata": {
        "id": "Rt7Wjjk5JRxW"
      },
      "source": [
        "kwargs allows you to pass keyworded variable length of arguments to a function. You should use **kwargs if you want to handle named arguments in a function"
      ]
    },
    {
      "cell_type": "markdown",
      "metadata": {
        "id": "dSfi0ixQJRxW"
      },
      "source": [
        "# Example:"
      ]
    },
    {
      "cell_type": "code",
      "metadata": {
        "id": "hAyL0iPrJRxX",
        "outputId": "5006b59b-0508-46f4-97a5-db236f467e32",
        "colab": {
          "base_uri": "https://localhost:8080/"
        }
      },
      "source": [
        "def greet(**kwargs):\n",
        "    \"\"\"\n",
        "    This function greets to person with the provided message\n",
        "    \"\"\"\n",
        "    if kwargs:\n",
        "        print(\"Hello {0} , {1}\".format(kwargs['name'], kwargs['msg']))\n",
        "greet(name=\"satish\", msg=\"Good Morning\")\n"
      ],
      "execution_count": 10,
      "outputs": [
        {
          "output_type": "stream",
          "name": "stdout",
          "text": [
            "Hello satish , Good Morning\n"
          ]
        }
      ]
    },
    {
      "cell_type": "markdown",
      "metadata": {
        "id": "peD0sEQ2JRxY"
      },
      "source": [
        "# 3. Arbitary Arguments"
      ]
    },
    {
      "cell_type": "markdown",
      "metadata": {
        "id": "zcM0Px64JRxY"
      },
      "source": [
        "Sometimes, we do not know in advance the number of arguments that will be passed into a function.Python allows us to handle this kind of situation through function calls with arbitrary number of arguments."
      ]
    },
    {
      "cell_type": "markdown",
      "metadata": {
        "id": "FUyJdXVhJRxZ"
      },
      "source": [
        "# Example:"
      ]
    },
    {
      "cell_type": "code",
      "metadata": {
        "id": "LiwrfzBqJRxZ",
        "outputId": "1a6a7730-884d-40ca-e201-177b37b222ce",
        "colab": {
          "base_uri": "https://localhost:8080/"
        }
      },
      "source": [
        "def greet(*names):\n",
        "    \"\"\"\n",
        "    This function greets all persons in the names tuple \n",
        "    \"\"\"\n",
        "    print(names)\n",
        "    \n",
        "    for name in names:\n",
        "        print(\"Hello,  {0} \".format(name))\n",
        "\n",
        "greet(\"satish\")\n"
      ],
      "execution_count": 12,
      "outputs": [
        {
          "output_type": "stream",
          "name": "stdout",
          "text": [
            "('satish',)\n",
            "Hello,  satish \n"
          ]
        }
      ]
    },
    {
      "cell_type": "markdown",
      "metadata": {
        "id": "n01uCTz2c1N3"
      },
      "source": [
        "# Recursive Functions:"
      ]
    },
    {
      "cell_type": "code",
      "metadata": {
        "id": "tQSTQifEc51r"
      },
      "source": [
        "#factorial"
      ],
      "execution_count": 13,
      "outputs": []
    },
    {
      "cell_type": "code",
      "metadata": {
        "id": "7ZIcDDJYdC4X",
        "outputId": "46aae6a0-02d5-4dba-8343-e8f3fb4e0f38",
        "colab": {
          "base_uri": "https://localhost:8080/"
        }
      },
      "source": [
        "n = 3\n",
        "fact = 1\n",
        "for i in range(1,n+1):\n",
        "  fact *= i\n",
        "print(fact)  "
      ],
      "execution_count": 16,
      "outputs": [
        {
          "output_type": "stream",
          "name": "stdout",
          "text": [
            "6\n"
          ]
        }
      ]
    },
    {
      "cell_type": "code",
      "metadata": {
        "id": "bz4IgDeLdNUX"
      },
      "source": [
        "#recursive way"
      ],
      "execution_count": 17,
      "outputs": []
    },
    {
      "cell_type": "code",
      "metadata": {
        "id": "RjVkfUlBdVOp"
      },
      "source": [
        "def factorial(num):\n",
        "  return 1 if num ==1 else (num * factorial(num-1))"
      ],
      "execution_count": 20,
      "outputs": []
    },
    {
      "cell_type": "code",
      "metadata": {
        "id": "dHkPJ3ondjYN",
        "outputId": "65cbb323-4c62-4239-e41e-59cfe6f579de",
        "colab": {
          "base_uri": "https://localhost:8080/"
        }
      },
      "source": [
        "fact = factorial(10)\n",
        "print(fact)"
      ],
      "execution_count": 21,
      "outputs": [
        {
          "output_type": "stream",
          "name": "stdout",
          "text": [
            "120\n"
          ]
        }
      ]
    },
    {
      "cell_type": "code",
      "metadata": {
        "id": "BTN9Mxq2dnvL"
      },
      "source": [
        "def factorial(5):\n",
        "  return 1 if num ==1 else (5 * 24) == 120"
      ],
      "execution_count": null,
      "outputs": []
    },
    {
      "cell_type": "code",
      "metadata": {
        "id": "YyUV5PsMd_xx"
      },
      "source": [
        "def factorial(4):\n",
        "  return 1 if num ==1 else (4 * 6) == 24"
      ],
      "execution_count": null,
      "outputs": []
    },
    {
      "cell_type": "code",
      "metadata": {
        "id": "1WP8EitFeHzQ"
      },
      "source": [
        "def factorial(3):\n",
        "  return 1 if num ==1 else (3 * 2) == 6"
      ],
      "execution_count": null,
      "outputs": []
    },
    {
      "cell_type": "code",
      "metadata": {
        "id": "00x1WwwdeL26"
      },
      "source": [
        "def factorial(2):\n",
        "  return 1 if num ==1 else (2 * 1) == 2"
      ],
      "execution_count": null,
      "outputs": []
    },
    {
      "cell_type": "code",
      "metadata": {
        "id": "yK_ISJXMePtg"
      },
      "source": [
        "def factorial(1):\n",
        "  return 1 if num ==1 else (1 * factorial(0)) == 1"
      ],
      "execution_count": null,
      "outputs": []
    }
  ]
}