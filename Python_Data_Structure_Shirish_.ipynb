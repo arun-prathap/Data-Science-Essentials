{
  "nbformat": 4,
  "nbformat_minor": 0,
  "metadata": {
    "colab": {
      "name": "Python Data Structure - Shirish .ipynb",
      "provenance": []
    },
    "kernelspec": {
      "name": "python3",
      "display_name": "Python 3"
    },
    "language_info": {
      "name": "python"
    }
  },
  "cells": [
    {
      "cell_type": "code",
      "metadata": {
        "id": "_ud1pbP6OoH-"
      },
      "source": [
        "#Lists - Len, Append, Insert, Remove, Extend, Delete, Reverse, Sorting, Indexing, Slicing, Count & Comprehension"
      ],
      "execution_count": 1,
      "outputs": []
    },
    {
      "cell_type": "code",
      "metadata": {
        "id": "2oVn43CVQugv"
      },
      "source": [
        "list1 = [1,2,3,4,5]"
      ],
      "execution_count": 2,
      "outputs": []
    },
    {
      "cell_type": "code",
      "metadata": {
        "colab": {
          "base_uri": "https://localhost:8080/"
        },
        "id": "mNIs6iJpRo83",
        "outputId": "f49e6ed9-5dc5-4baa-aa37-fd7529b7232a"
      },
      "source": [
        "print(type(list1))"
      ],
      "execution_count": 4,
      "outputs": [
        {
          "output_type": "stream",
          "name": "stdout",
          "text": [
            "<class 'list'>\n"
          ]
        }
      ]
    },
    {
      "cell_type": "code",
      "metadata": {
        "id": "FD_dKWioRq1C"
      },
      "source": [
        "list1 = ['test', 12, 56, 6.78]"
      ],
      "execution_count": 5,
      "outputs": []
    },
    {
      "cell_type": "code",
      "metadata": {
        "colab": {
          "base_uri": "https://localhost:8080/"
        },
        "id": "v0Ordr49R4ca",
        "outputId": "c06c5b45-0dc7-4d56-fb5d-69427f768a74"
      },
      "source": [
        "len(list1)"
      ],
      "execution_count": 7,
      "outputs": [
        {
          "output_type": "execute_result",
          "data": {
            "text/plain": [
              "4"
            ]
          },
          "metadata": {},
          "execution_count": 7
        }
      ]
    },
    {
      "cell_type": "code",
      "metadata": {
        "colab": {
          "base_uri": "https://localhost:8080/"
        },
        "id": "5AuyecSpR6Yz",
        "outputId": "b49bd478-ced6-4688-ea9f-30a388763fdd"
      },
      "source": [
        "type(list1[-1])"
      ],
      "execution_count": 15,
      "outputs": [
        {
          "output_type": "execute_result",
          "data": {
            "text/plain": [
              "float"
            ]
          },
          "metadata": {},
          "execution_count": 15
        }
      ]
    },
    {
      "cell_type": "code",
      "metadata": {
        "colab": {
          "base_uri": "https://localhost:8080/"
        },
        "id": "d07hODoOSCCU",
        "outputId": "ec5796a3-e3fd-41c3-bef2-6fd273cb2508"
      },
      "source": [
        "#append - The item will be added at the end by default\n",
        "list1.append(78)\n",
        "print(list1)"
      ],
      "execution_count": 16,
      "outputs": [
        {
          "output_type": "stream",
          "name": "stdout",
          "text": [
            "['test', 12, 56, 6.78, 78]\n"
          ]
        }
      ]
    },
    {
      "cell_type": "code",
      "metadata": {
        "colab": {
          "base_uri": "https://localhost:8080/"
        },
        "id": "XiyuOx2VSgPt",
        "outputId": "f412bbb1-6306-41cb-bb5d-a956b6433431"
      },
      "source": [
        "len(list1)"
      ],
      "execution_count": 17,
      "outputs": [
        {
          "output_type": "execute_result",
          "data": {
            "text/plain": [
              "5"
            ]
          },
          "metadata": {},
          "execution_count": 17
        }
      ]
    },
    {
      "cell_type": "code",
      "metadata": {
        "id": "xD2uKcvWSjBr"
      },
      "source": [
        "list1.append('Shirish')"
      ],
      "execution_count": 18,
      "outputs": []
    },
    {
      "cell_type": "code",
      "metadata": {
        "colab": {
          "base_uri": "https://localhost:8080/"
        },
        "id": "hTmDdybMSsQp",
        "outputId": "b75acbb0-890a-4998-ee18-ca30ec795015"
      },
      "source": [
        "list1"
      ],
      "execution_count": 19,
      "outputs": [
        {
          "output_type": "execute_result",
          "data": {
            "text/plain": [
              "['test', 12, 56, 6.78, 78, 'Shirish']"
            ]
          },
          "metadata": {},
          "execution_count": 19
        }
      ]
    },
    {
      "cell_type": "code",
      "metadata": {
        "id": "rkOKO6LySwXD"
      },
      "source": [
        "#insert an element\n",
        "list1.insert(2, 'Python')"
      ],
      "execution_count": 20,
      "outputs": []
    },
    {
      "cell_type": "code",
      "metadata": {
        "colab": {
          "base_uri": "https://localhost:8080/"
        },
        "id": "hqhp-0TyTGk7",
        "outputId": "ec1803f9-36be-4b13-fd6c-7cb9c49b51ba"
      },
      "source": [
        "list1"
      ],
      "execution_count": 21,
      "outputs": [
        {
          "output_type": "execute_result",
          "data": {
            "text/plain": [
              "['test', 12, 'Python', 56, 6.78, 78, 'Shirish']"
            ]
          },
          "metadata": {},
          "execution_count": 21
        }
      ]
    },
    {
      "cell_type": "code",
      "metadata": {
        "colab": {
          "base_uri": "https://localhost:8080/"
        },
        "id": "JxJ8G_-wTHwB",
        "outputId": "514c0ff4-2944-495e-acc8-bca038ca0b30"
      },
      "source": [
        "len(list1)"
      ],
      "execution_count": 22,
      "outputs": [
        {
          "output_type": "execute_result",
          "data": {
            "text/plain": [
              "7"
            ]
          },
          "metadata": {},
          "execution_count": 22
        }
      ]
    },
    {
      "cell_type": "code",
      "metadata": {
        "colab": {
          "base_uri": "https://localhost:8080/"
        },
        "id": "CB5w8k7ETNlG",
        "outputId": "d1657bfb-fff3-4b50-afd1-00b852155648"
      },
      "source": [
        "print(dir(list1))"
      ],
      "execution_count": 25,
      "outputs": [
        {
          "output_type": "stream",
          "name": "stdout",
          "text": [
            "['__add__', '__class__', '__contains__', '__delattr__', '__delitem__', '__dir__', '__doc__', '__eq__', '__format__', '__ge__', '__getattribute__', '__getitem__', '__gt__', '__hash__', '__iadd__', '__imul__', '__init__', '__init_subclass__', '__iter__', '__le__', '__len__', '__lt__', '__mul__', '__ne__', '__new__', '__reduce__', '__reduce_ex__', '__repr__', '__reversed__', '__rmul__', '__setattr__', '__setitem__', '__sizeof__', '__str__', '__subclasshook__', 'append', 'clear', 'copy', 'count', 'extend', 'index', 'insert', 'pop', 'remove', 'reverse', 'sort']\n"
          ]
        }
      ]
    },
    {
      "cell_type": "code",
      "metadata": {
        "id": "hEjB8IINTb6A"
      },
      "source": [
        "list1.remove('Python')"
      ],
      "execution_count": 27,
      "outputs": []
    },
    {
      "cell_type": "code",
      "metadata": {
        "colab": {
          "base_uri": "https://localhost:8080/"
        },
        "id": "A7jWI_WITpcy",
        "outputId": "4a1d1bde-3b61-448f-d74c-711a45beedca"
      },
      "source": [
        "list1"
      ],
      "execution_count": 28,
      "outputs": [
        {
          "output_type": "execute_result",
          "data": {
            "text/plain": [
              "['test', 12, 56, 6.78, 78, 'Shirish']"
            ]
          },
          "metadata": {},
          "execution_count": 28
        }
      ]
    },
    {
      "cell_type": "code",
      "metadata": {
        "id": "DpYrvgb0T3Nn"
      },
      "source": [
        "#Append, Insert, Extend"
      ],
      "execution_count": 29,
      "outputs": []
    },
    {
      "cell_type": "code",
      "metadata": {
        "id": "3MfBDStzT-ez"
      },
      "source": [
        "a = [1,2,3,4]\n",
        "b = [4,5,6,7]"
      ],
      "execution_count": 38,
      "outputs": []
    },
    {
      "cell_type": "code",
      "metadata": {
        "id": "W8KnWYN8UEB7"
      },
      "source": [
        "a.append(b)"
      ],
      "execution_count": 31,
      "outputs": []
    },
    {
      "cell_type": "code",
      "metadata": {
        "colab": {
          "base_uri": "https://localhost:8080/"
        },
        "id": "gBinmB_cUFmZ",
        "outputId": "368e6e54-c4a1-4ad6-eaba-9d6cfe847c51"
      },
      "source": [
        "a, b"
      ],
      "execution_count": 35,
      "outputs": [
        {
          "output_type": "execute_result",
          "data": {
            "text/plain": [
              "([1, 2, 3, 4], [4, 5, 6, 7])"
            ]
          },
          "metadata": {},
          "execution_count": 35
        }
      ]
    },
    {
      "cell_type": "code",
      "metadata": {
        "id": "RH915saxUG8b"
      },
      "source": [
        "a.extend(b)"
      ],
      "execution_count": 39,
      "outputs": []
    },
    {
      "cell_type": "code",
      "metadata": {
        "colab": {
          "base_uri": "https://localhost:8080/"
        },
        "id": "5Bl5LdW9UWFi",
        "outputId": "88ada7f7-e63e-48e1-90a5-0cf5219396fb"
      },
      "source": [
        "a"
      ],
      "execution_count": 40,
      "outputs": [
        {
          "output_type": "execute_result",
          "data": {
            "text/plain": [
              "[1, 2, 3, 4, 4, 5, 6, 7]"
            ]
          },
          "metadata": {},
          "execution_count": 40
        }
      ]
    },
    {
      "cell_type": "code",
      "metadata": {
        "colab": {
          "base_uri": "https://localhost:8080/"
        },
        "id": "qCF0rN18UXsd",
        "outputId": "c4c957c3-2412-42a5-afd5-10ae8227c74f"
      },
      "source": [
        "a = [1,2,3,4]\n",
        "b = [4,5,6,7]\n",
        "\n",
        "print(a + b)"
      ],
      "execution_count": 41,
      "outputs": [
        {
          "output_type": "stream",
          "name": "stdout",
          "text": [
            "[1, 2, 3, 4, 4, 5, 6, 7]\n"
          ]
        }
      ]
    },
    {
      "cell_type": "code",
      "metadata": {
        "colab": {
          "base_uri": "https://localhost:8080/"
        },
        "id": "jcpFT0vYUiAw",
        "outputId": "f1376b31-cdcf-4b52-9d01-2d468c4939f2"
      },
      "source": [
        "1 not in a"
      ],
      "execution_count": 43,
      "outputs": [
        {
          "output_type": "execute_result",
          "data": {
            "text/plain": [
              "False"
            ]
          },
          "metadata": {},
          "execution_count": 43
        }
      ]
    },
    {
      "cell_type": "code",
      "metadata": {
        "id": "P6OEea1sUsQH"
      },
      "source": [
        "#sort method and sorted function"
      ],
      "execution_count": 44,
      "outputs": []
    },
    {
      "cell_type": "code",
      "metadata": {
        "id": "4n9fsRYnU16O"
      },
      "source": [
        "a = [1,2,30,4, 7]\n",
        "b = [4,5,6,7]"
      ],
      "execution_count": 52,
      "outputs": []
    },
    {
      "cell_type": "code",
      "metadata": {
        "id": "1cIS-rzlU3_o"
      },
      "source": [
        "a.sort()"
      ],
      "execution_count": 49,
      "outputs": []
    },
    {
      "cell_type": "code",
      "metadata": {
        "colab": {
          "base_uri": "https://localhost:8080/"
        },
        "id": "YT96mjzoU6YE",
        "outputId": "0ddcf54d-80bd-483d-8e50-8f9bdf5b2d22"
      },
      "source": [
        "print(a)"
      ],
      "execution_count": 50,
      "outputs": [
        {
          "output_type": "stream",
          "name": "stdout",
          "text": [
            "[1, 2, 4, 7, 30]\n"
          ]
        }
      ]
    },
    {
      "cell_type": "code",
      "metadata": {
        "colab": {
          "base_uri": "https://localhost:8080/"
        },
        "id": "Y9sSjOrvU788",
        "outputId": "60af506a-cf6f-4c20-de2d-bc497d525f20"
      },
      "source": [
        "a.sort(reverse= True)\n",
        "print(a)"
      ],
      "execution_count": 51,
      "outputs": [
        {
          "output_type": "stream",
          "name": "stdout",
          "text": [
            "[30, 7, 4, 2, 1]\n"
          ]
        }
      ]
    },
    {
      "cell_type": "code",
      "metadata": {
        "colab": {
          "base_uri": "https://localhost:8080/"
        },
        "id": "DK1mqLHFVF0_",
        "outputId": "4bd63244-c599-4567-e156-018c215db7d5"
      },
      "source": [
        "sorted_a = sorted(a)\n",
        "print(a, sorted_a)"
      ],
      "execution_count": 55,
      "outputs": [
        {
          "output_type": "stream",
          "name": "stdout",
          "text": [
            "[1, 2, 30, 4, 7] [1, 2, 4, 7, 30]\n"
          ]
        }
      ]
    },
    {
      "cell_type": "code",
      "metadata": {
        "colab": {
          "base_uri": "https://localhost:8080/"
        },
        "id": "9mP4uofWVM-N",
        "outputId": "0d5a96b3-4de0-4bf8-d235-53f5f5da4930"
      },
      "source": [
        "a"
      ],
      "execution_count": 54,
      "outputs": [
        {
          "output_type": "execute_result",
          "data": {
            "text/plain": [
              "[1, 2, 30, 4, 7]"
            ]
          },
          "metadata": {},
          "execution_count": 54
        }
      ]
    },
    {
      "cell_type": "code",
      "metadata": {
        "colab": {
          "base_uri": "https://localhost:8080/"
        },
        "id": "7IhO6TSQVPdi",
        "outputId": "87dc42a3-efef-41e7-df91-bf02524335f5"
      },
      "source": [
        "string = \"one, two, three, four\"\n",
        "split_list = string.split(',')\n",
        "print(split_list)"
      ],
      "execution_count": 56,
      "outputs": [
        {
          "output_type": "stream",
          "name": "stdout",
          "text": [
            "['one', ' two', ' three', ' four']\n"
          ]
        }
      ]
    },
    {
      "cell_type": "code",
      "metadata": {
        "colab": {
          "base_uri": "https://localhost:8080/"
        },
        "id": "3CJQwu7ZVu9-",
        "outputId": "8d9653b6-5017-4d88-f642-f0f7e69b7e61"
      },
      "source": [
        "#indexing and slicing - [0.......-1],\n",
        "a[0:4:2] #a[m:n-1:s]"
      ],
      "execution_count": 58,
      "outputs": [
        {
          "output_type": "execute_result",
          "data": {
            "text/plain": [
              "[1, 30]"
            ]
          },
          "metadata": {},
          "execution_count": 58
        }
      ]
    },
    {
      "cell_type": "code",
      "metadata": {
        "colab": {
          "base_uri": "https://localhost:8080/"
        },
        "id": "Gr1M4uX4WJ21",
        "outputId": "bf1b8d79-6a6c-4eaf-fdc3-777a133bdc6c"
      },
      "source": [
        "a[::-1]"
      ],
      "execution_count": 61,
      "outputs": [
        {
          "output_type": "execute_result",
          "data": {
            "text/plain": [
              "[7, 4, 30, 2, 1]"
            ]
          },
          "metadata": {},
          "execution_count": 61
        }
      ]
    },
    {
      "cell_type": "code",
      "metadata": {
        "colab": {
          "base_uri": "https://localhost:8080/"
        },
        "id": "khTk_lxbWg4e",
        "outputId": "a8e55d61-6d47-441d-f2fa-9e0a98482de4"
      },
      "source": [
        "a = [1, 2, 30, 4, 7, 7, 7]\n",
        "a.count(7)"
      ],
      "execution_count": 62,
      "outputs": [
        {
          "output_type": "execute_result",
          "data": {
            "text/plain": [
              "3"
            ]
          },
          "metadata": {},
          "execution_count": 62
        }
      ]
    },
    {
      "cell_type": "code",
      "metadata": {
        "colab": {
          "base_uri": "https://localhost:8080/"
        },
        "id": "z6v2BUWlW0HK",
        "outputId": "ee1fd40a-7628-4cea-9318-a923cf31ca6f"
      },
      "source": [
        "a.index(7)"
      ],
      "execution_count": 63,
      "outputs": [
        {
          "output_type": "execute_result",
          "data": {
            "text/plain": [
              "4"
            ]
          },
          "metadata": {},
          "execution_count": 63
        }
      ]
    },
    {
      "cell_type": "code",
      "metadata": {
        "id": "8d0Dc0ONW20d"
      },
      "source": [
        "a.reverse()"
      ],
      "execution_count": 64,
      "outputs": []
    },
    {
      "cell_type": "code",
      "metadata": {
        "colab": {
          "base_uri": "https://localhost:8080/"
        },
        "id": "REyjpmM9XFCE",
        "outputId": "9e83986c-8588-429c-98f4-a0ee301b8c78"
      },
      "source": [
        "a"
      ],
      "execution_count": 65,
      "outputs": [
        {
          "output_type": "execute_result",
          "data": {
            "text/plain": [
              "[7, 7, 7, 4, 30, 2, 1]"
            ]
          },
          "metadata": {},
          "execution_count": 65
        }
      ]
    },
    {
      "cell_type": "code",
      "metadata": {
        "colab": {
          "base_uri": "https://localhost:8080/"
        },
        "id": "eCFdrtipXEYa",
        "outputId": "1bf360ea-277a-45d9-ecdf-288b02633cd8"
      },
      "source": [
        "a = [1,2,3,4]\n",
        "b = [5,6,7,8]\n",
        "\n",
        "#append\n",
        "a.append(b)\n",
        "print(a)\n",
        "\n",
        "#-------------------------------------------\n",
        "\n",
        "c = [1,2,3,4]\n",
        "d = [5,6,7,8]\n",
        "c.extend(d)\n",
        "print(c)\n",
        "\n",
        "#extend\n",
        "\n",
        "\n",
        "print(\"-----------------------\")\n",
        "\n",
        "print(len(a))\n",
        "\n",
        "print(len(c))"
      ],
      "execution_count": 68,
      "outputs": [
        {
          "output_type": "stream",
          "name": "stdout",
          "text": [
            "[1, 2, 3, 4, [5, 6, 7, 8]]\n",
            "[1, 2, 3, 4, 5, 6, 7, 8]\n",
            "-----------------------\n",
            "5\n",
            "8\n"
          ]
        }
      ]
    },
    {
      "cell_type": "code",
      "metadata": {
        "colab": {
          "base_uri": "https://localhost:8080/"
        },
        "id": "kw6_RbKlX6ix",
        "outputId": "ad832d8f-b3f1-4ca0-c712-55af275c74a6"
      },
      "source": [
        "#range([start], stop, [step])\n",
        "range_a = range(10)\n",
        "print(list(range_a))"
      ],
      "execution_count": 71,
      "outputs": [
        {
          "output_type": "stream",
          "name": "stdout",
          "text": [
            "[0, 1, 2, 3, 4, 5, 6, 7, 8, 9]\n"
          ]
        }
      ]
    },
    {
      "cell_type": "code",
      "metadata": {
        "colab": {
          "base_uri": "https://localhost:8080/"
        },
        "id": "AD3Y0or5Ynl_",
        "outputId": "62b6615f-a061-45eb-f3ac-7b718fca7ad3"
      },
      "source": [
        "a = list(range(100, 200,6))\n",
        "print(a)"
      ],
      "execution_count": 74,
      "outputs": [
        {
          "output_type": "stream",
          "name": "stdout",
          "text": [
            "[100, 106, 112, 118, 124, 130, 136, 142, 148, 154, 160, 166, 172, 178, 184, 190, 196]\n"
          ]
        }
      ]
    },
    {
      "cell_type": "code",
      "metadata": {
        "colab": {
          "base_uri": "https://localhost:8080/"
        },
        "id": "Y9KFPrIkY8tw",
        "outputId": "af6fecec-7cc3-4e89-d92f-e6b9db3cea75"
      },
      "source": [
        "sample_list = []\n",
        "for i in a:\n",
        "  sample_list.append(i)\n",
        "print(sample_list)"
      ],
      "execution_count": 78,
      "outputs": [
        {
          "output_type": "stream",
          "name": "stdout",
          "text": [
            "[100, 106, 112, 118, 124, 130, 136, 142, 148, 154, 160, 166, 172, 178, 184, 190, 196]\n"
          ]
        }
      ]
    },
    {
      "cell_type": "code",
      "metadata": {
        "colab": {
          "base_uri": "https://localhost:8080/"
        },
        "id": "q0Btb7veZR8c",
        "outputId": "4edc24b3-cce6-4ba7-e1c0-c514a2ce5a4e"
      },
      "source": [
        "sample_list = [(i, i**2, i**3) for i in a]\n",
        "print(sample_list)"
      ],
      "execution_count": 81,
      "outputs": [
        {
          "output_type": "stream",
          "name": "stdout",
          "text": [
            "[(100, 10000, 1000000), (106, 11236, 1191016), (112, 12544, 1404928), (118, 13924, 1643032), (124, 15376, 1906624), (130, 16900, 2197000), (136, 18496, 2515456), (142, 20164, 2863288), (148, 21904, 3241792), (154, 23716, 3652264), (160, 25600, 4096000), (166, 27556, 4574296), (172, 29584, 5088448), (178, 31684, 5639752), (184, 33856, 6229504), (190, 36100, 6859000), (196, 38416, 7529536)]\n"
          ]
        }
      ]
    },
    {
      "cell_type": "code",
      "metadata": {
        "id": "9hhoxgLCaPXx"
      },
      "source": [
        ""
      ],
      "execution_count": null,
      "outputs": []
    }
  ]
}