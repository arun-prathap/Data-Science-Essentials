{
 "cells": [
  {
   "cell_type": "markdown",
   "id": "8ee59758",
   "metadata": {},
   "source": [
    "## NumPy Session : \n",
    "by Zubair Shaikh - engineer.nova@gmail.com\n",
    "\n",
    "iPython File for the NumPy introduction and practics.\n",
    "\n",
    "Numeric Python - Built in C Language \n",
    "Fast computation with n-dimensional arrays\n",
    "\n",
    " - Based around one data structure\n",
    " - ndarray\n",
    " - n-dimensional array\n"
   ]
  },
  {
   "cell_type": "code",
   "execution_count": 1,
   "id": "4f18ad0f",
   "metadata": {},
   "outputs": [
    {
     "name": "stdout",
     "output_type": "stream",
     "text": [
      "Created from Scratch  [1 2 3 4 5 5 6]\n",
      "Creat np array from List [ 5 67 43 76  2 21]\n",
      "Creat np array from Tuples [ 5 67 43 76  2 21]\n",
      "Tuple lost their property after become np.array [ 5 67 43 76  2 21 45]\n"
     ]
    }
   ],
   "source": [
    "#import the NumPy Lib\n",
    "import numpy as np \n",
    "\n",
    "# Create a NumPy Array - NumPy Only works within NumPy-Array only\n",
    "a_arr = np.array([1,2,3,4,5,5,6])\n",
    "print(\"Created from Scratch \", a_arr)\n",
    "\n",
    "#Create from Python List \n",
    "l1 = [5,67,43,76,2,21]\n",
    "nplist = np.array(l1)\n",
    "print(\"Creat np array from List\", nplist)\n",
    "\n",
    "#Create from Python Tuples\n",
    "t1 = (5,67,43,76,2,21)\n",
    "nptuple = np.array(t1)\n",
    "print(\"Creat np array from Tuples\", nptuple)\n",
    "\n",
    "#When tuple assign in NumPy array that will not tuple any more\n",
    "nptuple = np.append(nptuple, 45)\n",
    "print(\"Tuple lost their property after become np.array\", nptuple)"
   ]
  },
  {
   "cell_type": "markdown",
   "id": "d34cc555",
   "metadata": {},
   "source": [
    "### NumPy than LIST\n",
    "pyLIst = [34,55,66]\n",
    "r1 [34], r3334[55], r23678[66]\n",
    "\n",
    "npA = [3,5,77]\n",
    "\n",
    "r2[3],r5[5],r4[77]\n",
    "\n",
    "np.array = homogenous values (same data type int, float, )\n",
    "\n",
    "types of np Array - 1D, 2D, 3D .... Mulit.. nD array\n"
   ]
  },
  {
   "cell_type": "code",
   "execution_count": 2,
   "id": "2b1dbbac",
   "metadata": {},
   "outputs": [
    {
     "data": {
      "text/plain": [
       "array([[4, 5, 8, 4],\n",
       "       [6, 3, 2, 1],\n",
       "       [8, 6, 4, 3]])"
      ]
     },
     "execution_count": 2,
     "metadata": {},
     "output_type": "execute_result"
    }
   ],
   "source": [
    "## Sample of 2D array in NumPy\n",
    "\n",
    "array_2D = np.array([[4,5,8,4],[6,3,2,1],[8,6,4,3]])\n",
    "\n",
    "array_2D\n"
   ]
  },
  {
   "cell_type": "markdown",
   "id": "36ab3d08",
   "metadata": {},
   "source": [
    "Matrics - NumPy 2D array = i=2,j=2, i=1,j=1\n",
    "Addressing \n",
    "1D = [0th, 1th, 2nd] (Address)\n",
    "index = [1st, 2nd, 3rd]\n",
    "\n",
    "\n",
    "== list multi\n",
    "\n",
    "for i for list:\n",
    "    for j \n",
    "        for k\n",
    "    newarr = newarr * i"
   ]
  },
  {
   "cell_type": "code",
   "execution_count": 8,
   "id": "1c02137c",
   "metadata": {},
   "outputs": [
    {
     "name": "stdout",
     "output_type": "stream",
     "text": [
      "[[-0.6888735  -1.18832886  0.17811154]\n",
      " [ 0.78440468  0.76665275 -0.55430514]]\n",
      "\n",
      "[[ -6.88873501 -11.88328859   1.78111536]\n",
      " [  7.84404679   7.66652749  -5.54305141]]\n",
      "\n",
      "[[-1.377747   -2.37665772  0.35622307]\n",
      " [ 1.56880936  1.5333055  -1.10861028]]\n",
      "\n",
      "[[-0.6888735   0.78440468]\n",
      " [-1.18832886  0.76665275]\n",
      " [ 0.17811154 -0.55430514]]\n"
     ]
    }
   ],
   "source": [
    "## Maths Opertaion in np array\n",
    "from numpy.random import randn\n",
    "data = randn(2,3)\n",
    "print(data)\n",
    "print(\"\")\n",
    "print(data * 10)\n",
    "print(\"\")\n",
    "print(data + data)\n",
    "print(\"\")\n",
    "print(data.T)"
   ]
  },
  {
   "cell_type": "markdown",
   "id": "65d3a062",
   "metadata": {},
   "source": [
    "## we are looking some imp functions of NumPy Array"
   ]
  },
  {
   "cell_type": "code",
   "execution_count": 9,
   "id": "4a6ebb1d",
   "metadata": {},
   "outputs": [
    {
     "name": "stdout",
     "output_type": "stream",
     "text": [
      "List created form Integer [0 1 2]  and my default data type is  int32\n",
      "List created form Integer [0. 1. 2.]  and my default data type is  float64\n",
      "List created form a range  [3 4 5 6]  and my default data type is  int32\n",
      "List created slice  [ 3.  5.  7.  9. 11. 13. 15. 17. 19.]  and my default data type is  float64\n"
     ]
    }
   ],
   "source": [
    "## np.Arrange(start, stop, dtype='')\n",
    "\n",
    "### Create array from Integer value, dtype :Int\n",
    "int_arr = np.arange(3) ### range(0,3)\n",
    "print(\"List created form Integer\", int_arr,\" and my default data type is \", int_arr.dtype)\n",
    "\n",
    "\n",
    "### Create array from Float value, dtype : Float\n",
    "float_arr = np.arange(3.0)\n",
    "print(\"List created form Integer\", float_arr,\" and my default data type is \", float_arr.dtype)\n",
    "\n",
    "### Create array from \n",
    "arr_range = np.arange(3,7)\n",
    "print(\"List created form a range \", arr_range,\" and my default data type is \", arr_range.dtype)\n",
    "\n",
    "### Create array from \n",
    "arr_slice = np.arange(3.0,20.0,2)\n",
    "print(\"List created slice \", arr_slice ,\" and my default data type is \", arr_slice.dtype)\n",
    "\n"
   ]
  },
  {
   "cell_type": "code",
   "execution_count": 10,
   "id": "60af73a0",
   "metadata": {},
   "outputs": [
    {
     "name": "stdout",
     "output_type": "stream",
     "text": [
      "The shape of the given array is  (2, 3)\n",
      "the data type of the given  float64\n"
     ]
    }
   ],
   "source": [
    "## np.shape\n",
    "print(\"The shape of the given array is \",data.shape)\n",
    "\n",
    "## np.dtype\n",
    "print(\"the data type of the given \", data.dtype)\n"
   ]
  },
  {
   "cell_type": "code",
   "execution_count": 17,
   "id": "2e2ac6b1",
   "metadata": {},
   "outputs": [
    {
     "name": "stdout",
     "output_type": "stream",
     "text": [
      "[[1 2 3 4 5]\n",
      " [6 7 8 9 0]]\n",
      "\n",
      "The dimensions of given array is  2\n",
      "\n",
      "Shape of give 2D array is  (2, 5)\n",
      "\n",
      "Shape of give array [0]  is  2\n",
      "\n",
      "Shape of give array [1]  is 5\n",
      "\n",
      "Total count of array elements are 10\n",
      "\n",
      "the data type of the given  int32\n"
     ]
    }
   ],
   "source": [
    "### Multidimensional np.arrays\n",
    "\n",
    "data2 = [[1,2,3,4,5],[6,7,8,9,0]] # Python List \n",
    "arr_2d = np.array(data2) # Convert into NumPy Array\n",
    "\n",
    "print(arr_2d)\n",
    "print(\"\")\n",
    "\n",
    "print(\"The dimensions of given array is \", arr_2d.ndim)\n",
    "print(\"\")\n",
    "\n",
    "print(\"Shape of give 2D array is \", arr_2d.shape)\n",
    "print(\"\")\n",
    "print(\"Shape of give array [0]  is \", arr_2d.shape[0])   ## len of Row\n",
    "print(\"\")\n",
    "print(\"Shape of give array [1]  is\", arr_2d.shape[1])    ## len of cols\n",
    "print(\"\")\n",
    "\n",
    "print(\"Total count of array elements are\",arr_2d.size)  ## Total count of element in array\n",
    "print(\"\")\n",
    "\n",
    "print(\"the data type of the given \", arr_2d.dtype)\n",
    "\n",
    "### EDA - Explotry data analysis "
   ]
  },
  {
   "cell_type": "code",
   "execution_count": null,
   "id": "80ade4f3",
   "metadata": {},
   "outputs": [],
   "source": [
    "[\n",
    "    [\n",
    "        [0. 0.]   [0. 0.]  [0. 0.]\n",
    "    ]\n",
    "    [\n",
    "        [0. 0.]   [0. 0.]  [0. 0.]\n",
    "    ]\n",
    "]"
   ]
  },
  {
   "cell_type": "code",
   "execution_count": 21,
   "id": "27f762fd",
   "metadata": {},
   "outputs": [
    {
     "name": "stdout",
     "output_type": "stream",
     "text": [
      "array of 10 zeros  [0. 0. 0. 0. 0. 0. 0. 0. 0. 0.]\n",
      "\n",
      "array of 3,4 zeros \n",
      " [[0. 0. 0. 0.]\n",
      " [0. 0. 0. 0.]\n",
      " [0. 0. 0. 0.]]\n",
      "\n",
      "Empty arry of 2x3x3 \n",
      " [[[0. 0.]\n",
      "  [0. 0.]\n",
      "  [0. 0.]]\n",
      "\n",
      " [[0. 0.]\n",
      "  [0. 0.]\n",
      "  [0. 0.]]]\n"
     ]
    }
   ],
   "source": [
    "### Create an array \n",
    "### Numpy lib fn()\n",
    "print(\"array of 10 zeros \", np.zeros(10))  ### numpy built in function to create array DEFAUT = Float64\n",
    "print(\"\")\n",
    "print(\"array of 3,4 zeros \\n\", np.zeros((3,4)))\n",
    "print(\"\")\n",
    "print(\"Empty arry of 2x3x3 \\n\", np.empty((2,3,2))) #3D array (x,y,z)\n",
    "\n",
    "###############"
   ]
  },
  {
   "cell_type": "code",
   "execution_count": 26,
   "id": "dacfd944",
   "metadata": {},
   "outputs": [
    {
     "name": "stdout",
     "output_type": "stream",
     "text": [
      "array of 10 zeros  [1. 1. 1. 1. 1. 1. 1. 1. 1. 1.]\n",
      "\n",
      "array of 3,4 zeros \n",
      " [[1. 1. 1. 1.]\n",
      " [1. 1. 1. 1.]\n",
      " [1. 1. 1. 1.]]\n",
      "\n",
      "Empty arry of 2x3x3 \n",
      " [[[1. 1.]\n",
      "  [1. 1.]\n",
      "  [1. 1.]]\n",
      "\n",
      " [[1. 1.]\n",
      "  [1. 1.]\n",
      "  [1. 1.]]]\n",
      "\n",
      "Empty arry of 2x3 \n",
      " [[1. 0. 0.]\n",
      " [0. 1. 0.]\n",
      " [0. 0. 1.]]\n",
      "\n"
     ]
    }
   ],
   "source": [
    "\n",
    "print(\"array of 10 zeros \", np.ones(10))\n",
    "print(\"\")\n",
    "print(\"array of 3,4 zeros \\n\", np.ones((3,4)))\n",
    "print(\"\")\n",
    "print(\"Empty arry of 2x3x3 \\n\", np.ones((2,3,2)))\n",
    "print(\"\")\n",
    "print(\"Empty arry of 2x3 \\n\", np.identity((3)))\n",
    "print(\"\")"
   ]
  },
  {
   "cell_type": "code",
   "execution_count": 32,
   "id": "f80bc328",
   "metadata": {},
   "outputs": [
    {
     "data": {
      "text/plain": [
       "array([[ 0,  1,  2,  3,  4],\n",
       "       [ 5,  6,  7,  8,  9],\n",
       "       [10, 11, 12, 13, 14]])"
      ]
     },
     "execution_count": 32,
     "metadata": {},
     "output_type": "execute_result"
    }
   ],
   "source": [
    "## np.reshape\n",
    "\n",
    "arr_range = np.arange(15).reshape(3,5)  ### X*Y = size 1D   3*5 =15\n",
    "arr_range"
   ]
  },
  {
   "cell_type": "code",
   "execution_count": 38,
   "id": "05e53f46",
   "metadata": {},
   "outputs": [
    {
     "name": "stdout",
     "output_type": "stream",
     "text": [
      "[[ 0  1  2  3  4]\n",
      " [ 5  6  7  8  9]\n",
      " [10 11 12 13 14]]\n",
      "\n",
      "Multiply 2 matrics \n",
      "\n",
      "[[  0   1   4   9  16]\n",
      " [ 25  36  49  64  81]\n",
      " [100 121 144 169 196]]\n",
      "\n",
      "Multiply by 3 \n",
      "\n",
      "[[ 0  3  6  9 12]\n",
      " [15 18 21 24 27]\n",
      " [30 33 36 39 42]]\n",
      "\n",
      "Addition 2 matrics \n",
      "\n",
      "[[ 0  2  4  6  8]\n",
      " [10 12 14 16 18]\n",
      " [20 22 24 26 28]]\n",
      "\n",
      "Subtraction 2 matrics \n",
      "\n",
      "[[-4 -3 -2 -1  0]\n",
      " [ 1  2  3  4  5]\n",
      " [ 6  7  8  9 10]]\n",
      "\n",
      "Matrics squre each elements \n",
      "\n",
      "[[  0   1   4   9  16]\n",
      " [ 25  36  49  64  81]\n",
      " [100 121 144 169 196]]\n"
     ]
    }
   ],
   "source": [
    "## Opertaion b/w np.array and scalars\n",
    "## All maths operation can done in numpy (Matrix) , NumPy Spcially for Number not recommend for String /text\n",
    "\n",
    "print(arr_range)\n",
    "print(\"\")\n",
    "print(\"Multiply 2 matrics \\n\")\n",
    "print(arr_range * arr_range)\n",
    "\n",
    "print(\"\")\n",
    "print(\"Multiply by 3 \\n\")\n",
    "print(arr_range * 3)\n",
    "\n",
    "print(\"\")\n",
    "print(\"Addition 2 matrics \\n\")\n",
    "print(arr_range + arr_range)\n",
    "\n",
    "print(\"\")\n",
    "print(\"Subtraction 2 matrics \\n\")\n",
    "print(arr_range - 4)\n",
    "\n",
    "print(\"\")\n",
    "print(\"Matrics squre each elements \\n\")\n",
    "print(arr_range ** 2)"
   ]
  },
  {
   "cell_type": "markdown",
   "id": "96a623dc",
   "metadata": {},
   "source": [
    "### Numpy data types\n",
    "\n",
    "- int8/16/32/64 : Integer data type   (int   -ve 0 +ve )\n",
    "- uint8/16/32/64 : Unsigned Intger datatype (int must 0 +ve)\n",
    "- Float16/32/64/128 : Extended precisioin floating ponints\n",
    "- complex64/128/256 : for complex number 3i\n",
    "- bool : Boolean type True/False\n",
    "- onject : Python object type\n",
    "- string_ : Fixed lenght type (1byte of reach Char), Ex - string s10\n",
    "- unicode_ : Unicode type same as string"
   ]
  },
  {
   "cell_type": "code",
   "execution_count": 41,
   "id": "0574d732",
   "metadata": {},
   "outputs": [
    {
     "name": "stdout",
     "output_type": "stream",
     "text": [
      "[ 3.6  1.  -2.   4.3]\n",
      "\n",
      "[ 3  1 -2  4]\n",
      "[b'3.6' b'1.0' b'-2.0' b'4.3']\n"
     ]
    }
   ],
   "source": [
    "## np.astype float to Int\n",
    "\n",
    "arr = np.array([3.6,1,-2,4.3])\n",
    "print(arr)\n",
    "print(\"\")\n",
    "print(arr.astype(np.int32))\n",
    "print(arr.astype(np.string_))\n"
   ]
  },
  {
   "cell_type": "markdown",
   "id": "521a8714",
   "metadata": {},
   "source": [
    "### Indexing and Slicing "
   ]
  },
  {
   "cell_type": "code",
   "execution_count": 48,
   "id": "6d8714c6",
   "metadata": {},
   "outputs": [
    {
     "name": "stdout",
     "output_type": "stream",
     "text": [
      "[0 1 2 3 4 5 6 7 8 9]\n",
      "\n",
      "5\n",
      "\n",
      "[5 6 7]\n",
      "\n",
      "[ 0  1  2  3 15 15 15  7  8  9]\n"
     ]
    }
   ],
   "source": [
    "### In 1D array slicing and indexing \n",
    "\n",
    "arr = np.arange(10)\n",
    "print(arr)\n",
    "print(\"\")\n",
    "\n",
    "#Pull 5th element from the array\n",
    "print(arr[5])   ## here we pop element having index 6th, not position  ### need to review that \n",
    "print(\"\")\n",
    "# print(arr[10])  ## Error as index name 10th not there\n",
    "print(arr[5:8])\n",
    "print(\"\")\n",
    "## Spcial Assignemnt \n",
    "\n",
    "arr[4:7] = 15\n",
    "print(arr)"
   ]
  },
  {
   "cell_type": "code",
   "execution_count": 55,
   "id": "73396bba",
   "metadata": {},
   "outputs": [
    {
     "name": "stdout",
     "output_type": "stream",
     "text": [
      "[[ 0  1  2  3]\n",
      " [ 4  5  6  7]\n",
      " [ 8  9 10 11]]\n",
      "[0 1 2 3]\n",
      "\n",
      "3\n",
      "or\n",
      "3\n",
      "\n",
      "[[0 1 2 3]\n",
      " [4 5 6 7]]\n",
      "[[1 2 3]\n",
      " [5 6 7]]\n"
     ]
    }
   ],
   "source": [
    "### In 2D array slicing and indexing \n",
    "\n",
    "arr2d = np.arange(12).reshape(3,4)\n",
    "print(arr2d)\n",
    "#print 0th Index or 1st row\n",
    "print(arr2d[0])\n",
    "print(\"\")\n",
    "print(arr2d[0][3])\n",
    "print(\"or\")\n",
    "print(arr2d[0,3])\n",
    "print(\"\")\n",
    "## Print from index 0 to 1 (2-1)\n",
    "print(arr2d[:2])\n",
    "# print(\"\")\n",
    "## remove 0th index column and 1st 2 rows\n",
    "print(arr2d[:2,1:])  # graded exams"
   ]
  },
  {
   "cell_type": "code",
   "execution_count": 60,
   "id": "4bfa7b84",
   "metadata": {},
   "outputs": [
    {
     "name": "stdout",
     "output_type": "stream",
     "text": [
      "[[0]\n",
      " [4]\n",
      " [8]]\n"
     ]
    }
   ],
   "source": [
    "## your call what goona here\n",
    "# print(arr2d[1,:2])\n",
    "# print(arr2d[2,:1])\n",
    "print(arr2d[:,:1])"
   ]
  },
  {
   "cell_type": "code",
   "execution_count": 61,
   "id": "50f1be93",
   "metadata": {},
   "outputs": [
    {
     "name": "stdout",
     "output_type": "stream",
     "text": [
      "[[ 0  1  2  3]\n",
      " [ 4  5  6  7]\n",
      " [ 8  9 10 11]]\n",
      "shape of Orignal  (3, 4)\n",
      "\n",
      "[[ 0  4  8]\n",
      " [ 1  5  9]\n",
      " [ 2  6 10]\n",
      " [ 3  7 11]]\n",
      "shape of Transpose  (4, 3)\n"
     ]
    }
   ],
   "source": [
    "## Transpose the Arrday\n",
    "trans = arr2d.T\n",
    "\n",
    "print(arr2d)\n",
    "print(\"shape of Orignal \", arr2d.shape)\n",
    "print(\"\")\n",
    "print(trans)\n",
    "print(\"shape of Transpose \", trans.shape)"
   ]
  },
  {
   "cell_type": "code",
   "execution_count": 62,
   "id": "09d13753",
   "metadata": {},
   "outputs": [
    {
     "name": "stdout",
     "output_type": "stream",
     "text": [
      "[11 12 13 14 15]\n"
     ]
    }
   ],
   "source": [
    "a = np.arange(11,16)\n",
    "b = np.arange(1,6)\n",
    "\n",
    "print(np.maximum(a, b))  ## Bigger in values return whole array"
   ]
  },
  {
   "cell_type": "code",
   "execution_count": 66,
   "id": "28556f4d",
   "metadata": {},
   "outputs": [
    {
     "name": "stdout",
     "output_type": "stream",
     "text": [
      "[11 12 13 14 15]\n",
      "\n",
      "[1 2 3 4 5]\n",
      "\n",
      "[(11, 1), (12, 2), (13, 3), (14, 4), (15, 5)]\n",
      "\n",
      "[(11, 1), (12, 2), (13, 3), (14, 4), (15, 5)]\n"
     ]
    }
   ],
   "source": [
    "### Zip two lists togather\n",
    "print(a)\n",
    "print(\"\")\n",
    "print(b)\n",
    "print(\"\")\n",
    "zipAB = list(zip(a,b))\n",
    "print(zipAB)\n",
    "\n",
    "# ### Lambda format\n",
    "print(\"\")\n",
    "result = [(x,y) for x,y in zip(a,b)]\n",
    "print(result)"
   ]
  },
  {
   "cell_type": "code",
   "execution_count": 67,
   "id": "ea70b962",
   "metadata": {},
   "outputs": [
    {
     "name": "stdout",
     "output_type": "stream",
     "text": [
      "[[-0.21899059 -0.46546998 -0.18702568  2.02931057]\n",
      " [ 1.35538413  1.8132983   0.20693645  0.30939515]\n",
      " [-1.49914415 -0.59799709  0.90510077 -1.2958429 ]\n",
      " [-0.58876443 -0.05488961 -0.66448433  0.15365012]\n",
      " [-0.42143008  0.22597933  0.7037428  -1.4286316 ]]\n",
      "\n",
      "Mean value of the arr  0.014006359439582594\n",
      "\n",
      "Sum of the given array  0.2801271887916519\n"
     ]
    }
   ],
   "source": [
    "### Maths and Status methods\n",
    "arr = np.random.randn(5,4)\n",
    "print(arr)\n",
    "print(\"\")\n",
    "print(\"Mean value of the arr \",arr.mean())   ##avg   \n",
    "print(\"\")\n",
    "print(\"Sum of the given array \", arr.sum())\n",
    "\n",
    "\n"
   ]
  },
  {
   "cell_type": "markdown",
   "id": "7cce2e6b",
   "metadata": {},
   "source": [
    "### Axis\n",
    "\n",
    "- An array has an axis. \n",
    "- These are labelled 0, 1, 2, …\n",
    "- These are just the dimensions. \n"
   ]
  },
  {
   "cell_type": "code",
   "execution_count": 70,
   "id": "5767a48b",
   "metadata": {},
   "outputs": [
    {
     "name": "stdout",
     "output_type": "stream",
     "text": [
      "[[1 2 3]\n",
      " [4 5 6]\n",
      " [7 8 9]]\n",
      "\n",
      "[12 15 18]\n",
      "\n",
      "[ 6 15 24]\n"
     ]
    }
   ],
   "source": [
    "arr = np.arange(1,10).reshape(3,3)\n",
    "print(arr)\n",
    "# print(\"\")\n",
    "# print(arr.mean(axis=0))\n",
    "# print(\"\")\n",
    "# print(arr.mean(axis=1))\n",
    "\n",
    "print(\"\")\n",
    "print(arr.sum(axis=0))\n",
    "print(\"\")\n",
    "print(arr.sum(axis=1))   ****\n"
   ]
  },
  {
   "cell_type": "code",
   "execution_count": 71,
   "id": "1288d960",
   "metadata": {},
   "outputs": [
    {
     "name": "stdout",
     "output_type": "stream",
     "text": [
      "['Bob' 'Joe' 'Will']\n"
     ]
    }
   ],
   "source": [
    "## Unique in np array\n",
    "names = np.array(['Bob', 'Joe', 'Will', 'Bob', 'Will', 'Joe', 'Joe'])\n",
    "\n",
    "print(np.unique(names))"
   ]
  },
  {
   "attachments": {
    "image.png": {
     "image/png": "[encoded data removed]"
    }
   },
   "cell_type": "markdown",
   "id": "849666d5",
   "metadata": {},
   "source": [
    "### 2D Slicing\n",
    "![image.png](attachment:image.png)"
   ]
  },
  {
   "cell_type": "code",
   "execution_count": 89,
   "id": "925fb7c5",
   "metadata": {},
   "outputs": [
    {
     "name": "stdout",
     "output_type": "stream",
     "text": [
      "[9 7 9]\n"
     ]
    }
   ],
   "source": [
    "### Code 1 in NumPy\n",
    "#1-D array containing integers greater than 'm' and smaller than 'n'.\n",
    "import ast\n",
    "input_list=[ 1, 5, 9, 12, 15, 7, 12, 9 ]\n",
    "m=6\n",
    "n=12\n",
    "\n",
    "#start writing your code from here\n",
    "import numpy as np \n",
    "array_1 = np.array(input_list)\n",
    "final_array = array_1[(array_1<n) & (array_1>m)]\n",
    "\n",
    "print(final_array)"
   ]
  },
  {
   "cell_type": "code",
   "execution_count": 90,
   "id": "a874544f",
   "metadata": {},
   "outputs": [
    {
     "name": "stdout",
     "output_type": "stream",
     "text": [
      "[11 21 31]\n",
      "[11 12 13 14]\n",
      "[14 24 34]\n",
      "[31 32 33 34]\n"
     ]
    }
   ],
   "source": [
    "## Code 2 in NumPy\n",
    "## Extract all the border rows and columns from a 2-D array.\n",
    "\n",
    "# For a video solution of the code, copy-paste the following link in your browser:\n",
    "# https://youtu.be/ekELUEdT63E\n",
    "\n",
    "# Read the input list\n",
    "import ast,sys\n",
    "input_str = sys.stdin.read()\n",
    "input_list = [[11, 12, 13, 14], [21, 22, 23, 24], [31, 32, 33, 34]]\n",
    "\n",
    "import numpy as np\n",
    "\n",
    "# Convert the input list to a NumPy array\n",
    "array_2d =np.array(input_list)\n",
    "\n",
    "# Extract the first column, first row, last column and last row respectively using\n",
    "# appropriate indexing\n",
    "col_1 = array_2d[:, 0]\n",
    "row_1 = array_2d[0, :]\n",
    "col_last = array_2d[:, -1]\n",
    "row_last = array_2d[-1, :]\n",
    "\n",
    "print(col_1)\n",
    "print(row_1)\n",
    "print(col_last)\n",
    "print(row_last)"
   ]
  },
  {
   "cell_type": "code",
   "execution_count": 91,
   "id": "03e0c732",
   "metadata": {},
   "outputs": [
    {
     "name": "stdout",
     "output_type": "stream",
     "text": [
      "[[ 7 13 14  5]\n",
      " [18 10 17  8]\n",
      " [11 12 19  4]\n",
      " [16  6  1  3]]\n"
     ]
    }
   ],
   "source": [
    "### Mathematical Operations on NumPy\n",
    "## Q - Merge the three arrays provided to you to form a one 4x4 array.\n",
    "\n",
    "input_list = [[[7, 13, 14], [18, 10, 17], [11, 12, 19]], [16, 6, 1], [[5, 8, 4, 3]]]\n",
    "list_1 = input_list[0]\n",
    "list_2 = input_list[1]\n",
    "list_3 = input_list[2]\n",
    "\n",
    "# Import NumPy\n",
    "import numpy as np\n",
    "\n",
    "# Write your code here\n",
    "final_array = np.hstack([np.vstack([np.array(list_1),np.array(list_2)]), np.transpose(np.array(list_3))])\n",
    "print(final_array)\n"
   ]
  },
  {
   "cell_type": "code",
   "execution_count": null,
   "id": "6da2e05a",
   "metadata": {},
   "outputs": [],
   "source": []
  },
  {
   "cell_type": "code",
   "execution_count": null,
   "id": "a0a038c9",
   "metadata": {},
   "outputs": [],
   "source": []
  },
  {
   "cell_type": "code",
   "execution_count": null,
   "id": "a82ca590",
   "metadata": {},
   "outputs": [],
   "source": []
  },
  {
   "cell_type": "code",
   "execution_count": null,
   "id": "c106b903",
   "metadata": {},
   "outputs": [],
   "source": []
  },
  {
   "cell_type": "code",
   "execution_count": null,
   "id": "1c198036",
   "metadata": {},
   "outputs": [],
   "source": [
    "a"
   ]
  }
 ],
 "metadata": {
  "kernelspec": {
   "display_name": "Python 3",
   "language": "python",
   "name": "python3"
  },
  "language_info": {
   "codemirror_mode": {
    "name": "ipython",
    "version": 3
   },
   "file_extension": ".py",
   "mimetype": "text/x-python",
   "name": "python",
   "nbconvert_exporter": "python",
   "pygments_lexer": "ipython3",
   "version": "3.8.10"
  }
 },
 "nbformat": 4,
 "nbformat_minor": 5
}
