{
 "cells": [
  {
   "cell_type": "markdown",
   "metadata": {},
   "source": [
    "#  File Operations"
   ]
  },
  {
   "cell_type": "markdown",
   "metadata": {},
   "source": [
    "#### 1. Open a file\n",
    "#### 2. Read or write in the opened file(performing some operations)\n",
    "#### 3. Closing the file"
   ]
  },
  {
   "cell_type": "code",
   "execution_count": 6,
   "metadata": {},
   "outputs": [],
   "source": [
    "f = open('Test.txt', encoding='utf-8')"
   ]
  },
  {
   "cell_type": "code",
   "execution_count": 8,
   "metadata": {},
   "outputs": [
    {
     "data": {
      "text/plain": [
       "<_io.TextIOWrapper name='Test.txt' mode='r' encoding='utf-8'>"
      ]
     },
     "execution_count": 8,
     "metadata": {},
     "output_type": "execute_result"
    }
   ],
   "source": [
    "f #file handler"
   ]
  },
  {
   "cell_type": "code",
   "execution_count": 5,
   "metadata": {},
   "outputs": [],
   "source": [
    "# r - Open the file for reading\n",
    "# w - Open the file in the write mode if the file does not exist then it will create a new file for you\n",
    "# x - open the file for exclusive creation , operation fails if the file exist\n",
    "# a - append the file"
   ]
  },
  {
   "cell_type": "code",
   "execution_count": 7,
   "metadata": {},
   "outputs": [],
   "source": [
    "f.close()"
   ]
  },
  {
   "cell_type": "code",
   "execution_count": 10,
   "metadata": {},
   "outputs": [],
   "source": [
    "# try: except: final - Exception handling"
   ]
  },
  {
   "cell_type": "code",
   "execution_count": 17,
   "metadata": {},
   "outputs": [],
   "source": [
    "f = open('Test.txt', 'w')"
   ]
  },
  {
   "cell_type": "code",
   "execution_count": 18,
   "metadata": {},
   "outputs": [
    {
     "data": {
      "text/plain": [
       "<_io.TextIOWrapper name='Test.txt' mode='w' encoding='cp1252'>"
      ]
     },
     "execution_count": 18,
     "metadata": {},
     "output_type": "execute_result"
    }
   ],
   "source": [
    "f"
   ]
  },
  {
   "cell_type": "code",
   "execution_count": 19,
   "metadata": {},
   "outputs": [],
   "source": [
    "f.write(\"1st line changed\")\n",
    "f.write(\"2nd line changed\")\n",
    "f.close()"
   ]
  },
  {
   "cell_type": "code",
   "execution_count": 23,
   "metadata": {},
   "outputs": [],
   "source": [
    "f = open('Test.txt', 'r')"
   ]
  },
  {
   "cell_type": "code",
   "execution_count": 32,
   "metadata": {},
   "outputs": [
    {
     "data": {
      "text/plain": [
       "'1st '"
      ]
     },
     "execution_count": 32,
     "metadata": {},
     "output_type": "execute_result"
    }
   ],
   "source": [
    "f.read(4)"
   ]
  },
  {
   "cell_type": "code",
   "execution_count": 40,
   "metadata": {},
   "outputs": [
    {
     "data": {
      "text/plain": [
       "0"
      ]
     },
     "execution_count": 40,
     "metadata": {},
     "output_type": "execute_result"
    }
   ],
   "source": [
    "f.seek(0)"
   ]
  },
  {
   "cell_type": "code",
   "execution_count": 34,
   "metadata": {},
   "outputs": [
    {
     "data": {
      "text/plain": [
       "4"
      ]
     },
     "execution_count": 34,
     "metadata": {},
     "output_type": "execute_result"
    }
   ],
   "source": [
    "f.tell()"
   ]
  },
  {
   "cell_type": "code",
   "execution_count": 35,
   "metadata": {},
   "outputs": [
    {
     "data": {
      "text/plain": [
       "'line changed\\n2nd line changed\\n3rd line\\nthere are 4 lines in total'"
      ]
     },
     "execution_count": 35,
     "metadata": {},
     "output_type": "execute_result"
    }
   ],
   "source": [
    "f.read()"
   ]
  },
  {
   "cell_type": "code",
   "execution_count": 36,
   "metadata": {},
   "outputs": [
    {
     "data": {
      "text/plain": [
       "''"
      ]
     },
     "execution_count": 36,
     "metadata": {},
     "output_type": "execute_result"
    }
   ],
   "source": [
    "f.read()"
   ]
  },
  {
   "cell_type": "code",
   "execution_count": 37,
   "metadata": {},
   "outputs": [
    {
     "data": {
      "text/plain": [
       "69"
      ]
     },
     "execution_count": 37,
     "metadata": {},
     "output_type": "execute_result"
    }
   ],
   "source": [
    "f.tell()"
   ]
  },
  {
   "cell_type": "code",
   "execution_count": 39,
   "metadata": {},
   "outputs": [
    {
     "name": "stdout",
     "output_type": "stream",
     "text": [
      "1st line changed\n",
      "\n",
      "2nd line changed\n",
      "\n",
      "3rd line\n",
      "\n",
      "there are 4 lines in total\n"
     ]
    }
   ],
   "source": [
    "for i in f:\n",
    "    print(i)"
   ]
  },
  {
   "cell_type": "code",
   "execution_count": 41,
   "metadata": {},
   "outputs": [
    {
     "data": {
      "text/plain": [
       "'1st line changed\\n'"
      ]
     },
     "execution_count": 41,
     "metadata": {},
     "output_type": "execute_result"
    }
   ],
   "source": [
    "f.readline()"
   ]
  },
  {
   "cell_type": "code",
   "execution_count": 42,
   "metadata": {},
   "outputs": [
    {
     "data": {
      "text/plain": [
       "'2nd line changed\\n'"
      ]
     },
     "execution_count": 42,
     "metadata": {},
     "output_type": "execute_result"
    }
   ],
   "source": [
    "f.readline()"
   ]
  },
  {
   "cell_type": "code",
   "execution_count": 43,
   "metadata": {},
   "outputs": [
    {
     "data": {
      "text/plain": [
       "'3rd line\\n'"
      ]
     },
     "execution_count": 43,
     "metadata": {},
     "output_type": "execute_result"
    }
   ],
   "source": [
    "f.readline()"
   ]
  },
  {
   "cell_type": "code",
   "execution_count": 44,
   "metadata": {},
   "outputs": [
    {
     "data": {
      "text/plain": [
       "'there are 4 lines in total'"
      ]
     },
     "execution_count": 44,
     "metadata": {},
     "output_type": "execute_result"
    }
   ],
   "source": [
    "f.readline()"
   ]
  },
  {
   "cell_type": "code",
   "execution_count": 45,
   "metadata": {},
   "outputs": [
    {
     "data": {
      "text/plain": [
       "''"
      ]
     },
     "execution_count": 45,
     "metadata": {},
     "output_type": "execute_result"
    }
   ],
   "source": [
    "f.readline()"
   ]
  },
  {
   "cell_type": "code",
   "execution_count": 46,
   "metadata": {},
   "outputs": [
    {
     "data": {
      "text/plain": [
       "0"
      ]
     },
     "execution_count": 46,
     "metadata": {},
     "output_type": "execute_result"
    }
   ],
   "source": [
    "f.seek(0)"
   ]
  },
  {
   "cell_type": "code",
   "execution_count": 47,
   "metadata": {},
   "outputs": [
    {
     "data": {
      "text/plain": [
       "['1st line changed\\n',\n",
       " '2nd line changed\\n',\n",
       " '3rd line\\n',\n",
       " 'there are 4 lines in total']"
      ]
     },
     "execution_count": 47,
     "metadata": {},
     "output_type": "execute_result"
    }
   ],
   "source": [
    "f.readlines()"
   ]
  },
  {
   "cell_type": "code",
   "execution_count": 48,
   "metadata": {},
   "outputs": [],
   "source": [
    "f.close()"
   ]
  },
  {
   "cell_type": "code",
   "execution_count": 51,
   "metadata": {},
   "outputs": [
    {
     "name": "stdout",
     "output_type": "stream",
     "text": [
      "1st line changed\n",
      "2nd line changed\n",
      "3rd line\n",
      "there are 4 lines in total\n"
     ]
    }
   ],
   "source": [
    "with open(\"test.txt\", encoding = 'utf-8') as f:\n",
    "    print(f.read())"
   ]
  },
  {
   "cell_type": "code",
   "execution_count": 52,
   "metadata": {},
   "outputs": [],
   "source": [
    "import os"
   ]
  },
  {
   "cell_type": "code",
   "execution_count": 54,
   "metadata": {},
   "outputs": [],
   "source": [
    "os.rename(r'C:\\Users\\sshir\\Desktop\\deleted.txt', r'C:\\Users\\sshir\\Desktop\\new file.txt')"
   ]
  },
  {
   "cell_type": "code",
   "execution_count": 55,
   "metadata": {},
   "outputs": [],
   "source": [
    "os.remove(r'C:\\Users\\sshir\\Desktop\\new file.txt')"
   ]
  },
  {
   "cell_type": "code",
   "execution_count": 56,
   "metadata": {},
   "outputs": [
    {
     "data": {
      "text/plain": [
       "'C:\\\\Users\\\\sshir'"
      ]
     },
     "execution_count": 56,
     "metadata": {},
     "output_type": "execute_result"
    }
   ],
   "source": [
    "os.getcwd()"
   ]
  },
  {
   "cell_type": "code",
   "execution_count": 60,
   "metadata": {},
   "outputs": [],
   "source": [
    "os.chdir(r'C:\\Users\\sshir\\Desktop')"
   ]
  },
  {
   "cell_type": "code",
   "execution_count": 61,
   "metadata": {},
   "outputs": [
    {
     "data": {
      "text/plain": [
       "'C:\\\\Users\\\\sshir\\\\Desktop'"
      ]
     },
     "execution_count": 61,
     "metadata": {},
     "output_type": "execute_result"
    }
   ],
   "source": [
    "os.getcwd()"
   ]
  },
  {
   "cell_type": "code",
   "execution_count": 62,
   "metadata": {},
   "outputs": [
    {
     "data": {
      "text/plain": [
       "['Book1.xlsx',\n",
       " 'desktop.ini',\n",
       " 'Michigan University - ML',\n",
       " 'Microsoft Teams.lnk',\n",
       " 'New folder',\n",
       " 'Removed Apps.html']"
      ]
     },
     "execution_count": 62,
     "metadata": {},
     "output_type": "execute_result"
    }
   ],
   "source": [
    "os.listdir()"
   ]
  },
  {
   "cell_type": "code",
   "execution_count": 64,
   "metadata": {},
   "outputs": [
    {
     "name": "stdout",
     "output_type": "stream",
     "text": [
      "Book1.xlsx\n"
     ]
    }
   ],
   "source": [
    "for i in os.listdir():\n",
    "    if 'xlsx' in i:\n",
    "        print(i)"
   ]
  },
  {
   "cell_type": "code",
   "execution_count": 72,
   "metadata": {},
   "outputs": [
    {
     "name": "stdout",
     "output_type": "stream",
     "text": [
      "The entry is b\n",
      "Kind Error <class 'ValueError'>\n",
      "unable to convert the string into an integer\n",
      "\n",
      "The entry is 0\n",
      "Kind Error <class 'ZeroDivisionError'>\n",
      "Python cannot divide by 0\n",
      "\n",
      "The entry is 2\n",
      "-----------\n",
      "0.5\n"
     ]
    }
   ],
   "source": [
    "import sys\n",
    "lst = ['b', 0, 2]\n",
    "for i in lst:\n",
    "    try:\n",
    "        print(\"The entry is\", i)\n",
    "        r = 1/int(i)\n",
    "    except(ValueError):\n",
    "        print(\"Kind Error\", sys.exc_info()[0])\n",
    "        print(\"unable to convert the string into an integer\")\n",
    "        print()\n",
    "    except(ZeroDivisionError):\n",
    "        print(\"Kind Error\", sys.exc_info()[0])\n",
    "        print(\"Python cannot divide by 0\")\n",
    "        print()\n",
    "    except:\n",
    "        print(\"Some Other Error\")\n",
    "\n",
    "print('-----------')\n",
    "print(r)"
   ]
  },
  {
   "cell_type": "code",
   "execution_count": 73,
   "metadata": {},
   "outputs": [],
   "source": [
    "# debugging"
   ]
  },
  {
   "cell_type": "code",
   "execution_count": 74,
   "metadata": {},
   "outputs": [],
   "source": [
    "import pdb"
   ]
  },
  {
   "cell_type": "code",
   "execution_count": 76,
   "metadata": {},
   "outputs": [
    {
     "name": "stdout",
     "output_type": "stream",
     "text": [
      "> \u001b[1;32m<ipython-input-76-e86d5e148a59>\u001b[0m(4)\u001b[0;36mseq\u001b[1;34m()\u001b[0m\n",
      "\u001b[1;32m      2 \u001b[1;33m    \u001b[1;32mfor\u001b[0m \u001b[0mi\u001b[0m \u001b[1;32min\u001b[0m \u001b[0mrange\u001b[0m\u001b[1;33m(\u001b[0m\u001b[0mn\u001b[0m\u001b[1;33m)\u001b[0m\u001b[1;33m:\u001b[0m\u001b[1;33m\u001b[0m\u001b[1;33m\u001b[0m\u001b[0m\n",
      "\u001b[0m\u001b[1;32m      3 \u001b[1;33m        \u001b[0mpdb\u001b[0m\u001b[1;33m.\u001b[0m\u001b[0mset_trace\u001b[0m\u001b[1;33m(\u001b[0m\u001b[1;33m)\u001b[0m\u001b[1;33m\u001b[0m\u001b[1;33m\u001b[0m\u001b[0m\n",
      "\u001b[0m\u001b[1;32m----> 4 \u001b[1;33m        \u001b[0mprint\u001b[0m\u001b[1;33m(\u001b[0m\u001b[0mi\u001b[0m\u001b[1;33m)\u001b[0m\u001b[1;33m\u001b[0m\u001b[1;33m\u001b[0m\u001b[0m\n",
      "\u001b[0m\u001b[1;32m      5 \u001b[1;33m\u001b[1;33m\u001b[0m\u001b[0m\n",
      "\u001b[0m\u001b[1;32m      6 \u001b[1;33m\u001b[0mseq\u001b[0m\u001b[1;33m(\u001b[0m\u001b[1;36m5\u001b[0m\u001b[1;33m)\u001b[0m\u001b[1;33m\u001b[0m\u001b[1;33m\u001b[0m\u001b[0m\n",
      "\u001b[0m\n",
      "ipdb> p i\n",
      "0\n",
      "ipdb> c\n",
      "0\n",
      "> \u001b[1;32m<ipython-input-76-e86d5e148a59>\u001b[0m(3)\u001b[0;36mseq\u001b[1;34m()\u001b[0m\n",
      "\u001b[1;32m      1 \u001b[1;33m\u001b[1;32mdef\u001b[0m \u001b[0mseq\u001b[0m\u001b[1;33m(\u001b[0m\u001b[0mn\u001b[0m\u001b[1;33m)\u001b[0m\u001b[1;33m:\u001b[0m\u001b[1;33m\u001b[0m\u001b[1;33m\u001b[0m\u001b[0m\n",
      "\u001b[0m\u001b[1;32m      2 \u001b[1;33m    \u001b[1;32mfor\u001b[0m \u001b[0mi\u001b[0m \u001b[1;32min\u001b[0m \u001b[0mrange\u001b[0m\u001b[1;33m(\u001b[0m\u001b[0mn\u001b[0m\u001b[1;33m)\u001b[0m\u001b[1;33m:\u001b[0m\u001b[1;33m\u001b[0m\u001b[1;33m\u001b[0m\u001b[0m\n",
      "\u001b[0m\u001b[1;32m----> 3 \u001b[1;33m        \u001b[0mpdb\u001b[0m\u001b[1;33m.\u001b[0m\u001b[0mset_trace\u001b[0m\u001b[1;33m(\u001b[0m\u001b[1;33m)\u001b[0m\u001b[1;33m\u001b[0m\u001b[1;33m\u001b[0m\u001b[0m\n",
      "\u001b[0m\u001b[1;32m      4 \u001b[1;33m        \u001b[0mprint\u001b[0m\u001b[1;33m(\u001b[0m\u001b[0mi\u001b[0m\u001b[1;33m)\u001b[0m\u001b[1;33m\u001b[0m\u001b[1;33m\u001b[0m\u001b[0m\n",
      "\u001b[0m\u001b[1;32m      5 \u001b[1;33m\u001b[1;33m\u001b[0m\u001b[0m\n",
      "\u001b[0m\n",
      "ipdb> p i\n",
      "1\n",
      "ipdb> c\n",
      "1\n",
      "> \u001b[1;32m<ipython-input-76-e86d5e148a59>\u001b[0m(4)\u001b[0;36mseq\u001b[1;34m()\u001b[0m\n",
      "\u001b[1;32m      2 \u001b[1;33m    \u001b[1;32mfor\u001b[0m \u001b[0mi\u001b[0m \u001b[1;32min\u001b[0m \u001b[0mrange\u001b[0m\u001b[1;33m(\u001b[0m\u001b[0mn\u001b[0m\u001b[1;33m)\u001b[0m\u001b[1;33m:\u001b[0m\u001b[1;33m\u001b[0m\u001b[1;33m\u001b[0m\u001b[0m\n",
      "\u001b[0m\u001b[1;32m      3 \u001b[1;33m        \u001b[0mpdb\u001b[0m\u001b[1;33m.\u001b[0m\u001b[0mset_trace\u001b[0m\u001b[1;33m(\u001b[0m\u001b[1;33m)\u001b[0m\u001b[1;33m\u001b[0m\u001b[1;33m\u001b[0m\u001b[0m\n",
      "\u001b[0m\u001b[1;32m----> 4 \u001b[1;33m        \u001b[0mprint\u001b[0m\u001b[1;33m(\u001b[0m\u001b[0mi\u001b[0m\u001b[1;33m)\u001b[0m\u001b[1;33m\u001b[0m\u001b[1;33m\u001b[0m\u001b[0m\n",
      "\u001b[0m\u001b[1;32m      5 \u001b[1;33m\u001b[1;33m\u001b[0m\u001b[0m\n",
      "\u001b[0m\u001b[1;32m      6 \u001b[1;33m\u001b[0mseq\u001b[0m\u001b[1;33m(\u001b[0m\u001b[1;36m5\u001b[0m\u001b[1;33m)\u001b[0m\u001b[1;33m\u001b[0m\u001b[1;33m\u001b[0m\u001b[0m\n",
      "\u001b[0m\n",
      "ipdb> p i\n",
      "2\n",
      "ipdb> p locals()\n",
      "{'n': 5, 'i': 2}\n",
      "ipdb> p globals()\n",
      "{'__name__': '__main__', '__doc__': 'Automatically created module for IPython interactive environment', '__package__': None, '__loader__': None, '__spec__': None, '__builtin__': <module 'builtins' (built-in)>, '__builtins__': <module 'builtins' (built-in)>, '_ih': ['', \"f = open('Test.txt')\", 'f', 'f.close()', 'f', '# r - Open the file for reading\\n# w - Open the file in the write mode if the file does not exist then it will create a new file for you\\n# x - open the file for exclusive creation , operation fails if the file exist\\n# a - append the file', \"f = open('Test.txt', encoding='utf-8')\", 'f.close()', 'f #file handler', '# try: except: final', '# try: except: final - Exception handling', 'try:\\n    f = open(\\'gfgsdugfsdyufg.txt\\')\\nexcept:\\n    print(\"There is no such file exist\")', \"f = open('gfgsdugfsdyufg.txt')\", 'try:\\n    f = open(\\'gfgsdugfsdyufg.txt\\')\\nexcept:\\n    f = open(\\'fsdfsdfs.txt\\')\\nexcept:\\n    print(\"There is no such file exist\")', 'try:\\n    f = open(\\'gfgsdugfsdyufg.txt\\')\\nfinally:\\n    print(\"This statement executed\")', 'try:\\n    f = open(\\'gfgsdugfsdyufg.txt\\')\\nexcept:\\n    print()\\nfinally:\\n    print(\"This statement executed\")', 'try:\\n    f = open(\\'gfgsdugfsdyufg.txt\\')\\nexcept:\\n    print(\\'------\\')\\nfinally:\\n    print(\"This statement executed\")', \"f = open('Test.txt', 'w')\", 'f', 'f.write(\"1st line changed\")\\nf.write(\"2nd line changed\")\\nf.close()', \"f = open('Test.txt', 'r')\", 'f.read()', 'f.close()', \"f = open('Test.txt', 'r')\", 'f.read()', 'f.read(10)', 'f.read(4)', 'f.read(15)', 'f.readline()', 'f.readline(1)', 'f.read()', 'f.seek(0)', 'f.read(4)', 'f.tell()', 'f.tell()', 'f.read()', 'f.read()', 'f.tell()', 'f.seek(0)', 'for i in f:\\n    print(i)', 'f.seek(0)', 'f.readline()', 'f.readline()', 'f.readline()', 'f.readline()', 'f.readline()', 'f.seek(0)', 'f.readlines()', 'f.close()', 'with open(\"test.txt\", encoding = \\'utf-8\\') as f:\\n    f.read()', 'f', 'with open(\"test.txt\", encoding = \\'utf-8\\') as f:\\n    print(f.read())', 'import os', \"os.rename('C:\\\\Users\\\\sshir\\\\Desktop\\\\deleted.txt', 'C:\\\\Users\\\\sshir\\\\Desktop\\\\new file.txt')\", \"os.rename(r'C:\\\\Users\\\\sshir\\\\Desktop\\\\deleted.txt', r'C:\\\\Users\\\\sshir\\\\Desktop\\\\new file.txt')\", \"os.remove(r'C:\\\\Users\\\\sshir\\\\Desktop\\\\new file.txt')\", 'os.getcwd()', \"os.chdir('r'C:\\\\Users\\\\sshir\\\\Desktop\\\\'')\", \"os.chdir('r'C:\\\\Users\\\\sshir\\\\Desktop\\\\')\", \"os.chdir(r'C:\\\\Users\\\\sshir\\\\Desktop\\\\')\", \"os.chdir(r'C:\\\\Users\\\\sshir\\\\Desktop')\", 'os.getcwd()', 'os.listdir()', \"for i in os.listdir():\\n    if 'xlsx' in i:\", \"for i in os.listdir():\\n    if 'xlsx' in i:\\n        print(i)\", 'import sys\\nlst = [\\'b\\', 0, 2]\\nfor i in lst:\\n    try:\\n        print(\"The entry is\", i)\\n        r = 1/int(i)\\n    except(ValueError):\\n        print(\"KInd Error\", sys.exc_info()[0])\\n    except(ZeroDivisionError):\\n        print(\"Kind Error\", sys.exc_info()[0])\\n    except:\\n        print(\"Some Other Error\")', 'import sys\\nlst = [\\'b\\', 0, 2]\\nfor i in lst:\\n    try:\\n        print(\"The entry is\", i)\\n        r = 1/int(i)\\n    except(ValueError):\\n        print(\"KInd Error\", sys.exc_info()[0])\\n    except(ZeroDivisionError):\\n        print(\"Kind Error\", sys.exc_info()[0])\\n    except:\\n        print(\"Some Other Error\")\\n\\nprint(\\'-----------\\')\\nprint(r)', 'import sys\\nlst = [\\'b\\', 0, 2]\\nfor i in lst:\\n    try:\\n        print(\"The entry is\", i)\\n        r = 1/int(i)\\n    except(ValueError):\\n        print(\"Kind Error\", sys.exc_info()[0])\\n    except(ZeroDivisionError):\\n        print(\"Kind Error\", sys.exc_info()[0])\\n    except:\\n        print(\"Some Other Error\")\\n\\nprint(\\'-----------\\')\\nprint(r)', 'print(g)', 'print(1/0)', \"int('f')\", 'import sys\\nlst = [\\'b\\', 0, 2]\\nfor i in lst:\\n    try:\\n        print(\"The entry is\", i)\\n        r = 1/int(i)\\n    except(ValueError):\\n        print(\"Kind Error\", sys.exc_info()[0])\\n        print(\"unable to convert the string into an integer\")\\n    except(ZeroDivisionError):\\n        print(\"Kind Error\", sys.exc_info()[0])\\n        print(\"Python cannot divide by 0\")\\n    except:\\n        print(\"Some Other Error\")\\n\\nprint(\\'-----------\\')\\nprint(r)', 'import sys\\nlst = [\\'b\\', 0, 2]\\nfor i in lst:\\n    try:\\n        print(\"The entry is\", i)\\n        r = 1/int(i)\\n    except(ValueError):\\n        print(\"Kind Error\", sys.exc_info()[0])\\n        print(\"unable to convert the string into an integer\")\\n        print()\\n    except(ZeroDivisionError):\\n        print(\"Kind Error\", sys.exc_info()[0])\\n        print(\"Python cannot divide by 0\")\\n        print()\\n    except:\\n        print(\"Some Other Error\")\\n\\nprint(\\'-----------\\')\\nprint(r)', '# debugging', 'import pdb', 'def seq(n):\\n    for i in range(n):\\n        pdb.set_trace()\\n        print(i)\\n\\nseq(5)', 'def seq(n):\\n    for i in range(n):\\n        pdb.set_trace()\\n        print(i)\\n\\nseq(5)'], '_oh': {2: <_io.TextIOWrapper name='Test.txt' mode='r' encoding='cp1252'>, 4: <_io.TextIOWrapper name='Test.txt' mode='r' encoding='cp1252'>, 8: <_io.TextIOWrapper name='Test.txt' mode='r' encoding='utf-8'>, 18: <_io.TextIOWrapper name='Test.txt' mode='w' encoding='cp1252'>, 21: '1st line changed2nd line changed', 24: '1st line changed\\n2nd line changed\\n3rd line\\nthere are 4 lines in total', 25: '', 26: '', 27: '', 28: '', 29: '', 30: '', 31: 0, 32: '1st ', 33: 4, 34: 4, 35: 'line changed\\n2nd line changed\\n3rd line\\nthere are 4 lines in total', 36: '', 37: 69, 38: 0, 40: 0, 41: '1st line changed\\n', 42: '2nd line changed\\n', 43: '3rd line\\n', 44: 'there are 4 lines in total', 45: '', 46: 0, 47: ['1st line changed\\n', '2nd line changed\\n', '3rd line\\n', 'there are 4 lines in total'], 50: <_io.TextIOWrapper name='test.txt' mode='r' encoding='utf-8'>, 56: 'C:\\\\Users\\\\sshir', 61: 'C:\\\\Users\\\\sshir\\\\Desktop', 62: ['Book1.xlsx', 'desktop.ini', 'Michigan University - ML', 'Microsoft Teams.lnk', 'New folder', 'Removed Apps.html']}, '_dh': ['C:\\\\Users\\\\sshir'], 'In': ['', \"f = open('Test.txt')\", 'f', 'f.close()', 'f', '# r - Open the file for reading\\n# w - Open the file in the write mode if the file does not exist then it will create a new file for you\\n# x - open the file for exclusive creation , operation fails if the file exist\\n# a - append the file', \"f = open('Test.txt', encoding='utf-8')\", 'f.close()', 'f #file handler', '# try: except: final', '# try: except: final - Exception handling', 'try:\\n    f = open(\\'gfgsdugfsdyufg.txt\\')\\nexcept:\\n    print(\"There is no such file exist\")', \"f = open('gfgsdugfsdyufg.txt')\", 'try:\\n    f = open(\\'gfgsdugfsdyufg.txt\\')\\nexcept:\\n    f = open(\\'fsdfsdfs.txt\\')\\nexcept:\\n    print(\"There is no such file exist\")', 'try:\\n    f = open(\\'gfgsdugfsdyufg.txt\\')\\nfinally:\\n    print(\"This statement executed\")', 'try:\\n    f = open(\\'gfgsdugfsdyufg.txt\\')\\nexcept:\\n    print()\\nfinally:\\n    print(\"This statement executed\")', 'try:\\n    f = open(\\'gfgsdugfsdyufg.txt\\')\\nexcept:\\n    print(\\'------\\')\\nfinally:\\n    print(\"This statement executed\")', \"f = open('Test.txt', 'w')\", 'f', 'f.write(\"1st line changed\")\\nf.write(\"2nd line changed\")\\nf.close()', \"f = open('Test.txt', 'r')\", 'f.read()', 'f.close()', \"f = open('Test.txt', 'r')\", 'f.read()', 'f.read(10)', 'f.read(4)', 'f.read(15)', 'f.readline()', 'f.readline(1)', 'f.read()', 'f.seek(0)', 'f.read(4)', 'f.tell()', 'f.tell()', 'f.read()', 'f.read()', 'f.tell()', 'f.seek(0)', 'for i in f:\\n    print(i)', 'f.seek(0)', 'f.readline()', 'f.readline()', 'f.readline()', 'f.readline()', 'f.readline()', 'f.seek(0)', 'f.readlines()', 'f.close()', 'with open(\"test.txt\", encoding = \\'utf-8\\') as f:\\n    f.read()', 'f', 'with open(\"test.txt\", encoding = \\'utf-8\\') as f:\\n    print(f.read())', 'import os', \"os.rename('C:\\\\Users\\\\sshir\\\\Desktop\\\\deleted.txt', 'C:\\\\Users\\\\sshir\\\\Desktop\\\\new file.txt')\", \"os.rename(r'C:\\\\Users\\\\sshir\\\\Desktop\\\\deleted.txt', r'C:\\\\Users\\\\sshir\\\\Desktop\\\\new file.txt')\", \"os.remove(r'C:\\\\Users\\\\sshir\\\\Desktop\\\\new file.txt')\", 'os.getcwd()', \"os.chdir('r'C:\\\\Users\\\\sshir\\\\Desktop\\\\'')\", \"os.chdir('r'C:\\\\Users\\\\sshir\\\\Desktop\\\\')\", \"os.chdir(r'C:\\\\Users\\\\sshir\\\\Desktop\\\\')\", \"os.chdir(r'C:\\\\Users\\\\sshir\\\\Desktop')\", 'os.getcwd()', 'os.listdir()', \"for i in os.listdir():\\n    if 'xlsx' in i:\", \"for i in os.listdir():\\n    if 'xlsx' in i:\\n        print(i)\", 'import sys\\nlst = [\\'b\\', 0, 2]\\nfor i in lst:\\n    try:\\n        print(\"The entry is\", i)\\n        r = 1/int(i)\\n    except(ValueError):\\n        print(\"KInd Error\", sys.exc_info()[0])\\n    except(ZeroDivisionError):\\n        print(\"Kind Error\", sys.exc_info()[0])\\n    except:\\n        print(\"Some Other Error\")', 'import sys\\nlst = [\\'b\\', 0, 2]\\nfor i in lst:\\n    try:\\n        print(\"The entry is\", i)\\n        r = 1/int(i)\\n    except(ValueError):\\n        print(\"KInd Error\", sys.exc_info()[0])\\n    except(ZeroDivisionError):\\n        print(\"Kind Error\", sys.exc_info()[0])\\n    except:\\n        print(\"Some Other Error\")\\n\\nprint(\\'-----------\\')\\nprint(r)', 'import sys\\nlst = [\\'b\\', 0, 2]\\nfor i in lst:\\n    try:\\n        print(\"The entry is\", i)\\n        r = 1/int(i)\\n    except(ValueError):\\n        print(\"Kind Error\", sys.exc_info()[0])\\n    except(ZeroDivisionError):\\n        print(\"Kind Error\", sys.exc_info()[0])\\n    except:\\n        print(\"Some Other Error\")\\n\\nprint(\\'-----------\\')\\nprint(r)', 'print(g)', 'print(1/0)', \"int('f')\", 'import sys\\nlst = [\\'b\\', 0, 2]\\nfor i in lst:\\n    try:\\n        print(\"The entry is\", i)\\n        r = 1/int(i)\\n    except(ValueError):\\n        print(\"Kind Error\", sys.exc_info()[0])\\n        print(\"unable to convert the string into an integer\")\\n    except(ZeroDivisionError):\\n        print(\"Kind Error\", sys.exc_info()[0])\\n        print(\"Python cannot divide by 0\")\\n    except:\\n        print(\"Some Other Error\")\\n\\nprint(\\'-----------\\')\\nprint(r)', 'import sys\\nlst = [\\'b\\', 0, 2]\\nfor i in lst:\\n    try:\\n        print(\"The entry is\", i)\\n        r = 1/int(i)\\n    except(ValueError):\\n        print(\"Kind Error\", sys.exc_info()[0])\\n        print(\"unable to convert the string into an integer\")\\n        print()\\n    except(ZeroDivisionError):\\n        print(\"Kind Error\", sys.exc_info()[0])\\n        print(\"Python cannot divide by 0\")\\n        print()\\n    except:\\n        print(\"Some Other Error\")\\n\\nprint(\\'-----------\\')\\nprint(r)', '# debugging', 'import pdb', 'def seq(n):\\n    for i in range(n):\\n        pdb.set_trace()\\n        print(i)\\n\\nseq(5)', 'def seq(n):\\n    for i in range(n):\\n        pdb.set_trace()\\n        print(i)\\n\\nseq(5)'], 'Out': {2: <_io.TextIOWrapper name='Test.txt' mode='r' encoding='cp1252'>, 4: <_io.TextIOWrapper name='Test.txt' mode='r' encoding='cp1252'>, 8: <_io.TextIOWrapper name='Test.txt' mode='r' encoding='utf-8'>, 18: <_io.TextIOWrapper name='Test.txt' mode='w' encoding='cp1252'>, 21: '1st line changed2nd line changed', 24: '1st line changed\\n2nd line changed\\n3rd line\\nthere are 4 lines in total', 25: '', 26: '', 27: '', 28: '', 29: '', 30: '', 31: 0, 32: '1st ', 33: 4, 34: 4, 35: 'line changed\\n2nd line changed\\n3rd line\\nthere are 4 lines in total', 36: '', 37: 69, 38: 0, 40: 0, 41: '1st line changed\\n', 42: '2nd line changed\\n', 43: '3rd line\\n', 44: 'there are 4 lines in total', 45: '', 46: 0, 47: ['1st line changed\\n', '2nd line changed\\n', '3rd line\\n', 'there are 4 lines in total'], 50: <_io.TextIOWrapper name='test.txt' mode='r' encoding='utf-8'>, 56: 'C:\\\\Users\\\\sshir', 61: 'C:\\\\Users\\\\sshir\\\\Desktop', 62: ['Book1.xlsx', 'desktop.ini', 'Michigan University - ML', 'Microsoft Teams.lnk', 'New folder', 'Removed Apps.html']}, 'get_ipython': <bound method InteractiveShell.get_ipython of <ipykernel.zmqshell.ZMQInteractiveShell object at 0x000001987FE778B0>>, 'exit': <IPython.core.autocall.ZMQExitAutocall object at 0x000001987FEE85B0>, 'quit': <IPython.core.autocall.ZMQExitAutocall object at 0x000001987FEE85B0>, '_': ['Book1.xlsx', 'desktop.ini', 'Michigan University - ML', 'Microsoft Teams.lnk', 'New folder', 'Removed Apps.html'], '__': 'C:\\\\Users\\\\sshir\\\\Desktop', '___': 'C:\\\\Users\\\\sshir', '_i': 'def seq(n):\\n    for i in range(n):\\n        pdb.set_trace()\\n        print(i)\\n\\nseq(5)', '_ii': 'import pdb', '_iii': '# debugging', '_i1': \"f = open('Test.txt')\", 'f': <_io.TextIOWrapper name='test.txt' mode='r' encoding='utf-8'>, '_i2': 'f', '_2': <_io.TextIOWrapper name='Test.txt' mode='r' encoding='cp1252'>, '_i3': 'f.close()', '_i4': 'f', '_4': <_io.TextIOWrapper name='Test.txt' mode='r' encoding='cp1252'>, '_i5': '# r - Open the file for reading\\n# w - Open the file in the write mode if the file does not exist then it will create a new file for you\\n# x - open the file for exclusive creation , operation fails if the file exist\\n# a - append the file', '_i6': \"f = open('Test.txt', encoding='utf-8')\", '_i7': 'f.close()', '_i8': 'f #file handler', '_8': <_io.TextIOWrapper name='Test.txt' mode='r' encoding='utf-8'>, '_i9': '# try: except: final', '_i10': '# try: except: final - Exception handling', '_i11': 'try:\\n    f = open(\\'gfgsdugfsdyufg.txt\\')\\nexcept:\\n    print(\"There is no such file exist\")', '_i12': \"f = open('gfgsdugfsdyufg.txt')\", '_i13': 'try:\\n    f = open(\\'gfgsdugfsdyufg.txt\\')\\nexcept:\\n    f = open(\\'fsdfsdfs.txt\\')\\nexcept:\\n    print(\"There is no such file exist\")', '_i14': 'try:\\n    f = open(\\'gfgsdugfsdyufg.txt\\')\\nfinally:\\n    print(\"This statement executed\")', '_i15': 'try:\\n    f = open(\\'gfgsdugfsdyufg.txt\\')\\nexcept:\\n    print()\\nfinally:\\n    print(\"This statement executed\")', '_i16': 'try:\\n    f = open(\\'gfgsdugfsdyufg.txt\\')\\nexcept:\\n    print(\\'------\\')\\nfinally:\\n    print(\"This statement executed\")', '_i17': \"f = open('Test.txt', 'w')\", '_i18': 'f', '_18': <_io.TextIOWrapper name='Test.txt' mode='w' encoding='cp1252'>, '_i19': 'f.write(\"1st line changed\")\\nf.write(\"2nd line changed\")\\nf.close()', '_i20': \"f = open('Test.txt', 'r')\", '_i21': 'f.read()', '_21': '1st line changed2nd line changed', '_i22': 'f.close()', '_i23': \"f = open('Test.txt', 'r')\", '_i24': 'f.read()', '_24': '1st line changed\\n2nd line changed\\n3rd line\\nthere are 4 lines in total', '_i25': 'f.read(10)', '_25': '', '_i26': 'f.read(4)', '_26': '', '_i27': 'f.read(15)', '_27': '', '_i28': 'f.readline()', '_28': '', '_i29': 'f.readline(1)', '_29': '', '_i30': 'f.read()', '_30': '', '_i31': 'f.seek(0)', '_31': 0, '_i32': 'f.read(4)', '_32': '1st ', '_i33': 'f.tell()', '_33': 4, '_i34': 'f.tell()', '_34': 4, '_i35': 'f.read()', '_35': 'line changed\\n2nd line changed\\n3rd line\\nthere are 4 lines in total', '_i36': 'f.read()', '_36': '', '_i37': 'f.tell()', '_37': 69, '_i38': 'f.seek(0)', '_38': 0, '_i39': 'for i in f:\\n    print(i)', 'i': 2, '_i40': 'f.seek(0)', '_40': 0, '_i41': 'f.readline()', '_41': '1st line changed\\n', '_i42': 'f.readline()', '_42': '2nd line changed\\n', '_i43': 'f.readline()', '_43': '3rd line\\n', '_i44': 'f.readline()', '_44': 'there are 4 lines in total', '_i45': 'f.readline()', '_45': '', '_i46': 'f.seek(0)', '_46': 0, '_i47': 'f.readlines()', '_47': ['1st line changed\\n', '2nd line changed\\n', '3rd line\\n', 'there are 4 lines in total'], '_i48': 'f.close()', '_i49': 'with open(\"test.txt\", encoding = \\'utf-8\\') as f:\\n    f.read()', '_i50': 'f', '_50': <_io.TextIOWrapper name='test.txt' mode='r' encoding='utf-8'>, '_i51': 'with open(\"test.txt\", encoding = \\'utf-8\\') as f:\\n    print(f.read())', '_i52': 'import os', 'os': <module 'os' from 'C:\\\\ProgramData\\\\Anaconda3\\\\lib\\\\os.py'>, '_i53': \"os.rename('C:\\\\Users\\\\sshir\\\\Desktop\\\\deleted.txt', 'C:\\\\Users\\\\sshir\\\\Desktop\\\\new file.txt')\", '_i54': \"os.rename(r'C:\\\\Users\\\\sshir\\\\Desktop\\\\deleted.txt', r'C:\\\\Users\\\\sshir\\\\Desktop\\\\new file.txt')\", '_i55': \"os.remove(r'C:\\\\Users\\\\sshir\\\\Desktop\\\\new file.txt')\", '_i56': 'os.getcwd()', '_56': 'C:\\\\Users\\\\sshir', '_i57': \"os.chdir('r'C:\\\\Users\\\\sshir\\\\Desktop\\\\'')\", '_i58': \"os.chdir('r'C:\\\\Users\\\\sshir\\\\Desktop\\\\')\", '_i59': \"os.chdir(r'C:\\\\Users\\\\sshir\\\\Desktop\\\\')\", '_i60': \"os.chdir(r'C:\\\\Users\\\\sshir\\\\Desktop')\", '_i61': 'os.getcwd()', '_61': 'C:\\\\Users\\\\sshir\\\\Desktop', '_i62': 'os.listdir()', '_62': ['Book1.xlsx', 'desktop.ini', 'Michigan University - ML', 'Microsoft Teams.lnk', 'New folder', 'Removed Apps.html'], '_i63': \"for i in os.listdir():\\n    if 'xlsx' in i:\", '_i64': \"for i in os.listdir():\\n    if 'xlsx' in i:\\n        print(i)\", '_i65': 'import sys\\nlst = [\\'b\\', 0, 2]\\nfor i in lst:\\n    try:\\n        print(\"The entry is\", i)\\n        r = 1/int(i)\\n    except(ValueError):\\n        print(\"KInd Error\", sys.exc_info()[0])\\n    except(ZeroDivisionError):\\n        print(\"Kind Error\", sys.exc_info()[0])\\n    except:\\n        print(\"Some Other Error\")', 'sys': <module 'sys' (built-in)>, 'lst': ['b', 0, 2], 'r': 0.5, '_i66': 'import sys\\nlst = [\\'b\\', 0, 2]\\nfor i in lst:\\n    try:\\n        print(\"The entry is\", i)\\n        r = 1/int(i)\\n    except(ValueError):\\n        print(\"KInd Error\", sys.exc_info()[0])\\n    except(ZeroDivisionError):\\n        print(\"Kind Error\", sys.exc_info()[0])\\n    except:\\n        print(\"Some Other Error\")\\n\\nprint(\\'-----------\\')\\nprint(r)', '_i67': 'import sys\\nlst = [\\'b\\', 0, 2]\\nfor i in lst:\\n    try:\\n        print(\"The entry is\", i)\\n        r = 1/int(i)\\n    except(ValueError):\\n        print(\"Kind Error\", sys.exc_info()[0])\\n    except(ZeroDivisionError):\\n        print(\"Kind Error\", sys.exc_info()[0])\\n    except:\\n        print(\"Some Other Error\")\\n\\nprint(\\'-----------\\')\\nprint(r)', '_i68': 'print(g)', '_i69': 'print(1/0)', '_i70': \"int('f')\", '_i71': 'import sys\\nlst = [\\'b\\', 0, 2]\\nfor i in lst:\\n    try:\\n        print(\"The entry is\", i)\\n        r = 1/int(i)\\n    except(ValueError):\\n        print(\"Kind Error\", sys.exc_info()[0])\\n        print(\"unable to convert the string into an integer\")\\n    except(ZeroDivisionError):\\n        print(\"Kind Error\", sys.exc_info()[0])\\n        print(\"Python cannot divide by 0\")\\n    except:\\n        print(\"Some Other Error\")\\n\\nprint(\\'-----------\\')\\nprint(r)', '_i72': 'import sys\\nlst = [\\'b\\', 0, 2]\\nfor i in lst:\\n    try:\\n        print(\"The entry is\", i)\\n        r = 1/int(i)\\n    except(ValueError):\\n        print(\"Kind Error\", sys.exc_info()[0])\\n        print(\"unable to convert the string into an integer\")\\n        print()\\n    except(ZeroDivisionError):\\n        print(\"Kind Error\", sys.exc_info()[0])\\n        print(\"Python cannot divide by 0\")\\n        print()\\n    except:\\n        print(\"Some Other Error\")\\n\\nprint(\\'-----------\\')\\nprint(r)', '_i73': '# debugging', '_i74': 'import pdb', 'pdb': <module 'pdb' from 'C:\\\\ProgramData\\\\Anaconda3\\\\lib\\\\pdb.py'>, '_i75': 'def seq(n):\\n    for i in range(n):\\n        pdb.set_trace()\\n        print(i)\\n\\nseq(5)', 'seq': <function seq at 0x0000019801BED0D0>, '_i76': 'def seq(n):\\n    for i in range(n):\\n        pdb.set_trace()\\n        print(i)\\n\\nseq(5)'}\n"
     ]
    },
    {
     "name": "stdout",
     "output_type": "stream",
     "text": [
      "ipdb> q\n"
     ]
    },
    {
     "ename": "BdbQuit",
     "evalue": "",
     "output_type": "error",
     "traceback": [
      "\u001b[1;31m---------------------------------------------------------------------------\u001b[0m",
      "\u001b[1;31mBdbQuit\u001b[0m                                   Traceback (most recent call last)",
      "\u001b[1;32m<ipython-input-76-e86d5e148a59>\u001b[0m in \u001b[0;36m<module>\u001b[1;34m\u001b[0m\n\u001b[0;32m      4\u001b[0m         \u001b[0mprint\u001b[0m\u001b[1;33m(\u001b[0m\u001b[0mi\u001b[0m\u001b[1;33m)\u001b[0m\u001b[1;33m\u001b[0m\u001b[1;33m\u001b[0m\u001b[0m\n\u001b[0;32m      5\u001b[0m \u001b[1;33m\u001b[0m\u001b[0m\n\u001b[1;32m----> 6\u001b[1;33m \u001b[0mseq\u001b[0m\u001b[1;33m(\u001b[0m\u001b[1;36m5\u001b[0m\u001b[1;33m)\u001b[0m\u001b[1;33m\u001b[0m\u001b[1;33m\u001b[0m\u001b[0m\n\u001b[0m",
      "\u001b[1;32m<ipython-input-76-e86d5e148a59>\u001b[0m in \u001b[0;36mseq\u001b[1;34m(n)\u001b[0m\n\u001b[0;32m      2\u001b[0m     \u001b[1;32mfor\u001b[0m \u001b[0mi\u001b[0m \u001b[1;32min\u001b[0m \u001b[0mrange\u001b[0m\u001b[1;33m(\u001b[0m\u001b[0mn\u001b[0m\u001b[1;33m)\u001b[0m\u001b[1;33m:\u001b[0m\u001b[1;33m\u001b[0m\u001b[1;33m\u001b[0m\u001b[0m\n\u001b[0;32m      3\u001b[0m         \u001b[0mpdb\u001b[0m\u001b[1;33m.\u001b[0m\u001b[0mset_trace\u001b[0m\u001b[1;33m(\u001b[0m\u001b[1;33m)\u001b[0m\u001b[1;33m\u001b[0m\u001b[1;33m\u001b[0m\u001b[0m\n\u001b[1;32m----> 4\u001b[1;33m         \u001b[0mprint\u001b[0m\u001b[1;33m(\u001b[0m\u001b[0mi\u001b[0m\u001b[1;33m)\u001b[0m\u001b[1;33m\u001b[0m\u001b[1;33m\u001b[0m\u001b[0m\n\u001b[0m\u001b[0;32m      5\u001b[0m \u001b[1;33m\u001b[0m\u001b[0m\n\u001b[0;32m      6\u001b[0m \u001b[0mseq\u001b[0m\u001b[1;33m(\u001b[0m\u001b[1;36m5\u001b[0m\u001b[1;33m)\u001b[0m\u001b[1;33m\u001b[0m\u001b[1;33m\u001b[0m\u001b[0m\n",
      "\u001b[1;32m<ipython-input-76-e86d5e148a59>\u001b[0m in \u001b[0;36mseq\u001b[1;34m(n)\u001b[0m\n\u001b[0;32m      2\u001b[0m     \u001b[1;32mfor\u001b[0m \u001b[0mi\u001b[0m \u001b[1;32min\u001b[0m \u001b[0mrange\u001b[0m\u001b[1;33m(\u001b[0m\u001b[0mn\u001b[0m\u001b[1;33m)\u001b[0m\u001b[1;33m:\u001b[0m\u001b[1;33m\u001b[0m\u001b[1;33m\u001b[0m\u001b[0m\n\u001b[0;32m      3\u001b[0m         \u001b[0mpdb\u001b[0m\u001b[1;33m.\u001b[0m\u001b[0mset_trace\u001b[0m\u001b[1;33m(\u001b[0m\u001b[1;33m)\u001b[0m\u001b[1;33m\u001b[0m\u001b[1;33m\u001b[0m\u001b[0m\n\u001b[1;32m----> 4\u001b[1;33m         \u001b[0mprint\u001b[0m\u001b[1;33m(\u001b[0m\u001b[0mi\u001b[0m\u001b[1;33m)\u001b[0m\u001b[1;33m\u001b[0m\u001b[1;33m\u001b[0m\u001b[0m\n\u001b[0m\u001b[0;32m      5\u001b[0m \u001b[1;33m\u001b[0m\u001b[0m\n\u001b[0;32m      6\u001b[0m \u001b[0mseq\u001b[0m\u001b[1;33m(\u001b[0m\u001b[1;36m5\u001b[0m\u001b[1;33m)\u001b[0m\u001b[1;33m\u001b[0m\u001b[1;33m\u001b[0m\u001b[0m\n",
      "\u001b[1;32mC:\\ProgramData\\Anaconda3\\lib\\bdb.py\u001b[0m in \u001b[0;36mtrace_dispatch\u001b[1;34m(self, frame, event, arg)\u001b[0m\n\u001b[0;32m     86\u001b[0m             \u001b[1;32mreturn\u001b[0m \u001b[1;31m# None\u001b[0m\u001b[1;33m\u001b[0m\u001b[1;33m\u001b[0m\u001b[0m\n\u001b[0;32m     87\u001b[0m         \u001b[1;32mif\u001b[0m \u001b[0mevent\u001b[0m \u001b[1;33m==\u001b[0m \u001b[1;34m'line'\u001b[0m\u001b[1;33m:\u001b[0m\u001b[1;33m\u001b[0m\u001b[1;33m\u001b[0m\u001b[0m\n\u001b[1;32m---> 88\u001b[1;33m             \u001b[1;32mreturn\u001b[0m \u001b[0mself\u001b[0m\u001b[1;33m.\u001b[0m\u001b[0mdispatch_line\u001b[0m\u001b[1;33m(\u001b[0m\u001b[0mframe\u001b[0m\u001b[1;33m)\u001b[0m\u001b[1;33m\u001b[0m\u001b[1;33m\u001b[0m\u001b[0m\n\u001b[0m\u001b[0;32m     89\u001b[0m         \u001b[1;32mif\u001b[0m \u001b[0mevent\u001b[0m \u001b[1;33m==\u001b[0m \u001b[1;34m'call'\u001b[0m\u001b[1;33m:\u001b[0m\u001b[1;33m\u001b[0m\u001b[1;33m\u001b[0m\u001b[0m\n\u001b[0;32m     90\u001b[0m             \u001b[1;32mreturn\u001b[0m \u001b[0mself\u001b[0m\u001b[1;33m.\u001b[0m\u001b[0mdispatch_call\u001b[0m\u001b[1;33m(\u001b[0m\u001b[0mframe\u001b[0m\u001b[1;33m,\u001b[0m \u001b[0marg\u001b[0m\u001b[1;33m)\u001b[0m\u001b[1;33m\u001b[0m\u001b[1;33m\u001b[0m\u001b[0m\n",
      "\u001b[1;32mC:\\ProgramData\\Anaconda3\\lib\\bdb.py\u001b[0m in \u001b[0;36mdispatch_line\u001b[1;34m(self, frame)\u001b[0m\n\u001b[0;32m    111\u001b[0m         \u001b[1;32mif\u001b[0m \u001b[0mself\u001b[0m\u001b[1;33m.\u001b[0m\u001b[0mstop_here\u001b[0m\u001b[1;33m(\u001b[0m\u001b[0mframe\u001b[0m\u001b[1;33m)\u001b[0m \u001b[1;32mor\u001b[0m \u001b[0mself\u001b[0m\u001b[1;33m.\u001b[0m\u001b[0mbreak_here\u001b[0m\u001b[1;33m(\u001b[0m\u001b[0mframe\u001b[0m\u001b[1;33m)\u001b[0m\u001b[1;33m:\u001b[0m\u001b[1;33m\u001b[0m\u001b[1;33m\u001b[0m\u001b[0m\n\u001b[0;32m    112\u001b[0m             \u001b[0mself\u001b[0m\u001b[1;33m.\u001b[0m\u001b[0muser_line\u001b[0m\u001b[1;33m(\u001b[0m\u001b[0mframe\u001b[0m\u001b[1;33m)\u001b[0m\u001b[1;33m\u001b[0m\u001b[1;33m\u001b[0m\u001b[0m\n\u001b[1;32m--> 113\u001b[1;33m             \u001b[1;32mif\u001b[0m \u001b[0mself\u001b[0m\u001b[1;33m.\u001b[0m\u001b[0mquitting\u001b[0m\u001b[1;33m:\u001b[0m \u001b[1;32mraise\u001b[0m \u001b[0mBdbQuit\u001b[0m\u001b[1;33m\u001b[0m\u001b[1;33m\u001b[0m\u001b[0m\n\u001b[0m\u001b[0;32m    114\u001b[0m         \u001b[1;32mreturn\u001b[0m \u001b[0mself\u001b[0m\u001b[1;33m.\u001b[0m\u001b[0mtrace_dispatch\u001b[0m\u001b[1;33m\u001b[0m\u001b[1;33m\u001b[0m\u001b[0m\n\u001b[0;32m    115\u001b[0m \u001b[1;33m\u001b[0m\u001b[0m\n",
      "\u001b[1;31mBdbQuit\u001b[0m: "
     ]
    }
   ],
   "source": [
    "def seq(n):\n",
    "    for i in range(n):\n",
    "        pdb.set_trace()\n",
    "        print(i)\n",
    "\n",
    "seq(5)"
   ]
  },
  {
   "cell_type": "code",
   "execution_count": 78,
   "metadata": {},
   "outputs": [],
   "source": [
    "# c - continue\n",
    "# q - quite the debugger\n",
    "# h - help\n",
    "# list - lists the place where your code is\n",
    "# p <var_name> = prints the valueof the variable\n",
    "# p loals() - returns a dictionary of all local variables with var name as key and its value as value\n",
    "# p globals() - returns a dictionary of all global variables"
   ]
  },
  {
   "cell_type": "code",
   "execution_count": null,
   "metadata": {},
   "outputs": [],
   "source": []
  }
 ],
 "metadata": {
  "kernelspec": {
   "display_name": "Python 3",
   "language": "python",
   "name": "python3"
  },
  "language_info": {
   "codemirror_mode": {
    "name": "ipython",
    "version": 3
   },
   "file_extension": ".py",
   "mimetype": "text/x-python",
   "name": "python",
   "nbconvert_exporter": "python",
   "pygments_lexer": "ipython3",
   "version": "3.8.5"
  }
 },
 "nbformat": 4,
 "nbformat_minor": 4
}
