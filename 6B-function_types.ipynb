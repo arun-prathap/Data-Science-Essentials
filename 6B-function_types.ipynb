{
  "nbformat": 4,
  "nbformat_minor": 0,
  "metadata": {
    "colab": {
      "name": "function_types.ipynb",
      "provenance": []
    },
    "kernelspec": {
      "display_name": "Python 3",
      "language": "python",
      "name": "python3"
    }
  },
  "cells": [
    {
      "cell_type": "markdown",
      "metadata": {
        "id": "RqxIugMnDy18"
      },
      "source": [
        "# Types Of Functions"
      ]
    },
    {
      "cell_type": "markdown",
      "metadata": {
        "id": "MeGY4QcFDy2B"
      },
      "source": [
        "1. Built-in Functions\n",
        "\n",
        "2. User-defined Functions"
      ]
    },
    {
      "cell_type": "markdown",
      "metadata": {
        "id": "ilt0Wb4sDy2E"
      },
      "source": [
        "# Built-in Functions"
      ]
    },
    {
      "cell_type": "markdown",
      "metadata": {
        "id": "ubtJWhwrDy2F"
      },
      "source": [
        "# 1. abs()"
      ]
    },
    {
      "cell_type": "code",
      "metadata": {
        "id": "cs7rqfNGDy2H",
        "colab": {
          "base_uri": "https://localhost:8080/"
        },
        "outputId": "cc0f1c28-f3be-4469-eeb3-53ed29330115"
      },
      "source": [
        "# find the absolute value\n",
        "\n",
        "num = -100.00\n",
        "\n",
        "print(abs(num))\n"
      ],
      "execution_count": 4,
      "outputs": [
        {
          "output_type": "stream",
          "name": "stdout",
          "text": [
            "100.0\n"
          ]
        }
      ]
    },
    {
      "cell_type": "markdown",
      "metadata": {
        "id": "Ao4an2SJDy2V"
      },
      "source": [
        "# 2. all()"
      ]
    },
    {
      "cell_type": "markdown",
      "metadata": {
        "id": "s7KNa-qjDy2X"
      },
      "source": [
        "#return value of all() function\n",
        "\n",
        "True: if all elements in an iterable are true\n",
        "\n",
        "False: if any element in an iterable is false"
      ]
    },
    {
      "cell_type": "code",
      "metadata": {
        "id": "BUYpaNxDDy2Z",
        "colab": {
          "base_uri": "https://localhost:8080/"
        },
        "outputId": "30482bd5-cff1-4d31-aa79-241c5c59a156"
      },
      "source": [
        "lst = [1, 2, 3, 4]\n",
        "print(all(lst)) \n"
      ],
      "execution_count": 5,
      "outputs": [
        {
          "output_type": "stream",
          "name": "stdout",
          "text": [
            "True\n"
          ]
        }
      ]
    },
    {
      "cell_type": "code",
      "metadata": {
        "id": "PMh2XjhmDy2g",
        "colab": {
          "base_uri": "https://localhost:8080/"
        },
        "outputId": "69bc46d6-81b7-4928-e517-7dae7b4919cf"
      },
      "source": [
        "lst = (None, 2, 3, 4)    # 0 present in list \n",
        "print(all(lst))\n"
      ],
      "execution_count": 7,
      "outputs": [
        {
          "output_type": "stream",
          "name": "stdout",
          "text": [
            "False\n"
          ]
        }
      ]
    },
    {
      "cell_type": "code",
      "metadata": {
        "id": "A1612gmHDy2n",
        "colab": {
          "base_uri": "https://localhost:8080/"
        },
        "outputId": "bef7b8db-41e7-4170-c217-adecc4a38ef8"
      },
      "source": [
        "lst = []             #empty list always true\n",
        "print(all(lst))"
      ],
      "execution_count": 20,
      "outputs": [
        {
          "output_type": "stream",
          "name": "stdout",
          "text": [
            "True\n"
          ]
        }
      ]
    },
    {
      "cell_type": "code",
      "metadata": {
        "id": "EFwmHv_kDy2v",
        "colab": {
          "base_uri": "https://localhost:8080/"
        },
        "outputId": "933bad17-b18c-439a-d62f-8004cb631781"
      },
      "source": [
        "lst = [False, 1, 2]   #False present in a list so all(lst) is False\n",
        "print(all(lst))\n"
      ],
      "execution_count": 9,
      "outputs": [
        {
          "output_type": "stream",
          "name": "stdout",
          "text": [
            "False\n"
          ]
        }
      ]
    },
    {
      "cell_type": "markdown",
      "metadata": {
        "id": "Vpyu5OLGDy2z"
      },
      "source": [
        "# dir()"
      ]
    },
    {
      "cell_type": "markdown",
      "metadata": {
        "id": "hKSi83LiDy20"
      },
      "source": [
        "The dir() tries to return a list of valid attributes of the object.\n",
        "\n",
        "If the object has __dir__() method, the method will be called and must return the list of attributes.\n"
      ]
    },
    {
      "cell_type": "code",
      "metadata": {
        "id": "x3-LaQj8Dy22",
        "colab": {
          "base_uri": "https://localhost:8080/"
        },
        "outputId": "1d3ca70a-b2bd-4979-e9c5-a3bb25dd97a3"
      },
      "source": [
        "numbers = [1, 2, 3]\n",
        "a = 5\n",
        "print(dir(numbers))\n",
        "print()\n",
        "print(dir(a))"
      ],
      "execution_count": 17,
      "outputs": [
        {
          "output_type": "stream",
          "name": "stdout",
          "text": [
            "['__add__', '__class__', '__contains__', '__delattr__', '__delitem__', '__dir__', '__doc__', '__eq__', '__format__', '__ge__', '__getattribute__', '__getitem__', '__gt__', '__hash__', '__iadd__', '__imul__', '__init__', '__init_subclass__', '__iter__', '__le__', '__len__', '__lt__', '__mul__', '__ne__', '__new__', '__reduce__', '__reduce_ex__', '__repr__', '__reversed__', '__rmul__', '__setattr__', '__setitem__', '__sizeof__', '__str__', '__subclasshook__', 'append', 'clear', 'copy', 'count', 'extend', 'index', 'insert', 'pop', 'remove', 'reverse', 'sort']\n",
            "\n",
            "['__abs__', '__add__', '__and__', '__bool__', '__ceil__', '__class__', '__delattr__', '__dir__', '__divmod__', '__doc__', '__eq__', '__float__', '__floor__', '__floordiv__', '__format__', '__ge__', '__getattribute__', '__getnewargs__', '__gt__', '__hash__', '__index__', '__init__', '__init_subclass__', '__int__', '__invert__', '__le__', '__lshift__', '__lt__', '__mod__', '__mul__', '__ne__', '__neg__', '__new__', '__or__', '__pos__', '__pow__', '__radd__', '__rand__', '__rdivmod__', '__reduce__', '__reduce_ex__', '__repr__', '__rfloordiv__', '__rlshift__', '__rmod__', '__rmul__', '__ror__', '__round__', '__rpow__', '__rrshift__', '__rshift__', '__rsub__', '__rtruediv__', '__rxor__', '__setattr__', '__sizeof__', '__str__', '__sub__', '__subclasshook__', '__truediv__', '__trunc__', '__xor__', 'bit_length', 'conjugate', 'denominator', 'from_bytes', 'imag', 'numerator', 'real', 'to_bytes']\n"
          ]
        }
      ]
    },
    {
      "cell_type": "markdown",
      "metadata": {
        "id": "qAkLDrzDDy27"
      },
      "source": [
        "# divmod()"
      ]
    },
    {
      "cell_type": "markdown",
      "metadata": {
        "id": "Z7PAJz9RDy28"
      },
      "source": [
        "The divmod() method takes two numbers and returns a pair of numbers (a tuple) consisting of their quotient and remainder."
      ]
    },
    {
      "cell_type": "code",
      "metadata": {
        "id": "6V3UUIj-Dy29",
        "colab": {
          "base_uri": "https://localhost:8080/"
        },
        "outputId": "6dc8c215-7368-4b47-b37b-620647dee5c7"
      },
      "source": [
        "print(divmod(15, 7)) #print quotient and remainder as a tuple\n",
        "\n",
        "#try with other number\n"
      ],
      "execution_count": 14,
      "outputs": [
        {
          "output_type": "stream",
          "name": "stdout",
          "text": [
            "(2, 1)\n"
          ]
        }
      ]
    },
    {
      "cell_type": "markdown",
      "metadata": {
        "id": "3XcOj4ahDy3A"
      },
      "source": [
        "# enumerate()"
      ]
    },
    {
      "cell_type": "markdown",
      "metadata": {
        "id": "sPGIxThfDy3C"
      },
      "source": [
        "The enumerate() function adds counter to an iterable and returns it "
      ]
    },
    {
      "cell_type": "markdown",
      "metadata": {
        "id": "PsPTJ9w3Dy3C"
      },
      "source": [
        "syntax: enumerate(iterable, start=0)"
      ]
    },
    {
      "cell_type": "code",
      "metadata": {
        "id": "LzYe1WyTDy3E",
        "colab": {
          "base_uri": "https://localhost:8080/"
        },
        "outputId": "dfca2b33-358c-46ad-daef-6640be250b3a"
      },
      "source": [
        "numbers = range(0,10)\n",
        "\n",
        "for index, num in enumerate(numbers, start=5): # start is an optinal argument\n",
        "    print(\"Index value is {} and element value is {}\".format(index, num))\n",
        "    "
      ],
      "execution_count": 28,
      "outputs": [
        {
          "output_type": "stream",
          "name": "stdout",
          "text": [
            "Index value is 5 and element value is 0\n",
            "Index value is 6 and element value is 1\n",
            "Index value is 7 and element value is 2\n",
            "Index value is 8 and element value is 3\n",
            "Index value is 9 and element value is 4\n",
            "Index value is 10 and element value is 5\n",
            "Index value is 11 and element value is 6\n",
            "Index value is 12 and element value is 7\n",
            "Index value is 13 and element value is 8\n",
            "Index value is 14 and element value is 9\n"
          ]
        }
      ]
    },
    {
      "cell_type": "markdown",
      "metadata": {
        "id": "Qv7BOrOjDy3I"
      },
      "source": [
        "# filter()"
      ]
    },
    {
      "cell_type": "markdown",
      "metadata": {
        "id": "K8_DVZ2uDy3J"
      },
      "source": [
        "The filter() method constructs an iterator from elements of an iterable for which a function returns true."
      ]
    },
    {
      "cell_type": "markdown",
      "metadata": {
        "id": "Xsq_-ITBDy3K"
      },
      "source": [
        "syntax: filter(function, iterable)"
      ]
    },
    {
      "cell_type": "code",
      "metadata": {
        "id": "-Nclc6WjDy3L"
      },
      "source": [
        "def find_positive_number(num):\n",
        "    \"\"\"\n",
        "    This function returns the positive number if num is positive\n",
        "    \"\"\"\n",
        "    if num > 0:\n",
        "        return num\n",
        "    "
      ],
      "execution_count": 30,
      "outputs": []
    },
    {
      "cell_type": "code",
      "metadata": {
        "id": "ef_Se6snDy3Q",
        "colab": {
          "base_uri": "https://localhost:8080/"
        },
        "outputId": "395f22cd-b92f-48a5-816f-7021c3b21d98"
      },
      "source": [
        "number_list = range(-10, 10) #create a list with numbers from -10 to 10\n",
        "print(list(number_list))\n",
        "\n",
        "positive_num_lst = list(filter(find_positive_number, number_list))\n",
        "\n",
        "print(positive_num_lst)\n"
      ],
      "execution_count": 34,
      "outputs": [
        {
          "output_type": "stream",
          "name": "stdout",
          "text": [
            "[-10, -9, -8, -7, -6, -5, -4, -3, -2, -1, 0, 1, 2, 3, 4, 5, 6, 7, 8, 9]\n",
            "[1, 2, 3, 4, 5, 6, 7, 8, 9]\n"
          ]
        }
      ]
    },
    {
      "cell_type": "markdown",
      "metadata": {
        "id": "i1jHDq_5Dy3Z"
      },
      "source": [
        "# isinstance()"
      ]
    },
    {
      "cell_type": "markdown",
      "metadata": {
        "id": "eSZpUEYnDy3b"
      },
      "source": [
        "The isinstance() function checks if the object (first argument) is an instance or subclass of classinfo class (second argument)."
      ]
    },
    {
      "cell_type": "markdown",
      "metadata": {
        "id": "JYB_W3vfDy3e"
      },
      "source": [
        "syntax: isinstance(object, classinfo)"
      ]
    },
    {
      "cell_type": "code",
      "metadata": {
        "id": "JMAYKKXZDy3f",
        "colab": {
          "base_uri": "https://localhost:8080/"
        },
        "outputId": "633ef8d6-e5b4-4857-d8a9-5bd9fcb94861"
      },
      "source": [
        "lst = [1, 2, 3, 4]\n",
        "print(isinstance(lst, list))\n",
        "\n",
        "#try with other datatypes tuple, set\n",
        "t = (1,2,3,4)\n",
        "print(isinstance(t, tuple))"
      ],
      "execution_count": 41,
      "outputs": [
        {
          "output_type": "stream",
          "name": "stdout",
          "text": [
            "True\n",
            "True\n"
          ]
        }
      ]
    },
    {
      "cell_type": "markdown",
      "metadata": {
        "id": "0SzHgv87Dy3k"
      },
      "source": [
        "# map()"
      ]
    },
    {
      "cell_type": "markdown",
      "metadata": {
        "id": "eAqVlxbtDy3m"
      },
      "source": [
        "Map applies a function to all the items in an input_list."
      ]
    },
    {
      "cell_type": "markdown",
      "metadata": {
        "id": "oHivUTbRDy3m"
      },
      "source": [
        "syntax: map(function_to_apply, list_of_inputs)"
      ]
    },
    {
      "cell_type": "code",
      "metadata": {
        "id": "YrzZKvFMDy3n",
        "colab": {
          "base_uri": "https://localhost:8080/"
        },
        "outputId": "84af0494-33b1-4a2a-913f-5fb6b3970663"
      },
      "source": [
        "numbers = [1, 2, 3, 4]\n",
        "\n",
        "#normal method of computing num^2 for each element in the list.\n",
        "squared = []\n",
        "for num in numbers:\n",
        "    squared.append(num ** 2)\n",
        "\n",
        "print(squared)\n",
        "\n",
        "squared_number = [i**2 for i in numbers]\n",
        "print(squared_number)"
      ],
      "execution_count": 36,
      "outputs": [
        {
          "output_type": "stream",
          "name": "stdout",
          "text": [
            "[1, 4, 9, 16]\n",
            "[1, 4, 9, 16]\n"
          ]
        }
      ]
    },
    {
      "cell_type": "code",
      "metadata": {
        "id": "SWKg9_nYDy3r",
        "colab": {
          "base_uri": "https://localhost:8080/"
        },
        "outputId": "492fbcbc-1834-48af-b229-099fe541bc0e"
      },
      "source": [
        "numbers = [1, 2, 3, 4]\n",
        "\n",
        "def powerOfTwo(num):\n",
        "    return num ** 2\n",
        "\n",
        "#using map() function\n",
        "squared = list(map(powerOfTwo, numbers))\n",
        "print(squared)\n",
        "\n",
        "squared_num_lambda = list(map(lambda x: x**2, numbers))\n",
        "print(squared_num_lambda)"
      ],
      "execution_count": 38,
      "outputs": [
        {
          "output_type": "stream",
          "name": "stdout",
          "text": [
            "[1, 4, 9, 16]\n",
            "[1, 4, 9, 16]\n"
          ]
        }
      ]
    },
    {
      "cell_type": "markdown",
      "metadata": {
        "id": "-ZZiI7m5Dy3t"
      },
      "source": [
        "# reduce()"
      ]
    },
    {
      "cell_type": "markdown",
      "metadata": {
        "id": "u_pxdMIcDy3v"
      },
      "source": [
        "reduce() function is for performing some computation on a list and returning the result. \n",
        "\n",
        "It applies a rolling computation to sequential pairs of values in a list. "
      ]
    },
    {
      "cell_type": "code",
      "metadata": {
        "id": "jqx-xAf7Dy3w",
        "colab": {
          "base_uri": "https://localhost:8080/"
        },
        "outputId": "a2937db2-9b94-45d1-dedb-952a8ba6598b"
      },
      "source": [
        "#product of elemnts in a list\n",
        "product = 1\n",
        "lst = [1, 2, 3, 4]\n",
        "\n",
        "# traditional program without reduce()\n",
        "for num in lst:\n",
        "    product *= num\n",
        "print(product)\n"
      ],
      "execution_count": 39,
      "outputs": [
        {
          "output_type": "stream",
          "name": "stdout",
          "text": [
            "24\n"
          ]
        }
      ]
    },
    {
      "cell_type": "code",
      "metadata": {
        "id": "c-_BNfapDy3y",
        "colab": {
          "base_uri": "https://localhost:8080/"
        },
        "outputId": "b3ef84d2-62e0-4ae5-9713-9073abc6af02"
      },
      "source": [
        "#with reduce()\n",
        "from functools import reduce # in Python 3.\n",
        "\n",
        "def multiply(x,y):\n",
        "    return x*y;\n",
        "\n",
        "product = reduce(multiply, lst)\n",
        "print(product)\n"
      ],
      "execution_count": 40,
      "outputs": [
        {
          "output_type": "stream",
          "name": "stdout",
          "text": [
            "24\n"
          ]
        }
      ]
    },
    {
      "cell_type": "markdown",
      "metadata": {
        "id": "PlBjfKeLDy33"
      },
      "source": [
        "# 2. User-defined Functions"
      ]
    },
    {
      "cell_type": "markdown",
      "metadata": {
        "id": "-jG1cIkIDy33"
      },
      "source": [
        "Functions that we define ourselves to do certain specific task are referred as user-defined functions"
      ]
    },
    {
      "cell_type": "markdown",
      "metadata": {
        "id": "U0R-nQZEDy35"
      },
      "source": [
        "If we use functions written by others in the form of library, it can be termed as library functions."
      ]
    },
    {
      "cell_type": "markdown",
      "metadata": {
        "id": "qnW4EEEaDy36"
      },
      "source": [
        "# Advantages"
      ]
    },
    {
      "cell_type": "markdown",
      "metadata": {
        "id": "BuTGBpe_Dy36"
      },
      "source": [
        "1. User-defined functions help to decompose a large program into small segments which makes program easy to understand, maintain and debug.\n",
        "\n",
        "2. If repeated code occurs in a program. Function can be used to include those codes and execute when needed by calling that function.\n",
        "\n",
        "3. Programmars working on large project can divide the workload by making different functions."
      ]
    },
    {
      "cell_type": "markdown",
      "metadata": {
        "id": "bchAt3KsDy37"
      },
      "source": [
        "# Example:"
      ]
    },
    {
      "cell_type": "code",
      "metadata": {
        "id": "Bl7T01heDy3-",
        "colab": {
          "base_uri": "https://localhost:8080/"
        },
        "outputId": "1dd48321-40fc-414b-8c3c-238c8373e14d"
      },
      "source": [
        "def product_numbers(a, b):\n",
        "    \"\"\"\n",
        "    this function returns the product of two numbers\n",
        "    \"\"\"\n",
        "    product = a * b\n",
        "    return product\n",
        "\n",
        "num1 = 10\n",
        "num2 = 20\n",
        "print(\"product of {0} and {1} is {2} \".format(num1, num2, product_numbers(num1, num2)))"
      ],
      "execution_count": 55,
      "outputs": [
        {
          "output_type": "stream",
          "name": "stdout",
          "text": [
            "product of 10 and 20 is 200 \n"
          ]
        }
      ]
    },
    {
      "cell_type": "markdown",
      "metadata": {
        "id": "3t1WqaakDy4B"
      },
      "source": [
        "# Python program to make a simple calculator that can add, subtract, multiply and division"
      ]
    },
    {
      "cell_type": "code",
      "metadata": {
        "id": "7VcPOrmLDy4E",
        "colab": {
          "base_uri": "https://localhost:8080/"
        },
        "outputId": "81e71f0a-4a7e-4c29-c3e1-e515ff21ab55"
      },
      "source": [
        "def add(a, b):\n",
        "    \"\"\"\n",
        "    This function adds two numbers\n",
        "    \"\"\"\n",
        "    return a + b\n",
        "\n",
        "def multiply(a, b):\n",
        "    \"\"\"\n",
        "    This function multiply two numbers\n",
        "    \"\"\"\n",
        "    return a * b\n",
        "\n",
        "def subtract(a, b):\n",
        "    \"\"\"\n",
        "    This function subtract two numbers\n",
        "    \"\"\"\n",
        "    return a - b\n",
        "\n",
        "def division(a, b):\n",
        "    \"\"\"\n",
        "    This function divides two numbers\n",
        "    \"\"\"\n",
        "    return a / b\n",
        "\n",
        "print(\"Select Option\")\n",
        "print(\"1. Addition\")\n",
        "print (\"2. Subtraction\")\n",
        "print (\"3. Multiplication\")\n",
        "print (\"4. Division\")\n",
        "\n",
        "#take input from user\n",
        "choice = int(input(\"Enter choice 1/2/3/4\"))\n",
        "\n",
        "num1 = float(input(\"Enter first number:\"))\n",
        "num2 = float(input(\"Enter second number:\"))\n",
        "if choice == 1:\n",
        "    print(\"Addition of {0} and {1} is {2}\".format(num1, num2, add(num1, num2)))\n",
        "elif choice == 2:\n",
        "    print(\"Subtraction of {0} and {1} is {2}\".format(num1, num2, subtract(num1, num2)))\n",
        "elif choice == 3:\n",
        "    print(\"Multiplication of {0} and {1} is {2}\".format(num1, num2, multiply(num1, num2)))\n",
        "elif choice == 4:\n",
        "    print(\"Division of {0} and {1} is {2}\".format(num1, num2, division(num1, num2)))\n",
        "else:\n",
        "    print(\"Invalid Choice\")"
      ],
      "execution_count": 56,
      "outputs": [
        {
          "output_type": "stream",
          "name": "stdout",
          "text": [
            "Select Option\n",
            "1. Addition\n",
            "2. Subtraction\n",
            "3. Multiplication\n",
            "4. Division\n",
            "Enter choice 1/2/3/43\n",
            "Enter first number:5\n",
            "Enter second number:6\n",
            "Multiplication of 5.0 and 6.0 is 30.0\n"
          ]
        }
      ]
    },
    {
      "cell_type": "code",
      "metadata": {
        "id": "5XOaplg_aPOf"
      },
      "source": [
        ""
      ],
      "execution_count": null,
      "outputs": []
    }
  ]
}