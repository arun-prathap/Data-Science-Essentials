{
 "cells": [
  {
   "cell_type": "code",
   "execution_count": 1,
   "metadata": {
    "id": "cHRKYVNYcdum"
   },
   "outputs": [],
   "source": [
    "## 25-Sep-2021 Dictionaries, Tuples, Sets, Loops, Comprehensions by Shirish Shankhdar\n",
    "## Offline Recording by Arun P R"
   ]
  },
  {
   "cell_type": "code",
   "execution_count": 2,
   "metadata": {
    "colab": {
     "base_uri": "https://localhost:8080/"
    },
    "id": "oEi4dGZiLmzg",
    "outputId": "56046670-ac2b-493d-dfcb-3c1b3ecb501f"
   },
   "outputs": [
    {
     "name": "stdout",
     "output_type": "stream",
     "text": [
      "{1: 'abc', 2: 'xyz'}\n"
     ]
    }
   ],
   "source": [
    "my_dict= {1:'abc', 2:'xyz'}\n",
    "print(my_dict)"
   ]
  },
  {
   "cell_type": "code",
   "execution_count": null,
   "metadata": {
    "id": "EIb7q-oEL9py"
   },
   "outputs": [],
   "source": [
    "#Keys have to unique\n",
    "#Keys are not mutable/immutable\n",
    "#dictionaries are mutable - you can add/delete elements from an existing dict"
   ]
  },
  {
   "cell_type": "code",
   "execution_count": 3,
   "metadata": {
    "colab": {
     "base_uri": "https://localhost:8080/"
    },
    "id": "Yw3zmLW_MMdc",
    "outputId": "2771abd8-4b68-4b9c-d536-4e8e80393926"
   },
   "outputs": [
    {
     "name": "stdout",
     "output_type": "stream",
     "text": [
      "{1: 'abc', 2: 'xyz'}\n"
     ]
    }
   ],
   "source": [
    "my_dict = dict([(1,'abc'),(2,'xyz')])\n",
    "print(my_dict)"
   ]
  },
  {
   "cell_type": "code",
   "execution_count": 6,
   "metadata": {
    "colab": {
     "base_uri": "https://localhost:8080/",
     "height": 35
    },
    "id": "_GLKBZA1MYNH",
    "outputId": "e6e586f3-bc73-4ef3-e8f9-70c0a20ec69a"
   },
   "outputs": [
    {
     "data": {
      "text/plain": [
       "'xyz'"
      ]
     },
     "execution_count": 6,
     "metadata": {},
     "output_type": "execute_result"
    }
   ],
   "source": [
    "my_dict[2]"
   ]
  },
  {
   "cell_type": "code",
   "execution_count": 10,
   "metadata": {
    "colab": {
     "base_uri": "https://localhost:8080/",
     "height": 35
    },
    "id": "oTun35wXMq7j",
    "outputId": "104ff53b-fb4e-4811-c4cc-b2e67a69fe44"
   },
   "outputs": [
    {
     "data": {
      "text/plain": [
       "'Not present in the dict'"
      ]
     },
     "execution_count": 10,
     "metadata": {},
     "output_type": "execute_result"
    }
   ],
   "source": [
    "my_dict.get(3,\"Not present in the dict\")"
   ]
  },
  {
   "cell_type": "code",
   "execution_count": 13,
   "metadata": {
    "colab": {
     "base_uri": "https://localhost:8080/"
    },
    "id": "2nZl2VmiMwlY",
    "outputId": "89d7ed70-3d33-4cb5-b6af-a284cfd3b07d"
   },
   "outputs": [
    {
     "name": "stdout",
     "output_type": "stream",
     "text": [
      "{1: 'abc', 2: 'xyz', 'name': 'Python'}\n"
     ]
    }
   ],
   "source": [
    "#add or modify\n",
    "my_dict['name'] = 'Python'\n",
    "print(my_dict)"
   ]
  },
  {
   "cell_type": "code",
   "execution_count": 14,
   "metadata": {
    "colab": {
     "base_uri": "https://localhost:8080/"
    },
    "id": "zwol1YyJNXZm",
    "outputId": "ae207a60-f1ac-4390-a0f8-4aa62421825b"
   },
   "outputs": [
    {
     "name": "stdout",
     "output_type": "stream",
     "text": [
      "{1: 'abc', 2: 'xyz', 'name': 'Shirish'}\n"
     ]
    }
   ],
   "source": [
    "my_dict['name'] = 'Shirish'\n",
    "print(my_dict)"
   ]
  },
  {
   "cell_type": "code",
   "execution_count": 15,
   "metadata": {
    "colab": {
     "base_uri": "https://localhost:8080/"
    },
    "id": "XPqfof59NeAF",
    "outputId": "e99d2d38-bb81-432f-878f-64356b1f978d"
   },
   "outputs": [
    {
     "name": "stdout",
     "output_type": "stream",
     "text": [
      "{1: 'abc', 2: 'xyz', 'name': 'Shirish', 'Class': 'MSc'}\n"
     ]
    }
   ],
   "source": [
    "my_dict['Class'] = 'MSc'\n",
    "print(my_dict)"
   ]
  },
  {
   "cell_type": "code",
   "execution_count": 16,
   "metadata": {
    "colab": {
     "base_uri": "https://localhost:8080/"
    },
    "id": "nPtTujbdNquC",
    "outputId": "42a898ed-75d7-4a84-89c9-4902d926afc5"
   },
   "outputs": [
    {
     "data": {
      "text/plain": [
       "4"
      ]
     },
     "execution_count": 16,
     "metadata": {},
     "output_type": "execute_result"
    }
   ],
   "source": [
    "len(my_dict)"
   ]
  },
  {
   "cell_type": "code",
   "execution_count": 18,
   "metadata": {
    "colab": {
     "base_uri": "https://localhost:8080/"
    },
    "id": "hFpCejuFNyk3",
    "outputId": "291f3b99-10e9-40bd-862a-ba9331f3ed23"
   },
   "outputs": [
    {
     "name": "stdout",
     "output_type": "stream",
     "text": [
      "dict_keys([1, 2, 'name', 'Class'])\n"
     ]
    }
   ],
   "source": [
    "print(my_dict.keys())"
   ]
  },
  {
   "cell_type": "code",
   "execution_count": 19,
   "metadata": {
    "colab": {
     "base_uri": "https://localhost:8080/"
    },
    "id": "0vfrmSeHOHFz",
    "outputId": "02fd808f-5fed-48bf-bad3-01bbc361d517"
   },
   "outputs": [
    {
     "name": "stdout",
     "output_type": "stream",
     "text": [
      "dict_values(['abc', 'xyz', 'Shirish', 'MSc'])\n"
     ]
    }
   ],
   "source": [
    "print(my_dict.values())"
   ]
  },
  {
   "cell_type": "code",
   "execution_count": 20,
   "metadata": {
    "colab": {
     "base_uri": "https://localhost:8080/"
    },
    "id": "X0KCYb-GOMVW",
    "outputId": "a144535e-5678-48c4-9262-567e1de7653b"
   },
   "outputs": [
    {
     "name": "stdout",
     "output_type": "stream",
     "text": [
      "dict_items([(1, 'abc'), (2, 'xyz'), ('name', 'Shirish'), ('Class', 'MSc')])\n"
     ]
    }
   ],
   "source": [
    "print(my_dict.items())"
   ]
  },
  {
   "cell_type": "code",
   "execution_count": 21,
   "metadata": {
    "colab": {
     "base_uri": "https://localhost:8080/"
    },
    "id": "3tE5hKAFOPiv",
    "outputId": "8bf1fde2-ddf9-4f08-8176-020623ce0bb1"
   },
   "outputs": [
    {
     "name": "stdout",
     "output_type": "stream",
     "text": [
      "{'Math': 0, 'English': 0, 'Hindi': 0}\n",
      "<class 'dict'>\n"
     ]
    }
   ],
   "source": [
    "subject = {}.fromkeys(['Math', 'English', 'Hindi'],0)\n",
    "print(subject)\n",
    "print(type(subject))"
   ]
  },
  {
   "cell_type": "code",
   "execution_count": 22,
   "metadata": {
    "colab": {
     "base_uri": "https://localhost:8080/"
    },
    "id": "aiLOKGMeOuak",
    "outputId": "76572a34-e9b1-47be-9868-b7956849a052"
   },
   "outputs": [
    {
     "data": {
      "text/plain": [
       "({1: 'abc', 2: 'xyz', 'name': 'Shirish', 'Class': 'MSc'},\n",
       " {'Math': 0, 'English': 0, 'Hindi': 0})"
      ]
     },
     "execution_count": 22,
     "metadata": {},
     "output_type": "execute_result"
    }
   ],
   "source": [
    "my_dict, subject"
   ]
  },
  {
   "cell_type": "code",
   "execution_count": 23,
   "metadata": {
    "id": "XQmmCTeMO9rB"
   },
   "outputs": [],
   "source": [
    "my_dict.update(subject)"
   ]
  },
  {
   "cell_type": "code",
   "execution_count": 24,
   "metadata": {
    "colab": {
     "base_uri": "https://localhost:8080/"
    },
    "id": "09Qn7hzQPDFB",
    "outputId": "93e63756-91c0-4cca-d322-202355198ed6"
   },
   "outputs": [
    {
     "name": "stdout",
     "output_type": "stream",
     "text": [
      "{1: 'abc', 2: 'xyz', 'name': 'Shirish', 'Class': 'MSc', 'Math': 0, 'English': 0, 'Hindi': 0}\n"
     ]
    }
   ],
   "source": [
    "print(my_dict)"
   ]
  },
  {
   "cell_type": "code",
   "execution_count": 25,
   "metadata": {},
   "outputs": [],
   "source": [
    "# Sort and Sorted"
   ]
  },
  {
   "cell_type": "code",
   "execution_count": 26,
   "metadata": {
    "id": "2VjCirrFPGqM"
   },
   "outputs": [],
   "source": [
    "list1 = [3,4,78,12,15]\n",
    "list2 = [3,4,78,12,15]"
   ]
  },
  {
   "cell_type": "code",
   "execution_count": 27,
   "metadata": {
    "id": "krDD9wP6PRf4"
   },
   "outputs": [],
   "source": [
    "list1.sort(reverse=True)"
   ]
  },
  {
   "cell_type": "code",
   "execution_count": 28,
   "metadata": {
    "colab": {
     "base_uri": "https://localhost:8080/"
    },
    "id": "e3ESn76HPW5e",
    "outputId": "6858a550-1183-4ca2-c69a-8ef179472e3e"
   },
   "outputs": [
    {
     "data": {
      "text/plain": [
       "[78, 15, 12, 4, 3]"
      ]
     },
     "execution_count": 28,
     "metadata": {},
     "output_type": "execute_result"
    }
   ],
   "source": [
    "list1"
   ]
  },
  {
   "cell_type": "code",
   "execution_count": 34,
   "metadata": {
    "id": "iSHqjXurPYiO"
   },
   "outputs": [],
   "source": [
    "list3 = sorted(list2, reverse = True)"
   ]
  },
  {
   "cell_type": "code",
   "execution_count": 35,
   "metadata": {
    "colab": {
     "base_uri": "https://localhost:8080/"
    },
    "id": "GZ89yPF4Pfxr",
    "outputId": "5d972835-fefb-48c3-8288-ec847d11f112"
   },
   "outputs": [
    {
     "data": {
      "text/plain": [
       "[3, 4, 78, 12, 15]"
      ]
     },
     "execution_count": 35,
     "metadata": {},
     "output_type": "execute_result"
    }
   ],
   "source": [
    "list2"
   ]
  },
  {
   "cell_type": "code",
   "execution_count": 36,
   "metadata": {
    "colab": {
     "base_uri": "https://localhost:8080/"
    },
    "id": "J3K1eYLgPh1f",
    "outputId": "990b3d70-0ba8-4548-fcee-19767eb6f1aa"
   },
   "outputs": [
    {
     "data": {
      "text/plain": [
       "[78, 15, 12, 4, 3]"
      ]
     },
     "execution_count": 36,
     "metadata": {},
     "output_type": "execute_result"
    }
   ],
   "source": [
    "list3"
   ]
  },
  {
   "cell_type": "code",
   "execution_count": null,
   "metadata": {},
   "outputs": [],
   "source": [
    "# Tuples"
   ]
  },
  {
   "cell_type": "code",
   "execution_count": 45,
   "metadata": {
    "colab": {
     "base_uri": "https://localhost:8080/"
    },
    "id": "j7fvMpCzPpMV",
    "outputId": "b2b86d6d-1e86-40dc-e31b-b7e397e650c9"
   },
   "outputs": [
    {
     "name": "stdout",
     "output_type": "stream",
     "text": [
      "<class 'tuple'>\n",
      "1\n",
      "2\n",
      "3\n",
      "4\n",
      "5\n"
     ]
    }
   ],
   "source": [
    "a = (1,2,3,4,5)#packing\n",
    "print(type(a))\n",
    "for i in a:\n",
    "    print(i)"
   ]
  },
  {
   "cell_type": "code",
   "execution_count": 46,
   "metadata": {
    "id": "5VHEd4lTQJiy"
   },
   "outputs": [],
   "source": [
    "#unpacking\n",
    "b,c,d,e,f = a"
   ]
  },
  {
   "cell_type": "code",
   "execution_count": 47,
   "metadata": {
    "colab": {
     "base_uri": "https://localhost:8080/"
    },
    "id": "MbXJeFaSQTKY",
    "outputId": "17a7bd6e-0104-4f34-fbbb-65228bbeaa58"
   },
   "outputs": [
    {
     "data": {
      "text/plain": [
       "(1, 2, 3, 4, 5)"
      ]
     },
     "execution_count": 47,
     "metadata": {},
     "output_type": "execute_result"
    }
   ],
   "source": [
    "b,c,d,e,f"
   ]
  },
  {
   "cell_type": "code",
   "execution_count": 48,
   "metadata": {
    "colab": {
     "base_uri": "https://localhost:8080/"
    },
    "id": "awRaE_JAQdWk",
    "outputId": "b77d29c4-f04a-473b-cc49-04592c8809c9"
   },
   "outputs": [
    {
     "data": {
      "text/plain": [
       "tuple"
      ]
     },
     "execution_count": 48,
     "metadata": {},
     "output_type": "execute_result"
    }
   ],
   "source": [
    "tupl1 = 56,\n",
    "type(tupl1)"
   ]
  },
  {
   "cell_type": "code",
   "execution_count": 50,
   "metadata": {},
   "outputs": [
    {
     "name": "stdout",
     "output_type": "stream",
     "text": [
      "3\n"
     ]
    }
   ],
   "source": [
    "b = 3\n",
    "print(b)"
   ]
  },
  {
   "cell_type": "code",
   "execution_count": null,
   "metadata": {},
   "outputs": [],
   "source": [
    "# Sets"
   ]
  },
  {
   "cell_type": "code",
   "execution_count": 51,
   "metadata": {
    "colab": {
     "base_uri": "https://localhost:8080/"
    },
    "id": "ObPtjhvvRp_M",
    "outputId": "586f4ff6-4c16-4156-a593-00fb521fcec1"
   },
   "outputs": [
    {
     "name": "stdout",
     "output_type": "stream",
     "text": [
      "<class 'set'>\n"
     ]
    }
   ],
   "source": [
    "s = {1,2,3}\n",
    "print(type(s))"
   ]
  },
  {
   "cell_type": "code",
   "execution_count": 52,
   "metadata": {
    "colab": {
     "base_uri": "https://localhost:8080/"
    },
    "id": "mS8Qi9ibSOAt",
    "outputId": "89277e15-e15b-4054-946a-697bf5081dbf"
   },
   "outputs": [
    {
     "name": "stdout",
     "output_type": "stream",
     "text": [
      "{1, 2, 3, 4}\n"
     ]
    }
   ],
   "source": [
    "s = {1,1,1,1,1,1,2,2,2,2,2,3,3,3,4,4,4}\n",
    "print(s)"
   ]
  },
  {
   "cell_type": "code",
   "execution_count": 53,
   "metadata": {
    "colab": {
     "base_uri": "https://localhost:8080/"
    },
    "id": "Eyah9JAcSWd4",
    "outputId": "7081154b-998a-463d-a58a-72b02ea269d2"
   },
   "outputs": [
    {
     "name": "stdout",
     "output_type": "stream",
     "text": [
      "4\n",
      "{4, 5, 6, 7}\n"
     ]
    }
   ],
   "source": [
    "s1 = [5,6,7,4,4]\n",
    "s2 = set(s1)\n",
    "print(len(s2))\n",
    "print(s2)"
   ]
  },
  {
   "cell_type": "code",
   "execution_count": 54,
   "metadata": {
    "colab": {
     "base_uri": "https://localhost:8080/"
    },
    "id": "hQRljssOSfYM",
    "outputId": "375517ed-3d64-4bee-82ec-02a7fda685ef"
   },
   "outputs": [
    {
     "name": "stdout",
     "output_type": "stream",
     "text": [
      "{1, 2, 3, 4, 5}\n"
     ]
    }
   ],
   "source": [
    "s.add(5)\n",
    "print(s)"
   ]
  },
  {
   "cell_type": "code",
   "execution_count": 55,
   "metadata": {
    "colab": {
     "base_uri": "https://localhost:8080/"
    },
    "id": "2j5JanLFSuUv",
    "outputId": "bb09a8cc-892c-4da5-dc9c-bf1f7735d672"
   },
   "outputs": [
    {
     "name": "stdout",
     "output_type": "stream",
     "text": [
      "{1, 2, 3, 4, 5, 6, 7}\n"
     ]
    }
   ],
   "source": [
    "s.update(s1)\n",
    "print(s)"
   ]
  },
  {
   "cell_type": "code",
   "execution_count": 56,
   "metadata": {
    "id": "hbF5DB8oS2lq"
   },
   "outputs": [],
   "source": [
    "#remove elements\n",
    "s.discard(5)"
   ]
  },
  {
   "cell_type": "code",
   "execution_count": 57,
   "metadata": {
    "colab": {
     "base_uri": "https://localhost:8080/"
    },
    "id": "trHoCP6zTCfM",
    "outputId": "940acc2e-ab49-4b3c-f882-ac71e6f8282d"
   },
   "outputs": [
    {
     "data": {
      "text/plain": [
       "{1, 2, 3, 4, 6, 7}"
      ]
     },
     "execution_count": 57,
     "metadata": {},
     "output_type": "execute_result"
    }
   ],
   "source": [
    "s"
   ]
  },
  {
   "cell_type": "code",
   "execution_count": 59,
   "metadata": {
    "colab": {
     "base_uri": "https://localhost:8080/",
     "height": 162
    },
    "id": "XsesLT1TTF-E",
    "outputId": "dc5939db-258a-462b-ea74-ec7380444929"
   },
   "outputs": [],
   "source": [
    "s.remove(6)"
   ]
  },
  {
   "cell_type": "code",
   "execution_count": 60,
   "metadata": {},
   "outputs": [
    {
     "data": {
      "text/plain": [
       "{1, 2, 3, 4, 7}"
      ]
     },
     "execution_count": 60,
     "metadata": {},
     "output_type": "execute_result"
    }
   ],
   "source": [
    "s"
   ]
  },
  {
   "cell_type": "code",
   "execution_count": 61,
   "metadata": {
    "colab": {
     "base_uri": "https://localhost:8080/"
    },
    "id": "8gv_PlygTKm4",
    "outputId": "1dd55c94-23ae-45ad-e5ed-d0180fa925f1"
   },
   "outputs": [
    {
     "data": {
      "text/plain": [
       "1"
      ]
     },
     "execution_count": 61,
     "metadata": {},
     "output_type": "execute_result"
    }
   ],
   "source": [
    "s.pop()"
   ]
  },
  {
   "cell_type": "code",
   "execution_count": 62,
   "metadata": {
    "colab": {
     "base_uri": "https://localhost:8080/"
    },
    "id": "zKK6brqYTT-V",
    "outputId": "398614b9-d150-484e-cdb3-411bbb8f3bed"
   },
   "outputs": [
    {
     "name": "stdout",
     "output_type": "stream",
     "text": [
      "{2, 3, 4, 7}\n"
     ]
    }
   ],
   "source": [
    "print(s)"
   ]
  },
  {
   "cell_type": "code",
   "execution_count": 63,
   "metadata": {
    "colab": {
     "base_uri": "https://localhost:8080/"
    },
    "id": "TJDqx5kBTWxq",
    "outputId": "28f1c5e2-2265-4847-f341-fdbfb6f087b7"
   },
   "outputs": [
    {
     "data": {
      "text/plain": [
       "[5, 6, 7, 4, 4]"
      ]
     },
     "execution_count": 63,
     "metadata": {},
     "output_type": "execute_result"
    }
   ],
   "source": [
    "s1"
   ]
  },
  {
   "cell_type": "code",
   "execution_count": 64,
   "metadata": {
    "colab": {
     "base_uri": "https://localhost:8080/"
    },
    "id": "GXXnKJaWTeFp",
    "outputId": "925501bd-4473-4518-c715-c1fcb241c4be"
   },
   "outputs": [
    {
     "name": "stdout",
     "output_type": "stream",
     "text": [
      "15\n"
     ]
    }
   ],
   "source": [
    "t = list2.pop()\n",
    "print(t)"
   ]
  },
  {
   "cell_type": "code",
   "execution_count": 65,
   "metadata": {
    "colab": {
     "base_uri": "https://localhost:8080/"
    },
    "id": "wybP1GoZTf7G",
    "outputId": "6e5f6047-e318-46d9-d47c-439a508e7df3"
   },
   "outputs": [
    {
     "data": {
      "text/plain": [
       "[3, 4, 78, 12]"
      ]
     },
     "execution_count": 65,
     "metadata": {},
     "output_type": "execute_result"
    }
   ],
   "source": [
    "list2"
   ]
  },
  {
   "cell_type": "code",
   "execution_count": 66,
   "metadata": {
    "colab": {
     "base_uri": "https://localhost:8080/"
    },
    "id": "payRjc6tTqT3",
    "outputId": "e321c63c-4615-4f50-8b63-d36281e7decf"
   },
   "outputs": [
    {
     "name": "stdout",
     "output_type": "stream",
     "text": [
      "{1, 2, 3, 4, 5, 6, 7}\n",
      "{1, 2, 3, 4, 5, 6, 7}\n"
     ]
    }
   ],
   "source": [
    "set1 = {1,2,3,4,5}\n",
    "set2 = {3,4,5,6,7}\n",
    "#1 Union\n",
    "print(set1.union(set2))\n",
    "print(set1 | set2)"
   ]
  },
  {
   "cell_type": "code",
   "execution_count": 67,
   "metadata": {
    "colab": {
     "base_uri": "https://localhost:8080/"
    },
    "id": "AZDyLTiuUafs",
    "outputId": "870a7cc6-7b35-4fdf-f3b7-1951bb3c5432"
   },
   "outputs": [
    {
     "name": "stdout",
     "output_type": "stream",
     "text": [
      "{3, 4, 5}\n",
      "{3, 4, 5}\n"
     ]
    }
   ],
   "source": [
    "#intersection\n",
    "print(set1.intersection(set2))\n",
    "print(set1 & set2)"
   ]
  },
  {
   "cell_type": "code",
   "execution_count": 68,
   "metadata": {
    "id": "NXKg5qJbUnyE"
   },
   "outputs": [],
   "source": [
    "set1 = {1,2,3,4,5}\n",
    "set2 = {3,4,5,6,7}"
   ]
  },
  {
   "cell_type": "code",
   "execution_count": 69,
   "metadata": {
    "colab": {
     "base_uri": "https://localhost:8080/"
    },
    "id": "-itV9mOgUtYp",
    "outputId": "b74baa57-350c-4ea8-fe37-270c625613f6"
   },
   "outputs": [
    {
     "data": {
      "text/plain": [
       "{1, 2}"
      ]
     },
     "execution_count": 69,
     "metadata": {},
     "output_type": "execute_result"
    }
   ],
   "source": [
    "set1 - set2"
   ]
  },
  {
   "cell_type": "code",
   "execution_count": 70,
   "metadata": {
    "colab": {
     "base_uri": "https://localhost:8080/"
    },
    "id": "8ilcIimMUu_7",
    "outputId": "41a7ace4-318d-487e-a208-141e52af2e17"
   },
   "outputs": [
    {
     "data": {
      "text/plain": [
       "{6, 7}"
      ]
     },
     "execution_count": 70,
     "metadata": {},
     "output_type": "execute_result"
    }
   ],
   "source": [
    "set2 - set1"
   ]
  },
  {
   "cell_type": "code",
   "execution_count": 71,
   "metadata": {},
   "outputs": [
    {
     "data": {
      "text/plain": [
       "{1, 2, 6, 7}"
      ]
     },
     "execution_count": 71,
     "metadata": {},
     "output_type": "execute_result"
    }
   ],
   "source": [
    "set1 ^ set2"
   ]
  },
  {
   "cell_type": "code",
   "execution_count": 72,
   "metadata": {
    "colab": {
     "base_uri": "https://localhost:8080/"
    },
    "id": "5MKMwkKYUyiM",
    "outputId": "2ffc4063-58dc-492b-cbba-3cb8a6b5f2a2"
   },
   "outputs": [
    {
     "name": "stdout",
     "output_type": "stream",
     "text": [
      "False\n",
      "True\n"
     ]
    }
   ],
   "source": [
    "x = {'a', 'b', 'c','d','e'}\n",
    "y = {'c', 'd'}\n",
    "print(x.issubset(y))\n",
    "print(y.issubset(x))"
   ]
  },
  {
   "cell_type": "code",
   "execution_count": 73,
   "metadata": {
    "colab": {
     "base_uri": "https://localhost:8080/"
    },
    "id": "POlQodgzVCSm",
    "outputId": "e4907b6d-266f-4579-ac07-c32330ae16e1"
   },
   "outputs": [
    {
     "name": "stdout",
     "output_type": "stream",
     "text": [
      "[1, 2, 3, 4, 5]\n",
      "(1, 2, 3, 4, 5)\n"
     ]
    }
   ],
   "source": [
    "print(list(set1))\n",
    "print(tuple(set1))"
   ]
  },
  {
   "cell_type": "code",
   "execution_count": null,
   "metadata": {
    "id": "rciZ3lC4VPGX"
   },
   "outputs": [],
   "source": [
    "#loops - for loop, while loop(Interchangable)"
   ]
  },
  {
   "cell_type": "code",
   "execution_count": null,
   "metadata": {
    "id": "GhQ3nVEhVe-4"
   },
   "outputs": [],
   "source": [
    "#if-elif-else"
   ]
  },
  {
   "cell_type": "code",
   "execution_count": 74,
   "metadata": {
    "colab": {
     "base_uri": "https://localhost:8080/"
    },
    "id": "rWOb6K7SVlYG",
    "outputId": "84cef1c2-b3a1-4cf4-b996-fd628f417346"
   },
   "outputs": [
    {
     "name": "stdout",
     "output_type": "stream",
     "text": [
      "*\n",
      "**\n",
      "***\n",
      "****\n",
      "*****\n",
      "******\n",
      "*******\n",
      "********\n",
      "*********\n",
      "**********\n",
      "*********\n",
      "********\n",
      "*******\n",
      "******\n",
      "*****\n",
      "****\n",
      "***\n",
      "**\n",
      "*\n"
     ]
    }
   ],
   "source": [
    "#while\n",
    "counter = 1\n",
    "while counter < 10:\n",
    "  print('*' * counter)\n",
    "  counter +=  1\n",
    "\n",
    "while counter >0:\n",
    "  print('*' * counter)\n",
    "  counter -=  1\n"
   ]
  },
  {
   "cell_type": "code",
   "execution_count": 78,
   "metadata": {
    "colab": {
     "base_uri": "https://localhost:8080/"
    },
    "id": "MLtG_vmtV9sQ",
    "outputId": "cca6d31a-cceb-4475-f8c8-70a4e16d88a6"
   },
   "outputs": [
    {
     "name": "stdout",
     "output_type": "stream",
     "text": [
      "**\n",
      "Condition not satisfied\n"
     ]
    }
   ],
   "source": [
    "#while\n",
    "counter = 2\n",
    "while counter % 2 == 0:\n",
    "  print('*' * counter)\n",
    "  counter +=  1\n",
    "else:\n",
    "  print(\"Condition not satisfied\")"
   ]
  },
  {
   "cell_type": "code",
   "execution_count": 79,
   "metadata": {
    "colab": {
     "base_uri": "https://localhost:8080/"
    },
    "id": "ow2IC7IlV-Mz",
    "outputId": "f5287a4d-cf72-4c47-b1b0-db58a585dfe4"
   },
   "outputs": [
    {
     "name": "stdout",
     "output_type": "stream",
     "text": [
      "Enter the Password1\n",
      "Enter the Password45\n",
      "Enter the Password12345\n",
      "Correct Password, please proceed\n"
     ]
    }
   ],
   "source": [
    "password = 12345\n",
    "pass1 = int(input(\"Enter the Password\"))\n",
    "while pass1 != password:\n",
    "  pass1 = int(input(\"Enter the Password\"))\n",
    "else:\n",
    "  print('Correct Password, please proceed')"
   ]
  },
  {
   "cell_type": "code",
   "execution_count": 80,
   "metadata": {
    "colab": {
     "base_uri": "https://localhost:8080/"
    },
    "id": "_eibBxtEY8xO",
    "outputId": "600a4077-8731-43a6-c4de-96581c86fe72"
   },
   "outputs": [
    {
     "name": "stdout",
     "output_type": "stream",
     "text": [
      "[78, 15, 12, 4, 3]\n"
     ]
    }
   ],
   "source": [
    "#for loops\n",
    "print(list1)"
   ]
  },
  {
   "cell_type": "code",
   "execution_count": 81,
   "metadata": {
    "colab": {
     "base_uri": "https://localhost:8080/"
    },
    "id": "ErrXsKO4ZeOc",
    "outputId": "870317b6-feee-4219-a93e-d6a8c1d8cedf"
   },
   "outputs": [
    {
     "name": "stdout",
     "output_type": "stream",
     "text": [
      "78\n",
      "15\n",
      "12\n",
      "4\n",
      "3\n"
     ]
    }
   ],
   "source": [
    "for i in list1:\n",
    "  print(i)"
   ]
  },
  {
   "cell_type": "code",
   "execution_count": 82,
   "metadata": {
    "colab": {
     "base_uri": "https://localhost:8080/"
    },
    "id": "PpJrSlauZoL-",
    "outputId": "4b420d9a-7b77-4344-b59a-57adf6e570e3"
   },
   "outputs": [
    {
     "name": "stdout",
     "output_type": "stream",
     "text": [
      "78\n",
      "15\n",
      "12\n",
      "4\n",
      "3\n"
     ]
    }
   ],
   "source": [
    "u = 0\n",
    "while u < len(list1):\n",
    "  print(list1[u])\n",
    "  u += 1"
   ]
  },
  {
   "cell_type": "code",
   "execution_count": 83,
   "metadata": {
    "colab": {
     "base_uri": "https://localhost:8080/"
    },
    "id": "DaKIrpd-aOob",
    "outputId": "f3d591f0-8b23-40db-8e8d-78ed39dd19ef"
   },
   "outputs": [
    {
     "name": "stdout",
     "output_type": "stream",
     "text": [
      "78\n",
      "15\n",
      "12\n"
     ]
    }
   ],
   "source": [
    "for i in list1:\n",
    "  if i > 10:\n",
    "    print(i)"
   ]
  },
  {
   "cell_type": "code",
   "execution_count": 84,
   "metadata": {
    "colab": {
     "base_uri": "https://localhost:8080/"
    },
    "id": "RsM2nrlra5Nr",
    "outputId": "91808767-c9df-4ca6-c13a-0f7c84ad7754"
   },
   "outputs": [
    {
     "data": {
      "text/plain": [
       "list"
      ]
     },
     "execution_count": 84,
     "metadata": {},
     "output_type": "execute_result"
    }
   ],
   "source": [
    "# isinstance\n",
    "type(list2)"
   ]
  },
  {
   "cell_type": "code",
   "execution_count": 88,
   "metadata": {
    "colab": {
     "base_uri": "https://localhost:8080/"
    },
    "id": "1GDY90hcbL2y",
    "outputId": "1107c7f9-672f-48b1-d4f0-70c52aecfa1d"
   },
   "outputs": [
    {
     "name": "stdout",
     "output_type": "stream",
     "text": [
      "True\n"
     ]
    }
   ],
   "source": [
    "if isinstance(list2, list):\n",
    "  print(True)\n",
    "else:\n",
    "  print(False)"
   ]
  },
  {
   "cell_type": "code",
   "execution_count": 89,
   "metadata": {
    "colab": {
     "base_uri": "https://localhost:8080/"
    },
    "id": "oUPxBqfWbPru",
    "outputId": "4241970f-2c6b-422e-9b71-4cb64fc4e750"
   },
   "outputs": [
    {
     "data": {
      "text/plain": [
       "list"
      ]
     },
     "execution_count": 89,
     "metadata": {},
     "output_type": "execute_result"
    }
   ],
   "source": [
    "type(list2)"
   ]
  },
  {
   "cell_type": "code",
   "execution_count": 90,
   "metadata": {
    "colab": {
     "base_uri": "https://localhost:8080/"
    },
    "id": "tIWj7PgUbWHV",
    "outputId": "128117bf-1df2-4605-c893-7724b69b1d59"
   },
   "outputs": [
    {
     "data": {
      "text/plain": [
       "False"
      ]
     },
     "execution_count": 90,
     "metadata": {},
     "output_type": "execute_result"
    }
   ],
   "source": [
    "isinstance(list2, str)"
   ]
  },
  {
   "cell_type": "code",
   "execution_count": 92,
   "metadata": {
    "colab": {
     "base_uri": "https://localhost:8080/"
    },
    "id": "tc5fLLNubkvh",
    "outputId": "437b22b4-10b1-4db5-c78a-4682b6dfb15a"
   },
   "outputs": [
    {
     "name": "stdout",
     "output_type": "stream",
     "text": [
      "[78, 15, 12]\n"
     ]
    }
   ],
   "source": [
    "#list comprehensions\n",
    "items_greater_than_10 = [i for i in list1 if i > 10]\n",
    "print(items_greater_than_10)"
   ]
  },
  {
   "cell_type": "code",
   "execution_count": 93,
   "metadata": {
    "colab": {
     "base_uri": "https://localhost:8080/"
    },
    "id": "p0VcgzvBb19-",
    "outputId": "a6579a09-2086-4133-eeb2-0208c7b2ae67"
   },
   "outputs": [
    {
     "name": "stdout",
     "output_type": "stream",
     "text": [
      "[78, 15, 12]\n"
     ]
    }
   ],
   "source": [
    "items_greater_than_10 = []\n",
    "for i in list1:\n",
    "    if i > 10:\n",
    "        items_greater_than_10.append(i)\n",
    "print(items_greater_than_10)"
   ]
  },
  {
   "cell_type": "code",
   "execution_count": 94,
   "metadata": {
    "colab": {
     "base_uri": "https://localhost:8080/"
    },
    "id": "scN9DfAicL_b",
    "outputId": "780cd204-651a-4073-93c4-ada8de0e3432"
   },
   "outputs": [
    {
     "name": "stdout",
     "output_type": "stream",
     "text": [
      "[(0, 0), (2, 4), (4, 16), (6, 36), (8, 64), (10, 100), (12, 144), (14, 196), (16, 256), (18, 324), (20, 400), (22, 484), (24, 576), (26, 676), (28, 784), (30, 900), (32, 1024), (34, 1156), (36, 1296), (38, 1444), (40, 1600), (42, 1764), (44, 1936), (46, 2116), (48, 2304), (50, 2500), (52, 2704), (54, 2916), (56, 3136), (58, 3364), (60, 3600), (62, 3844), (64, 4096), (66, 4356), (68, 4624), (70, 4900), (72, 5184), (74, 5476), (76, 5776), (78, 6084), (80, 6400), (82, 6724), (84, 7056), (86, 7396), (88, 7744), (90, 8100), (92, 8464), (94, 8836), (96, 9216), (98, 9604), (100, 10000)]\n"
     ]
    }
   ],
   "source": [
    "even_numbers = [(i,i**2) for i in range(0,101) if i % 2 == 0]\n",
    "print(even_numbers)"
   ]
  },
  {
   "cell_type": "code",
   "execution_count": 95,
   "metadata": {
    "colab": {
     "base_uri": "https://localhost:8080/"
    },
    "id": "EEen1VX7dLQy",
    "outputId": "fc8812f2-93c5-49c6-abe2-bf9c822c2db7"
   },
   "outputs": [
    {
     "name": "stdout",
     "output_type": "stream",
     "text": [
      "(1, 'abc')\n",
      "(2, 'xyz')\n",
      "('name', 'Shirish')\n",
      "('Class', 'MSc')\n",
      "('Math', 0)\n",
      "('English', 0)\n",
      "('Hindi', 0)\n"
     ]
    }
   ],
   "source": [
    "for i in my_dict.items():\n",
    "    print(i)"
   ]
  },
  {
   "cell_type": "code",
   "execution_count": 97,
   "metadata": {
    "colab": {
     "base_uri": "https://localhost:8080/"
    },
    "id": "fK2wNaeodtuY",
    "outputId": "3d6eb650-1476-44df-bbda-c85458b1bbee"
   },
   "outputs": [
    {
     "name": "stdout",
     "output_type": "stream",
     "text": [
      "{1: 'abc', 2: 'xyz', 'name': 'Shirish', 'Class': 'MSc', 'Math': 0, 'English': 0, 'Hindi': 0}\n"
     ]
    }
   ],
   "source": [
    "print(my_dict)"
   ]
  },
  {
   "cell_type": "code",
   "execution_count": 96,
   "metadata": {
    "colab": {
     "base_uri": "https://localhost:8080/"
    },
    "id": "5g-bUWjqdyi8",
    "outputId": "31c1e84b-e9c2-42b0-8418-b0973f2cda11"
   },
   "outputs": [
    {
     "data": {
      "text/plain": [
       "dict_items([(1, 'abc'), (2, 'xyz'), ('name', 'Shirish'), ('Class', 'MSc'), ('Math', 0), ('English', 0), ('Hindi', 0)])"
      ]
     },
     "execution_count": 96,
     "metadata": {},
     "output_type": "execute_result"
    }
   ],
   "source": [
    "my_dict.items()"
   ]
  },
  {
   "cell_type": "code",
   "execution_count": 98,
   "metadata": {
    "colab": {
     "base_uri": "https://localhost:8080/"
    },
    "id": "xp1VVnKLd8I5",
    "outputId": "6551be9f-8014-486a-bbab-d0aa888e0bc2"
   },
   "outputs": [
    {
     "name": "stdout",
     "output_type": "stream",
     "text": [
      "1 abc\n",
      "2 xyz\n",
      "name Shirish\n",
      "Class MSc\n",
      "Math 0\n",
      "English 0\n",
      "Hindi 0\n"
     ]
    }
   ],
   "source": [
    "for i,j in my_dict.items():\n",
    "  print(i,j)"
   ]
  },
  {
   "cell_type": "code",
   "execution_count": 99,
   "metadata": {
    "colab": {
     "base_uri": "https://localhost:8080/"
    },
    "id": "vmD8uulfeQBa",
    "outputId": "3c7751b2-996c-4666-d281-59a8df6209f1"
   },
   "outputs": [
    {
     "name": "stdout",
     "output_type": "stream",
     "text": [
      "{('name', 'Shirish'), ('Class', 'MSc'), ('Math', 0), ('Hindi', 0), (1, 'abc'), ('English', 0), (2, 'xyz')}\n"
     ]
    }
   ],
   "source": [
    "#dictionary comprehensions\n",
    "new_dict = {(k,v) for k,v in my_dict.items()}\n",
    "print(new_dict)"
   ]
  },
  {
   "cell_type": "code",
   "execution_count": 100,
   "metadata": {
    "colab": {
     "base_uri": "https://localhost:8080/"
    },
    "id": "VOLUIUOIe7mp",
    "outputId": "cbfed9e9-e986-4dc5-d615-df6c1a7596d2"
   },
   "outputs": [
    {
     "name": "stdout",
     "output_type": "stream",
     "text": [
      "{'a': 1, 'b': 2, 'c': 3}\n"
     ]
    }
   ],
   "source": [
    "d = {'a':1, 'b':2, 'c':3}\n",
    "print(d)"
   ]
  },
  {
   "cell_type": "code",
   "execution_count": 101,
   "metadata": {
    "colab": {
     "base_uri": "https://localhost:8080/"
    },
    "id": "7yQRe3nXfqQn",
    "outputId": "a8d7769f-54e4-4292-cf17-90bdce9d8c2e"
   },
   "outputs": [
    {
     "name": "stdout",
     "output_type": "stream",
     "text": [
      "{'b': 2, 'c': 3}\n"
     ]
    }
   ],
   "source": [
    "new_dict_1 = {k:v for k,v in d.items() if v >=2}\n",
    "print(new_dict_1)"
   ]
  }
 ],
 "metadata": {
  "colab": {
   "name": "Python Data Structure - Shirish .ipynb",
   "provenance": []
  },
  "kernelspec": {
   "display_name": "Python 3",
   "language": "python",
   "name": "python3"
  },
  "language_info": {
   "codemirror_mode": {
    "name": "ipython",
    "version": 3
   },
   "file_extension": ".py",
   "mimetype": "text/x-python",
   "name": "python",
   "nbconvert_exporter": "python",
   "pygments_lexer": "ipython3",
   "version": "3.8.8"
  },
  "toc": {
   "base_numbering": 1,
   "nav_menu": {},
   "number_sections": true,
   "sideBar": true,
   "skip_h1_title": false,
   "title_cell": "Table of Contents",
   "title_sidebar": "Contents",
   "toc_cell": false,
   "toc_position": {},
   "toc_section_display": true,
   "toc_window_display": false
  },
  "varInspector": {
   "cols": {
    "lenName": 16,
    "lenType": 16,
    "lenVar": 40
   },
   "kernels_config": {
    "python": {
     "delete_cmd_postfix": "",
     "delete_cmd_prefix": "del ",
     "library": "var_list.py",
     "varRefreshCmd": "print(var_dic_list())"
    },
    "r": {
     "delete_cmd_postfix": ") ",
     "delete_cmd_prefix": "rm(",
     "library": "var_list.r",
     "varRefreshCmd": "cat(var_dic_list()) "
    }
   },
   "types_to_exclude": [
    "module",
    "function",
    "builtin_function_or_method",
    "instance",
    "_Feature"
   ],
   "window_display": false
  }
 },
 "nbformat": 4,
 "nbformat_minor": 1
}
