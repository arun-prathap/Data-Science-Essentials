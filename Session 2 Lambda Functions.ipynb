{
 "cells": [
  {
   "cell_type": "markdown",
   "id": "06826bf0",
   "metadata": {},
   "source": [
    "## Lambda Functions"
   ]
  },
  {
   "cell_type": "code",
   "execution_count": 1,
   "id": "cb35ad5c",
   "metadata": {},
   "outputs": [],
   "source": [
    "# Named Function\n",
    "\n",
    "def add(a,b):\n",
    "    return a + b"
   ]
  },
  {
   "cell_type": "code",
   "execution_count": 2,
   "id": "686c5c71",
   "metadata": {},
   "outputs": [],
   "source": [
    "x = 10\n",
    "y = 20\n",
    "z = add(x, y)"
   ]
  },
  {
   "cell_type": "code",
   "execution_count": 3,
   "id": "c37c7206",
   "metadata": {},
   "outputs": [
    {
     "name": "stdout",
     "output_type": "stream",
     "text": [
      "30\n"
     ]
    }
   ],
   "source": [
    "print(z)"
   ]
  },
  {
   "cell_type": "markdown",
   "id": "2a052219",
   "metadata": {},
   "source": [
    "### Convert a string to upper case"
   ]
  },
  {
   "cell_type": "code",
   "execution_count": 4,
   "id": "392e0b5d",
   "metadata": {},
   "outputs": [],
   "source": [
    "string1 ='abc'"
   ]
  },
  {
   "cell_type": "code",
   "execution_count": 5,
   "id": "c01a49bc",
   "metadata": {},
   "outputs": [],
   "source": [
    "string2 = string1.upper()"
   ]
  },
  {
   "cell_type": "code",
   "execution_count": 6,
   "id": "ce887d5f",
   "metadata": {},
   "outputs": [
    {
     "data": {
      "text/plain": [
       "'ABC'"
      ]
     },
     "execution_count": 6,
     "metadata": {},
     "output_type": "execute_result"
    }
   ],
   "source": [
    "string2"
   ]
  },
  {
   "cell_type": "markdown",
   "id": "96c50a30",
   "metadata": {},
   "source": [
    "### Convert contents of a list of strings to upper case"
   ]
  },
  {
   "cell_type": "code",
   "execution_count": 7,
   "id": "cf1f3b93",
   "metadata": {},
   "outputs": [],
   "source": [
    "list1 = ['a','b','c']"
   ]
  },
  {
   "cell_type": "markdown",
   "id": "a657e0ab",
   "metadata": {},
   "source": [
    "### Method 1: Least pythonic way"
   ]
  },
  {
   "cell_type": "code",
   "execution_count": 8,
   "id": "2e8a68d0",
   "metadata": {},
   "outputs": [
    {
     "data": {
      "text/plain": [
       "['A', 'B', 'C']"
      ]
     },
     "execution_count": 8,
     "metadata": {},
     "output_type": "execute_result"
    }
   ],
   "source": [
    "list2 = []\n",
    "for i in list1:\n",
    "    list2.append(i.upper())\n",
    "list2"
   ]
  },
  {
   "cell_type": "markdown",
   "id": "1e8c5716",
   "metadata": {},
   "source": [
    "### 2nd least pythonic way"
   ]
  },
  {
   "cell_type": "code",
   "execution_count": 9,
   "id": "31eb5899",
   "metadata": {},
   "outputs": [],
   "source": [
    "list3 = [i.upper() for i in list1]"
   ]
  },
  {
   "cell_type": "code",
   "execution_count": 10,
   "id": "19f7b313",
   "metadata": {},
   "outputs": [
    {
     "data": {
      "text/plain": [
       "['A', 'B', 'C']"
      ]
     },
     "execution_count": 10,
     "metadata": {},
     "output_type": "execute_result"
    }
   ],
   "source": [
    "list3"
   ]
  },
  {
   "cell_type": "markdown",
   "id": "93b2e4da",
   "metadata": {},
   "source": [
    "### MAP FUNCTION - Pythonic way"
   ]
  },
  {
   "cell_type": "code",
   "execution_count": 11,
   "id": "81685f6b",
   "metadata": {},
   "outputs": [],
   "source": [
    "def convert_to_upper(x):\n",
    "    return x.upper()"
   ]
  },
  {
   "cell_type": "code",
   "execution_count": 12,
   "id": "0885b2bb",
   "metadata": {},
   "outputs": [],
   "source": [
    "list4 = list(map(convert_to_upper, list1))"
   ]
  },
  {
   "cell_type": "code",
   "execution_count": 13,
   "id": "b1e3666c",
   "metadata": {},
   "outputs": [
    {
     "data": {
      "text/plain": [
       "['A', 'B', 'C']"
      ]
     },
     "execution_count": 13,
     "metadata": {},
     "output_type": "execute_result"
    }
   ],
   "source": [
    "list4"
   ]
  },
  {
   "cell_type": "markdown",
   "id": "468bfdab",
   "metadata": {},
   "source": [
    "### Lambda function with map : A more pythonic way"
   ]
  },
  {
   "cell_type": "code",
   "execution_count": 14,
   "id": "f48f5b11",
   "metadata": {},
   "outputs": [
    {
     "data": {
      "text/plain": [
       "['A', 'B', 'C']"
      ]
     },
     "execution_count": 14,
     "metadata": {},
     "output_type": "execute_result"
    }
   ],
   "source": [
    "list5 = list(map(lambda x : x.upper(), list1))\n",
    "list5"
   ]
  },
  {
   "cell_type": "markdown",
   "id": "2f3e2eab",
   "metadata": {},
   "source": [
    "## Powers of 2 using lambda function"
   ]
  },
  {
   "cell_type": "code",
   "execution_count": 15,
   "id": "9da20c80",
   "metadata": {},
   "outputs": [
    {
     "data": {
      "text/plain": [
       "[1, 4, 9, 16]"
      ]
     },
     "execution_count": 15,
     "metadata": {},
     "output_type": "execute_result"
    }
   ],
   "source": [
    "list6 = [1, 2, 3, 4]\n",
    "list7 = list(map(lambda x : x**2, list6))\n",
    "list7"
   ]
  },
  {
   "cell_type": "markdown",
   "id": "3cd05c18",
   "metadata": {},
   "source": [
    "## Named function and Lambda function with multiple arguments"
   ]
  },
  {
   "cell_type": "code",
   "execution_count": 16,
   "id": "edd534f7",
   "metadata": {},
   "outputs": [],
   "source": [
    "# Named Function\n",
    "\n",
    "def add(a, b, c):\n",
    "    return a + b + c"
   ]
  },
  {
   "cell_type": "code",
   "execution_count": 17,
   "id": "ac57f8ed",
   "metadata": {},
   "outputs": [
    {
     "data": {
      "text/plain": [
       "[7, 11, 17, 21]"
      ]
     },
     "execution_count": 17,
     "metadata": {},
     "output_type": "execute_result"
    }
   ],
   "source": [
    "list8 = [2,3,7,9]\n",
    "list11 = [4,6,7,8]\n",
    "list10 = []\n",
    "for x,y,z in zip(list6, list8, list11):\n",
    "    list10.append(add(x, y, z))\n",
    "list10"
   ]
  },
  {
   "cell_type": "code",
   "execution_count": 18,
   "id": "eca63839",
   "metadata": {},
   "outputs": [
    {
     "data": {
      "text/plain": [
       "[7, 11, 17, 21]"
      ]
     },
     "execution_count": 18,
     "metadata": {},
     "output_type": "execute_result"
    }
   ],
   "source": [
    "\n",
    "list9 = list(map(lambda x, y, z : x + y + z, list6, list8, list11))\n",
    "list9"
   ]
  }
 ],
 "metadata": {
  "kernelspec": {
   "display_name": "Python 3",
   "language": "python",
   "name": "python3"
  },
  "language_info": {
   "codemirror_mode": {
    "name": "ipython",
    "version": 3
   },
   "file_extension": ".py",
   "mimetype": "text/x-python",
   "name": "python",
   "nbconvert_exporter": "python",
   "pygments_lexer": "ipython3",
   "version": "3.8.8"
  },
  "varInspector": {
   "cols": {
    "lenName": 16,
    "lenType": 16,
    "lenVar": 40
   },
   "kernels_config": {
    "python": {
     "delete_cmd_postfix": "",
     "delete_cmd_prefix": "del ",
     "library": "var_list.py",
     "varRefreshCmd": "print(var_dic_list())"
    },
    "r": {
     "delete_cmd_postfix": ") ",
     "delete_cmd_prefix": "rm(",
     "library": "var_list.r",
     "varRefreshCmd": "cat(var_dic_list()) "
    }
   },
   "types_to_exclude": [
    "module",
    "function",
    "builtin_function_or_method",
    "instance",
    "_Feature"
   ],
   "window_display": false
  }
 },
 "nbformat": 4,
 "nbformat_minor": 5
}
