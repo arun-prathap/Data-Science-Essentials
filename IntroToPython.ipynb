{
 "cells": [
  {
   "cell_type": "markdown",
   "id": "36a0538d",
   "metadata": {},
   "source": [
    "# Introduction to Programming in Python"
   ]
  },
  {
   "cell_type": "markdown",
   "id": "65516bc2",
   "metadata": {},
   "source": [
    "## Why you need to program?"
   ]
  },
  {
   "cell_type": "markdown",
   "id": "a17e5735",
   "metadata": {},
   "source": [
    "### Types of Programming Languages\n",
    "\n",
    "Machine Language, Assembly Language\n",
    "\n",
    "Low level language, High Level Language\n",
    "\n",
    "Procedure oriented Language, Object Oriented Language, .....\n",
    "\n",
    "https://www.britannica.com/technology/computer-programming-language"
   ]
  },
  {
   "cell_type": "markdown",
   "id": "51fd5573",
   "metadata": {
    "heading_collapsed": true
   },
   "source": [
    "### Why Python?\n",
    "\n",
    "Beginner friendly\n",
    "\n",
    "Availability of large open source code base in the form of libraries for most data science tasks\n",
    "\n",
    "https://www.nextacademy.com/blog/python-101-easy-to-learn-beginners/"
   ]
  },
  {
   "cell_type": "markdown",
   "id": "00f9c0ea",
   "metadata": {},
   "source": [
    "## Setting up the Environment"
   ]
  },
  {
   "cell_type": "markdown",
   "id": "866b470b",
   "metadata": {},
   "source": [
    "### Installation of Virtualbox\n",
    "\n",
    "Required only if you dont want to install additional software in your native OS.\n",
    "\n",
    "Advantage is portability. Once you make a virtual hard disk image for your required environment with the softwares that you want, you can copy the VDI to any other PC and use it with virtualbox installed in that PC.\n",
    "\n",
    "VMWare is an alternative to Virtualbox.\n",
    "\n",
    "https://www.wikihow.com/Install-VirtualBox"
   ]
  },
  {
   "cell_type": "markdown",
   "id": "f0b5b524",
   "metadata": {},
   "source": [
    "### Installation of Anaconda\n",
    "\n",
    "Contains most packages and libraries for data science related tasks included in a readymade distribution that will work right out of the box.\n",
    "\n",
    "https://docs.anaconda.com/anaconda/install/index.html"
   ]
  },
  {
   "cell_type": "markdown",
   "id": "de233338",
   "metadata": {
    "ExecuteTime": {
     "end_time": "2021-09-04T07:33:26.319138Z",
     "start_time": "2021-09-04T07:33:26.314877Z"
    }
   },
   "source": [
    "## Python Basics"
   ]
  },
  {
   "cell_type": "markdown",
   "id": "a9d64da8",
   "metadata": {},
   "source": [
    "### Python Variables\n",
    "\n",
    "Variables in Python are dynamically typed, i.e. data types are assigned to a variable when you assign a value to it during run time. "
   ]
  },
  {
   "cell_type": "code",
   "execution_count": 1,
   "id": "0565fcd4",
   "metadata": {},
   "outputs": [],
   "source": [
    "x = 1\n",
    "y = 'a'\n",
    "z = True\n",
    "x = 'hello'"
   ]
  },
  {
   "cell_type": "markdown",
   "id": "36a1978a",
   "metadata": {},
   "source": [
    "As you can see in above example, x is assigned a numeric value 1 first and type of x is int. When x is assigned as \"hello\" its type is string."
   ]
  },
  {
   "cell_type": "markdown",
   "id": "619f9d95",
   "metadata": {},
   "source": [
    "### Data Types in Python"
   ]
  },
  {
   "cell_type": "markdown",
   "id": "0bcc8994",
   "metadata": {},
   "source": [
    "| Type | --- | --- |  ---  |\n",
    "| --- | --- | --- | --- |\n",
    "| Text Type | str | --- |  ---  |\n",
    "| Numeric Types | int | float | complex |\n",
    "| Sequence Types | list | tuple | range |\n",
    "| Mapping Type | dict | --- | --- |\n",
    "| Set Types | set | frozenset | --- |\n",
    "| Boolean Type | bool | --- | --- |\n",
    "| Binary Types | bytes | bytearray | memoryview |\n",
    "\n",
    "\n",
    "https://docs.python.org/3/library/stdtypes.html"
   ]
  },
  {
   "cell_type": "markdown",
   "id": "fbfa0d3d",
   "metadata": {},
   "source": [
    "#### Text Type"
   ]
  },
  {
   "cell_type": "code",
   "execution_count": 2,
   "id": "35780f63",
   "metadata": {},
   "outputs": [
    {
     "name": "stdout",
     "output_type": "stream",
     "text": [
      "<class 'str'>\n"
     ]
    }
   ],
   "source": [
    "print(type('a'))"
   ]
  },
  {
   "cell_type": "markdown",
   "id": "4aa1348a",
   "metadata": {},
   "source": [
    "#### Numeric Types"
   ]
  },
  {
   "cell_type": "code",
   "execution_count": 3,
   "id": "4bcc2ffe",
   "metadata": {},
   "outputs": [
    {
     "name": "stdout",
     "output_type": "stream",
     "text": [
      "<class 'int'>\n"
     ]
    }
   ],
   "source": [
    "print(type(1))"
   ]
  },
  {
   "cell_type": "code",
   "execution_count": 4,
   "id": "945117c7",
   "metadata": {},
   "outputs": [
    {
     "name": "stdout",
     "output_type": "stream",
     "text": [
      "<class 'float'>\n"
     ]
    }
   ],
   "source": [
    "print(type(1.1))"
   ]
  },
  {
   "cell_type": "code",
   "execution_count": 5,
   "id": "e784301c",
   "metadata": {},
   "outputs": [
    {
     "name": "stdout",
     "output_type": "stream",
     "text": [
      "<class 'complex'>\n"
     ]
    }
   ],
   "source": [
    "print(type(2+8j))"
   ]
  },
  {
   "cell_type": "markdown",
   "id": "8fef08f0",
   "metadata": {},
   "source": [
    "#### Sequence Types"
   ]
  },
  {
   "cell_type": "code",
   "execution_count": 6,
   "id": "6259d1e2",
   "metadata": {},
   "outputs": [
    {
     "name": "stdout",
     "output_type": "stream",
     "text": [
      "<class 'list'>\n"
     ]
    }
   ],
   "source": [
    "print(type([1,2.2,2+3j,'a']))"
   ]
  },
  {
   "cell_type": "code",
   "execution_count": 7,
   "id": "e388697b",
   "metadata": {},
   "outputs": [
    {
     "name": "stdout",
     "output_type": "stream",
     "text": [
      "<class 'tuple'>\n"
     ]
    }
   ],
   "source": [
    "print(type((1,1)))"
   ]
  },
  {
   "cell_type": "code",
   "execution_count": 8,
   "id": "c94f9d71",
   "metadata": {},
   "outputs": [
    {
     "name": "stdout",
     "output_type": "stream",
     "text": [
      "<class 'tuple'>\n"
     ]
    }
   ],
   "source": [
    "print(type((1,)))"
   ]
  },
  {
   "cell_type": "code",
   "execution_count": 9,
   "id": "ada30239",
   "metadata": {},
   "outputs": [
    {
     "name": "stdout",
     "output_type": "stream",
     "text": [
      "<class 'int'>\n"
     ]
    }
   ],
   "source": [
    "print(type((1)))"
   ]
  },
  {
   "cell_type": "code",
   "execution_count": 10,
   "id": "fe3cbe03",
   "metadata": {},
   "outputs": [
    {
     "name": "stdout",
     "output_type": "stream",
     "text": [
      "<class 'str'>\n"
     ]
    }
   ],
   "source": [
    "print(type(('a')))"
   ]
  },
  {
   "cell_type": "code",
   "execution_count": 11,
   "id": "7a47545d",
   "metadata": {},
   "outputs": [
    {
     "name": "stdout",
     "output_type": "stream",
     "text": [
      "<class 'range'>\n"
     ]
    }
   ],
   "source": [
    "print(type(range(1,5)))"
   ]
  },
  {
   "cell_type": "markdown",
   "id": "8ca68bff",
   "metadata": {},
   "source": [
    "#### Mapping Type"
   ]
  },
  {
   "cell_type": "code",
   "execution_count": 12,
   "id": "ce4dfbac",
   "metadata": {},
   "outputs": [
    {
     "name": "stdout",
     "output_type": "stream",
     "text": [
      "<class 'dict'>\n"
     ]
    }
   ],
   "source": [
    "print(type({1:2,3:4}))"
   ]
  },
  {
   "cell_type": "markdown",
   "id": "9dcad04d",
   "metadata": {},
   "source": [
    "#### Set Type"
   ]
  },
  {
   "cell_type": "code",
   "execution_count": 13,
   "id": "a9dadfec",
   "metadata": {},
   "outputs": [
    {
     "name": "stdout",
     "output_type": "stream",
     "text": [
      "<class 'set'>\n"
     ]
    }
   ],
   "source": [
    "print(type({1,2,3}))"
   ]
  },
  {
   "cell_type": "markdown",
   "id": "444eeaa6",
   "metadata": {},
   "source": [
    "#### Boolean Type"
   ]
  },
  {
   "cell_type": "code",
   "execution_count": 14,
   "id": "4f1e19c2",
   "metadata": {},
   "outputs": [
    {
     "name": "stdout",
     "output_type": "stream",
     "text": [
      "<class 'bool'>\n"
     ]
    }
   ],
   "source": [
    "print(type(True))"
   ]
  },
  {
   "cell_type": "markdown",
   "id": "b361ddb1",
   "metadata": {},
   "source": [
    "#### Binary Type"
   ]
  },
  {
   "cell_type": "code",
   "execution_count": 15,
   "id": "918aae62",
   "metadata": {},
   "outputs": [
    {
     "name": "stdout",
     "output_type": "stream",
     "text": [
      "<class 'bytes'>\n"
     ]
    }
   ],
   "source": [
    "print(type(b'a'))"
   ]
  },
  {
   "cell_type": "markdown",
   "id": "05d35174",
   "metadata": {},
   "source": [
    "### Python keywords"
   ]
  },
  {
   "cell_type": "code",
   "execution_count": 16,
   "id": "22428898",
   "metadata": {},
   "outputs": [
    {
     "name": "stdout",
     "output_type": "stream",
     "text": [
      "\n",
      "Here is a list of the Python keywords.  Enter any keyword to get more help.\n",
      "\n",
      "False               class               from                or\n",
      "None                continue            global              pass\n",
      "True                def                 if                  raise\n",
      "and                 del                 import              return\n",
      "as                  elif                in                  try\n",
      "assert              else                is                  while\n",
      "async               except              lambda              with\n",
      "await               finally             nonlocal            yield\n",
      "break               for                 not                 \n",
      "\n"
     ]
    }
   ],
   "source": [
    "help(\"keywords\")"
   ]
  },
  {
   "cell_type": "markdown",
   "id": "4e8140b8",
   "metadata": {},
   "source": [
    "| Keywords Type | --- | --- |  ---  | --- | --- | --- |\n",
    "| --- | --- | --- | --- | --- | --- | --- |\n",
    "| Value Keywords | True | False |  None  | --- | --- | --- |\n",
    "| Operator Keywords | and | or | not | in | is | --- |\n",
    "| Control flow Keywords | if | elif | else | --- | --- | --- |\n",
    "| Iteration Keywords | for | while | break | continue | else | --- |\n",
    "| Structure Keywords | def | class | with | as | pass | lambda |\n",
    "| Returning Keywords | return | yield | --- | --- | --- | --- |\n",
    "| Import Keywords | import | from | as | --- | --- | --- |\n",
    "| Exception Handling Keywords | try | except | raise | finally | else | assert |\n",
    "| Asynchronous Programming Keywords | async | await | --- | --- | --- | --- |\n",
    "| Variable Handling Keywords | del | global | nonlocal | --- | --- | --- |\n",
    "\n",
    "https://realpython.com/python-keywords/"
   ]
  },
  {
   "cell_type": "markdown",
   "id": "76dc19f3",
   "metadata": {},
   "source": [
    "## A Simple Python Function"
   ]
  },
  {
   "cell_type": "code",
   "execution_count": 17,
   "id": "c86e31a8",
   "metadata": {
    "ExecuteTime": {
     "end_time": "2021-09-04T07:52:46.971197Z",
     "start_time": "2021-09-04T07:52:46.967139Z"
    }
   },
   "outputs": [],
   "source": [
    "def add(a,b):\n",
    "    return a+b"
   ]
  },
  {
   "cell_type": "markdown",
   "id": "39c4382b",
   "metadata": {},
   "source": [
    "### Testing the function\n",
    "\n",
    "Lets test our function to see what all data types are supported for this operation"
   ]
  },
  {
   "cell_type": "code",
   "execution_count": 18,
   "id": "74ce8c06",
   "metadata": {},
   "outputs": [
    {
     "data": {
      "text/plain": [
       "3"
      ]
     },
     "execution_count": 18,
     "metadata": {},
     "output_type": "execute_result"
    }
   ],
   "source": [
    "add(1,2)"
   ]
  },
  {
   "cell_type": "code",
   "execution_count": 19,
   "id": "74375223",
   "metadata": {},
   "outputs": [
    {
     "data": {
      "text/plain": [
       "3.4000000000000004"
      ]
     },
     "execution_count": 19,
     "metadata": {},
     "output_type": "execute_result"
    }
   ],
   "source": [
    "add(1.2,2.2)"
   ]
  },
  {
   "cell_type": "code",
   "execution_count": 20,
   "id": "9e3908fd",
   "metadata": {},
   "outputs": [
    {
     "data": {
      "text/plain": [
       "2.2"
      ]
     },
     "execution_count": 20,
     "metadata": {},
     "output_type": "execute_result"
    }
   ],
   "source": [
    "add(1,1.2)"
   ]
  },
  {
   "cell_type": "code",
   "execution_count": 21,
   "id": "289c8d91",
   "metadata": {},
   "outputs": [
    {
     "data": {
      "text/plain": [
       "(4+6j)"
      ]
     },
     "execution_count": 21,
     "metadata": {},
     "output_type": "execute_result"
    }
   ],
   "source": [
    "add(1+2j,3+4j)"
   ]
  },
  {
   "cell_type": "code",
   "execution_count": 22,
   "id": "e62036a4",
   "metadata": {},
   "outputs": [
    {
     "data": {
      "text/plain": [
       "(1+2j)"
      ]
     },
     "execution_count": 22,
     "metadata": {},
     "output_type": "execute_result"
    }
   ],
   "source": [
    "add(1,2j)"
   ]
  },
  {
   "cell_type": "code",
   "execution_count": 23,
   "id": "91256b1f",
   "metadata": {},
   "outputs": [
    {
     "data": {
      "text/plain": [
       "'abcdz'"
      ]
     },
     "execution_count": 23,
     "metadata": {},
     "output_type": "execute_result"
    }
   ],
   "source": [
    "add('abcd','z')"
   ]
  },
  {
   "cell_type": "code",
   "execution_count": 24,
   "id": "25e06db3",
   "metadata": {},
   "outputs": [
    {
     "ename": "TypeError",
     "evalue": "unsupported operand type(s) for +: 'int' and 'str'",
     "output_type": "error",
     "traceback": [
      "\u001b[0;31m---------------------------------------------------------------------------\u001b[0m",
      "\u001b[0;31mTypeError\u001b[0m                                 Traceback (most recent call last)",
      "\u001b[0;32m<ipython-input-24-588dd0328eba>\u001b[0m in \u001b[0;36m<module>\u001b[0;34m\u001b[0m\n\u001b[0;32m----> 1\u001b[0;31m \u001b[0madd\u001b[0m\u001b[0;34m(\u001b[0m\u001b[0;36m1\u001b[0m\u001b[0;34m,\u001b[0m\u001b[0;34m'one'\u001b[0m\u001b[0;34m)\u001b[0m\u001b[0;34m\u001b[0m\u001b[0;34m\u001b[0m\u001b[0m\n\u001b[0m",
      "\u001b[0;32m<ipython-input-17-ff991a776e8a>\u001b[0m in \u001b[0;36madd\u001b[0;34m(a, b)\u001b[0m\n\u001b[1;32m      1\u001b[0m \u001b[0;32mdef\u001b[0m \u001b[0madd\u001b[0m\u001b[0;34m(\u001b[0m\u001b[0ma\u001b[0m\u001b[0;34m,\u001b[0m\u001b[0mb\u001b[0m\u001b[0;34m)\u001b[0m\u001b[0;34m:\u001b[0m\u001b[0;34m\u001b[0m\u001b[0;34m\u001b[0m\u001b[0m\n\u001b[0;32m----> 2\u001b[0;31m     \u001b[0;32mreturn\u001b[0m \u001b[0ma\u001b[0m\u001b[0;34m+\u001b[0m\u001b[0mb\u001b[0m\u001b[0;34m\u001b[0m\u001b[0;34m\u001b[0m\u001b[0m\n\u001b[0m",
      "\u001b[0;31mTypeError\u001b[0m: unsupported operand type(s) for +: 'int' and 'str'"
     ]
    }
   ],
   "source": [
    "add(1,'one')"
   ]
  },
  {
   "cell_type": "code",
   "execution_count": 25,
   "id": "26f39838",
   "metadata": {},
   "outputs": [
    {
     "data": {
      "text/plain": [
       "0"
      ]
     },
     "execution_count": 25,
     "metadata": {},
     "output_type": "execute_result"
    }
   ],
   "source": [
    "add(False,False)"
   ]
  },
  {
   "cell_type": "code",
   "execution_count": 26,
   "id": "22435355",
   "metadata": {},
   "outputs": [
    {
     "data": {
      "text/plain": [
       "[1, 2, 3, 4, 5, 6]"
      ]
     },
     "execution_count": 26,
     "metadata": {},
     "output_type": "execute_result"
    }
   ],
   "source": [
    "add([1,2,3],[4,5,6])"
   ]
  },
  {
   "cell_type": "code",
   "execution_count": 27,
   "id": "09e8f353",
   "metadata": {},
   "outputs": [
    {
     "data": {
      "text/plain": [
       "(1, 2, 2, 3)"
      ]
     },
     "execution_count": 27,
     "metadata": {},
     "output_type": "execute_result"
    }
   ],
   "source": [
    "add((1,2),(2,3))"
   ]
  },
  {
   "cell_type": "code",
   "execution_count": 28,
   "id": "6d5ce441",
   "metadata": {},
   "outputs": [
    {
     "ename": "TypeError",
     "evalue": "unsupported operand type(s) for +: 'set' and 'set'",
     "output_type": "error",
     "traceback": [
      "\u001b[0;31m---------------------------------------------------------------------------\u001b[0m",
      "\u001b[0;31mTypeError\u001b[0m                                 Traceback (most recent call last)",
      "\u001b[0;32m<ipython-input-28-f44ccb0f2569>\u001b[0m in \u001b[0;36m<module>\u001b[0;34m\u001b[0m\n\u001b[0;32m----> 1\u001b[0;31m \u001b[0madd\u001b[0m\u001b[0;34m(\u001b[0m\u001b[0;34m{\u001b[0m\u001b[0;36m1\u001b[0m\u001b[0;34m,\u001b[0m\u001b[0;36m2\u001b[0m\u001b[0;34m,\u001b[0m\u001b[0;36m3\u001b[0m\u001b[0;34m}\u001b[0m\u001b[0;34m,\u001b[0m\u001b[0;34m{\u001b[0m\u001b[0;36m3\u001b[0m\u001b[0;34m,\u001b[0m\u001b[0;36m4\u001b[0m\u001b[0;34m,\u001b[0m\u001b[0;36m5\u001b[0m\u001b[0;34m}\u001b[0m\u001b[0;34m)\u001b[0m\u001b[0;34m\u001b[0m\u001b[0;34m\u001b[0m\u001b[0m\n\u001b[0m",
      "\u001b[0;32m<ipython-input-17-ff991a776e8a>\u001b[0m in \u001b[0;36madd\u001b[0;34m(a, b)\u001b[0m\n\u001b[1;32m      1\u001b[0m \u001b[0;32mdef\u001b[0m \u001b[0madd\u001b[0m\u001b[0;34m(\u001b[0m\u001b[0ma\u001b[0m\u001b[0;34m,\u001b[0m\u001b[0mb\u001b[0m\u001b[0;34m)\u001b[0m\u001b[0;34m:\u001b[0m\u001b[0;34m\u001b[0m\u001b[0;34m\u001b[0m\u001b[0m\n\u001b[0;32m----> 2\u001b[0;31m     \u001b[0;32mreturn\u001b[0m \u001b[0ma\u001b[0m\u001b[0;34m+\u001b[0m\u001b[0mb\u001b[0m\u001b[0;34m\u001b[0m\u001b[0;34m\u001b[0m\u001b[0m\n\u001b[0m",
      "\u001b[0;31mTypeError\u001b[0m: unsupported operand type(s) for +: 'set' and 'set'"
     ]
    }
   ],
   "source": [
    "add({1,2,3},{3,4,5})"
   ]
  },
  {
   "cell_type": "code",
   "execution_count": 29,
   "id": "c28ad153",
   "metadata": {},
   "outputs": [
    {
     "ename": "TypeError",
     "evalue": "unsupported operand type(s) for +: 'dict' and 'dict'",
     "output_type": "error",
     "traceback": [
      "\u001b[0;31m---------------------------------------------------------------------------\u001b[0m",
      "\u001b[0;31mTypeError\u001b[0m                                 Traceback (most recent call last)",
      "\u001b[0;32m<ipython-input-29-fe08a235ea8b>\u001b[0m in \u001b[0;36m<module>\u001b[0;34m\u001b[0m\n\u001b[0;32m----> 1\u001b[0;31m \u001b[0madd\u001b[0m\u001b[0;34m(\u001b[0m\u001b[0;34m{\u001b[0m\u001b[0;36m1\u001b[0m\u001b[0;34m:\u001b[0m\u001b[0;36m2\u001b[0m\u001b[0;34m}\u001b[0m\u001b[0;34m,\u001b[0m\u001b[0;34m{\u001b[0m\u001b[0;36m2\u001b[0m\u001b[0;34m:\u001b[0m\u001b[0;36m3\u001b[0m\u001b[0;34m}\u001b[0m\u001b[0;34m)\u001b[0m\u001b[0;34m\u001b[0m\u001b[0;34m\u001b[0m\u001b[0m\n\u001b[0m",
      "\u001b[0;32m<ipython-input-17-ff991a776e8a>\u001b[0m in \u001b[0;36madd\u001b[0;34m(a, b)\u001b[0m\n\u001b[1;32m      1\u001b[0m \u001b[0;32mdef\u001b[0m \u001b[0madd\u001b[0m\u001b[0;34m(\u001b[0m\u001b[0ma\u001b[0m\u001b[0;34m,\u001b[0m\u001b[0mb\u001b[0m\u001b[0;34m)\u001b[0m\u001b[0;34m:\u001b[0m\u001b[0;34m\u001b[0m\u001b[0;34m\u001b[0m\u001b[0m\n\u001b[0;32m----> 2\u001b[0;31m     \u001b[0;32mreturn\u001b[0m \u001b[0ma\u001b[0m\u001b[0;34m+\u001b[0m\u001b[0mb\u001b[0m\u001b[0;34m\u001b[0m\u001b[0;34m\u001b[0m\u001b[0m\n\u001b[0m",
      "\u001b[0;31mTypeError\u001b[0m: unsupported operand type(s) for +: 'dict' and 'dict'"
     ]
    }
   ],
   "source": [
    "add({1:2},{2:3})"
   ]
  },
  {
   "cell_type": "markdown",
   "id": "790093ee",
   "metadata": {},
   "source": [
    "### Using user inputs to test the function"
   ]
  },
  {
   "cell_type": "code",
   "execution_count": 31,
   "id": "5fb8ac17",
   "metadata": {
    "ExecuteTime": {
     "end_time": "2021-09-04T07:52:59.207025Z",
     "start_time": "2021-09-04T07:52:54.617119Z"
    }
   },
   "outputs": [
    {
     "name": "stdout",
     "output_type": "stream",
     "text": [
      "Enter first entry for addition:1\n",
      "Enter second entry for addition:2\n"
     ]
    },
    {
     "data": {
      "text/plain": [
       "'12'"
      ]
     },
     "execution_count": 31,
     "metadata": {},
     "output_type": "execute_result"
    }
   ],
   "source": [
    "add(input(\"Enter first entry for addition:\"),input(\"Enter second entry for addition:\"))"
   ]
  },
  {
   "cell_type": "markdown",
   "id": "f1d5e626",
   "metadata": {},
   "source": [
    "input is taken as str type, if you want to change its type, you have to explicitly type cast it to the type you want."
   ]
  },
  {
   "cell_type": "code",
   "execution_count": 32,
   "id": "e6944868",
   "metadata": {},
   "outputs": [
    {
     "name": "stdout",
     "output_type": "stream",
     "text": [
      "Enter first entry for addition:1\n",
      "Enter second entry for addition:2\n"
     ]
    },
    {
     "data": {
      "text/plain": [
       "3"
      ]
     },
     "execution_count": 32,
     "metadata": {},
     "output_type": "execute_result"
    }
   ],
   "source": [
    "add(int(input(\"Enter first entry for addition:\")),int(input(\"Enter second entry for addition:\")))"
   ]
  },
  {
   "cell_type": "markdown",
   "id": "83ba5c76",
   "metadata": {},
   "source": [
    "## Different ways to run a Python Program\n",
    "\n",
    "Use method 1 for small programs\n",
    "\n",
    "Method 2 and 3 for very large projects (>100s of lines of code)\n",
    "\n",
    "Method 4 if your want to maintain code and documentation together\n",
    "\n",
    "Other options like pydoc etc also will support  to maintain code and documentation together if you are using method 2 or 3"
   ]
  },
  {
   "cell_type": "markdown",
   "id": "46295ee7",
   "metadata": {
    "heading_collapsed": true
   },
   "source": [
    "### Python Terminal - Online or offline\n",
    "\n",
    "### Executing Python Script - Online or offline\n",
    "\n",
    "### Using an IDE\n",
    "\n",
    "### Using Jupyter Notebooks"
   ]
  },
  {
   "cell_type": "markdown",
   "id": "c2df2d0f",
   "metadata": {},
   "source": [
    "## Class Concept in Python (Basics)"
   ]
  },
  {
   "cell_type": "markdown",
   "id": "a988b33b",
   "metadata": {},
   "source": [
    "https://zetcode.com/lang/python/oop/\n",
    "\n",
    "https://info.keylimeinteractive.com/the-four-pillars-of-object-oriented-programming\n",
    "\n",
    "### Encapsulation\n",
    "### Abstraction\n",
    "### Inheritance\n",
    "### Polymorphism"
   ]
  },
  {
   "cell_type": "markdown",
   "id": "56dde342",
   "metadata": {},
   "source": [
    "## Unit Testing Basics"
   ]
  },
  {
   "cell_type": "code",
   "execution_count": 33,
   "id": "d87439e1",
   "metadata": {},
   "outputs": [
    {
     "name": "stderr",
     "output_type": "stream",
     "text": [
      "test_add_assert_equal (__main__.TestNotebook) ... FAIL\n",
      "test_add_assert_not_equal (__main__.TestNotebook) ... ok\n",
      "\n",
      "======================================================================\n",
      "FAIL: test_add_assert_equal (__main__.TestNotebook)\n",
      "----------------------------------------------------------------------\n",
      "Traceback (most recent call last):\n",
      "  File \"<ipython-input-33-a6e116a5103c>\", line 7, in test_add_assert_equal\n",
      "    self.assertAlmostEqual(add(2, 2), 3.9)\n",
      "AssertionError: 4 != 3.9 within 7 places (0.10000000000000009 difference)\n",
      "\n",
      "----------------------------------------------------------------------\n",
      "Ran 2 tests in 0.010s\n",
      "\n",
      "FAILED (failures=1)\n"
     ]
    },
    {
     "data": {
      "text/plain": [
       "<unittest.main.TestProgram at 0x7f2ef870f640>"
      ]
     },
     "execution_count": 33,
     "metadata": {},
     "output_type": "execute_result"
    }
   ],
   "source": [
    "import unittest\n",
    "\n",
    "class TestNotebook(unittest.TestCase):\n",
    "    \n",
    "    def test_add_assert_equal(self):\n",
    "        self.assertEqual(add(2, 2), 4)\n",
    "        self.assertAlmostEqual(add(2, 2), 3.9)\n",
    "        self.assertAlmostEqual(add(2, 2), 3.99999999)\n",
    "\n",
    "    def test_add_assert_not_equal(self):\n",
    "        self.assertNotAlmostEqual(add(2, 2), 4.01)\n",
    "        self.assertNotEqual(add(2, 2), 5)\n",
    "        \n",
    "\n",
    "unittest.main(argv=[''], verbosity=2, exit=False)"
   ]
  },
  {
   "cell_type": "markdown",
   "id": "cea0efea",
   "metadata": {},
   "source": [
    "## Thank You !!!\n",
    "\n",
    "Regards and Best Wishes, Arun P R"
   ]
  }
 ],
 "metadata": {
  "kernelspec": {
   "display_name": "Python 3",
   "language": "python",
   "name": "python3"
  },
  "language_info": {
   "codemirror_mode": {
    "name": "ipython",
    "version": 3
   },
   "file_extension": ".py",
   "mimetype": "text/x-python",
   "name": "python",
   "nbconvert_exporter": "python",
   "pygments_lexer": "ipython3",
   "version": "3.8.8"
  },
  "toc": {
   "base_numbering": 1,
   "nav_menu": {},
   "number_sections": true,
   "sideBar": true,
   "skip_h1_title": false,
   "title_cell": "Table of Contents",
   "title_sidebar": "Contents",
   "toc_cell": false,
   "toc_position": {},
   "toc_section_display": true,
   "toc_window_display": false
  },
  "varInspector": {
   "cols": {
    "lenName": 16,
    "lenType": 16,
    "lenVar": 40
   },
   "kernels_config": {
    "python": {
     "delete_cmd_postfix": "",
     "delete_cmd_prefix": "del ",
     "library": "var_list.py",
     "varRefreshCmd": "print(var_dic_list())"
    },
    "r": {
     "delete_cmd_postfix": ") ",
     "delete_cmd_prefix": "rm(",
     "library": "var_list.r",
     "varRefreshCmd": "cat(var_dic_list()) "
    }
   },
   "types_to_exclude": [
    "module",
    "function",
    "builtin_function_or_method",
    "instance",
    "_Feature"
   ],
   "window_display": false
  }
 },
 "nbformat": 4,
 "nbformat_minor": 5
}
