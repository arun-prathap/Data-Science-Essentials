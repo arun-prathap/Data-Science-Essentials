{
  "nbformat": 4,
  "nbformat_minor": 0,
  "metadata": {
    "colab": {
      "name": "String Methods.ipynb",
      "provenance": [],
      "collapsed_sections": [
        "NZdUdo1nCzlb",
        "7tp7HveF-u--",
        "NlUaDGQu_B14",
        "cYVRNqXWAaar",
        "OlIu9pKnAzyy",
        "tE0YNXEg-0Y2",
        "Cfh3EZE3_MZ3",
        "l5Lh1DmN-3QH",
        "xrPPILR1Adxo",
        "C21-EZqxA3Ch",
        "Pxeq3qHcClYi",
        "_P1uH6jHK9uJ",
        "CAZR-7iBDHvU"
      ]
    },
    "kernelspec": {
      "name": "python3",
      "display_name": "Python 3"
    },
    "language_info": {
      "name": "python"
    }
  },
  "cells": [
    {
      "cell_type": "markdown",
      "metadata": {
        "id": "1ge5nSdT9MVX"
      },
      "source": [
        "# String Methods in Python"
      ]
    },
    {
      "cell_type": "markdown",
      "metadata": {
        "id": "NZdUdo1nCzlb"
      },
      "source": [
        "## References : "
      ]
    },
    {
      "cell_type": "markdown",
      "metadata": {
        "id": "G6Mu2m7JLUcz"
      },
      "source": [
        "1. https://docs.python.org/2.5/lib/string-methods.html\n",
        "1. https://python-reference.readthedocs.io/en/latest/docs/str/"
      ]
    },
    {
      "cell_type": "markdown",
      "metadata": {
        "id": "7tp7HveF-u--"
      },
      "source": [
        "## Change Case, Check case"
      ]
    },
    {
      "cell_type": "code",
      "metadata": {
        "id": "MbBqZNYL9Gwy"
      },
      "source": [
        "string1 = \"india IS my COUNTRY\""
      ],
      "execution_count": null,
      "outputs": []
    },
    {
      "cell_type": "code",
      "metadata": {
        "id": "50MojyQ09hhM",
        "colab": {
          "base_uri": "https://localhost:8080/",
          "height": 35
        },
        "outputId": "e2c039af-1362-41b9-b39d-b718b7593596"
      },
      "source": [
        "string1.capitalize()"
      ],
      "execution_count": null,
      "outputs": [
        {
          "output_type": "execute_result",
          "data": {
            "application/vnd.google.colaboratory.intrinsic+json": {
              "type": "string"
            },
            "text/plain": [
              "'India is my country'"
            ]
          },
          "metadata": {},
          "execution_count": 2
        }
      ]
    },
    {
      "cell_type": "code",
      "metadata": {
        "id": "J3UjKD_Z9jTX",
        "colab": {
          "base_uri": "https://localhost:8080/",
          "height": 35
        },
        "outputId": "99c13014-f326-453b-e4a8-af51ae1c3b50"
      },
      "source": [
        "string1.title()"
      ],
      "execution_count": null,
      "outputs": [
        {
          "output_type": "execute_result",
          "data": {
            "application/vnd.google.colaboratory.intrinsic+json": {
              "type": "string"
            },
            "text/plain": [
              "'India Is My Country'"
            ]
          },
          "metadata": {},
          "execution_count": 3
        }
      ]
    },
    {
      "cell_type": "code",
      "metadata": {
        "id": "9a9bDzKh9pcX",
        "colab": {
          "base_uri": "https://localhost:8080/",
          "height": 35
        },
        "outputId": "0ddec328-0400-4966-867d-133f1b30006f"
      },
      "source": [
        "string1.upper()"
      ],
      "execution_count": null,
      "outputs": [
        {
          "output_type": "execute_result",
          "data": {
            "application/vnd.google.colaboratory.intrinsic+json": {
              "type": "string"
            },
            "text/plain": [
              "'INDIA IS MY COUNTRY'"
            ]
          },
          "metadata": {},
          "execution_count": 4
        }
      ]
    },
    {
      "cell_type": "code",
      "metadata": {
        "id": "634Myma-9yRI",
        "colab": {
          "base_uri": "https://localhost:8080/",
          "height": 35
        },
        "outputId": "092221c4-4aa9-4a70-b454-3356c3d19ded"
      },
      "source": [
        "string1.lower()"
      ],
      "execution_count": null,
      "outputs": [
        {
          "output_type": "execute_result",
          "data": {
            "application/vnd.google.colaboratory.intrinsic+json": {
              "type": "string"
            },
            "text/plain": [
              "'india is my country'"
            ]
          },
          "metadata": {},
          "execution_count": 5
        }
      ]
    },
    {
      "cell_type": "code",
      "metadata": {
        "id": "xT668BTM-UhP",
        "colab": {
          "base_uri": "https://localhost:8080/",
          "height": 35
        },
        "outputId": "b60f1a7d-0929-412c-9bef-3c6be13ad67d"
      },
      "source": [
        "string1.swapcase()"
      ],
      "execution_count": null,
      "outputs": [
        {
          "output_type": "execute_result",
          "data": {
            "application/vnd.google.colaboratory.intrinsic+json": {
              "type": "string"
            },
            "text/plain": [
              "'INDIA is MY country'"
            ]
          },
          "metadata": {},
          "execution_count": 6
        }
      ]
    },
    {
      "cell_type": "code",
      "metadata": {
        "id": "MbVfCVPG-IBC",
        "colab": {
          "base_uri": "https://localhost:8080/"
        },
        "outputId": "88f33237-feff-4594-c4ef-8bf44e24b14e"
      },
      "source": [
        "string1.isupper()"
      ],
      "execution_count": null,
      "outputs": [
        {
          "output_type": "execute_result",
          "data": {
            "text/plain": [
              "False"
            ]
          },
          "metadata": {},
          "execution_count": 7
        }
      ]
    },
    {
      "cell_type": "code",
      "metadata": {
        "id": "toiVH_ON98kU",
        "colab": {
          "base_uri": "https://localhost:8080/"
        },
        "outputId": "1fef30b5-62bb-4e32-923d-8561eb5d2216"
      },
      "source": [
        "string1.upper().isupper()"
      ],
      "execution_count": null,
      "outputs": [
        {
          "output_type": "execute_result",
          "data": {
            "text/plain": [
              "True"
            ]
          },
          "metadata": {},
          "execution_count": 8
        }
      ]
    },
    {
      "cell_type": "code",
      "metadata": {
        "id": "0CFDO3HT-Ao8",
        "colab": {
          "base_uri": "https://localhost:8080/"
        },
        "outputId": "d47cd59b-fa37-4415-c3f1-3526979d9a8c"
      },
      "source": [
        "string1.islower()"
      ],
      "execution_count": null,
      "outputs": [
        {
          "output_type": "execute_result",
          "data": {
            "text/plain": [
              "False"
            ]
          },
          "metadata": {},
          "execution_count": 9
        }
      ]
    },
    {
      "cell_type": "code",
      "metadata": {
        "id": "IU2_5igh-C0x",
        "colab": {
          "base_uri": "https://localhost:8080/"
        },
        "outputId": "835f3ff9-3941-4d27-ff4b-c7a4f0df00e2"
      },
      "source": [
        "string1.lower().islower()"
      ],
      "execution_count": null,
      "outputs": [
        {
          "output_type": "execute_result",
          "data": {
            "text/plain": [
              "True"
            ]
          },
          "metadata": {},
          "execution_count": 10
        }
      ]
    },
    {
      "cell_type": "code",
      "metadata": {
        "id": "ij_jHkFh-LC2",
        "colab": {
          "base_uri": "https://localhost:8080/"
        },
        "outputId": "0f1b99bb-e768-43d3-b4f3-b214d5989a32"
      },
      "source": [
        "string1.istitle()"
      ],
      "execution_count": null,
      "outputs": [
        {
          "output_type": "execute_result",
          "data": {
            "text/plain": [
              "False"
            ]
          },
          "metadata": {},
          "execution_count": 11
        }
      ]
    },
    {
      "cell_type": "code",
      "metadata": {
        "id": "srV5LRC8-N5u",
        "colab": {
          "base_uri": "https://localhost:8080/"
        },
        "outputId": "03f05eeb-5636-472b-97e8-1a9332067378"
      },
      "source": [
        "string1.title().istitle()"
      ],
      "execution_count": null,
      "outputs": [
        {
          "output_type": "execute_result",
          "data": {
            "text/plain": [
              "True"
            ]
          },
          "metadata": {},
          "execution_count": 12
        }
      ]
    },
    {
      "cell_type": "markdown",
      "metadata": {
        "id": "NlUaDGQu_B14"
      },
      "source": [
        "## Check type of contents"
      ]
    },
    {
      "cell_type": "code",
      "metadata": {
        "id": "smaMaztA_sor",
        "colab": {
          "base_uri": "https://localhost:8080/"
        },
        "outputId": "b278dfff-bc9c-4c3a-97c0-a92b4a7caa86"
      },
      "source": [
        "string1.isalpha()"
      ],
      "execution_count": null,
      "outputs": [
        {
          "output_type": "execute_result",
          "data": {
            "text/plain": [
              "False"
            ]
          },
          "metadata": {},
          "execution_count": 13
        }
      ]
    },
    {
      "cell_type": "code",
      "metadata": {
        "id": "ZJcmT7Xt-Q86"
      },
      "source": [
        "string2 = \"12345\""
      ],
      "execution_count": null,
      "outputs": []
    },
    {
      "cell_type": "code",
      "metadata": {
        "id": "4bdfWe2s_Gun",
        "colab": {
          "base_uri": "https://localhost:8080/"
        },
        "outputId": "0dedd6c0-da37-4c59-bbc7-0acc9b2ec141"
      },
      "source": [
        "string2.isalpha()"
      ],
      "execution_count": null,
      "outputs": [
        {
          "output_type": "execute_result",
          "data": {
            "text/plain": [
              "False"
            ]
          },
          "metadata": {},
          "execution_count": 15
        }
      ]
    },
    {
      "cell_type": "code",
      "metadata": {
        "id": "02Vif0p3_JRL",
        "colab": {
          "base_uri": "https://localhost:8080/"
        },
        "outputId": "e12911ab-6bb3-4f8d-89c7-a2d17e31d2c8"
      },
      "source": [
        "string2.isalnum()"
      ],
      "execution_count": null,
      "outputs": [
        {
          "output_type": "execute_result",
          "data": {
            "text/plain": [
              "True"
            ]
          },
          "metadata": {},
          "execution_count": 16
        }
      ]
    },
    {
      "cell_type": "code",
      "metadata": {
        "id": "q9WxpoB0_zgx",
        "colab": {
          "base_uri": "https://localhost:8080/"
        },
        "outputId": "7598079b-4ef6-45e7-8184-30095c2945c3"
      },
      "source": [
        "string2.isnumeric()"
      ],
      "execution_count": null,
      "outputs": [
        {
          "output_type": "execute_result",
          "data": {
            "text/plain": [
              "True"
            ]
          },
          "metadata": {},
          "execution_count": 17
        }
      ]
    },
    {
      "cell_type": "code",
      "metadata": {
        "id": "gWbWgLjm_L7_",
        "colab": {
          "base_uri": "https://localhost:8080/"
        },
        "outputId": "812ea0a0-ffef-440a-fe5b-ce77e5a1fcad"
      },
      "source": [
        "string2.isdigit()"
      ],
      "execution_count": null,
      "outputs": [
        {
          "output_type": "execute_result",
          "data": {
            "text/plain": [
              "True"
            ]
          },
          "metadata": {},
          "execution_count": 18
        }
      ]
    },
    {
      "cell_type": "code",
      "metadata": {
        "id": "nW-q0Gtb_VRG"
      },
      "source": [
        "string3 = \"indiaismycountry\""
      ],
      "execution_count": null,
      "outputs": []
    },
    {
      "cell_type": "code",
      "metadata": {
        "id": "yaQ7BCq7_YxZ",
        "colab": {
          "base_uri": "https://localhost:8080/"
        },
        "outputId": "5b0df39d-3df2-43a0-bd25-47885e59647c"
      },
      "source": [
        "string3.isalpha()"
      ],
      "execution_count": null,
      "outputs": [
        {
          "output_type": "execute_result",
          "data": {
            "text/plain": [
              "True"
            ]
          },
          "metadata": {},
          "execution_count": 20
        }
      ]
    },
    {
      "cell_type": "code",
      "metadata": {
        "id": "-Hiw5XMD_ayf",
        "colab": {
          "base_uri": "https://localhost:8080/"
        },
        "outputId": "a2129211-1033-48bc-b639-145ff7fd0a01"
      },
      "source": [
        "string3.isspace()"
      ],
      "execution_count": null,
      "outputs": [
        {
          "output_type": "execute_result",
          "data": {
            "text/plain": [
              "False"
            ]
          },
          "metadata": {},
          "execution_count": 21
        }
      ]
    },
    {
      "cell_type": "code",
      "metadata": {
        "id": "qiuWE4j5_joT",
        "colab": {
          "base_uri": "https://localhost:8080/"
        },
        "outputId": "37d15b39-c1b8-41b6-e1e0-196ba9e0d30e"
      },
      "source": [
        "\"   \".isspace()"
      ],
      "execution_count": null,
      "outputs": [
        {
          "output_type": "execute_result",
          "data": {
            "text/plain": [
              "True"
            ]
          },
          "metadata": {},
          "execution_count": 22
        }
      ]
    },
    {
      "cell_type": "markdown",
      "metadata": {
        "id": "cYVRNqXWAaar"
      },
      "source": [
        "## Split, Partition, Join Methods"
      ]
    },
    {
      "cell_type": "markdown",
      "metadata": {
        "id": "0pbSjtVYOroz"
      },
      "source": [
        "**Syntax**:str.split([sep[, maxsplit]])"
      ]
    },
    {
      "cell_type": "code",
      "metadata": {
        "id": "XQEsGszvOrNI",
        "colab": {
          "base_uri": "https://localhost:8080/"
        },
        "outputId": "34eae182-7134-46dd-b533-1fa22dff0053"
      },
      "source": [
        "print(' a b c '.split())\n",
        "print(' a b c '.rsplit())"
      ],
      "execution_count": null,
      "outputs": [
        {
          "output_type": "stream",
          "name": "stdout",
          "text": [
            "['a', 'b', 'c']\n",
            "['a', 'b', 'c']\n"
          ]
        }
      ]
    },
    {
      "cell_type": "code",
      "metadata": {
        "id": "ZWhwrlDe_mLm",
        "colab": {
          "base_uri": "https://localhost:8080/"
        },
        "outputId": "04bfaebd-d7c5-48fb-ba92-c6636fd01f59"
      },
      "source": [
        "print(' a b c '.split(' ', 2))\n",
        "print(' a b c '.rsplit(' ', 2))"
      ],
      "execution_count": null,
      "outputs": [
        {
          "output_type": "stream",
          "name": "stdout",
          "text": [
            "['', 'a', 'b c ']\n",
            "[' a b', 'c', '']\n"
          ]
        }
      ]
    },
    {
      "cell_type": "code",
      "metadata": {
        "id": "bTIFTsE7PCqL",
        "colab": {
          "base_uri": "https://localhost:8080/"
        },
        "outputId": "8d5f1f7d-d0fa-41f1-a149-b5e979bff3e1"
      },
      "source": [
        "print(' a b c '.split(' ', 5))\n",
        "print(' a b c '.rsplit(' ', 5))"
      ],
      "execution_count": null,
      "outputs": [
        {
          "output_type": "stream",
          "name": "stdout",
          "text": [
            "['', 'a', 'b', 'c', '']\n",
            "['', 'a', 'b', 'c', '']\n"
          ]
        }
      ]
    },
    {
      "cell_type": "code",
      "metadata": {
        "id": "UyggUgIiP0tB",
        "colab": {
          "base_uri": "https://localhost:8080/"
        },
        "outputId": "b9d8e95b-68c5-42b7-902b-12f9323fc0e7"
      },
      "source": [
        "print(\"AB\\nCD\\n\".splitlines())\n",
        "print(\"AB\\nCD\\n\".splitlines(True))"
      ],
      "execution_count": null,
      "outputs": [
        {
          "output_type": "stream",
          "name": "stdout",
          "text": [
            "['AB', 'CD']\n",
            "['AB\\n', 'CD\\n']\n"
          ]
        }
      ]
    },
    {
      "cell_type": "code",
      "metadata": {
        "id": "xmeKW3NeP7Hf",
        "colab": {
          "base_uri": "https://localhost:8080/"
        },
        "outputId": "2df06abc-c236-46a2-fb20-c821300db760"
      },
      "source": [
        "print(''.join(['A', 'B', 'C']))\n",
        "print(''.join({'A': 0, 'B': 0, 'C': 0})) # note that dicts are unordered\n",
        "print('-'.join(['A', 'B', 'C']))"
      ],
      "execution_count": null,
      "outputs": [
        {
          "output_type": "stream",
          "name": "stdout",
          "text": [
            "ABC\n",
            "ABC\n",
            "A-B-C\n"
          ]
        }
      ]
    },
    {
      "cell_type": "code",
      "metadata": {
        "id": "2y7xPzSUQIbp",
        "colab": {
          "base_uri": "https://localhost:8080/"
        },
        "outputId": "b39e0e91-a75f-4610-ecf7-4c1727037e0e"
      },
      "source": [
        "print(\"AB-CD-EF\".partition('-'))\n",
        "print(\"AB-CD-EF\".partition(' '))\n",
        "print(\"AB-CD-EF\".partition('D'))"
      ],
      "execution_count": null,
      "outputs": [
        {
          "output_type": "stream",
          "name": "stdout",
          "text": [
            "('AB', '-', 'CD-EF')\n",
            "('AB-CD-EF', '', '')\n",
            "('AB-C', 'D', '-EF')\n"
          ]
        }
      ]
    },
    {
      "cell_type": "code",
      "metadata": {
        "id": "HSV8u7o-QQb8",
        "colab": {
          "base_uri": "https://localhost:8080/"
        },
        "outputId": "ae8060a9-818f-418c-a5a7-bfdd5978328b"
      },
      "source": [
        "print(\"AB-CD-EF\".rpartition('-'))\n",
        "print(\"AB-CD-EF\".rpartition(' '))\n",
        "print(\"AB-CD-EF\".rpartition('D'))"
      ],
      "execution_count": null,
      "outputs": [
        {
          "output_type": "stream",
          "name": "stdout",
          "text": [
            "('AB-CD', '-', 'EF')\n",
            "('', '', 'AB-CD-EF')\n",
            "('AB-C', 'D', '-EF')\n"
          ]
        }
      ]
    },
    {
      "cell_type": "markdown",
      "metadata": {
        "id": "OlIu9pKnAzyy"
      },
      "source": [
        "## Search Methods"
      ]
    },
    {
      "cell_type": "markdown",
      "metadata": {
        "id": "tE0YNXEg-0Y2"
      },
      "source": [
        "### Searching"
      ]
    },
    {
      "cell_type": "markdown",
      "metadata": {
        "id": "IK-NdXnw9r-6"
      },
      "source": [
        "**Syntax** : str.cmd_name(sub[, start[, end]])"
      ]
    },
    {
      "cell_type": "code",
      "metadata": {
        "id": "K-s8TR1q94o6",
        "colab": {
          "base_uri": "https://localhost:8080/"
        },
        "outputId": "271261c6-a0f6-4146-de29-f7b97a51ccad"
      },
      "source": [
        "string1 = \"india is my country\"\n",
        "print(string1.find('n'))\n",
        "print(string1.index('n'))\n",
        "print(string1.rfind('n'))\n",
        "print(string1.rindex('n'))"
      ],
      "execution_count": null,
      "outputs": [
        {
          "output_type": "stream",
          "name": "stdout",
          "text": [
            "1\n",
            "1\n",
            "15\n",
            "15\n"
          ]
        }
      ]
    },
    {
      "cell_type": "code",
      "metadata": {
        "id": "WWQWusHjA1h1",
        "colab": {
          "base_uri": "https://localhost:8080/"
        },
        "outputId": "7319aaab-c505-4762-965d-6512f89ddb17"
      },
      "source": [
        "string1 = \"venture in to the indigineous wild in independant india\"\n",
        "print(string1.find('in'))\n",
        "print(string1.index('in'))\n",
        "print(string1.rfind('in'))\n",
        "print(string1.rindex('in'))\n"
      ],
      "execution_count": null,
      "outputs": [
        {
          "output_type": "stream",
          "name": "stdout",
          "text": [
            "8\n",
            "8\n",
            "50\n",
            "50\n"
          ]
        }
      ]
    },
    {
      "cell_type": "markdown",
      "metadata": {
        "id": "ULBGBiYY9cd8"
      },
      "source": [
        "* find methods Returns -1 if search string not found.\n",
        "\n",
        "* index methods raises ValueError if search string not found "
      ]
    },
    {
      "cell_type": "code",
      "metadata": {
        "id": "vT2ea9W0-eGk",
        "colab": {
          "base_uri": "https://localhost:8080/",
          "height": 212
        },
        "outputId": "a60ebfd5-642b-49f8-fa18-85e76b856443"
      },
      "source": [
        "string1 = \"india is my country\"\n",
        "print(string1.find('you'))\n",
        "print(string1.index('you'))"
      ],
      "execution_count": null,
      "outputs": [
        {
          "output_type": "stream",
          "name": "stdout",
          "text": [
            "-1\n"
          ]
        },
        {
          "output_type": "error",
          "ename": "ValueError",
          "evalue": "ignored",
          "traceback": [
            "\u001b[0;31m---------------------------------------------------------------------------\u001b[0m",
            "\u001b[0;31mValueError\u001b[0m                                Traceback (most recent call last)",
            "\u001b[0;32m<ipython-input-32-759be864749a>\u001b[0m in \u001b[0;36m<module>\u001b[0;34m()\u001b[0m\n\u001b[1;32m      1\u001b[0m \u001b[0mstring1\u001b[0m \u001b[0;34m=\u001b[0m \u001b[0;34m\"india is my country\"\u001b[0m\u001b[0;34m\u001b[0m\u001b[0;34m\u001b[0m\u001b[0m\n\u001b[1;32m      2\u001b[0m \u001b[0mprint\u001b[0m\u001b[0;34m(\u001b[0m\u001b[0mstring1\u001b[0m\u001b[0;34m.\u001b[0m\u001b[0mfind\u001b[0m\u001b[0;34m(\u001b[0m\u001b[0;34m'you'\u001b[0m\u001b[0;34m)\u001b[0m\u001b[0;34m)\u001b[0m\u001b[0;34m\u001b[0m\u001b[0;34m\u001b[0m\u001b[0m\n\u001b[0;32m----> 3\u001b[0;31m \u001b[0mprint\u001b[0m\u001b[0;34m(\u001b[0m\u001b[0mstring1\u001b[0m\u001b[0;34m.\u001b[0m\u001b[0mindex\u001b[0m\u001b[0;34m(\u001b[0m\u001b[0;34m'you'\u001b[0m\u001b[0;34m)\u001b[0m\u001b[0;34m)\u001b[0m\u001b[0;34m\u001b[0m\u001b[0;34m\u001b[0m\u001b[0m\n\u001b[0m",
            "\u001b[0;31mValueError\u001b[0m: substring not found"
          ]
        }
      ]
    },
    {
      "cell_type": "markdown",
      "metadata": {
        "id": "Cfh3EZE3_MZ3"
      },
      "source": [
        "### Information"
      ]
    },
    {
      "cell_type": "markdown",
      "metadata": {
        "id": "eBl5KmiXK_3P"
      },
      "source": [
        "**Syntax** : str.cmd_name(sub[, start[, end]])"
      ]
    },
    {
      "cell_type": "code",
      "metadata": {
        "id": "DEOP_LOjLDW0",
        "colab": {
          "base_uri": "https://localhost:8080/"
        },
        "outputId": "301e0c64-33bd-40c4-d4f7-2f7b1c77a84e"
      },
      "source": [
        "string1 = \"venture in to the indigineous wild in independant india\"\n",
        "print(string1.count('in'))"
      ],
      "execution_count": null,
      "outputs": [
        {
          "output_type": "stream",
          "name": "stdout",
          "text": [
            "6\n"
          ]
        }
      ]
    },
    {
      "cell_type": "code",
      "metadata": {
        "id": "PR7jTrmqLkmf",
        "colab": {
          "base_uri": "https://localhost:8080/"
        },
        "outputId": "e7f335e9-145a-4ef7-cee9-efcd90343966"
      },
      "source": [
        "string1 = \"india is my country\"\n",
        "print(string1.startswith('in'))\n",
        "print(string1.startswith('ry'))\n",
        "print(string1.endswith('in'))\n",
        "print(string1.endswith('ry'))"
      ],
      "execution_count": null,
      "outputs": [
        {
          "output_type": "stream",
          "name": "stdout",
          "text": [
            "True\n",
            "False\n",
            "False\n",
            "True\n"
          ]
        }
      ]
    },
    {
      "cell_type": "markdown",
      "metadata": {
        "id": "l5Lh1DmN-3QH"
      },
      "source": [
        "### Replacing"
      ]
    },
    {
      "cell_type": "markdown",
      "metadata": {
        "id": "sXQk8HcwL25_"
      },
      "source": [
        "**Syntax**:str. replace(old, new[, count])"
      ]
    },
    {
      "cell_type": "code",
      "metadata": {
        "id": "wPn2vC_o-2lu",
        "colab": {
          "base_uri": "https://localhost:8080/"
        },
        "outputId": "6ff8a85a-de82-4bc5-a308-9c7aace4c6dd"
      },
      "source": [
        "print(\"ABCAB\".replace('AB', 'ab'))\n",
        "print(\"ABCAB\".replace('YZ', 'ab'))\n",
        "print(\"ABCAB\".replace('AB', 'ab', 1))\n",
        "print(\"ABCAB\".replace('AB', 'ab', 2))"
      ],
      "execution_count": null,
      "outputs": [
        {
          "output_type": "stream",
          "name": "stdout",
          "text": [
            "abCab\n",
            "ABCAB\n",
            "abCAB\n",
            "abCab\n"
          ]
        }
      ]
    },
    {
      "cell_type": "markdown",
      "metadata": {
        "id": "yry3wf-cMK0m"
      },
      "source": [
        "https://python-reference.readthedocs.io/en/latest/docs/str/translate.html"
      ]
    },
    {
      "cell_type": "markdown",
      "metadata": {
        "id": "xrPPILR1Adxo"
      },
      "source": [
        "### Strip Methods for Leading and Trailing Characters"
      ]
    },
    {
      "cell_type": "markdown",
      "metadata": {
        "id": "RYninGQ7MTgu"
      },
      "source": [
        "**Syntax**:str.cmd_name([chars])"
      ]
    },
    {
      "cell_type": "code",
      "metadata": {
        "id": "uk5wyPGaMonI",
        "colab": {
          "base_uri": "https://localhost:8080/"
        },
        "outputId": "3ad6181d-182f-4691-9c74-4e37d96dd7eb"
      },
      "source": [
        "print('   spacious   '.lstrip()+\"-------------\")\n",
        "print('   spacious   '.rstrip())\n",
        "print('   spacious   '.strip()+\"-------------\")"
      ],
      "execution_count": null,
      "outputs": [
        {
          "output_type": "stream",
          "name": "stdout",
          "text": [
            "spacious   -------------\n",
            "   spacious\n",
            "spacious-------------\n"
          ]
        }
      ]
    },
    {
      "cell_type": "code",
      "metadata": {
        "id": "eeLEd35DM1NH",
        "colab": {
          "base_uri": "https://localhost:8080/"
        },
        "outputId": "aede6816-1f90-43a4-d813-af452349f667"
      },
      "source": [
        "print(\"AABAA\".lstrip(\"A\"))\n",
        "print(\"AABAA\".rstrip(\"A\"))\n",
        "print(\"AABAA\".strip(\"A\"))"
      ],
      "execution_count": null,
      "outputs": [
        {
          "output_type": "stream",
          "name": "stdout",
          "text": [
            "BAA\n",
            "AAB\n",
            "B\n"
          ]
        }
      ]
    },
    {
      "cell_type": "code",
      "metadata": {
        "id": "SJ8lXgDZM7hg",
        "colab": {
          "base_uri": "https://localhost:8080/"
        },
        "outputId": "097e739e-43da-4f33-c1a0-2f758eb5e674"
      },
      "source": [
        "print(\"ABCABBA\".rstrip(\"AB\"))\n",
        "print(\"ABCABBA\".lstrip(\"AB\"))\n",
        "print(\"ABCABBA\".strip(\"AB\"))"
      ],
      "execution_count": null,
      "outputs": [
        {
          "output_type": "stream",
          "name": "stdout",
          "text": [
            "ABC\n",
            "CABBA\n",
            "C\n"
          ]
        }
      ]
    },
    {
      "cell_type": "markdown",
      "metadata": {
        "id": "C21-EZqxA3Ch"
      },
      "source": [
        "## Formatting Strings"
      ]
    },
    {
      "cell_type": "markdown",
      "metadata": {
        "id": "If4Oxua1P14u"
      },
      "source": [
        "Example from https://developers.google.com/edu/python/strings: using %"
      ]
    },
    {
      "cell_type": "code",
      "metadata": {
        "id": "ip8UJ4gQA7nC",
        "colab": {
          "base_uri": "https://localhost:8080/",
          "height": 35
        },
        "outputId": "063d67f3-070d-4fce-b3c2-743dbd10abf8"
      },
      "source": [
        "text = (\n",
        "    \"%d little pigs come out, \"\n",
        "    \"or I'll %s, and I'll %s, \"\n",
        "    \"and I'll blow your %s down.\"\n",
        "    % (3, 'huff', 'puff', 'house'))\n",
        "text"
      ],
      "execution_count": null,
      "outputs": [
        {
          "output_type": "execute_result",
          "data": {
            "application/vnd.google.colaboratory.intrinsic+json": {
              "type": "string"
            },
            "text/plain": [
              "\"3 little pigs come out, or I'll huff, and I'll puff, and I'll blow your house down.\""
            ]
          },
          "metadata": {},
          "execution_count": 39
        }
      ]
    },
    {
      "cell_type": "code",
      "metadata": {
        "id": "qYanBJbN_PE6",
        "colab": {
          "base_uri": "https://localhost:8080/",
          "height": 35
        },
        "outputId": "27351ad5-28c2-410b-d79c-0fa08993edd5"
      },
      "source": [
        "text = (\n",
        "    \"{} little pigs come out, \"\n",
        "    \"or I'll {}, and I'll {}, \"\n",
        "    \"and I'll blow your {} down.\".format (3, 'huff', 'puff', 'house'))\n",
        "text"
      ],
      "execution_count": null,
      "outputs": [
        {
          "output_type": "execute_result",
          "data": {
            "application/vnd.google.colaboratory.intrinsic+json": {
              "type": "string"
            },
            "text/plain": [
              "\"3 little pigs come out, or I'll huff, and I'll puff, and I'll blow your house down.\""
            ]
          },
          "metadata": {},
          "execution_count": 40
        }
      ]
    },
    {
      "cell_type": "markdown",
      "metadata": {
        "id": "AiEeiRT9AW9U"
      },
      "source": [
        "More formatting options : https://towardsdatascience.com/formatting-strings-and-numbers-in-python-16a326a5d5b3"
      ]
    },
    {
      "cell_type": "markdown",
      "metadata": {
        "id": "Pxeq3qHcClYi"
      },
      "source": [
        "### Patterns without using String Methods\n",
        "\n",
        "Printing Patterns : https://youtu.be/e5MlwdtH0AM\n",
        "\n",
        "Notebook : https://github.com/arun-prathap/Data-Science-Essentials/blob/main/Session_5_Conditionals%2C_Loops_and_Functions.ipynb"
      ]
    },
    {
      "cell_type": "code",
      "metadata": {
        "id": "wrxfQeSgDacH",
        "colab": {
          "base_uri": "https://localhost:8080/"
        },
        "outputId": "536848be-785a-409d-c0dd-061f373c101a"
      },
      "source": [
        "n = int(input())\n",
        "for i in range(1,n+1):\n",
        "    print('*'*i, ' '*2*(n-i), '*'*(2*i-1), ' '*2*(n-i), '*'*i, sep='')"
      ],
      "execution_count": null,
      "outputs": [
        {
          "output_type": "stream",
          "name": "stdout",
          "text": [
            "3\n",
            "*    *    *\n",
            "**  ***  **\n",
            "***********\n"
          ]
        }
      ]
    },
    {
      "cell_type": "code",
      "metadata": {
        "id": "4t2Gyov3EcF5",
        "colab": {
          "base_uri": "https://localhost:8080/"
        },
        "outputId": "ac776c45-9fcd-4b46-b87d-b6f404076775"
      },
      "source": [
        "n = int(input())\n",
        "for i in range(n):\n",
        "    print('*'*(n-i), ' '*2*i, '*'*2*(n-i-1), ' '*2*i, '*'*(n-i), sep='')"
      ],
      "execution_count": null,
      "outputs": [
        {
          "output_type": "stream",
          "name": "stdout",
          "text": [
            "3\n",
            "**********\n",
            "**  **  **\n",
            "*        *\n"
          ]
        }
      ]
    },
    {
      "cell_type": "markdown",
      "metadata": {
        "id": "_P1uH6jHK9uJ"
      },
      "source": [
        "### Patterns using String Methods"
      ]
    },
    {
      "cell_type": "markdown",
      "metadata": {
        "id": "8vPFbUmvN81_"
      },
      "source": [
        "**Syntax**: str.cmd_name(width[, fillchar])"
      ]
    },
    {
      "cell_type": "code",
      "metadata": {
        "id": "XpsfZHJ9Ai-X",
        "colab": {
          "base_uri": "https://localhost:8080/"
        },
        "outputId": "d506274f-414e-4afc-89bf-708bdc4385a4"
      },
      "source": [
        "n = int(input())\n",
        "for i in range(1,n+1):\n",
        "    print(('*'*i).ljust(n), ('*'*(2*i-1)).center(2*n-1), ('*'*i).rjust(n), sep='')"
      ],
      "execution_count": null,
      "outputs": [
        {
          "output_type": "stream",
          "name": "stdout",
          "text": [
            "3\n",
            "*    *    *\n",
            "**  ***  **\n",
            "***********\n"
          ]
        }
      ]
    },
    {
      "cell_type": "code",
      "metadata": {
        "id": "RsT6fSMvJTWz",
        "colab": {
          "base_uri": "https://localhost:8080/"
        },
        "outputId": "d15f1f60-c484-4e88-e4a0-ac76f59c9c6e"
      },
      "source": [
        "n = int(input())\n",
        "for i in range(n):\n",
        "    print(('*'*(n-i)).ljust(n), ('*'*2*(n-i-1)).center(2*(n-1)), ('*'*(n-i)).rjust(n), sep='')"
      ],
      "execution_count": null,
      "outputs": [
        {
          "output_type": "stream",
          "name": "stdout",
          "text": [
            "3\n",
            "**********\n",
            "**  **  **\n",
            "*        *\n"
          ]
        }
      ]
    },
    {
      "cell_type": "code",
      "metadata": {
        "id": "SiGckT1PKK8R",
        "colab": {
          "base_uri": "https://localhost:8080/"
        },
        "outputId": "8d7412ec-7835-4505-ee07-b2450a75688d"
      },
      "source": [
        "n = int(input())\n",
        "for i in range(n):\n",
        "    print(('*'*(n-i)).ljust(n,'-'), ('*'*2*(n-i-1)).center(2*(n-1),'-'), ('*'*(n-i)).rjust(n,'-'), sep='')"
      ],
      "execution_count": null,
      "outputs": [
        {
          "output_type": "stream",
          "name": "stdout",
          "text": [
            "3\n",
            "**********\n",
            "**--**--**\n",
            "*--------*\n"
          ]
        }
      ]
    },
    {
      "cell_type": "markdown",
      "metadata": {
        "id": "9jvkOqPMNt6n"
      },
      "source": [
        "https://python-reference.readthedocs.io/en/latest/docs/str/zfill.html\n",
        "\n",
        "https://python-reference.readthedocs.io/en/latest/docs/str/expandtabs.html"
      ]
    },
    {
      "cell_type": "markdown",
      "metadata": {
        "id": "CAZR-7iBDHvU"
      },
      "source": [
        "# Python string Library"
      ]
    },
    {
      "cell_type": "markdown",
      "metadata": {
        "id": "CPvAP2xZF_gL"
      },
      "source": [
        "Reference : https://docs.python.org/3/library/string.html\n",
        "\n",
        "As per https://developers.google.com/edu/python/strings:\n",
        "```\n",
        "(there is an older module named \"string\" which you should not use)\n",
        "```"
      ]
    },
    {
      "cell_type": "code",
      "metadata": {
        "id": "txwcfGRrCsTt",
        "colab": {
          "base_uri": "https://localhost:8080/"
        },
        "outputId": "e88563fb-625f-411a-dfbe-215d443dd55c"
      },
      "source": [
        "import string\n",
        "dir(string)"
      ],
      "execution_count": null,
      "outputs": [
        {
          "output_type": "execute_result",
          "data": {
            "text/plain": [
              "['Formatter',\n",
              " 'Template',\n",
              " '_ChainMap',\n",
              " '_TemplateMetaclass',\n",
              " '__all__',\n",
              " '__builtins__',\n",
              " '__cached__',\n",
              " '__doc__',\n",
              " '__file__',\n",
              " '__loader__',\n",
              " '__name__',\n",
              " '__package__',\n",
              " '__spec__',\n",
              " '_re',\n",
              " '_string',\n",
              " 'ascii_letters',\n",
              " 'ascii_lowercase',\n",
              " 'ascii_uppercase',\n",
              " 'capwords',\n",
              " 'digits',\n",
              " 'hexdigits',\n",
              " 'octdigits',\n",
              " 'printable',\n",
              " 'punctuation',\n",
              " 'whitespace']"
            ]
          },
          "metadata": {},
          "execution_count": 47
        }
      ]
    },
    {
      "cell_type": "code",
      "metadata": {
        "id": "dWQvWqDxFV5S",
        "colab": {
          "base_uri": "https://localhost:8080/",
          "height": 35
        },
        "outputId": "01724c27-ed15-47a6-b63d-f6b63e9d9dae"
      },
      "source": [
        "string.capwords(\"hello how are you\")"
      ],
      "execution_count": null,
      "outputs": [
        {
          "output_type": "execute_result",
          "data": {
            "application/vnd.google.colaboratory.intrinsic+json": {
              "type": "string"
            },
            "text/plain": [
              "'Hello How Are You'"
            ]
          },
          "metadata": {},
          "execution_count": 48
        }
      ]
    },
    {
      "cell_type": "code",
      "metadata": {
        "id": "nw8KbUAsDPtH",
        "colab": {
          "base_uri": "https://localhost:8080/",
          "height": 35
        },
        "outputId": "4c6b67b6-4ce6-4583-cc42-d8ee830cf400"
      },
      "source": [
        "string.ascii_letters"
      ],
      "execution_count": null,
      "outputs": [
        {
          "output_type": "execute_result",
          "data": {
            "application/vnd.google.colaboratory.intrinsic+json": {
              "type": "string"
            },
            "text/plain": [
              "'abcdefghijklmnopqrstuvwxyzABCDEFGHIJKLMNOPQRSTUVWXYZ'"
            ]
          },
          "metadata": {},
          "execution_count": 49
        }
      ]
    },
    {
      "cell_type": "code",
      "metadata": {
        "id": "oCPl8pjeFRrB",
        "colab": {
          "base_uri": "https://localhost:8080/",
          "height": 35
        },
        "outputId": "70ce97a3-f2ee-42c2-fc0c-055ca7f5dad9"
      },
      "source": [
        "string.ascii_lowercase"
      ],
      "execution_count": null,
      "outputs": [
        {
          "output_type": "execute_result",
          "data": {
            "application/vnd.google.colaboratory.intrinsic+json": {
              "type": "string"
            },
            "text/plain": [
              "'abcdefghijklmnopqrstuvwxyz'"
            ]
          },
          "metadata": {},
          "execution_count": 50
        }
      ]
    },
    {
      "cell_type": "code",
      "metadata": {
        "id": "nktJMyaHFUVN",
        "colab": {
          "base_uri": "https://localhost:8080/",
          "height": 35
        },
        "outputId": "0e7739cb-9146-41f8-e14a-778d29f8b042"
      },
      "source": [
        "string.ascii_uppercase"
      ],
      "execution_count": null,
      "outputs": [
        {
          "output_type": "execute_result",
          "data": {
            "application/vnd.google.colaboratory.intrinsic+json": {
              "type": "string"
            },
            "text/plain": [
              "'ABCDEFGHIJKLMNOPQRSTUVWXYZ'"
            ]
          },
          "metadata": {},
          "execution_count": 51
        }
      ]
    },
    {
      "cell_type": "code",
      "metadata": {
        "id": "f45vduZ5FYAX",
        "colab": {
          "base_uri": "https://localhost:8080/",
          "height": 35
        },
        "outputId": "ae3ecd49-4332-4248-acc7-410247d49959"
      },
      "source": [
        "string.digits"
      ],
      "execution_count": null,
      "outputs": [
        {
          "output_type": "execute_result",
          "data": {
            "application/vnd.google.colaboratory.intrinsic+json": {
              "type": "string"
            },
            "text/plain": [
              "'0123456789'"
            ]
          },
          "metadata": {},
          "execution_count": 52
        }
      ]
    },
    {
      "cell_type": "code",
      "metadata": {
        "id": "xy3edj4EFhmS",
        "colab": {
          "base_uri": "https://localhost:8080/",
          "height": 35
        },
        "outputId": "8c8a18fb-fcbc-4463-9280-ffe1b1ec7731"
      },
      "source": [
        "string.hexdigits"
      ],
      "execution_count": null,
      "outputs": [
        {
          "output_type": "execute_result",
          "data": {
            "application/vnd.google.colaboratory.intrinsic+json": {
              "type": "string"
            },
            "text/plain": [
              "'0123456789abcdefABCDEF'"
            ]
          },
          "metadata": {},
          "execution_count": 53
        }
      ]
    },
    {
      "cell_type": "code",
      "metadata": {
        "id": "vbwGeoZ4FjV0",
        "colab": {
          "base_uri": "https://localhost:8080/",
          "height": 35
        },
        "outputId": "2b5f83e8-7284-4cf4-ac70-c4434ead6ee0"
      },
      "source": [
        "string.octdigits"
      ],
      "execution_count": null,
      "outputs": [
        {
          "output_type": "execute_result",
          "data": {
            "application/vnd.google.colaboratory.intrinsic+json": {
              "type": "string"
            },
            "text/plain": [
              "'01234567'"
            ]
          },
          "metadata": {},
          "execution_count": 54
        }
      ]
    },
    {
      "cell_type": "code",
      "metadata": {
        "id": "5wgc8AS4FlLd",
        "colab": {
          "base_uri": "https://localhost:8080/",
          "height": 35
        },
        "outputId": "f574c805-638c-42fd-ea97-6d2f6266eea4"
      },
      "source": [
        "string.punctuation"
      ],
      "execution_count": null,
      "outputs": [
        {
          "output_type": "execute_result",
          "data": {
            "application/vnd.google.colaboratory.intrinsic+json": {
              "type": "string"
            },
            "text/plain": [
              "'!\"#$%&\\'()*+,-./:;<=>?@[\\\\]^_`{|}~'"
            ]
          },
          "metadata": {},
          "execution_count": 55
        }
      ]
    },
    {
      "cell_type": "code",
      "metadata": {
        "id": "treH_go-FnJ_",
        "colab": {
          "base_uri": "https://localhost:8080/",
          "height": 35
        },
        "outputId": "fb018258-4275-4701-c8d5-1e604c0a7e6e"
      },
      "source": [
        "string.whitespace"
      ],
      "execution_count": null,
      "outputs": [
        {
          "output_type": "execute_result",
          "data": {
            "application/vnd.google.colaboratory.intrinsic+json": {
              "type": "string"
            },
            "text/plain": [
              "' \\t\\n\\r\\x0b\\x0c'"
            ]
          },
          "metadata": {},
          "execution_count": 56
        }
      ]
    },
    {
      "cell_type": "code",
      "metadata": {
        "id": "lgP0rw4sFo8B",
        "colab": {
          "base_uri": "https://localhost:8080/",
          "height": 35
        },
        "outputId": "4a2b7783-ddfa-4a0e-c856-f61af65bba4f"
      },
      "source": [
        "string.printable"
      ],
      "execution_count": null,
      "outputs": [
        {
          "output_type": "execute_result",
          "data": {
            "application/vnd.google.colaboratory.intrinsic+json": {
              "type": "string"
            },
            "text/plain": [
              "'0123456789abcdefghijklmnopqrstuvwxyzABCDEFGHIJKLMNOPQRSTUVWXYZ!\"#$%&\\'()*+,-./:;<=>?@[\\\\]^_`{|}~ \\t\\n\\r\\x0b\\x0c'"
            ]
          },
          "metadata": {},
          "execution_count": 57
        }
      ]
    },
    {
      "cell_type": "markdown",
      "metadata": {
        "id": "cxwZogQnO47F"
      },
      "source": [
        "# Thank You !!!\n",
        "\n",
        "Regards, Arun P R"
      ]
    }
  ]
}