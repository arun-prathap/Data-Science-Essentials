{
  "nbformat": 4,
  "nbformat_minor": 0,
  "metadata": {
    "colab": {
      "name": "OOPs in Python.ipynb",
      "provenance": [],
      "collapsed_sections": [
        "MnwTU0SYa8Ih",
        "MwnfLYw0QSih",
        "h9mDvirIP_eZ",
        "LvhR9HH-P_jQ",
        "NIk2KdrvJqSB",
        "m1xg2Z5HKIAa",
        "ba1Cr9sidL60",
        "xCnrvvweLs0E",
        "IxnI1s3VdPNF",
        "5r8iGSVlauYz",
        "doeflFZLP_qA",
        "hgQZxPAEP_wB",
        "kgcnggjaF-mA",
        "tGHzLG5SD_kc",
        "IGDRv-m6EC_0",
        "Y6NYDyKZ_mPr",
        "MuUwLCRyFD5h"
      ]
    },
    "kernelspec": {
      "name": "python3",
      "display_name": "Python 3"
    },
    "language_info": {
      "name": "python"
    }
  },
  "cells": [
    {
      "cell_type": "markdown",
      "metadata": {
        "id": "Usg0mqKqBn8a"
      },
      "source": [
        "# OOPs Concepts with Python"
      ]
    },
    {
      "cell_type": "markdown",
      "metadata": {
        "id": "MnwTU0SYa8Ih"
      },
      "source": [
        "## Introduction "
      ]
    },
    {
      "cell_type": "markdown",
      "metadata": {
        "id": "vPSdAk-YSZYi"
      },
      "source": [
        "From https://www.indeed.com/career-advice/career-development/what-is-object-oriented-programming:\n",
        "\n",
        "\n",
        "* Object-oriented programming combines a group of data attributes with functions or methods into a unit called an \"object.\" \n",
        "* Popular class-based OOP languages include Java, Python, and C++. \n",
        "* Typically, OOP languages are class-based, which means that a class defines the data attributes and functions as a blueprint for creating objects, which are instances of the class. \n",
        "* Multiple independent objects may be instantiated—or \n",
        "represented—from the same class and interact with each other in complex ways.\n"
      ]
    },
    {
      "cell_type": "markdown",
      "metadata": {
        "id": "gYahvyx1TFoy"
      },
      "source": [
        "**Object is an instance of a class**\n",
        "* Class is a blueprint\n",
        "* You instantiate classes to create objects of that class\n",
        "* Objects of a class can interact with each other as well as with objects of other classes"
      ]
    },
    {
      "cell_type": "markdown",
      "metadata": {
        "id": "RLkV22_4P_Nk"
      },
      "source": [
        "## Four Pillars of Object Oriented Programming"
      ]
    },
    {
      "cell_type": "markdown",
      "metadata": {
        "id": "MwnfLYw0QSih"
      },
      "source": [
        "### References :"
      ]
    },
    {
      "cell_type": "markdown",
      "metadata": {
        "id": "3TL1n9kuImjH"
      },
      "source": [
        "1. https://info.keylimeinteractive.com/the-four-pillars-of-object-oriented-programming:\n",
        "\n",
        "Additional Reference and sources are given at appropriate locations in the notebook. Refer them for more details."
      ]
    },
    {
      "cell_type": "markdown",
      "metadata": {
        "id": "h9mDvirIP_eZ"
      },
      "source": [
        "### Abstraction"
      ]
    },
    {
      "cell_type": "markdown",
      "metadata": {
        "id": "-aF65AxtSHTp"
      },
      "source": [
        "from https://stackify.com/oop-concept-abstraction/\n",
        "* Hiding unnecessary details from the user\n",
        "\n",
        "Consider and example : \n",
        "* You order food on an app like Zomato. \n",
        "* You choose the food items / restaurant, makes payment and gets it at your doorsteps. \n",
        "* You don't need to worry about the nitty-gritty details like :\n",
        "> how the order is forwarded to restaurant, \n",
        "> how a delivery boy is allotted, etc etc \n",
        "* or the technical implementation details like :\n",
        "> which database they are using for storing data and all. \n",
        "* You are provided a top level abstraction that lets you order without worrying about all these processes implemented under the abstraction layer.\n",
        "\n",
        "\n",
        "\n"
      ]
    },
    {
      "cell_type": "markdown",
      "metadata": {
        "id": "SmD7P7d3WnLz"
      },
      "source": [
        "Lets define a class Human to represent a Human Being. We will fill the implementation details later."
      ]
    },
    {
      "cell_type": "code",
      "metadata": {
        "id": "Vt1NI61SWyJV"
      },
      "source": [
        "class Human:\n",
        "  pass"
      ],
      "execution_count": null,
      "outputs": []
    },
    {
      "cell_type": "code",
      "metadata": {
        "id": "q2r5RYiVXyQT",
        "colab": {
          "base_uri": "https://localhost:8080/"
        },
        "outputId": "cd723856-41b0-4aff-cf36-e007e8ed89b7"
      },
      "source": [
        "help(Human)"
      ],
      "execution_count": null,
      "outputs": [
        {
          "output_type": "stream",
          "name": "stdout",
          "text": [
            "Help on class Human in module __main__:\n",
            "\n",
            "class Human(builtins.object)\n",
            " |  Data descriptors defined here:\n",
            " |  \n",
            " |  __dict__\n",
            " |      dictionary for instance variables (if defined)\n",
            " |  \n",
            " |  __weakref__\n",
            " |      list of weak references to the object (if defined)\n",
            "\n"
          ]
        }
      ]
    },
    {
      "cell_type": "code",
      "metadata": {
        "id": "sqtTSryYXu4F",
        "colab": {
          "base_uri": "https://localhost:8080/"
        },
        "outputId": "53b70557-12c8-4914-866a-5e670af10b44"
      },
      "source": [
        "help(object)"
      ],
      "execution_count": null,
      "outputs": [
        {
          "output_type": "stream",
          "name": "stdout",
          "text": [
            "Help on class object in module builtins:\n",
            "\n",
            "class object\n",
            " |  The most base type\n",
            "\n"
          ]
        }
      ]
    },
    {
      "cell_type": "code",
      "metadata": {
        "id": "gIw-VpYNW3hS",
        "colab": {
          "base_uri": "https://localhost:8080/"
        },
        "outputId": "7050fb4b-838c-442f-cc68-b2f5b185d15b"
      },
      "source": [
        "arun = Human()\n",
        "print(type(arun))\n",
        "print(isinstance(arun, Human))\n",
        "print(isinstance(arun, object))"
      ],
      "execution_count": null,
      "outputs": [
        {
          "output_type": "stream",
          "name": "stdout",
          "text": [
            "<class '__main__.Human'>\n",
            "True\n",
            "True\n"
          ]
        }
      ]
    },
    {
      "cell_type": "markdown",
      "metadata": {
        "id": "LvhR9HH-P_jQ"
      },
      "source": [
        "### Encapsulation"
      ]
    },
    {
      "cell_type": "markdown",
      "metadata": {
        "id": "NIk2KdrvJqSB"
      },
      "source": [
        "#### Wrapping the data members and methods"
      ]
    },
    {
      "cell_type": "markdown",
      "metadata": {
        "id": "1AObsIihYWqb"
      },
      "source": [
        "from : https://www.educative.io/edpresso/what-is-encapsulation-in-python\n",
        "\n",
        "* The process of wrapping up variables and methods into a single entity is known as Encapsulation\n",
        "* It acts as a protective shield that puts restrictions on accessing variables and methods directly, and can prevent accidental or unauthorized modification of data. \n",
        "* Encapsulation also makes objects into more self-sufficient, independently functioning pieces."
      ]
    },
    {
      "cell_type": "code",
      "metadata": {
        "id": "uG6fJbb7XTtC"
      },
      "source": [
        "class Human:\n",
        "\n",
        "  def sleep():\n",
        "    print(\"Human is sleeping\")"
      ],
      "execution_count": null,
      "outputs": []
    },
    {
      "cell_type": "code",
      "metadata": {
        "id": "f837ATRlNswD",
        "colab": {
          "base_uri": "https://localhost:8080/"
        },
        "outputId": "a87360ca-c0cd-4e26-d126-0e9660e650eb"
      },
      "source": [
        "Human.sleep()"
      ],
      "execution_count": null,
      "outputs": [
        {
          "output_type": "stream",
          "name": "stdout",
          "text": [
            "Human is sleeping\n"
          ]
        }
      ]
    },
    {
      "cell_type": "code",
      "metadata": {
        "id": "F8mCmNfvZW9y"
      },
      "source": [
        "arun = Human()"
      ],
      "execution_count": null,
      "outputs": []
    },
    {
      "cell_type": "code",
      "metadata": {
        "id": "SSOnrtSlZZ9U",
        "colab": {
          "base_uri": "https://localhost:8080/",
          "height": 162
        },
        "outputId": "58b7d787-2014-4136-c37e-00bd4614c08a"
      },
      "source": [
        "arun.sleep() ## we will see how this can be made to work using @staticmethod decorator later"
      ],
      "execution_count": null,
      "outputs": [
        {
          "output_type": "error",
          "ename": "TypeError",
          "evalue": "ignored",
          "traceback": [
            "\u001b[0;31m---------------------------------------------------------------------------\u001b[0m",
            "\u001b[0;31mTypeError\u001b[0m                                 Traceback (most recent call last)",
            "\u001b[0;32m<ipython-input-8-39c9eb5ef480>\u001b[0m in \u001b[0;36m<module>\u001b[0;34m()\u001b[0m\n\u001b[0;32m----> 1\u001b[0;31m \u001b[0marun\u001b[0m\u001b[0;34m.\u001b[0m\u001b[0msleep\u001b[0m\u001b[0;34m(\u001b[0m\u001b[0;34m)\u001b[0m \u001b[0;31m## we will see how this can be made to work using @staticmethod decorator later\u001b[0m\u001b[0;34m\u001b[0m\u001b[0;34m\u001b[0m\u001b[0m\n\u001b[0m",
            "\u001b[0;31mTypeError\u001b[0m: sleep() takes 0 positional arguments but 1 was given"
          ]
        }
      ]
    },
    {
      "cell_type": "code",
      "metadata": {
        "id": "0idXMm8vZoMK"
      },
      "source": [
        "class Human:\n",
        "\n",
        "  def sleep(self): ##Lets bind this method to an object instance\n",
        "    print(\"Human is sleeping\")"
      ],
      "execution_count": null,
      "outputs": []
    },
    {
      "cell_type": "code",
      "metadata": {
        "id": "h_l5aeMdHw1D",
        "colab": {
          "base_uri": "https://localhost:8080/"
        },
        "outputId": "958f3cbe-b7e3-4e1e-efc1-3ee9d7569c0a"
      },
      "source": [
        "arun = Human()\n",
        "arun.sleep()"
      ],
      "execution_count": null,
      "outputs": [
        {
          "output_type": "stream",
          "name": "stdout",
          "text": [
            "Human is sleeping\n"
          ]
        }
      ]
    },
    {
      "cell_type": "code",
      "metadata": {
        "id": "NCaBdxuMQGEH",
        "colab": {
          "base_uri": "https://localhost:8080/"
        },
        "outputId": "294a2661-ddc0-4027-8f7e-4f806466eafb"
      },
      "source": [
        "arjun = Human()\n",
        "arjun.sleep()"
      ],
      "execution_count": null,
      "outputs": [
        {
          "output_type": "stream",
          "name": "stdout",
          "text": [
            "Human is sleeping\n"
          ]
        }
      ]
    },
    {
      "cell_type": "code",
      "metadata": {
        "id": "GA6ZhjPwO7b9",
        "colab": {
          "base_uri": "https://localhost:8080/",
          "height": 162
        },
        "outputId": "3b7113c0-c0fd-4113-84ea-5c853b979e2a"
      },
      "source": [
        "Human.sleep() ## see how it is bound to the instances arun/arjun and will not work directly with class name now"
      ],
      "execution_count": null,
      "outputs": [
        {
          "output_type": "error",
          "ename": "TypeError",
          "evalue": "ignored",
          "traceback": [
            "\u001b[0;31m---------------------------------------------------------------------------\u001b[0m",
            "\u001b[0;31mTypeError\u001b[0m                                 Traceback (most recent call last)",
            "\u001b[0;32m<ipython-input-12-b278b861c81f>\u001b[0m in \u001b[0;36m<module>\u001b[0;34m()\u001b[0m\n\u001b[0;32m----> 1\u001b[0;31m \u001b[0mHuman\u001b[0m\u001b[0;34m.\u001b[0m\u001b[0msleep\u001b[0m\u001b[0;34m(\u001b[0m\u001b[0;34m)\u001b[0m \u001b[0;31m## see how it is bound to the instances arun/arjun and will not work directly with class name now\u001b[0m\u001b[0;34m\u001b[0m\u001b[0;34m\u001b[0m\u001b[0m\n\u001b[0m",
            "\u001b[0;31mTypeError\u001b[0m: sleep() missing 1 required positional argument: 'self'"
          ]
        }
      ]
    },
    {
      "cell_type": "code",
      "metadata": {
        "id": "8vAeCI4uPu3q",
        "colab": {
          "base_uri": "https://localhost:8080/"
        },
        "outputId": "0998f1bf-ff53-4115-a94d-e163244e9e65"
      },
      "source": [
        "arun.name = \"Arun\" ## lets define an attribute name in our object\n",
        "print(arun.name)"
      ],
      "execution_count": null,
      "outputs": [
        {
          "output_type": "stream",
          "name": "stdout",
          "text": [
            "Arun\n"
          ]
        }
      ]
    },
    {
      "cell_type": "code",
      "metadata": {
        "id": "BO7FlywMP-tI",
        "colab": {
          "base_uri": "https://localhost:8080/"
        },
        "outputId": "e72b2db2-56c8-4ce3-f851-1be0182d1f49"
      },
      "source": [
        "print(arun.name)"
      ],
      "execution_count": null,
      "outputs": [
        {
          "output_type": "stream",
          "name": "stdout",
          "text": [
            "Arun\n"
          ]
        }
      ]
    },
    {
      "cell_type": "code",
      "metadata": {
        "id": "oOpjgCGoQMEu",
        "colab": {
          "base_uri": "https://localhost:8080/",
          "height": 162
        },
        "outputId": "952da731-f32f-471e-fb98-6bbdcccae707"
      },
      "source": [
        "print(Human.name) ## see that the name attribute is bound to the instance arun and not to the class Human"
      ],
      "execution_count": null,
      "outputs": [
        {
          "output_type": "error",
          "ename": "AttributeError",
          "evalue": "ignored",
          "traceback": [
            "\u001b[0;31m---------------------------------------------------------------------------\u001b[0m",
            "\u001b[0;31mAttributeError\u001b[0m                            Traceback (most recent call last)",
            "\u001b[0;32m<ipython-input-15-491df498e4ea>\u001b[0m in \u001b[0;36m<module>\u001b[0;34m()\u001b[0m\n\u001b[0;32m----> 1\u001b[0;31m \u001b[0mprint\u001b[0m\u001b[0;34m(\u001b[0m\u001b[0mHuman\u001b[0m\u001b[0;34m.\u001b[0m\u001b[0mname\u001b[0m\u001b[0;34m)\u001b[0m \u001b[0;31m## see that the name attribute is bound to the instance arun and not to the class Human\u001b[0m\u001b[0;34m\u001b[0m\u001b[0;34m\u001b[0m\u001b[0m\n\u001b[0m",
            "\u001b[0;31mAttributeError\u001b[0m: type object 'Human' has no attribute 'name'"
          ]
        }
      ]
    },
    {
      "cell_type": "markdown",
      "metadata": {
        "id": "m1xg2Z5HKIAa"
      },
      "source": [
        "#### Class Attributes & Instance Attributes"
      ]
    },
    {
      "cell_type": "markdown",
      "metadata": {
        "id": "hE2WaDCXc7yM"
      },
      "source": [
        "Reference : https://www.tutorialsteacher.com/articles/class-attributes-vs-instance-attributes-in-python"
      ]
    },
    {
      "cell_type": "code",
      "metadata": {
        "id": "BnTxR1TiHrmg"
      },
      "source": [
        "class Human:\n",
        "\n",
        "  name = \"Human\" ##lets define name as a class attribute applicable to all objects of the class\n",
        "\n",
        "  def sleep(self):\n",
        "    print(name + \" is sleeping\")"
      ],
      "execution_count": null,
      "outputs": []
    },
    {
      "cell_type": "code",
      "metadata": {
        "id": "h7cK3zQrOqVZ",
        "colab": {
          "base_uri": "https://localhost:8080/"
        },
        "outputId": "5e263a01-7605-4071-dba3-82f3fc6b80f0"
      },
      "source": [
        "arun = Human()\n",
        "print(arun.name)\n",
        "print(Human.name)"
      ],
      "execution_count": null,
      "outputs": [
        {
          "output_type": "stream",
          "name": "stdout",
          "text": [
            "Human\n",
            "Human\n"
          ]
        }
      ]
    },
    {
      "cell_type": "code",
      "metadata": {
        "id": "2fl7HZRkQVOk",
        "colab": {
          "base_uri": "https://localhost:8080/",
          "height": 246
        },
        "outputId": "78423eb3-30ea-43a2-aff1-b844f68020e1"
      },
      "source": [
        "arun.sleep()"
      ],
      "execution_count": null,
      "outputs": [
        {
          "output_type": "error",
          "ename": "NameError",
          "evalue": "ignored",
          "traceback": [
            "\u001b[0;31m---------------------------------------------------------------------------\u001b[0m",
            "\u001b[0;31mNameError\u001b[0m                                 Traceback (most recent call last)",
            "\u001b[0;32m<ipython-input-18-d64034bb3809>\u001b[0m in \u001b[0;36m<module>\u001b[0;34m()\u001b[0m\n\u001b[0;32m----> 1\u001b[0;31m \u001b[0marun\u001b[0m\u001b[0;34m.\u001b[0m\u001b[0msleep\u001b[0m\u001b[0;34m(\u001b[0m\u001b[0;34m)\u001b[0m\u001b[0;34m\u001b[0m\u001b[0;34m\u001b[0m\u001b[0m\n\u001b[0m",
            "\u001b[0;32m<ipython-input-16-0e2e192a63e9>\u001b[0m in \u001b[0;36msleep\u001b[0;34m(self)\u001b[0m\n\u001b[1;32m      4\u001b[0m \u001b[0;34m\u001b[0m\u001b[0m\n\u001b[1;32m      5\u001b[0m   \u001b[0;32mdef\u001b[0m \u001b[0msleep\u001b[0m\u001b[0;34m(\u001b[0m\u001b[0mself\u001b[0m\u001b[0;34m)\u001b[0m\u001b[0;34m:\u001b[0m\u001b[0;34m\u001b[0m\u001b[0;34m\u001b[0m\u001b[0m\n\u001b[0;32m----> 6\u001b[0;31m     \u001b[0mprint\u001b[0m\u001b[0;34m(\u001b[0m\u001b[0mname\u001b[0m \u001b[0;34m+\u001b[0m \u001b[0;34m\" is sleeping\"\u001b[0m\u001b[0;34m)\u001b[0m\u001b[0;34m\u001b[0m\u001b[0;34m\u001b[0m\u001b[0m\n\u001b[0m",
            "\u001b[0;31mNameError\u001b[0m: name 'name' is not defined"
          ]
        }
      ]
    },
    {
      "cell_type": "code",
      "metadata": {
        "id": "0eHBfzgBOoDD"
      },
      "source": [
        "class Human:\n",
        "\n",
        "  name = \"Human\"\n",
        "\n",
        "  def sleep(self):\n",
        "    print(Human.name + \" is sleeping\")## to use class attribute inside instance method we have to call the attribute with class name"
      ],
      "execution_count": null,
      "outputs": []
    },
    {
      "cell_type": "code",
      "metadata": {
        "id": "9iswrEHlZobZ",
        "colab": {
          "base_uri": "https://localhost:8080/"
        },
        "outputId": "04dc85a0-058b-4fec-b6cc-5bae4e101917"
      },
      "source": [
        "arun = Human()\n",
        "print(arun.name)\n",
        "print(Human.name)\n",
        "arun.sleep()"
      ],
      "execution_count": null,
      "outputs": [
        {
          "output_type": "stream",
          "name": "stdout",
          "text": [
            "Human\n",
            "Human\n",
            "Human is sleeping\n"
          ]
        }
      ]
    },
    {
      "cell_type": "code",
      "metadata": {
        "id": "lC2KLqp5H7z8",
        "colab": {
          "base_uri": "https://localhost:8080/"
        },
        "outputId": "b2d0eb7a-44ef-4954-95f8-f44ffe305dd9"
      },
      "source": [
        "arun.name = \"Arun\"\n",
        "print(arun.name)\n",
        "print(Human.name)## see how class attribute value not changed when you change it for a particular instance\n",
        "arun.sleep()## see how Human.name is getting printed"
      ],
      "execution_count": null,
      "outputs": [
        {
          "output_type": "stream",
          "name": "stdout",
          "text": [
            "Arun\n",
            "Human\n",
            "Human is sleeping\n"
          ]
        }
      ]
    },
    {
      "cell_type": "code",
      "metadata": {
        "id": "jVFwOgIzIQdI",
        "colab": {
          "base_uri": "https://localhost:8080/"
        },
        "outputId": "5b3511ba-9ff8-4e0b-dc6c-46aeee0be52d"
      },
      "source": [
        "Human.name = \"Arun\"\n",
        "print(arun.name)\n",
        "print(Human.name)\n",
        "arun.sleep()"
      ],
      "execution_count": null,
      "outputs": [
        {
          "output_type": "stream",
          "name": "stdout",
          "text": [
            "Arun\n",
            "Arun\n",
            "Arun is sleeping\n"
          ]
        }
      ]
    },
    {
      "cell_type": "code",
      "metadata": {
        "id": "MUHLKKgyPbdi",
        "colab": {
          "base_uri": "https://localhost:8080/"
        },
        "outputId": "fdce792b-c09a-4906-e660-15e5085e0615"
      },
      "source": [
        "arjun = Human()\n",
        "print(arjun.name)## see how class attribute value is common to all objects\n",
        "print(Human.name)\n",
        "arjun.sleep()"
      ],
      "execution_count": null,
      "outputs": [
        {
          "output_type": "stream",
          "name": "stdout",
          "text": [
            "Arun\n",
            "Arun\n",
            "Arun is sleeping\n"
          ]
        }
      ]
    },
    {
      "cell_type": "code",
      "metadata": {
        "id": "-Nbr-GvCJw3i",
        "colab": {
          "base_uri": "https://localhost:8080/",
          "height": 346
        },
        "outputId": "c6b9e185-fd9a-4fd6-c769-68fa44bbe744"
      },
      "source": [
        "class Human:  \n",
        "  \n",
        "  self.name = \"Arun\"\n",
        "\n",
        "  def sleep(self):\n",
        "    print(\"Human is sleeping\")"
      ],
      "execution_count": null,
      "outputs": [
        {
          "output_type": "error",
          "ename": "NameError",
          "evalue": "ignored",
          "traceback": [
            "\u001b[0;31m---------------------------------------------------------------------------\u001b[0m",
            "\u001b[0;31mNameError\u001b[0m                                 Traceback (most recent call last)",
            "\u001b[0;32m<ipython-input-24-7084a3223675>\u001b[0m in \u001b[0;36m<module>\u001b[0;34m()\u001b[0m\n\u001b[0;32m----> 1\u001b[0;31m \u001b[0;32mclass\u001b[0m \u001b[0mHuman\u001b[0m\u001b[0;34m:\u001b[0m\u001b[0;34m\u001b[0m\u001b[0;34m\u001b[0m\u001b[0m\n\u001b[0m\u001b[1;32m      2\u001b[0m \u001b[0;34m\u001b[0m\u001b[0m\n\u001b[1;32m      3\u001b[0m   \u001b[0mself\u001b[0m\u001b[0;34m.\u001b[0m\u001b[0mname\u001b[0m \u001b[0;34m=\u001b[0m \u001b[0;34m\"Arun\"\u001b[0m\u001b[0;34m\u001b[0m\u001b[0;34m\u001b[0m\u001b[0m\n\u001b[1;32m      4\u001b[0m \u001b[0;34m\u001b[0m\u001b[0m\n\u001b[1;32m      5\u001b[0m   \u001b[0;32mdef\u001b[0m \u001b[0msleep\u001b[0m\u001b[0;34m(\u001b[0m\u001b[0mself\u001b[0m\u001b[0;34m)\u001b[0m\u001b[0;34m:\u001b[0m\u001b[0;34m\u001b[0m\u001b[0;34m\u001b[0m\u001b[0m\n",
            "\u001b[0;32m<ipython-input-24-7084a3223675>\u001b[0m in \u001b[0;36mHuman\u001b[0;34m()\u001b[0m\n\u001b[1;32m      1\u001b[0m \u001b[0;32mclass\u001b[0m \u001b[0mHuman\u001b[0m\u001b[0;34m:\u001b[0m\u001b[0;34m\u001b[0m\u001b[0;34m\u001b[0m\u001b[0m\n\u001b[1;32m      2\u001b[0m \u001b[0;34m\u001b[0m\u001b[0m\n\u001b[0;32m----> 3\u001b[0;31m   \u001b[0mself\u001b[0m\u001b[0;34m.\u001b[0m\u001b[0mname\u001b[0m \u001b[0;34m=\u001b[0m \u001b[0;34m\"Arun\"\u001b[0m\u001b[0;34m\u001b[0m\u001b[0;34m\u001b[0m\u001b[0m\n\u001b[0m\u001b[1;32m      4\u001b[0m \u001b[0;34m\u001b[0m\u001b[0m\n\u001b[1;32m      5\u001b[0m   \u001b[0;32mdef\u001b[0m \u001b[0msleep\u001b[0m\u001b[0;34m(\u001b[0m\u001b[0mself\u001b[0m\u001b[0;34m)\u001b[0m\u001b[0;34m:\u001b[0m\u001b[0;34m\u001b[0m\u001b[0;34m\u001b[0m\u001b[0m\n",
            "\u001b[0;31mNameError\u001b[0m: name 'self' is not defined"
          ]
        }
      ]
    },
    {
      "cell_type": "code",
      "metadata": {
        "id": "putwQbojIcm9"
      },
      "source": [
        "class Human:  \n",
        "\n",
        "  def __init__(self, name):##constructor\n",
        "    self.name = name ## name is now defined as an instance attribute\n",
        "\n",
        "  def sleep(self):\n",
        "    print(self.name + \" is sleeping\")"
      ],
      "execution_count": null,
      "outputs": []
    },
    {
      "cell_type": "markdown",
      "metadata": {
        "id": "V324777NFUPh"
      },
      "source": [
        "* Constructor is a type of subroutine in object-oriented programming. \n",
        "* Constructor is used to assigning value to data members when an object is created inside a class. \n",
        "* The  \\_\\_init\\_\\_() function is used as a constructor in python almost every * time we create an object. \n",
        "* In polymorphism, we use this \\_\\_init\\_\\_() function almost everywhere."
      ]
    },
    {
      "cell_type": "code",
      "metadata": {
        "id": "ex8dWBjiRMYX",
        "colab": {
          "base_uri": "https://localhost:8080/",
          "height": 162
        },
        "outputId": "54a3d278-6bf1-4c43-ac32-c41d7cc67df0"
      },
      "source": [
        "print(Human.name) ## see how we cannot access attribute with class name anymore"
      ],
      "execution_count": null,
      "outputs": [
        {
          "output_type": "error",
          "ename": "AttributeError",
          "evalue": "ignored",
          "traceback": [
            "\u001b[0;31m---------------------------------------------------------------------------\u001b[0m",
            "\u001b[0;31mAttributeError\u001b[0m                            Traceback (most recent call last)",
            "\u001b[0;32m<ipython-input-27-a78339bec39d>\u001b[0m in \u001b[0;36m<module>\u001b[0;34m()\u001b[0m\n\u001b[0;32m----> 1\u001b[0;31m \u001b[0mprint\u001b[0m\u001b[0;34m(\u001b[0m\u001b[0mHuman\u001b[0m\u001b[0;34m.\u001b[0m\u001b[0mname\u001b[0m\u001b[0;34m)\u001b[0m \u001b[0;31m## see how we cannot access attribute with class name anymore\u001b[0m\u001b[0;34m\u001b[0m\u001b[0;34m\u001b[0m\u001b[0m\n\u001b[0m",
            "\u001b[0;31mAttributeError\u001b[0m: type object 'Human' has no attribute 'name'"
          ]
        }
      ]
    },
    {
      "cell_type": "code",
      "metadata": {
        "id": "h6F32nd5Ilul",
        "colab": {
          "base_uri": "https://localhost:8080/"
        },
        "outputId": "ec4c47ee-ed23-4347-9410-ba194f2889f4"
      },
      "source": [
        "arun = Human(\"Arun\")\n",
        "print(arun.name)"
      ],
      "execution_count": null,
      "outputs": [
        {
          "output_type": "stream",
          "name": "stdout",
          "text": [
            "Arun\n"
          ]
        }
      ]
    },
    {
      "cell_type": "code",
      "metadata": {
        "id": "2p6soCAAQxrr"
      },
      "source": [
        "class Human:  \n",
        "\n",
        "  def __init__(self, name = \"Human\"):\n",
        "    self.name = name\n",
        "\n",
        "  def sleep(self):\n",
        "    print(self.name + \" is sleeping\")"
      ],
      "execution_count": null,
      "outputs": []
    },
    {
      "cell_type": "code",
      "metadata": {
        "id": "NGtZODVVIx7D",
        "colab": {
          "base_uri": "https://localhost:8080/"
        },
        "outputId": "e22bcd52-f251-4372-899f-040e3e96eff2"
      },
      "source": [
        "arun = Human()\n",
        "arjun = Human(\"Arjun\")\n",
        "print(arjun.name)\n",
        "print(arun.name)\n",
        "arjun.sleep()\n",
        "arun.sleep()"
      ],
      "execution_count": null,
      "outputs": [
        {
          "output_type": "stream",
          "name": "stdout",
          "text": [
            "Arjun\n",
            "Human\n",
            "Arjun is sleeping\n",
            "Human is sleeping\n"
          ]
        }
      ]
    },
    {
      "cell_type": "code",
      "metadata": {
        "id": "Z26yESAGRLC1",
        "colab": {
          "base_uri": "https://localhost:8080/"
        },
        "outputId": "0a6fec5a-ba09-48b6-85f8-6346ca792814"
      },
      "source": [
        "arun.name = \"Arun\"\n",
        "print(arun.name)\n",
        "arun.sleep()"
      ],
      "execution_count": null,
      "outputs": [
        {
          "output_type": "stream",
          "name": "stdout",
          "text": [
            "Arun\n",
            "Arun is sleeping\n"
          ]
        }
      ]
    },
    {
      "cell_type": "markdown",
      "metadata": {
        "id": "ba1Cr9sidL60"
      },
      "source": [
        "#### Dunder or magic methods in Python\n"
      ]
    },
    {
      "cell_type": "markdown",
      "metadata": {
        "id": "Qqw6beW1MYNN"
      },
      "source": [
        "Reference : https://www.geeksforgeeks.org/dunder-magic-methods-python/"
      ]
    },
    {
      "cell_type": "markdown",
      "metadata": {
        "id": "UEmhQLUjMjRr"
      },
      "source": [
        "* Dunder or magic methods in Python are the methods having two prefix and suffix underscores in the method name. \n",
        "* Dunder here means “Double Under (Underscores)”.\n",
        "* These are commonly used for operator overloading. \n",
        "* Few examples for magic methods are: \\_\\_init\\_\\_, \\_\\_add\\_\\_, \\_\\_len\\_\\_, \\_\\_repr\\_\\_, \\_\\_str\\_\\_, etc."
      ]
    },
    {
      "cell_type": "code",
      "metadata": {
        "id": "MSJ4HXpRMXs5",
        "colab": {
          "base_uri": "https://localhost:8080/"
        },
        "outputId": "38ccb2c8-6cd5-43c5-d730-09fe8207c539"
      },
      "source": [
        "dir(Human)"
      ],
      "execution_count": null,
      "outputs": [
        {
          "output_type": "execute_result",
          "data": {
            "text/plain": [
              "['__class__',\n",
              " '__delattr__',\n",
              " '__dict__',\n",
              " '__dir__',\n",
              " '__doc__',\n",
              " '__eq__',\n",
              " '__format__',\n",
              " '__ge__',\n",
              " '__getattribute__',\n",
              " '__gt__',\n",
              " '__hash__',\n",
              " '__init__',\n",
              " '__init_subclass__',\n",
              " '__le__',\n",
              " '__lt__',\n",
              " '__module__',\n",
              " '__ne__',\n",
              " '__new__',\n",
              " '__reduce__',\n",
              " '__reduce_ex__',\n",
              " '__repr__',\n",
              " '__setattr__',\n",
              " '__sizeof__',\n",
              " '__str__',\n",
              " '__subclasshook__',\n",
              " '__weakref__',\n",
              " 'sleep']"
            ]
          },
          "metadata": {},
          "execution_count": 32
        }
      ]
    },
    {
      "cell_type": "markdown",
      "metadata": {
        "id": "CbNrHW98JTT5"
      },
      "source": [
        "https://www.geeksforgeeks.org/what-does-the-if-__name__-__main__-do/"
      ]
    },
    {
      "cell_type": "code",
      "metadata": {
        "id": "AvR3DHXUJjqs"
      },
      "source": [
        "## if __name__ == \"__main__\":"
      ],
      "execution_count": null,
      "outputs": []
    },
    {
      "cell_type": "markdown",
      "metadata": {
        "id": "xCnrvvweLs0E"
      },
      "source": [
        "#### Public, protected and private attributes"
      ]
    },
    {
      "cell_type": "markdown",
      "metadata": {
        "id": "a5GASf3jLtUt"
      },
      "source": [
        "Reference : https://www.tutorialsteacher.com/python/public-private-protected-modifiers"
      ]
    },
    {
      "cell_type": "code",
      "metadata": {
        "id": "aGFWmOqkLsVm"
      },
      "source": [
        "class Human:\n",
        "\n",
        "  def __init__(self):\n",
        "    self.name = \"public attribute \"\n",
        "    self._phno = \"protected attribute \"\n",
        "    self.__id = \"private attribute \"\n",
        "\n",
        "  def __str__(self):\n",
        "    return self.name + '\\n' +  self._phno + '\\n' + self.__id\n",
        "  \n",
        "  def change(self):\n",
        "    self.name = \"public attribute can be changed by instance method\"\n",
        "    self._phno = \"protected attribute can be changed by instance method\"\n",
        "    self.__id = \"private attribute can be changed by instance method\"\n",
        "\n"
      ],
      "execution_count": null,
      "outputs": []
    },
    {
      "cell_type": "code",
      "metadata": {
        "id": "GjvKoGHgIx-P",
        "colab": {
          "base_uri": "https://localhost:8080/"
        },
        "outputId": "a085b8bf-6854-430d-dbfd-0faac92244de"
      },
      "source": [
        "arun = Human()\n",
        "print(arun)"
      ],
      "execution_count": null,
      "outputs": [
        {
          "output_type": "stream",
          "name": "stdout",
          "text": [
            "public attribute \n",
            "protected attribute \n",
            "private attribute \n"
          ]
        }
      ]
    },
    {
      "cell_type": "code",
      "metadata": {
        "id": "x5GJhVlRIyB5",
        "colab": {
          "base_uri": "https://localhost:8080/"
        },
        "outputId": "9ca2f24f-c8a9-447c-8f5a-398675118348"
      },
      "source": [
        "arun.change()\n",
        "print(arun)"
      ],
      "execution_count": null,
      "outputs": [
        {
          "output_type": "stream",
          "name": "stdout",
          "text": [
            "public attribute can be changed by instance method\n",
            "protected attribute can be changed by instance method\n",
            "private attribute can be changed by instance method\n"
          ]
        }
      ]
    },
    {
      "cell_type": "code",
      "metadata": {
        "id": "AX3rfzL6T4nL",
        "colab": {
          "base_uri": "https://localhost:8080/",
          "height": 229
        },
        "outputId": "1d7155b5-97d5-430b-ed88-ae1307f6b8ba"
      },
      "source": [
        "print(arun.name)\n",
        "print(arun._phno) ## Acesssible but should not be used \n",
        "print(arun.__id) ## Not accessible directly by name"
      ],
      "execution_count": null,
      "outputs": [
        {
          "output_type": "stream",
          "name": "stdout",
          "text": [
            "public attribute can be changed by instance method\n",
            "protected attribute can be changed by instance method\n"
          ]
        },
        {
          "output_type": "error",
          "ename": "AttributeError",
          "evalue": "ignored",
          "traceback": [
            "\u001b[0;31m---------------------------------------------------------------------------\u001b[0m",
            "\u001b[0;31mAttributeError\u001b[0m                            Traceback (most recent call last)",
            "\u001b[0;32m<ipython-input-36-52485c83bd0d>\u001b[0m in \u001b[0;36m<module>\u001b[0;34m()\u001b[0m\n\u001b[1;32m      1\u001b[0m \u001b[0mprint\u001b[0m\u001b[0;34m(\u001b[0m\u001b[0marun\u001b[0m\u001b[0;34m.\u001b[0m\u001b[0mname\u001b[0m\u001b[0;34m)\u001b[0m\u001b[0;34m\u001b[0m\u001b[0;34m\u001b[0m\u001b[0m\n\u001b[1;32m      2\u001b[0m \u001b[0mprint\u001b[0m\u001b[0;34m(\u001b[0m\u001b[0marun\u001b[0m\u001b[0;34m.\u001b[0m\u001b[0m_phno\u001b[0m\u001b[0;34m)\u001b[0m \u001b[0;31m## Acesssible but should not be used\u001b[0m\u001b[0;34m\u001b[0m\u001b[0;34m\u001b[0m\u001b[0m\n\u001b[0;32m----> 3\u001b[0;31m \u001b[0mprint\u001b[0m\u001b[0;34m(\u001b[0m\u001b[0marun\u001b[0m\u001b[0;34m.\u001b[0m\u001b[0m__id\u001b[0m\u001b[0;34m)\u001b[0m \u001b[0;31m## Not accessible directly by name\u001b[0m\u001b[0;34m\u001b[0m\u001b[0;34m\u001b[0m\u001b[0m\n\u001b[0m",
            "\u001b[0;31mAttributeError\u001b[0m: 'Human' object has no attribute '__id'"
          ]
        }
      ]
    },
    {
      "cell_type": "code",
      "metadata": {
        "id": "0r9CHXLEVeZ-",
        "colab": {
          "base_uri": "https://localhost:8080/"
        },
        "outputId": "1114d182-db38-4d4d-ac56-0d92d3e77ff5"
      },
      "source": [
        "arun.name = \"Arun\"\n",
        "arun._phno = \"0123456789\"\n",
        "arun.__id = \"ABCD1234\" ## creates an instance variable which is public\n",
        "print(arun)"
      ],
      "execution_count": null,
      "outputs": [
        {
          "output_type": "stream",
          "name": "stdout",
          "text": [
            "Arun\n",
            "0123456789\n",
            "private attribute can be changed by instance method\n"
          ]
        }
      ]
    },
    {
      "cell_type": "code",
      "metadata": {
        "id": "HB645DLrWYcF",
        "colab": {
          "base_uri": "https://localhost:8080/"
        },
        "outputId": "93d053d5-300c-411d-ca92-9587205762f8"
      },
      "source": [
        "print(arun.__id)"
      ],
      "execution_count": null,
      "outputs": [
        {
          "output_type": "stream",
          "name": "stdout",
          "text": [
            "ABCD1234\n"
          ]
        }
      ]
    },
    {
      "cell_type": "code",
      "metadata": {
        "id": "G4j29EiZV-KC",
        "colab": {
          "base_uri": "https://localhost:8080/"
        },
        "outputId": "6f168d1f-9c57-41ea-ed7f-5ec61009c107"
      },
      "source": [
        "arun.__id = \"hello1\" ## creates an instance variable which is public\n",
        "print(arun.__id)\n",
        "print(arun)"
      ],
      "execution_count": null,
      "outputs": [
        {
          "output_type": "stream",
          "name": "stdout",
          "text": [
            "hello1\n",
            "Arun\n",
            "0123456789\n",
            "private attribute can be changed by instance method\n"
          ]
        }
      ]
    },
    {
      "cell_type": "code",
      "metadata": {
        "id": "0RM4mI6RVGG0",
        "colab": {
          "base_uri": "https://localhost:8080/"
        },
        "outputId": "14057a3d-5a9b-4d59-89d3-96b3ae64f506"
      },
      "source": [
        "print(arun._Human__id) ## Accessible by Name mangling, but should not be used"
      ],
      "execution_count": null,
      "outputs": [
        {
          "output_type": "stream",
          "name": "stdout",
          "text": [
            "private attribute can be changed by instance method\n"
          ]
        }
      ]
    },
    {
      "cell_type": "code",
      "metadata": {
        "id": "EZ3cRdFTUFrE",
        "colab": {
          "base_uri": "https://localhost:8080/"
        },
        "outputId": "634795d6-8cfa-4960-b65f-8e449670d17c"
      },
      "source": [
        "print(arun)"
      ],
      "execution_count": null,
      "outputs": [
        {
          "output_type": "stream",
          "name": "stdout",
          "text": [
            "Arun\n",
            "0123456789\n",
            "private attribute can be changed by instance method\n"
          ]
        }
      ]
    },
    {
      "cell_type": "code",
      "metadata": {
        "id": "DEyLgVYpVicB",
        "colab": {
          "base_uri": "https://localhost:8080/"
        },
        "outputId": "7f6129bf-792c-415b-b575-6164331a14ae"
      },
      "source": [
        "arun._Human__id = \"hello123\"\n",
        "print(arun)"
      ],
      "execution_count": null,
      "outputs": [
        {
          "output_type": "stream",
          "name": "stdout",
          "text": [
            "Arun\n",
            "0123456789\n",
            "hello123\n"
          ]
        }
      ]
    },
    {
      "cell_type": "markdown",
      "metadata": {
        "id": "IxnI1s3VdPNF"
      },
      "source": [
        "#### Setters and Getters"
      ]
    },
    {
      "cell_type": "markdown",
      "metadata": {
        "id": "dee-WlhzdbUs"
      },
      "source": [
        "https://www.geeksforgeeks.org/getter-and-setter-in-python/"
      ]
    },
    {
      "cell_type": "markdown",
      "metadata": {
        "id": "xMJotp5S29B2"
      },
      "source": [
        "To access attributes (especially protected and private ones), you can make use of setter and getter methods or property() function or @property decorator"
      ]
    },
    {
      "cell_type": "markdown",
      "metadata": {
        "id": "5r8iGSVlauYz"
      },
      "source": [
        "#### Instance, Class, and Static Methods"
      ]
    },
    {
      "cell_type": "markdown",
      "metadata": {
        "id": "cKzFRFjSbPBD"
      },
      "source": [
        "Reference : https://realpython.com/instance-class-and-static-methods-demystified/"
      ]
    },
    {
      "cell_type": "code",
      "metadata": {
        "id": "A9aUsNf5zwje"
      },
      "source": [
        "class Human:\n",
        "\n",
        "  @classmethod\n",
        "  def sleep(cls):\n",
        "    print(\"Human is sleeping\")"
      ],
      "execution_count": null,
      "outputs": []
    },
    {
      "cell_type": "code",
      "metadata": {
        "id": "XjNcj27M4cy2",
        "colab": {
          "base_uri": "https://localhost:8080/"
        },
        "outputId": "870d5de4-3dac-4ebd-838c-8c6b4cc709ba"
      },
      "source": [
        "Human.sleep()\n",
        "arun = Human()\n",
        "arun.sleep()"
      ],
      "execution_count": null,
      "outputs": [
        {
          "output_type": "stream",
          "name": "stdout",
          "text": [
            "Human is sleeping\n",
            "Human is sleeping\n"
          ]
        }
      ]
    },
    {
      "cell_type": "markdown",
      "metadata": {
        "id": "tEI0lMj14pGv"
      },
      "source": [
        "* Instead of accepting a self parameter, class methods take a cls parameter that points to the class—and not the object instance—when the method is called.\n",
        "* Please note that naming these parameters self and cls is just a convention. You could just as easily name them the_object and the_class and get the same result. All that matters is that they’re positioned first in the parameter list for the method."
      ]
    },
    {
      "cell_type": "code",
      "metadata": {
        "id": "QZPVTI7b5PzZ"
      },
      "source": [
        "class Human:\n",
        "\n",
        "  @classmethod\n",
        "  def sleep(cls):\n",
        "    print(cls.greeting)\n",
        "    cls.greeting = \"hello1234\"\n",
        "    print(cls.greeting)\n",
        "\n",
        "  greeting = \"hello\""
      ],
      "execution_count": null,
      "outputs": []
    },
    {
      "cell_type": "code",
      "metadata": {
        "id": "5jz00nbz6Dvd",
        "colab": {
          "base_uri": "https://localhost:8080/"
        },
        "outputId": "db90521d-94ac-4cd8-a1f8-280d26192456"
      },
      "source": [
        "Human.sleep()\n",
        "Human.greeting = \"hello\"\n",
        "arun = Human()\n",
        "arun.sleep()"
      ],
      "execution_count": null,
      "outputs": [
        {
          "output_type": "stream",
          "name": "stdout",
          "text": [
            "hello\n",
            "hello1234\n",
            "hello\n",
            "hello1234\n"
          ]
        }
      ]
    },
    {
      "cell_type": "code",
      "metadata": {
        "id": "YfIJOjPr6D4S"
      },
      "source": [
        "class Human:\n",
        "\n",
        "  @classmethod\n",
        "  def sleep(cls):\n",
        "    print(cls.greeting + \" \" + self.name +\" is sleeping\")## name 'self' is not defined\n",
        "\n",
        "  greeting = \"hello\"\n",
        "\n",
        "  def __init__(self,name):\n",
        "    self.name = name"
      ],
      "execution_count": null,
      "outputs": []
    },
    {
      "cell_type": "code",
      "metadata": {
        "id": "fJqgdyeT5QSo",
        "colab": {
          "base_uri": "https://localhost:8080/",
          "height": 313
        },
        "outputId": "67064d9f-4ad7-4cf9-8d0d-c5a37384244c"
      },
      "source": [
        "Human.sleep()\n",
        "arun = Human(\"Arun\")\n",
        "arun.sleep()"
      ],
      "execution_count": null,
      "outputs": [
        {
          "output_type": "error",
          "ename": "NameError",
          "evalue": "ignored",
          "traceback": [
            "\u001b[0;31m---------------------------------------------------------------------------\u001b[0m",
            "\u001b[0;31mNameError\u001b[0m                                 Traceback (most recent call last)",
            "\u001b[0;32m<ipython-input-48-f66b4bf89163>\u001b[0m in \u001b[0;36m<module>\u001b[0;34m()\u001b[0m\n\u001b[0;32m----> 1\u001b[0;31m \u001b[0mHuman\u001b[0m\u001b[0;34m.\u001b[0m\u001b[0msleep\u001b[0m\u001b[0;34m(\u001b[0m\u001b[0;34m)\u001b[0m\u001b[0;34m\u001b[0m\u001b[0;34m\u001b[0m\u001b[0m\n\u001b[0m\u001b[1;32m      2\u001b[0m \u001b[0marun\u001b[0m \u001b[0;34m=\u001b[0m \u001b[0mHuman\u001b[0m\u001b[0;34m(\u001b[0m\u001b[0;34m\"Arun\"\u001b[0m\u001b[0;34m)\u001b[0m\u001b[0;34m\u001b[0m\u001b[0;34m\u001b[0m\u001b[0m\n\u001b[1;32m      3\u001b[0m \u001b[0marun\u001b[0m\u001b[0;34m.\u001b[0m\u001b[0msleep\u001b[0m\u001b[0;34m(\u001b[0m\u001b[0;34m)\u001b[0m\u001b[0;34m\u001b[0m\u001b[0;34m\u001b[0m\u001b[0m\n",
            "\u001b[0;32m<ipython-input-47-ef12126d861a>\u001b[0m in \u001b[0;36msleep\u001b[0;34m(cls)\u001b[0m\n\u001b[1;32m      3\u001b[0m   \u001b[0;34m@\u001b[0m\u001b[0mclassmethod\u001b[0m\u001b[0;34m\u001b[0m\u001b[0;34m\u001b[0m\u001b[0m\n\u001b[1;32m      4\u001b[0m   \u001b[0;32mdef\u001b[0m \u001b[0msleep\u001b[0m\u001b[0;34m(\u001b[0m\u001b[0mcls\u001b[0m\u001b[0;34m)\u001b[0m\u001b[0;34m:\u001b[0m\u001b[0;34m\u001b[0m\u001b[0;34m\u001b[0m\u001b[0m\n\u001b[0;32m----> 5\u001b[0;31m     \u001b[0mprint\u001b[0m\u001b[0;34m(\u001b[0m\u001b[0mcls\u001b[0m\u001b[0;34m.\u001b[0m\u001b[0mgreeting\u001b[0m \u001b[0;34m+\u001b[0m \u001b[0;34m\" \"\u001b[0m \u001b[0;34m+\u001b[0m \u001b[0mself\u001b[0m\u001b[0;34m.\u001b[0m\u001b[0mname\u001b[0m \u001b[0;34m+\u001b[0m\u001b[0;34m\" is sleeping\"\u001b[0m\u001b[0;34m)\u001b[0m\u001b[0;31m## name 'self' is not defined\u001b[0m\u001b[0;34m\u001b[0m\u001b[0;34m\u001b[0m\u001b[0m\n\u001b[0m\u001b[1;32m      6\u001b[0m \u001b[0;34m\u001b[0m\u001b[0m\n\u001b[1;32m      7\u001b[0m   \u001b[0mgreeting\u001b[0m \u001b[0;34m=\u001b[0m \u001b[0;34m\"hello\"\u001b[0m\u001b[0;34m\u001b[0m\u001b[0;34m\u001b[0m\u001b[0m\n",
            "\u001b[0;31mNameError\u001b[0m: name 'self' is not defined"
          ]
        }
      ]
    },
    {
      "cell_type": "code",
      "metadata": {
        "id": "RbnRBG5T4ax2"
      },
      "source": [
        "class Human:\n",
        "\n",
        "  @staticmethod\n",
        "  def sleep():\n",
        "    print(\"Human is sleeping\")"
      ],
      "execution_count": null,
      "outputs": []
    },
    {
      "cell_type": "code",
      "metadata": {
        "id": "ImEWFSfez10l",
        "colab": {
          "base_uri": "https://localhost:8080/"
        },
        "outputId": "28f42dfa-b395-45b2-934f-4b9f0a961b10"
      },
      "source": [
        "Human.sleep()\n",
        "arun = Human()\n",
        "arun.sleep()"
      ],
      "execution_count": null,
      "outputs": [
        {
          "output_type": "stream",
          "name": "stdout",
          "text": [
            "Human is sleeping\n",
            "Human is sleeping\n"
          ]
        }
      ]
    },
    {
      "cell_type": "markdown",
      "metadata": {
        "id": "oCcJFttJzBmN"
      },
      "source": [
        "* Static Methods can neither access the object instance state nor the class state. \n",
        "* They work like regular functions but belong to the class’s (and every instance’s) namespace. \n",
        "* Static methods are restricted in what data they can access - and they’re primarily a way to namespace your methods."
      ]
    },
    {
      "cell_type": "code",
      "metadata": {
        "id": "ot99mWxq3tZO"
      },
      "source": [
        "class Human:\n",
        "\n",
        "  @staticmethod\n",
        "  def sleep():\n",
        "    print(cls.greeting + \" \" + self.name +\" is sleeping\") ##name 'cls' is not defined ## name 'self' is not defined\n",
        "\n",
        "  greeting = \"hello\"\n",
        "\n",
        "  def __init__(self,name):\n",
        "    self.name = name"
      ],
      "execution_count": null,
      "outputs": []
    },
    {
      "cell_type": "code",
      "metadata": {
        "id": "PLsoC1-N3vMv",
        "colab": {
          "base_uri": "https://localhost:8080/",
          "height": 296
        },
        "outputId": "b89ccafe-44a0-4742-d17e-68054b58d4fd"
      },
      "source": [
        "arun = Human(\"Arun\")\n",
        "arun.sleep()"
      ],
      "execution_count": null,
      "outputs": [
        {
          "output_type": "error",
          "ename": "NameError",
          "evalue": "ignored",
          "traceback": [
            "\u001b[0;31m---------------------------------------------------------------------------\u001b[0m",
            "\u001b[0;31mNameError\u001b[0m                                 Traceback (most recent call last)",
            "\u001b[0;32m<ipython-input-52-4f876961aa3b>\u001b[0m in \u001b[0;36m<module>\u001b[0;34m()\u001b[0m\n\u001b[1;32m      1\u001b[0m \u001b[0marun\u001b[0m \u001b[0;34m=\u001b[0m \u001b[0mHuman\u001b[0m\u001b[0;34m(\u001b[0m\u001b[0;34m\"Arun\"\u001b[0m\u001b[0;34m)\u001b[0m\u001b[0;34m\u001b[0m\u001b[0;34m\u001b[0m\u001b[0m\n\u001b[0;32m----> 2\u001b[0;31m \u001b[0marun\u001b[0m\u001b[0;34m.\u001b[0m\u001b[0msleep\u001b[0m\u001b[0;34m(\u001b[0m\u001b[0;34m)\u001b[0m\u001b[0;34m\u001b[0m\u001b[0;34m\u001b[0m\u001b[0m\n\u001b[0m",
            "\u001b[0;32m<ipython-input-51-3a8c2f644b19>\u001b[0m in \u001b[0;36msleep\u001b[0;34m()\u001b[0m\n\u001b[1;32m      3\u001b[0m   \u001b[0;34m@\u001b[0m\u001b[0mstaticmethod\u001b[0m\u001b[0;34m\u001b[0m\u001b[0;34m\u001b[0m\u001b[0m\n\u001b[1;32m      4\u001b[0m   \u001b[0;32mdef\u001b[0m \u001b[0msleep\u001b[0m\u001b[0;34m(\u001b[0m\u001b[0;34m)\u001b[0m\u001b[0;34m:\u001b[0m\u001b[0;34m\u001b[0m\u001b[0;34m\u001b[0m\u001b[0m\n\u001b[0;32m----> 5\u001b[0;31m     \u001b[0mprint\u001b[0m\u001b[0;34m(\u001b[0m\u001b[0mcls\u001b[0m\u001b[0;34m.\u001b[0m\u001b[0mgreeting\u001b[0m \u001b[0;34m+\u001b[0m \u001b[0;34m\" \"\u001b[0m \u001b[0;34m+\u001b[0m \u001b[0mself\u001b[0m\u001b[0;34m.\u001b[0m\u001b[0mname\u001b[0m \u001b[0;34m+\u001b[0m\u001b[0;34m\" is sleeping\"\u001b[0m\u001b[0;34m)\u001b[0m \u001b[0;31m##name 'cls' is not defined ## name 'self' is not defined\u001b[0m\u001b[0;34m\u001b[0m\u001b[0;34m\u001b[0m\u001b[0m\n\u001b[0m\u001b[1;32m      6\u001b[0m \u001b[0;34m\u001b[0m\u001b[0m\n\u001b[1;32m      7\u001b[0m   \u001b[0mgreeting\u001b[0m \u001b[0;34m=\u001b[0m \u001b[0;34m\"hello\"\u001b[0m\u001b[0;34m\u001b[0m\u001b[0;34m\u001b[0m\u001b[0m\n",
            "\u001b[0;31mNameError\u001b[0m: name 'cls' is not defined"
          ]
        }
      ]
    },
    {
      "cell_type": "markdown",
      "metadata": {
        "id": "doeflFZLP_qA"
      },
      "source": [
        "### Inheritance"
      ]
    },
    {
      "cell_type": "markdown",
      "metadata": {
        "id": "8KS8ib4gbtTb"
      },
      "source": [
        "* Inheritance is a powerful feature in object oriented\n",
        "programming.\n",
        "* It is the capability of one class to derive or inherit the\n",
        "properties from some another class."
      ]
    },
    {
      "cell_type": "markdown",
      "metadata": {
        "id": "EE6LBqolQ3wx"
      },
      "source": [
        "A child inherits traits from parents\n",
        "\n",
        "```\n",
        "Father   Mother\n",
        "  ^        ^\n",
        "  |        |\n",
        "   --------\n",
        "      |\n",
        "    Child\n",
        "```"
      ]
    },
    {
      "cell_type": "markdown",
      "metadata": {
        "id": "SQjuJPJZRdgJ"
      },
      "source": [
        "Father, Mother and Child are Humans and hence share some traits common to all Human\n",
        "\n",
        "```\n",
        "     Human\n",
        "       ^\n",
        "       |\n",
        "   ---------                \n",
        "  |        |        \n",
        "Father   Mother     \n",
        "  ^        ^        \n",
        "  |        |        \n",
        "   --------\n",
        "      |\n",
        "    Child\n",
        "```"
      ]
    },
    {
      "cell_type": "markdown",
      "metadata": {
        "id": "Dj9KV6PQKDsc"
      },
      "source": [
        "Additional Reading:\n",
        "\n",
        "1. https://sourcemaking.com/uml/modeling-it-systems/structural-view/generalization-specialization-and-inheritance\n",
        "\n",
        "1. https://medium.com/@dineshmadhup_75545/implementation-of-inheritance-composition-and-aggregation-in-python-aee2761cb2d0"
      ]
    },
    {
      "cell_type": "code",
      "metadata": {
        "id": "m-gwMT7Nb1Dc"
      },
      "source": [
        "class Human:\n",
        "\n",
        "  def sleep(self):\n",
        "    print(\"Human can sleep\")\n",
        "\n",
        "class Father(Human):\n",
        "\n",
        "  def play(self):\n",
        "    print(\"Father can play games\")\n",
        "\n",
        "class Mother(Human):\n",
        "\n",
        "  def sing(self):\n",
        "    print(\"Mother can sing songs\")\n",
        "\n",
        "class Child(Father, Mother):\n",
        "\n",
        "  def cry(self):\n",
        "    print(\"Child can cry\")"
      ],
      "execution_count": null,
      "outputs": []
    },
    {
      "cell_type": "code",
      "metadata": {
        "id": "SX_bfd8s9aYe",
        "colab": {
          "base_uri": "https://localhost:8080/"
        },
        "outputId": "70158aeb-c35a-43d7-9046-57cedf036124"
      },
      "source": [
        "print(issubclass(Human,Human))\n",
        "print(issubclass(Father,Human))\n",
        "print(issubclass(Mother,Human))\n",
        "print(issubclass(Child,Father))\n",
        "print(issubclass(Child,Mother))\n",
        "print(issubclass(Child,Human))\n",
        "\n",
        "print(issubclass(Father,Mother))"
      ],
      "execution_count": null,
      "outputs": [
        {
          "output_type": "stream",
          "name": "stdout",
          "text": [
            "True\n",
            "True\n",
            "True\n",
            "True\n",
            "True\n",
            "True\n",
            "False\n"
          ]
        }
      ]
    },
    {
      "cell_type": "code",
      "metadata": {
        "id": "ysioB1v9-Q9-",
        "colab": {
          "base_uri": "https://localhost:8080/"
        },
        "outputId": "29ac99e5-282c-4c38-866e-4d6fe3c99622"
      },
      "source": [
        "human = Human()\n",
        "human.sleep()"
      ],
      "execution_count": null,
      "outputs": [
        {
          "output_type": "stream",
          "name": "stdout",
          "text": [
            "Human can sleep\n"
          ]
        }
      ]
    },
    {
      "cell_type": "code",
      "metadata": {
        "id": "iA0QOU0l-Wz2",
        "colab": {
          "base_uri": "https://localhost:8080/"
        },
        "outputId": "fdf6b8c9-a85f-4627-9bd7-d2febf9ad5ab"
      },
      "source": [
        "father = Father()\n",
        "father.play()\n",
        "father.sleep()"
      ],
      "execution_count": null,
      "outputs": [
        {
          "output_type": "stream",
          "name": "stdout",
          "text": [
            "Father can play games\n",
            "Human can sleep\n"
          ]
        }
      ]
    },
    {
      "cell_type": "code",
      "metadata": {
        "id": "FnX_8HhK-dzF",
        "colab": {
          "base_uri": "https://localhost:8080/"
        },
        "outputId": "98293ebe-c795-43b9-a56a-c66b03d39967"
      },
      "source": [
        "mother = Mother()\n",
        "mother.sing()\n",
        "mother.sleep()"
      ],
      "execution_count": null,
      "outputs": [
        {
          "output_type": "stream",
          "name": "stdout",
          "text": [
            "Mother can sing songs\n",
            "Human can sleep\n"
          ]
        }
      ]
    },
    {
      "cell_type": "code",
      "metadata": {
        "id": "y4ZYD3CR-h--",
        "colab": {
          "base_uri": "https://localhost:8080/",
          "height": 162
        },
        "outputId": "4d879320-4907-48b4-ef9e-997fb2154906"
      },
      "source": [
        "father.sing()"
      ],
      "execution_count": null,
      "outputs": [
        {
          "output_type": "error",
          "ename": "AttributeError",
          "evalue": "ignored",
          "traceback": [
            "\u001b[0;31m---------------------------------------------------------------------------\u001b[0m",
            "\u001b[0;31mAttributeError\u001b[0m                            Traceback (most recent call last)",
            "\u001b[0;32m<ipython-input-58-3462f4f113d6>\u001b[0m in \u001b[0;36m<module>\u001b[0;34m()\u001b[0m\n\u001b[0;32m----> 1\u001b[0;31m \u001b[0mfather\u001b[0m\u001b[0;34m.\u001b[0m\u001b[0msing\u001b[0m\u001b[0;34m(\u001b[0m\u001b[0;34m)\u001b[0m\u001b[0;34m\u001b[0m\u001b[0;34m\u001b[0m\u001b[0m\n\u001b[0m",
            "\u001b[0;31mAttributeError\u001b[0m: 'Father' object has no attribute 'sing'"
          ]
        }
      ]
    },
    {
      "cell_type": "code",
      "metadata": {
        "id": "193hyXCO-j8-",
        "colab": {
          "base_uri": "https://localhost:8080/",
          "height": 162
        },
        "outputId": "51477f42-780d-445d-a95e-53a28ff5f26c"
      },
      "source": [
        "mother.play()"
      ],
      "execution_count": null,
      "outputs": [
        {
          "output_type": "error",
          "ename": "AttributeError",
          "evalue": "ignored",
          "traceback": [
            "\u001b[0;31m---------------------------------------------------------------------------\u001b[0m",
            "\u001b[0;31mAttributeError\u001b[0m                            Traceback (most recent call last)",
            "\u001b[0;32m<ipython-input-59-9dee8e9736fd>\u001b[0m in \u001b[0;36m<module>\u001b[0;34m()\u001b[0m\n\u001b[0;32m----> 1\u001b[0;31m \u001b[0mmother\u001b[0m\u001b[0;34m.\u001b[0m\u001b[0mplay\u001b[0m\u001b[0;34m(\u001b[0m\u001b[0;34m)\u001b[0m\u001b[0;34m\u001b[0m\u001b[0;34m\u001b[0m\u001b[0m\n\u001b[0m",
            "\u001b[0;31mAttributeError\u001b[0m: 'Mother' object has no attribute 'play'"
          ]
        }
      ]
    },
    {
      "cell_type": "code",
      "metadata": {
        "id": "dyAKGYCH-mgu",
        "colab": {
          "base_uri": "https://localhost:8080/"
        },
        "outputId": "2a8a3b13-342f-45f7-da4e-3a6efa9b2ab2"
      },
      "source": [
        "child = Child()\n",
        "child.cry()\n",
        "child.play()\n",
        "child.sing()\n",
        "child.sleep()"
      ],
      "execution_count": null,
      "outputs": [
        {
          "output_type": "stream",
          "name": "stdout",
          "text": [
            "Child can cry\n",
            "Father can play games\n",
            "Mother can sing songs\n",
            "Human can sleep\n"
          ]
        }
      ]
    },
    {
      "cell_type": "markdown",
      "metadata": {
        "id": "2skVQZp1b6sE"
      },
      "source": [
        "\n",
        "#### Types of Inheritance\n",
        "\n",
        "*   Single Inheritance\n",
        "*   Multiple Inheritance\n",
        "*   Multilevel Inheritance\n",
        "*   Hierarchical Inheritance\n",
        "*   Hybrid Inheritance\n",
        "\n",
        "\n",
        "\n"
      ]
    },
    {
      "cell_type": "markdown",
      "metadata": {
        "id": "hgQZxPAEP_wB"
      },
      "source": [
        "### Polymorphism"
      ]
    },
    {
      "cell_type": "markdown",
      "metadata": {
        "id": "ijGLSM3xcSsz"
      },
      "source": [
        "* Polymorphism means many forms or multiple form.\n",
        "In programming polymorphism means the same name\n",
        "of function (but different parameters) that is used for\n",
        "different types.\n",
        "* Polymorphism simply means that we can call the\n",
        "same method name with different parameters, and\n",
        "depending on the parameters, it will do different\n",
        "things.\n",
        "\n",
        "Reference : https://www.mygreatlearning.com/blog/polymorphism-in-python/"
      ]
    },
    {
      "cell_type": "code",
      "metadata": {
        "id": "0RBFzmYqDeFD",
        "colab": {
          "base_uri": "https://localhost:8080/"
        },
        "outputId": "ed80a6cd-e056-4838-ef20-e66a5fcaad3d"
      },
      "source": [
        "## Example for polymorphism\n",
        "print(1+2+3)\n",
        "print(\"1\"+\"2\"+\"3\")\n",
        "print('abra'+'cad'+'abra')\n",
        "## this is called operator overloading"
      ],
      "execution_count": null,
      "outputs": [
        {
          "output_type": "stream",
          "name": "stdout",
          "text": [
            "6\n",
            "123\n",
            "abracadabra\n"
          ]
        }
      ]
    },
    {
      "cell_type": "markdown",
      "metadata": {
        "id": "kgcnggjaF-mA"
      },
      "source": [
        "#### Duck Typing"
      ]
    },
    {
      "cell_type": "markdown",
      "metadata": {
        "id": "B0FCCisZGA-Y"
      },
      "source": [
        "Reference : https://www.pythonmorsels.com/topics/duck-typing/\n",
        "\n",
        "* Duck typing is a concept related to dynamic typing\n",
        "* Duck typing in computer programming is an application of the duck test—\"If it walks like a duck and it quacks like a duck, then it must be a duck\"—to determine whether an object can be used for a particular purpose. \n",
        "* With normal typing, suitability is determined by an object's type. \n",
        "* In duck typing, an object's suitability is determined by the presence of certain methods and properties, rather than the type of the object itself.\n",
        "\n",
        "Source : https://en.wikipedia.org/wiki/Duck_typing"
      ]
    },
    {
      "cell_type": "code",
      "metadata": {
        "id": "L7jG06fpGwdy",
        "colab": {
          "base_uri": "https://localhost:8080/",
          "height": 229
        },
        "outputId": "10337032-5b09-4617-a11b-8e0ce73e3020"
      },
      "source": [
        "# Python program to demonstrate\n",
        "# duck typing from https://www.geeksforgeeks.org/duck-typing-in-python/\n",
        "  \n",
        "  \n",
        "class Bird:\n",
        "    def fly(self):\n",
        "        print(\"fly with wings\")\n",
        "  \n",
        "class Airplane:\n",
        "    def fly(self):\n",
        "        print(\"fly with fuel\")\n",
        "  \n",
        "class Fish:\n",
        "    def swim(self):\n",
        "        print(\"fish swim in sea\")\n",
        "  \n",
        "# Attributes having same name are\n",
        "# considered as duck typing\n",
        "for obj in Bird(), Airplane(), Fish():\n",
        "    obj.fly()"
      ],
      "execution_count": null,
      "outputs": [
        {
          "output_type": "stream",
          "name": "stdout",
          "text": [
            "fly with wings\n",
            "fly with fuel\n"
          ]
        },
        {
          "output_type": "error",
          "ename": "AttributeError",
          "evalue": "ignored",
          "traceback": [
            "\u001b[0;31m---------------------------------------------------------------------------\u001b[0m",
            "\u001b[0;31mAttributeError\u001b[0m                            Traceback (most recent call last)",
            "\u001b[0;32m<ipython-input-62-ee291f72ab87>\u001b[0m in \u001b[0;36m<module>\u001b[0;34m()\u001b[0m\n\u001b[1;32m     18\u001b[0m \u001b[0;31m# considered as duck typing\u001b[0m\u001b[0;34m\u001b[0m\u001b[0;34m\u001b[0m\u001b[0;34m\u001b[0m\u001b[0m\n\u001b[1;32m     19\u001b[0m \u001b[0;32mfor\u001b[0m \u001b[0mobj\u001b[0m \u001b[0;32min\u001b[0m \u001b[0mBird\u001b[0m\u001b[0;34m(\u001b[0m\u001b[0;34m)\u001b[0m\u001b[0;34m,\u001b[0m \u001b[0mAirplane\u001b[0m\u001b[0;34m(\u001b[0m\u001b[0;34m)\u001b[0m\u001b[0;34m,\u001b[0m \u001b[0mFish\u001b[0m\u001b[0;34m(\u001b[0m\u001b[0;34m)\u001b[0m\u001b[0;34m:\u001b[0m\u001b[0;34m\u001b[0m\u001b[0;34m\u001b[0m\u001b[0m\n\u001b[0;32m---> 20\u001b[0;31m     \u001b[0mobj\u001b[0m\u001b[0;34m.\u001b[0m\u001b[0mfly\u001b[0m\u001b[0;34m(\u001b[0m\u001b[0;34m)\u001b[0m\u001b[0;34m\u001b[0m\u001b[0;34m\u001b[0m\u001b[0m\n\u001b[0m",
            "\u001b[0;31mAttributeError\u001b[0m: 'Fish' object has no attribute 'fly'"
          ]
        }
      ]
    },
    {
      "cell_type": "markdown",
      "metadata": {
        "id": "oyXar2gRcm9M"
      },
      "source": [
        "#### Overloading"
      ]
    },
    {
      "cell_type": "markdown",
      "metadata": {
        "id": "tGHzLG5SD_kc"
      },
      "source": [
        "##### Operator Overloading"
      ]
    },
    {
      "cell_type": "code",
      "metadata": {
        "id": "c8T4THgmEQ0t",
        "colab": {
          "base_uri": "https://localhost:8080/",
          "height": 212
        },
        "outputId": "c47bf16f-b104-4733-a94a-7cd951c4354c"
      },
      "source": [
        "class Vehicle:\n",
        "\n",
        "    def __init__(self, fare):\n",
        "        self.fare = fare\n",
        "\n",
        "bus = Vehicle(20)\n",
        "car = Vehicle(30)\n",
        "total_fare = bus + car\n",
        "print(total_fare)"
      ],
      "execution_count": null,
      "outputs": [
        {
          "output_type": "error",
          "ename": "TypeError",
          "evalue": "ignored",
          "traceback": [
            "\u001b[0;31m---------------------------------------------------------------------------\u001b[0m",
            "\u001b[0;31mTypeError\u001b[0m                                 Traceback (most recent call last)",
            "\u001b[0;32m<ipython-input-63-f582ebe653a4>\u001b[0m in \u001b[0;36m<module>\u001b[0;34m()\u001b[0m\n\u001b[1;32m      6\u001b[0m \u001b[0mbus\u001b[0m \u001b[0;34m=\u001b[0m \u001b[0mVehicle\u001b[0m\u001b[0;34m(\u001b[0m\u001b[0;36m20\u001b[0m\u001b[0;34m)\u001b[0m\u001b[0;34m\u001b[0m\u001b[0;34m\u001b[0m\u001b[0m\n\u001b[1;32m      7\u001b[0m \u001b[0mcar\u001b[0m \u001b[0;34m=\u001b[0m \u001b[0mVehicle\u001b[0m\u001b[0;34m(\u001b[0m\u001b[0;36m30\u001b[0m\u001b[0;34m)\u001b[0m\u001b[0;34m\u001b[0m\u001b[0;34m\u001b[0m\u001b[0m\n\u001b[0;32m----> 8\u001b[0;31m \u001b[0mtotal_fare\u001b[0m \u001b[0;34m=\u001b[0m \u001b[0mbus\u001b[0m \u001b[0;34m+\u001b[0m \u001b[0mcar\u001b[0m\u001b[0;34m\u001b[0m\u001b[0;34m\u001b[0m\u001b[0m\n\u001b[0m\u001b[1;32m      9\u001b[0m \u001b[0mprint\u001b[0m\u001b[0;34m(\u001b[0m\u001b[0mtotal_fare\u001b[0m\u001b[0;34m)\u001b[0m\u001b[0;34m\u001b[0m\u001b[0;34m\u001b[0m\u001b[0m\n",
            "\u001b[0;31mTypeError\u001b[0m: unsupported operand type(s) for +: 'Vehicle' and 'Vehicle'"
          ]
        }
      ]
    },
    {
      "cell_type": "code",
      "metadata": {
        "id": "G4f5x8i7EJYg",
        "colab": {
          "base_uri": "https://localhost:8080/"
        },
        "outputId": "f980ad89-e20c-4d70-89ec-35cb552891e8"
      },
      "source": [
        "class Vehicle:\n",
        "\n",
        "    def __init__(self, fare):\n",
        "        self.fare = fare\n",
        "\n",
        "    def __add__(self, other):#using the special function __add__ operator\n",
        "        return self.fare + other.fare\n",
        "\n",
        "bus = Vehicle(20)\n",
        "car = Vehicle(30)\n",
        "total_fare = bus + car\n",
        "print(total_fare)"
      ],
      "execution_count": null,
      "outputs": [
        {
          "output_type": "stream",
          "name": "stdout",
          "text": [
            "50\n"
          ]
        }
      ]
    },
    {
      "cell_type": "markdown",
      "metadata": {
        "id": "IGDRv-m6EC_0"
      },
      "source": [
        "##### Method overloading"
      ]
    },
    {
      "cell_type": "markdown",
      "metadata": {
        "id": "ZMoCBkq7EoHY"
      },
      "source": [
        "* Method overloading means a class containing multiple methods with the same name but may have different arguments. \n",
        "* Basically python does not support method overloading, but there are several ways to achieve method overloading. \n",
        "* Though method overloading can be achieved, the last defined methods can only be usable.\n",
        "\n",
        "Reference : https://www.geeksforgeeks.org/python-method-overloading/"
      ]
    },
    {
      "cell_type": "markdown",
      "metadata": {
        "id": "Y6NYDyKZ_mPr"
      },
      "source": [
        "#### Overriding"
      ]
    },
    {
      "cell_type": "markdown",
      "metadata": {
        "id": "MuUwLCRyFD5h"
      },
      "source": [
        "##### Method Overriding in Python"
      ]
    },
    {
      "cell_type": "code",
      "metadata": {
        "id": "cBtEI950cqbS"
      },
      "source": [
        "class Child(Father, Mother):\n",
        "\n",
        "  def cry(self):\n",
        "    print(\"Child can cry\")\n",
        "    \n",
        "  def sleep(self):\n",
        "    super().sleep()\n",
        "    print(\"So Child can sleep\")\n",
        "\n",
        "  def play(self):\n",
        "    super().play()\n",
        "    print(\"So Child can play games\")\n",
        "\n",
        "  def sing(self):\n",
        "    super().sing()\n",
        "    print(\"So child can sing songs\")\n",
        "\n"
      ],
      "execution_count": null,
      "outputs": []
    },
    {
      "cell_type": "code",
      "metadata": {
        "id": "rMDTts-adQzY",
        "colab": {
          "base_uri": "https://localhost:8080/"
        },
        "outputId": "11e10451-a7ae-4ebe-f900-81c3196a23d0"
      },
      "source": [
        "child = Child()\n",
        "child.cry()\n",
        "child.play()\n",
        "child.sing()\n",
        "child.sleep()# is this coming via father->human or mother->human"
      ],
      "execution_count": null,
      "outputs": [
        {
          "output_type": "stream",
          "name": "stdout",
          "text": [
            "Child can cry\n",
            "Father can play games\n",
            "So Child can play games\n",
            "Mother can sing songs\n",
            "So child can sing songs\n",
            "Human can sleep\n",
            "So Child can sleep\n"
          ]
        }
      ]
    },
    {
      "cell_type": "code",
      "metadata": {
        "id": "CPbT4_yY_r9V"
      },
      "source": [
        "class Human:\n",
        "\n",
        "  def sleep(self):\n",
        "    print(\"Human can sleep\")\n",
        "\n",
        "class Father(Human):\n",
        "\n",
        "  def play(self):\n",
        "    print(\"Father can play games\")\n",
        "\n",
        "  def sleep(self):\n",
        "    super(Father, self).sleep()\n",
        "    print(\"So Father can sleep\")\n",
        "\n",
        "class Mother(Human):\n",
        "\n",
        "  def sing(self):\n",
        "    print(\"Mother can sing songs\")\n",
        "\n",
        "  def sleep(self):\n",
        "    super(Mother, self).sleep()\n",
        "    print(\"So Mother can sleep\")\n",
        "\n",
        "class Child(Father, Mother):\n",
        "\n",
        "  def cry(self):\n",
        "    print(\"Child can cry\")\n",
        "\n",
        "class Child(Mother, Father):\n",
        "\n",
        "  def cry(self):\n",
        "    print(\"Child can cry\")\n",
        "    \n",
        "  def sleep(self):\n",
        "    super(Child, self).sleep()\n",
        "    print(\"So Child can sleep\")\n",
        "\n",
        "  def play(self):\n",
        "    super().play()\n",
        "    print(\"So Child can play games\")\n",
        "\n",
        "  def sing(self):\n",
        "    super().sing()\n",
        "    print(\"So child can sing songs\")\n",
        "\n"
      ],
      "execution_count": null,
      "outputs": []
    },
    {
      "cell_type": "code",
      "metadata": {
        "id": "w4aMTrdAAdep",
        "colab": {
          "base_uri": "https://localhost:8080/"
        },
        "outputId": "e17ff964-7cf5-4b84-fadc-b9435291bd49"
      },
      "source": [
        "child = Child()\n",
        "child.cry()\n",
        "child.play()\n",
        "child.sing()\n",
        "child.sleep()"
      ],
      "execution_count": null,
      "outputs": [
        {
          "output_type": "stream",
          "name": "stdout",
          "text": [
            "Child can cry\n",
            "Father can play games\n",
            "So Child can play games\n",
            "Mother can sing songs\n",
            "So child can sing songs\n",
            "Human can sleep\n",
            "So Father can sleep\n",
            "So Mother can sleep\n",
            "So Child can sleep\n"
          ]
        }
      ]
    },
    {
      "cell_type": "markdown",
      "metadata": {
        "id": "WRd5PrvvCu2b"
      },
      "source": [
        "# Thanks and Regards, Arun P R"
      ]
    }
  ]
}