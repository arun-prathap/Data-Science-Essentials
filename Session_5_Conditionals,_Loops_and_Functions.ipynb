{
  "nbformat": 4,
  "nbformat_minor": 5,
  "metadata": {
    "kernelspec": {
      "display_name": "Python 3",
      "language": "python",
      "name": "python3"
    },
    "language_info": {
      "codemirror_mode": {
        "name": "ipython",
        "version": 3
      },
      "file_extension": ".py",
      "mimetype": "text/x-python",
      "name": "python",
      "nbconvert_exporter": "python",
      "pygments_lexer": "ipython3",
      "version": "3.8.8"
    },
    "toc": {
      "base_numbering": 1,
      "nav_menu": {},
      "number_sections": true,
      "sideBar": true,
      "skip_h1_title": false,
      "title_cell": "Table of Contents",
      "title_sidebar": "Contents",
      "toc_cell": false,
      "toc_position": {},
      "toc_section_display": true,
      "toc_window_display": false
    },
    "varInspector": {
      "cols": {
        "lenName": 16,
        "lenType": 16,
        "lenVar": 40
      },
      "kernels_config": {
        "python": {
          "delete_cmd_postfix": "",
          "delete_cmd_prefix": "del ",
          "library": "var_list.py",
          "varRefreshCmd": "print(var_dic_list())"
        },
        "r": {
          "delete_cmd_postfix": ") ",
          "delete_cmd_prefix": "rm(",
          "library": "var_list.r",
          "varRefreshCmd": "cat(var_dic_list()) "
        }
      },
      "types_to_exclude": [
        "module",
        "function",
        "builtin_function_or_method",
        "instance",
        "_Feature"
      ],
      "window_display": false
    },
    "colab": {
      "name": "Session 5 - Conditionals, Loops and Functions.ipynb",
      "provenance": [],
      "collapsed_sections": [
        "c35385ad",
        "fa1a6e57",
        "06ae6f22",
        "f13362d8",
        "849f0452",
        "b34462e2",
        "eae74c0b",
        "fb720909",
        "afdec3f5",
        "38c49b43",
        "56ed3e96",
        "71b842f6",
        "ea2be7cc",
        "03e8bf2f",
        "8cd0297f",
        "ada36691",
        "e9dd5ff4",
        "9a3269f0",
        "1acafc6b",
        "90fb6813",
        "09b4c7b8",
        "8c132f6f",
        "0884d139",
        "0f71c94f",
        "16e9d12b",
        "382fa438"
      ]
    }
  },
  "cells": [
    {
      "cell_type": "markdown",
      "metadata": {
        "id": "0a3930f0"
      },
      "source": [
        "# Conditionals and Loops"
      ],
      "id": "0a3930f0"
    },
    {
      "cell_type": "markdown",
      "metadata": {
        "heading_collapsed": true,
        "id": "1b6dde62"
      },
      "source": [
        "## References : "
      ],
      "id": "1b6dde62"
    },
    {
      "cell_type": "markdown",
      "metadata": {
        "hidden": true,
        "id": "b114e103"
      },
      "source": [
        "> https://www.openbookproject.net/books/bpp4awd/ch04.html\n",
        "\n",
        "> https://docs.python.org/3/tutorial/controlflow.html"
      ],
      "id": "b114e103"
    },
    {
      "cell_type": "markdown",
      "metadata": {
        "heading_collapsed": true,
        "id": "1245009d"
      },
      "source": [
        "## Conditions"
      ],
      "id": "1245009d"
    },
    {
      "cell_type": "markdown",
      "metadata": {
        "hidden": true,
        "id": "e5657290"
      },
      "source": [
        "An expression that evaluates to either True or False"
      ],
      "id": "e5657290"
    },
    {
      "cell_type": "markdown",
      "metadata": {
        "heading_collapsed": true,
        "hidden": true,
        "id": "4f522237"
      },
      "source": [
        "### Conditions that evaluate to True"
      ],
      "id": "4f522237"
    },
    {
      "cell_type": "code",
      "metadata": {
        "hidden": true,
        "id": "82b9291a",
        "colab": {
          "base_uri": "https://localhost:8080/"
        },
        "outputId": "3229b3c5-afb9-417c-fec1-f98590c7dd48"
      },
      "source": [
        "print(True)\n",
        "print('A'.isalpha())\n",
        "print('5'.isnumeric())\n",
        "print('5A'.isalnum())\n",
        "print(\"UPPER\".isupper())\n",
        "print(\"lower\".islower())\n",
        "print('Titlecase'.istitle())\n",
        "print(isinstance(2.0,float))\n",
        "print(isinstance(2,int))\n",
        "print(2 in [1,2,3,4,5])\n",
        "print(3 in (1,2,3,4,5))\n",
        "print(4 in {1,2,3,4,5})\n",
        "print(2 in {1:'a',2:'b'})\n",
        "print(isinstance(2,int))"
      ],
      "id": "82b9291a",
      "execution_count": 1,
      "outputs": [
        {
          "output_type": "stream",
          "name": "stdout",
          "text": [
            "True\n",
            "True\n",
            "True\n",
            "True\n",
            "True\n",
            "True\n",
            "True\n",
            "True\n",
            "True\n",
            "True\n",
            "True\n",
            "True\n",
            "True\n",
            "True\n"
          ]
        }
      ]
    },
    {
      "cell_type": "markdown",
      "metadata": {
        "heading_collapsed": true,
        "hidden": true,
        "id": "5fc02b77"
      },
      "source": [
        "### Conditions that evaluate to False"
      ],
      "id": "5fc02b77"
    },
    {
      "cell_type": "code",
      "metadata": {
        "hidden": true,
        "id": "68241a0f",
        "colab": {
          "base_uri": "https://localhost:8080/"
        },
        "outputId": "88147474-75ee-4005-c345-13a0840270d2"
      },
      "source": [
        "print(False)\n",
        "print('5'.isalpha())\n",
        "print('A'.isnumeric())\n",
        "print('*'.isalnum())\n",
        "print(\"upper\".isupper())\n",
        "print(\"Lower\".islower())\n",
        "print('camelCase'.istitle())\n",
        "print(isinstance(2,float))\n",
        "print(isinstance(2.0,int))\n",
        "print(2 in [1,3,4,5])\n",
        "print(3 in (1,2,4,5))\n",
        "print(4 in {1,2,3,5})\n",
        "print(2 in {1:'a',3:'b'})\n",
        "print(isinstance(2.0,int))"
      ],
      "id": "68241a0f",
      "execution_count": 2,
      "outputs": [
        {
          "output_type": "stream",
          "name": "stdout",
          "text": [
            "False\n",
            "False\n",
            "False\n",
            "False\n",
            "False\n",
            "False\n",
            "False\n",
            "False\n",
            "False\n",
            "False\n",
            "False\n",
            "False\n",
            "False\n",
            "False\n"
          ]
        }
      ]
    },
    {
      "cell_type": "markdown",
      "metadata": {
        "heading_collapsed": true,
        "id": "e8871803"
      },
      "source": [
        "## Conditionals"
      ],
      "id": "e8871803"
    },
    {
      "cell_type": "markdown",
      "metadata": {
        "hidden": true,
        "id": "32e25ce6"
      },
      "source": [
        "Selection statements used to execute a block of code based on a set of condition checks."
      ],
      "id": "32e25ce6"
    },
    {
      "cell_type": "markdown",
      "metadata": {
        "heading_collapsed": true,
        "hidden": true,
        "id": "7b6660d4"
      },
      "source": [
        "### if, elif, else"
      ],
      "id": "7b6660d4"
    },
    {
      "cell_type": "markdown",
      "metadata": {
        "heading_collapsed": true,
        "hidden": true,
        "id": "bc6f2b03"
      },
      "source": [
        "#### if"
      ],
      "id": "bc6f2b03"
    },
    {
      "cell_type": "markdown",
      "metadata": {
        "hidden": true,
        "id": "76249a73"
      },
      "source": [
        "**Syntax :**\n",
        "```\n",
        "if condition_1:\n",
        "    STATEMENTS_SET1\n",
        "```"
      ],
      "id": "76249a73"
    },
    {
      "cell_type": "markdown",
      "metadata": {
        "heading_collapsed": true,
        "hidden": true,
        "id": "629b31c8"
      },
      "source": [
        "#### if,else"
      ],
      "id": "629b31c8"
    },
    {
      "cell_type": "markdown",
      "metadata": {
        "hidden": true,
        "id": "2f331063"
      },
      "source": [
        "**Syntax :**\n",
        "```\n",
        "if condition_1:\n",
        "    STATEMENTS_SET1\n",
        "else:\n",
        "    STATEMENTS_SET_else\n",
        "```"
      ],
      "id": "2f331063"
    },
    {
      "cell_type": "markdown",
      "metadata": {
        "heading_collapsed": true,
        "hidden": true,
        "id": "c5b6645e"
      },
      "source": [
        "#### if,elif,else"
      ],
      "id": "c5b6645e"
    },
    {
      "cell_type": "markdown",
      "metadata": {
        "hidden": true,
        "id": "723d19c3"
      },
      "source": [
        "**Syntax :**\n",
        "```\n",
        "if condition_1:\n",
        "    STATEMENTS_SET1\n",
        "elif condition_2:\n",
        "    STATEMENTS_SET2\n",
        "    \n",
        "    ...\n",
        "    \n",
        "elif condition_n:\n",
        "    STATEMENTS_SETn\n",
        "else:\n",
        "    STATEMENTS_SET_else\n",
        "```"
      ],
      "id": "723d19c3"
    },
    {
      "cell_type": "markdown",
      "metadata": {
        "heading_collapsed": true,
        "hidden": true,
        "id": "a81df709"
      },
      "source": [
        "#### Nested if else"
      ],
      "id": "a81df709"
    },
    {
      "cell_type": "markdown",
      "metadata": {
        "hidden": true,
        "id": "0b61e6e0"
      },
      "source": [
        "\n",
        "```\n",
        "if condition_1:\n",
        "    if condition_1_1:\n",
        "        STATEMENTS_SET1_1        \n",
        "        ...\n",
        "    elif condition_1_n:\n",
        "        STATEMENTS_SET1_n\n",
        "    else:\n",
        "         STATEMENTS_SET1_else\n",
        "...         \n",
        "elif condition_n:\n",
        "    if condition_n_1:\n",
        "        STATEMENTS_SETn_1       \n",
        "        ...    \n",
        "    elif condition_n_n:\n",
        "        STATEMENTS_SETn_n\n",
        "    else:\n",
        "         STATEMENTS_SETn_else\n",
        "else:\n",
        "    if condition_else_1:\n",
        "        STATEMENTS_SETelse_1        \n",
        "        ...\n",
        "    elif condition_else_n:\n",
        "        STATEMENTS_SETelse_n\n",
        "    else:\n",
        "         STATEMENTS_SETelse_else\n",
        "```\n"
      ],
      "id": "0b61e6e0"
    },
    {
      "cell_type": "markdown",
      "metadata": {
        "heading_collapsed": true,
        "hidden": true,
        "id": "950ac3b3"
      },
      "source": [
        "### Lets try to set reminders for sleeping with conditionals."
      ],
      "id": "950ac3b3"
    },
    {
      "cell_type": "markdown",
      "metadata": {
        "heading_collapsed": true,
        "hidden": true,
        "id": "50ef0252"
      },
      "source": [
        "#### Wake me up if I am sleeping"
      ],
      "id": "50ef0252"
    },
    {
      "cell_type": "code",
      "metadata": {
        "hidden": true,
        "id": "87be41af"
      },
      "source": [
        "am_i_sleeping = False"
      ],
      "id": "87be41af",
      "execution_count": 3,
      "outputs": []
    },
    {
      "cell_type": "code",
      "metadata": {
        "hidden": true,
        "id": "2a989c50",
        "colab": {
          "base_uri": "https://localhost:8080/"
        },
        "outputId": "1c23f767-b537-40d9-993c-e06db464bd36"
      },
      "source": [
        "if am_i_sleeping:\n",
        "    print(\"Wake up. It is not yet time to sleep.\")\n",
        "else:\n",
        "    print(\"Go to sleep.\")"
      ],
      "id": "2a989c50",
      "execution_count": 4,
      "outputs": [
        {
          "output_type": "stream",
          "name": "stdout",
          "text": [
            "Go to sleep.\n"
          ]
        }
      ]
    },
    {
      "cell_type": "markdown",
      "metadata": {
        "heading_collapsed": true,
        "hidden": true,
        "id": "e24b2131"
      },
      "source": [
        "#### But I usually sleep after 10 pm only. You cannot ask me to go sleep now."
      ],
      "id": "e24b2131"
    },
    {
      "cell_type": "code",
      "metadata": {
        "hidden": true,
        "id": "36e5c2d3"
      },
      "source": [
        "am_i_sleeping = True\n",
        "is_it_night = True"
      ],
      "id": "36e5c2d3",
      "execution_count": 10,
      "outputs": []
    },
    {
      "cell_type": "code",
      "metadata": {
        "hidden": true,
        "id": "2899e665",
        "colab": {
          "base_uri": "https://localhost:8080/"
        },
        "outputId": "a20c1964-d18d-4d5e-e734-61126e520eb2"
      },
      "source": [
        "if not is_it_night:\n",
        "    print(\"It is not yet time to sleep.\")\n",
        "elif am_i_sleeping:\n",
        "    print(\"Wake up. It is not yet time to sleep.\")\n",
        "else:    \n",
        "    print(\"Go to sleep.\")"
      ],
      "id": "2899e665",
      "execution_count": 11,
      "outputs": [
        {
          "output_type": "stream",
          "name": "stdout",
          "text": [
            "Wake up. It is not yet time to sleep.\n"
          ]
        }
      ]
    },
    {
      "cell_type": "markdown",
      "metadata": {
        "heading_collapsed": true,
        "hidden": true,
        "id": "2cba9ae3"
      },
      "source": [
        "#### I want to sleep at night buddy, implement the conditions properly"
      ],
      "id": "2cba9ae3"
    },
    {
      "cell_type": "code",
      "metadata": {
        "hidden": true,
        "id": "5e414cc6"
      },
      "source": [
        "am_i_sleeping = True\n",
        "is_it_night = True"
      ],
      "id": "5e414cc6",
      "execution_count": 14,
      "outputs": []
    },
    {
      "cell_type": "code",
      "metadata": {
        "hidden": true,
        "id": "80db086b",
        "colab": {
          "base_uri": "https://localhost:8080/"
        },
        "outputId": "3621b98c-0ec4-4595-de02-524de5718d5d"
      },
      "source": [
        "if not is_it_night:\n",
        "    if am_i_sleeping:\n",
        "        print(\"Wake up. It is not yet time to sleep.\")\n",
        "    else:\n",
        "        print(\"It is not yet time to sleep.\")\n",
        "else:    \n",
        "    print(\"Go to sleep.\")"
      ],
      "id": "80db086b",
      "execution_count": 15,
      "outputs": [
        {
          "output_type": "stream",
          "name": "stdout",
          "text": [
            "Go to sleep.\n"
          ]
        }
      ]
    },
    {
      "cell_type": "markdown",
      "metadata": {
        "heading_collapsed": true,
        "hidden": true,
        "id": "7c0e2d14"
      },
      "source": [
        "#### But sometime I have night sessions that I need to attend as well"
      ],
      "id": "7c0e2d14"
    },
    {
      "cell_type": "code",
      "metadata": {
        "hidden": true,
        "id": "854c0d77"
      },
      "source": [
        "am_i_in_class = True\n",
        "am_i_sleeping = True\n",
        "is_it_night = True"
      ],
      "id": "854c0d77",
      "execution_count": 19,
      "outputs": []
    },
    {
      "cell_type": "code",
      "metadata": {
        "hidden": true,
        "id": "be03ee4b",
        "colab": {
          "base_uri": "https://localhost:8080/"
        },
        "outputId": "2983292c-55d1-4fc3-dfc8-48248bb7da28"
      },
      "source": [
        "if am_i_in_class:\n",
        "    if am_i_sleeping:\n",
        "        print(\"You are in class buddy. It is not yet time to sleep.\")\n",
        "    else:\n",
        "        print(\"Nice work staying awake for the class.\")\n",
        "else:\n",
        "    if is_it_night:\n",
        "        if am_i_sleeping:\n",
        "            print(\"Sleep Tight.\")\n",
        "        else:\n",
        "            print(\"Go to sleep.\")\n",
        "    else:\n",
        "        print(\"It is not yet time to sleep.\")"
      ],
      "id": "be03ee4b",
      "execution_count": 20,
      "outputs": [
        {
          "output_type": "stream",
          "name": "stdout",
          "text": [
            "You are in class buddy. It is not yet time to sleep.\n"
          ]
        }
      ]
    },
    {
      "cell_type": "markdown",
      "metadata": {
        "heading_collapsed": true,
        "hidden": true,
        "id": "8fa19626"
      },
      "source": [
        "#### But your code is difficult to read, can you flatten the nested conditions"
      ],
      "id": "8fa19626"
    },
    {
      "cell_type": "code",
      "metadata": {
        "hidden": true,
        "id": "c623fa1a"
      },
      "source": [
        "am_i_sleeping = True\n",
        "is_it_night = True\n",
        "am_i_in_class = True"
      ],
      "id": "c623fa1a",
      "execution_count": 21,
      "outputs": []
    },
    {
      "cell_type": "code",
      "metadata": {
        "hidden": true,
        "id": "2fdd719e",
        "colab": {
          "base_uri": "https://localhost:8080/"
        },
        "outputId": "081160c4-6d47-49bc-a871-c07fba16f4fc"
      },
      "source": [
        "if am_i_in_class and am_i_sleeping:\n",
        "    print(\"You are in class buddy. It is not yet time to sleep.\")\n",
        "elif am_i_in_class: # and not am_i_sleeping:\n",
        "    print(\"Nice work staying awake for the class.\")\n",
        "elif is_it_night and am_i_sleeping:\n",
        "    print(\"Sleep Tight.\")\n",
        "elif is_it_night:# and not am_i_sleeping:\n",
        "    print(\"Go to sleep.\")\n",
        "else:\n",
        "    print(\"It is not yet time to sleep.\")"
      ],
      "id": "2fdd719e",
      "execution_count": 22,
      "outputs": [
        {
          "output_type": "stream",
          "name": "stdout",
          "text": [
            "You are in class buddy. It is not yet time to sleep.\n"
          ]
        }
      ]
    },
    {
      "cell_type": "markdown",
      "metadata": {
        "heading_collapsed": true,
        "id": "e4424237"
      },
      "source": [
        "## Loops"
      ],
      "id": "e4424237"
    },
    {
      "cell_type": "markdown",
      "metadata": {
        "hidden": true,
        "id": "c35385ad"
      },
      "source": [
        "### Definite Iteration vs Indefinite Iteration"
      ],
      "id": "c35385ad"
    },
    {
      "cell_type": "markdown",
      "metadata": {
        "heading_collapsed": true,
        "hidden": true,
        "id": "3435fc65"
      },
      "source": [
        "### for Loops"
      ],
      "id": "3435fc65"
    },
    {
      "cell_type": "markdown",
      "metadata": {
        "hidden": true,
        "id": "84c5e99c"
      },
      "source": [
        "**Syntax:**\n",
        "```\n",
        "for LOOP_VARIABLE in SEQUENCE_OR_ITERATOR:\n",
        "    SET_OF_STATEMENTS_LOOP_BODY\n",
        "else:\n",
        "    SET_OF_ELSE_CONDITIONS\n",
        "```"
      ],
      "id": "84c5e99c"
    },
    {
      "cell_type": "markdown",
      "metadata": {
        "hidden": true,
        "id": "531dfdd6"
      },
      "source": [
        "#### Loops with Range"
      ],
      "id": "531dfdd6"
    },
    {
      "cell_type": "code",
      "metadata": {
        "hidden": true,
        "id": "bc5c6fa2",
        "colab": {
          "base_uri": "https://localhost:8080/"
        },
        "outputId": "bcb20bb0-7309-4cbe-cc26-216a8cde2529"
      },
      "source": [
        "for i in range(10):# range will start from 0, and will go till 10-1, increment 1 [start],stop+1,[step]\n",
        "    print(i, end = \" \")"
      ],
      "id": "bc5c6fa2",
      "execution_count": 23,
      "outputs": [
        {
          "output_type": "stream",
          "name": "stdout",
          "text": [
            "0 1 2 3 4 5 6 7 8 9 "
          ]
        }
      ]
    },
    {
      "cell_type": "code",
      "metadata": {
        "hidden": true,
        "id": "1d32d7cd",
        "colab": {
          "base_uri": "https://localhost:8080/"
        },
        "outputId": "fe4919ed-7d77-4f70-9f6e-594f574aab37"
      },
      "source": [
        "n = int(input(\"Enter a range to loop :\"))\n",
        "for i in range(1,n+1):\n",
        "    print(i, end = \" \")"
      ],
      "id": "1d32d7cd",
      "execution_count": 25,
      "outputs": [
        {
          "output_type": "stream",
          "name": "stdout",
          "text": [
            "Enter a range to loop :20\n",
            "1 2 3 4 5 6 7 8 9 10 11 12 13 14 15 16 17 18 19 20 "
          ]
        }
      ]
    },
    {
      "cell_type": "code",
      "metadata": {
        "hidden": true,
        "id": "6aa0ac96",
        "colab": {
          "base_uri": "https://localhost:8080/"
        },
        "outputId": "8d9c3254-6e68-4672-c79f-d03eefce4ca7"
      },
      "source": [
        "for i in range(2,11,2):\n",
        "    print(i, end=\" \")"
      ],
      "id": "6aa0ac96",
      "execution_count": 27,
      "outputs": [
        {
          "output_type": "stream",
          "name": "stdout",
          "text": [
            "2 4 6 8 10 "
          ]
        }
      ]
    },
    {
      "cell_type": "code",
      "metadata": {
        "hidden": true,
        "id": "b92a8cd9",
        "colab": {
          "base_uri": "https://localhost:8080/"
        },
        "outputId": "c5a5827f-a530-4666-b9a0-09ef25f4cfd8"
      },
      "source": [
        "n = int(input(\"Enter a range to loop :\"))\n",
        "for i in range(n,0,-1):\n",
        "    print(i,end=' ')"
      ],
      "id": "b92a8cd9",
      "execution_count": 28,
      "outputs": [
        {
          "output_type": "stream",
          "name": "stdout",
          "text": [
            "Enter a range to loop :10\n",
            "10 9 8 7 6 5 4 3 2 1 "
          ]
        }
      ]
    },
    {
      "cell_type": "markdown",
      "metadata": {
        "hidden": true,
        "id": "802f1d81"
      },
      "source": [
        "#### Lists, Tuples, Sets with comprehension and traversal with for loop"
      ],
      "id": "802f1d81"
    },
    {
      "cell_type": "code",
      "metadata": {
        "hidden": true,
        "id": "7bad5718",
        "colab": {
          "base_uri": "https://localhost:8080/"
        },
        "outputId": "e72a7ff4-e828-4580-db87-6e2d4b17b7a0"
      },
      "source": [
        "n = [k for k in range(10)]\n",
        "print(n)\n",
        "for i in n:\n",
        "    print(i,end=' ')"
      ],
      "id": "7bad5718",
      "execution_count": 29,
      "outputs": [
        {
          "output_type": "stream",
          "name": "stdout",
          "text": [
            "[0, 1, 2, 3, 4, 5, 6, 7, 8, 9]\n",
            "0 1 2 3 4 5 6 7 8 9 "
          ]
        }
      ]
    },
    {
      "cell_type": "code",
      "metadata": {
        "hidden": true,
        "id": "439566e5",
        "colab": {
          "base_uri": "https://localhost:8080/"
        },
        "outputId": "255e027d-cd31-4213-8985-1b6df68bccad"
      },
      "source": [
        "n = [k**k for k in range(10)]\n",
        "print(n)\n",
        "for index,i in enumerate(n):\n",
        "    print(index,\"-\",i)\n",
        "    if index == 5:\n",
        "      n[index] = 0\n",
        "print(n)"
      ],
      "id": "439566e5",
      "execution_count": 33,
      "outputs": [
        {
          "output_type": "stream",
          "name": "stdout",
          "text": [
            "[1, 1, 4, 27, 256, 3125, 46656, 823543, 16777216, 387420489]\n",
            "0 - 1\n",
            "1 - 1\n",
            "2 - 4\n",
            "3 - 27\n",
            "4 - 256\n",
            "5 - 3125\n",
            "6 - 46656\n",
            "7 - 823543\n",
            "8 - 16777216\n",
            "9 - 387420489\n",
            "[1, 1, 4, 27, 256, 0, 46656, 823543, 16777216, 387420489]\n"
          ]
        }
      ]
    },
    {
      "cell_type": "code",
      "metadata": {
        "hidden": true,
        "id": "c179b716",
        "colab": {
          "base_uri": "https://localhost:8080/"
        },
        "outputId": "3c919b89-951e-430e-cfb9-aaccb9997289"
      },
      "source": [
        "n = (k for k in range(10))\n",
        "print(n)\n",
        "print(type(n))\n",
        "for i in n:\n",
        "    print(i,end=' ')"
      ],
      "id": "c179b716",
      "execution_count": 34,
      "outputs": [
        {
          "output_type": "stream",
          "name": "stdout",
          "text": [
            "<generator object <genexpr> at 0x7f4d763f03d0>\n",
            "<class 'generator'>\n",
            "0 1 2 3 4 5 6 7 8 9 "
          ]
        }
      ]
    },
    {
      "cell_type": "code",
      "metadata": {
        "hidden": true,
        "id": "63442caa",
        "colab": {
          "base_uri": "https://localhost:8080/"
        },
        "outputId": "e017d1ad-5903-4348-fc99-e078dd9e04c2"
      },
      "source": [
        "n = tuple(k for k in range(10))\n",
        "print(n)\n",
        "print(type(n))\n",
        "for i in n:\n",
        "    print(i,end=' ')"
      ],
      "id": "63442caa",
      "execution_count": 35,
      "outputs": [
        {
          "output_type": "stream",
          "name": "stdout",
          "text": [
            "(0, 1, 2, 3, 4, 5, 6, 7, 8, 9)\n",
            "<class 'tuple'>\n",
            "0 1 2 3 4 5 6 7 8 9 "
          ]
        }
      ]
    },
    {
      "cell_type": "code",
      "metadata": {
        "hidden": true,
        "id": "76688a9e",
        "colab": {
          "base_uri": "https://localhost:8080/"
        },
        "outputId": "85e38116-92f3-4c74-eea5-e7aa7952d3ae"
      },
      "source": [
        "n = {k for k in range(10)}\n",
        "print(n)\n",
        "for i in n:\n",
        "    print(i,end=' ')"
      ],
      "id": "76688a9e",
      "execution_count": 36,
      "outputs": [
        {
          "output_type": "stream",
          "name": "stdout",
          "text": [
            "{0, 1, 2, 3, 4, 5, 6, 7, 8, 9}\n",
            "0 1 2 3 4 5 6 7 8 9 "
          ]
        }
      ]
    },
    {
      "cell_type": "markdown",
      "metadata": {
        "hidden": true,
        "id": "92aa13ef"
      },
      "source": [
        "#### Dictionary Traversals"
      ],
      "id": "92aa13ef"
    },
    {
      "cell_type": "code",
      "metadata": {
        "hidden": true,
        "id": "b39d6b24",
        "colab": {
          "base_uri": "https://localhost:8080/"
        },
        "outputId": "49af0489-af31-473c-eec8-d26c4e2c8c0b"
      },
      "source": [
        "n = {k:k**k for k in range(10)}\n",
        "print(n)\n",
        "for i in n:\n",
        "    print(i,end=' ')"
      ],
      "id": "b39d6b24",
      "execution_count": 43,
      "outputs": [
        {
          "output_type": "stream",
          "name": "stdout",
          "text": [
            "{0: 1, 1: 1, 2: 4, 3: 27, 4: 256, 5: 3125, 6: 46656, 7: 823543, 8: 16777216, 9: 387420489}\n",
            "0 1 2 3 4 5 6 7 8 9 "
          ]
        }
      ]
    },
    {
      "cell_type": "code",
      "metadata": {
        "hidden": true,
        "id": "0f6c3053",
        "colab": {
          "base_uri": "https://localhost:8080/"
        },
        "outputId": "6c3c4883-ac3a-49f4-fa6a-78af4caf66f6"
      },
      "source": [
        "for i in n.keys():\n",
        "    print(i,end=' ')"
      ],
      "id": "0f6c3053",
      "execution_count": 38,
      "outputs": [
        {
          "output_type": "stream",
          "name": "stdout",
          "text": [
            "0 1 2 3 4 5 6 7 8 9 "
          ]
        }
      ]
    },
    {
      "cell_type": "code",
      "metadata": {
        "hidden": true,
        "id": "4159e2ce",
        "colab": {
          "base_uri": "https://localhost:8080/"
        },
        "outputId": "34e6c7fa-30d6-44d7-8006-1e084a2dfa80"
      },
      "source": [
        "for i in n.values():\n",
        "    print(i,end=' ')"
      ],
      "id": "4159e2ce",
      "execution_count": 39,
      "outputs": [
        {
          "output_type": "stream",
          "name": "stdout",
          "text": [
            "1 1 4 27 256 3125 46656 823543 16777216 387420489 "
          ]
        }
      ]
    },
    {
      "cell_type": "code",
      "metadata": {
        "hidden": true,
        "id": "1c4a95e0",
        "colab": {
          "base_uri": "https://localhost:8080/"
        },
        "outputId": "5b21c70d-5e39-48da-b454-d0aeb48c93c3"
      },
      "source": [
        "for key,value in n.items():\n",
        "    print(key,'-',value)\n",
        "    if key == 5:\n",
        "      n[key] = 0\n",
        "print(n)"
      ],
      "id": "1c4a95e0",
      "execution_count": 42,
      "outputs": [
        {
          "output_type": "stream",
          "name": "stdout",
          "text": [
            "0 - 1\n",
            "1 - 1\n",
            "2 - 4\n",
            "3 - 27\n",
            "4 - 256\n",
            "5 - 3125\n",
            "6 - 46656\n",
            "7 - 823543\n",
            "8 - 16777216\n",
            "9 - 387420489\n",
            "{0: 1, 1: 1, 2: 4, 3: 27, 4: 256, 5: 0, 6: 46656, 7: 823543, 8: 16777216, 9: 387420489}\n"
          ]
        }
      ]
    },
    {
      "cell_type": "markdown",
      "metadata": {
        "hidden": true,
        "id": "4ed54cee"
      },
      "source": [
        "#### for loop with strings"
      ],
      "id": "4ed54cee"
    },
    {
      "cell_type": "code",
      "metadata": {
        "hidden": true,
        "id": "4021b9ee",
        "colab": {
          "base_uri": "https://localhost:8080/"
        },
        "outputId": "6dd8f550-1e77-4cef-9a02-56a8085993ea"
      },
      "source": [
        "n = \"hello\"\n",
        "for i in n:\n",
        "    print(i)"
      ],
      "id": "4021b9ee",
      "execution_count": 46,
      "outputs": [
        {
          "output_type": "stream",
          "name": "stdout",
          "text": [
            "h\n",
            "e\n",
            "l\n",
            "l\n",
            "o\n"
          ]
        }
      ]
    },
    {
      "cell_type": "markdown",
      "metadata": {
        "heading_collapsed": true,
        "hidden": true,
        "id": "617ba258"
      },
      "source": [
        "### while Loop"
      ],
      "id": "617ba258"
    },
    {
      "cell_type": "markdown",
      "metadata": {
        "hidden": true,
        "id": "09f576a3"
      },
      "source": [
        "**Syntax**\n",
        "```\n",
        "while CONDITION:\n",
        "  LOOP_STATEMENTS\n",
        "  CONDITION_UPDATE_STATEMENTS\n",
        "  CONDITION_TERMINATION_STATEMENTS\n",
        " ```"
      ],
      "id": "09f576a3"
    },
    {
      "cell_type": "markdown",
      "metadata": {
        "hidden": true,
        "id": "4243d2e7"
      },
      "source": [
        "**Syntax with else**\n",
        "```\n",
        "while CONDITION:\n",
        "  LOOP_STATEMENTS\n",
        "  CONDITION_UPDATE_STATEMENTS\n",
        "  CONDITION_TERMINATION_STATEMENTS\n",
        "else:\n",
        "  STATEMENTS_TO_BE_EXECUTED_WHEN_CONDITION_BECOMES_FALSE\n",
        " ```"
      ],
      "id": "4243d2e7"
    },
    {
      "cell_type": "code",
      "metadata": {
        "hidden": true,
        "id": "f0136dfa",
        "colab": {
          "base_uri": "https://localhost:8080/"
        },
        "outputId": "34c83bc6-0911-4698-8e33-586ad3cfb154"
      },
      "source": [
        "n = int(input(\"Enter a range to loop : \"))\n",
        "while n > 0:    \n",
        "    print(n, end = ' ')\n",
        "    n -= 1"
      ],
      "id": "f0136dfa",
      "execution_count": 47,
      "outputs": [
        {
          "output_type": "stream",
          "name": "stdout",
          "text": [
            "Enter a range to loop : 10\n",
            "10 9 8 7 6 5 4 3 2 1 "
          ]
        }
      ]
    },
    {
      "cell_type": "code",
      "metadata": {
        "hidden": true,
        "id": "de9b8885",
        "colab": {
          "base_uri": "https://localhost:8080/"
        },
        "outputId": "ed67ba30-d40d-4ca7-cda1-b8956c7b7824"
      },
      "source": [
        "n = int(input(\"Enter your passcode : \"))\n",
        "while n != 123:    \n",
        "    n = int(input(\"Enter your passcode : \"))\n",
        "else:\n",
        "    print(\"Correct Passcode\")"
      ],
      "id": "de9b8885",
      "execution_count": 49,
      "outputs": [
        {
          "output_type": "stream",
          "name": "stdout",
          "text": [
            "Enter your passcode : 1\n",
            "Enter your passcode : 2\n",
            "Enter your passcode : 3\n",
            "Enter your passcode : 123\n",
            "Correct Passcode\n"
          ]
        }
      ]
    },
    {
      "cell_type": "markdown",
      "metadata": {
        "heading_collapsed": true,
        "hidden": true,
        "id": "fa1a6e57"
      },
      "source": [
        "### Break, Continue, pass"
      ],
      "id": "fa1a6e57"
    },
    {
      "cell_type": "markdown",
      "metadata": {
        "hidden": true,
        "id": "0c939a16"
      },
      "source": [
        "Reference : https://www.geeksforgeeks.org/break-continue-and-pass-in-python/"
      ],
      "id": "0c939a16"
    },
    {
      "cell_type": "code",
      "metadata": {
        "hidden": true,
        "id": "049f27fe",
        "colab": {
          "base_uri": "https://localhost:8080/"
        },
        "outputId": "15006a70-c64e-46ef-e70d-9e52bc8da0e7"
      },
      "source": [
        "n = int(input(\"Enter a value to loop from : \"))\n",
        "e = int(input(\"Enter your termination value : \"))\n",
        "while n > 0:    \n",
        "    print(n, end = ' ')\n",
        "    n += 1\n",
        "    if n >= e+1:\n",
        "        break\n",
        "else:\n",
        "    print(\"why is this not printed?\")"
      ],
      "id": "049f27fe",
      "execution_count": 51,
      "outputs": [
        {
          "output_type": "stream",
          "name": "stdout",
          "text": [
            "Enter a value to loop from : 1\n",
            "Enter your termination value : 10\n",
            "1 2 3 4 5 6 7 8 9 10 "
          ]
        }
      ]
    },
    {
      "cell_type": "code",
      "metadata": {
        "hidden": true,
        "id": "f48cb7c4",
        "colab": {
          "base_uri": "https://localhost:8080/"
        },
        "outputId": "c9fe6d9b-4cb1-4c55-bbee-5587825c0d1f"
      },
      "source": [
        "n = int(input(\"Enter a value to loop from : \"))\n",
        "while n > 0:  \n",
        "    n -= 1\n",
        "    if n%10 == 2:\n",
        "        continue\n",
        "    print(n, end = ' ')        \n",
        "else:\n",
        "    print(\"why is this printed?\")"
      ],
      "id": "f48cb7c4",
      "execution_count": 52,
      "outputs": [
        {
          "output_type": "stream",
          "name": "stdout",
          "text": [
            "Enter a value to loop from : 20\n",
            "19 18 17 16 15 14 13 11 10 9 8 7 6 5 4 3 1 0 why is this printed?\n"
          ]
        }
      ]
    },
    {
      "cell_type": "code",
      "metadata": {
        "hidden": true,
        "id": "de7a1a23",
        "colab": {
          "base_uri": "https://localhost:8080/"
        },
        "outputId": "6b48d410-5231-4073-cd75-67f8141ed5e2"
      },
      "source": [
        "n = int(input(\"Enter a value to loop from : \"))\n",
        "while n > 0:  \n",
        "    n -= 1\n",
        "    if n%10 == 2:\n",
        "        pass\n",
        "    else:\n",
        "        print(n, end = ' ')   \n",
        "    #print('')     \n",
        "else:\n",
        "    print(\"why is this printed?\")"
      ],
      "id": "de7a1a23",
      "execution_count": 55,
      "outputs": [
        {
          "output_type": "stream",
          "name": "stdout",
          "text": [
            "Enter a value to loop from : 5\n",
            "4 3 1 0 why is this printed?\n"
          ]
        }
      ]
    },
    {
      "cell_type": "code",
      "metadata": {
        "colab": {
          "base_uri": "https://localhost:8080/"
        },
        "id": "3-eZZopGoi7P",
        "outputId": "d77a89aa-1f81-4b25-f319-e898446be16d"
      },
      "source": [
        "for i in range(50):\n",
        "  if i%10 == 2:\n",
        "    continue\n",
        "  #if i > 40:\n",
        "  #  break\n",
        "  print(i, end = \" \")\n",
        "else:\n",
        "  print(\"loop executed normally\")"
      ],
      "id": "3-eZZopGoi7P",
      "execution_count": 57,
      "outputs": [
        {
          "output_type": "stream",
          "name": "stdout",
          "text": [
            "0 1 3 4 5 6 7 8 9 10 11 13 14 15 16 17 18 19 20 21 23 24 25 26 27 28 29 30 31 33 34 35 36 37 38 39 40 41 43 44 45 46 47 48 49 loop executed normally\n"
          ]
        }
      ]
    },
    {
      "cell_type": "markdown",
      "metadata": {
        "hidden": true,
        "id": "06ae6f22"
      },
      "source": [
        "#### Advanced : Indefinite Iteration with for loop"
      ],
      "id": "06ae6f22"
    },
    {
      "cell_type": "code",
      "metadata": {
        "hidden": true,
        "id": "d1dc977c"
      },
      "source": [
        "n = int(input(\"Enter a range to loop :\"))\n",
        "for _ in iter(int,1):\n",
        "    print(n,end=' ')\n",
        "    n -= 1\n",
        "    if(n <= 0):\n",
        "        break"
      ],
      "id": "d1dc977c",
      "execution_count": null,
      "outputs": []
    },
    {
      "cell_type": "code",
      "metadata": {
        "hidden": true,
        "id": "d3744907"
      },
      "source": [
        "n = int(input(\"Enter your passcode : \"))\n",
        "for _ in iter(int,1):\n",
        "    if n != 123:    \n",
        "        n = int(input(\"Enter your passcode : \"))"
      ],
      "id": "d3744907",
      "execution_count": null,
      "outputs": []
    },
    {
      "cell_type": "markdown",
      "metadata": {
        "heading_collapsed": true,
        "id": "f13362d8"
      },
      "source": [
        "## Printing Patterns"
      ],
      "id": "f13362d8"
    },
    {
      "cell_type": "markdown",
      "metadata": {
        "heading_collapsed": true,
        "hidden": true,
        "id": "849f0452"
      },
      "source": [
        "### Patterns with *"
      ],
      "id": "849f0452"
    },
    {
      "cell_type": "markdown",
      "metadata": {
        "heading_collapsed": true,
        "hidden": true,
        "id": "b34462e2"
      },
      "source": [
        "#### Take an input n and print n nos of * in a line"
      ],
      "id": "b34462e2"
    },
    {
      "cell_type": "markdown",
      "metadata": {
        "heading_collapsed": true,
        "hidden": true,
        "id": "3b90a9f2"
      },
      "source": [
        "##### Ex:\n",
        "if n is 3 print ```***```\n",
        "\n",
        "if n is 5 print ```******```"
      ],
      "id": "3b90a9f2"
    },
    {
      "cell_type": "code",
      "metadata": {
        "hidden": true,
        "id": "d1734717",
        "colab": {
          "base_uri": "https://localhost:8080/"
        },
        "outputId": "bcd2ca55-7bc1-488a-85f2-925f0af85ca2"
      },
      "source": [
        "n = int(input())\n",
        "print('*'*n)"
      ],
      "id": "d1734717",
      "execution_count": 58,
      "outputs": [
        {
          "output_type": "stream",
          "name": "stdout",
          "text": [
            "10\n",
            "**********\n"
          ]
        }
      ]
    },
    {
      "cell_type": "markdown",
      "metadata": {
        "heading_collapsed": true,
        "hidden": true,
        "id": "eae74c0b"
      },
      "source": [
        "#### Take an input n and print n lines with n nos if * in each line"
      ],
      "id": "eae74c0b"
    },
    {
      "cell_type": "markdown",
      "metadata": {
        "heading_collapsed": true,
        "hidden": true,
        "id": "0b552a32"
      },
      "source": [
        "##### Ex:\n",
        "if n is 3 print \n",
        "```\n",
        "***\n",
        "***\n",
        "***\n",
        "```\n",
        "\n",
        "if n is 5 print \n",
        "```\n",
        "*****\n",
        "*****\n",
        "*****\n",
        "*****\n",
        "*****\n",
        "```"
      ],
      "id": "0b552a32"
    },
    {
      "cell_type": "code",
      "metadata": {
        "hidden": true,
        "id": "c76ae809",
        "colab": {
          "base_uri": "https://localhost:8080/"
        },
        "outputId": "c08532f8-5f5a-49c5-b7e9-74b79f16bc2a"
      },
      "source": [
        "n = int(input())\n",
        "for i in range(n):\n",
        "    print('*'*n)"
      ],
      "id": "c76ae809",
      "execution_count": 59,
      "outputs": [
        {
          "output_type": "stream",
          "name": "stdout",
          "text": [
            "10\n",
            "**********\n",
            "**********\n",
            "**********\n",
            "**********\n",
            "**********\n",
            "**********\n",
            "**********\n",
            "**********\n",
            "**********\n",
            "**********\n"
          ]
        }
      ]
    },
    {
      "cell_type": "markdown",
      "metadata": {
        "heading_collapsed": true,
        "hidden": true,
        "id": "fb720909"
      },
      "source": [
        "#### Take and input n and print n lines with each line having same no of * as line number (1 indexed)"
      ],
      "id": "fb720909"
    },
    {
      "cell_type": "markdown",
      "metadata": {
        "heading_collapsed": true,
        "hidden": true,
        "id": "d7c85b6d"
      },
      "source": [
        "##### Ex:\n",
        "if n is 3 print \n",
        "```\n",
        "*\n",
        "**\n",
        "***\n",
        "```\n",
        "\n",
        "if n is 5 print \n",
        "```\n",
        "*\n",
        "**\n",
        "***\n",
        "****\n",
        "*****\n",
        "```"
      ],
      "id": "d7c85b6d"
    },
    {
      "cell_type": "code",
      "metadata": {
        "hidden": true,
        "id": "78566f07",
        "colab": {
          "base_uri": "https://localhost:8080/"
        },
        "outputId": "cb9cade3-08be-461e-b234-4e65954deb65"
      },
      "source": [
        "n = int(input())\n",
        "for i in range(1,n+1):\n",
        "    print('*'*i)"
      ],
      "id": "78566f07",
      "execution_count": 60,
      "outputs": [
        {
          "output_type": "stream",
          "name": "stdout",
          "text": [
            "10\n",
            "*\n",
            "**\n",
            "***\n",
            "****\n",
            "*****\n",
            "******\n",
            "*******\n",
            "********\n",
            "*********\n",
            "**********\n"
          ]
        }
      ]
    },
    {
      "cell_type": "markdown",
      "metadata": {
        "heading_collapsed": true,
        "hidden": true,
        "id": "afdec3f5"
      },
      "source": [
        "#### Same as above with right aligned *"
      ],
      "id": "afdec3f5"
    },
    {
      "cell_type": "markdown",
      "metadata": {
        "heading_collapsed": true,
        "hidden": true,
        "id": "f5a5dd59"
      },
      "source": [
        "##### Ex:\n",
        "if n is 3 print \n",
        "```\n",
        "  *\n",
        " **\n",
        "***\n",
        "```\n",
        "\n",
        "if n is 5 print \n",
        "```\n",
        "    *\n",
        "   **\n",
        "  ***\n",
        " ****\n",
        "*****\n",
        "```"
      ],
      "id": "f5a5dd59"
    },
    {
      "cell_type": "code",
      "metadata": {
        "hidden": true,
        "id": "c1592d0e",
        "colab": {
          "base_uri": "https://localhost:8080/"
        },
        "outputId": "b71a2fb8-4004-4941-83bf-7ef29c7db77d"
      },
      "source": [
        "n = int(input())\n",
        "for i in range(1,n+1):\n",
        "    print(' '*(n-i),'*'*i)"
      ],
      "id": "c1592d0e",
      "execution_count": 61,
      "outputs": [
        {
          "output_type": "stream",
          "name": "stdout",
          "text": [
            "10\n",
            "          *\n",
            "         **\n",
            "        ***\n",
            "       ****\n",
            "      *****\n",
            "     ******\n",
            "    *******\n",
            "   ********\n",
            "  *********\n",
            " **********\n"
          ]
        }
      ]
    },
    {
      "cell_type": "markdown",
      "metadata": {
        "heading_collapsed": true,
        "hidden": true,
        "id": "38c49b43"
      },
      "source": [
        "#### Mirror of above on x axis"
      ],
      "id": "38c49b43"
    },
    {
      "cell_type": "markdown",
      "metadata": {
        "heading_collapsed": true,
        "hidden": true,
        "id": "c134dcb3"
      },
      "source": [
        "##### Ex:\n",
        "if n is 3 print \n",
        "```\n",
        "***\n",
        " **\n",
        "  *\n",
        "```\n",
        "\n",
        "if n is 5 print \n",
        "```\n",
        "*****\n",
        " ****\n",
        "  ***\n",
        "   **\n",
        "    *\n",
        "```"
      ],
      "id": "c134dcb3"
    },
    {
      "cell_type": "code",
      "metadata": {
        "hidden": true,
        "id": "470c0b93",
        "colab": {
          "base_uri": "https://localhost:8080/"
        },
        "outputId": "81fa20f9-eb53-4412-9a4e-b15c54c3f97d"
      },
      "source": [
        "n = int(input())\n",
        "for i in range(1,n+1):\n",
        "    print(' '*(i-1),'*'*(n-i+1))"
      ],
      "id": "470c0b93",
      "execution_count": 62,
      "outputs": [
        {
          "output_type": "stream",
          "name": "stdout",
          "text": [
            "10\n",
            " **********\n",
            "  *********\n",
            "   ********\n",
            "    *******\n",
            "     ******\n",
            "      *****\n",
            "       ****\n",
            "        ***\n",
            "         **\n",
            "          *\n"
          ]
        }
      ]
    },
    {
      "cell_type": "markdown",
      "metadata": {
        "heading_collapsed": true,
        "hidden": true,
        "id": "56ed3e96"
      },
      "source": [
        "#### Same as above with center justified and no of * following 2*line no - 1"
      ],
      "id": "56ed3e96"
    },
    {
      "cell_type": "markdown",
      "metadata": {
        "heading_collapsed": true,
        "hidden": true,
        "id": "3a8a9a65"
      },
      "source": [
        "##### Ex:\n",
        "if n is 3 print \n",
        "```\n",
        "  *\n",
        " ***\n",
        "*****\n",
        "```\n",
        "\n",
        "if n is 5 print \n",
        "```\n",
        "    *\n",
        "   ***\n",
        "  *****\n",
        " *******\n",
        "*********\n",
        "```"
      ],
      "id": "3a8a9a65"
    },
    {
      "cell_type": "code",
      "metadata": {
        "hidden": true,
        "id": "fa1cf1ed",
        "colab": {
          "base_uri": "https://localhost:8080/"
        },
        "outputId": "6dac066e-be11-45ff-b3f1-01b23aa64003"
      },
      "source": [
        "n = int(input())\n",
        "for i in range(1,n+1):\n",
        "    print(' '*(n-i),'*'*(2*i-1))"
      ],
      "id": "fa1cf1ed",
      "execution_count": 63,
      "outputs": [
        {
          "output_type": "stream",
          "name": "stdout",
          "text": [
            "10\n",
            "          *\n",
            "         ***\n",
            "        *****\n",
            "       *******\n",
            "      *********\n",
            "     ***********\n",
            "    *************\n",
            "   ***************\n",
            "  *****************\n",
            " *******************\n"
          ]
        }
      ]
    },
    {
      "cell_type": "markdown",
      "metadata": {
        "heading_collapsed": true,
        "hidden": true,
        "id": "71b842f6"
      },
      "source": [
        "#### Same as above with triangle faced downwards"
      ],
      "id": "71b842f6"
    },
    {
      "cell_type": "markdown",
      "metadata": {
        "heading_collapsed": true,
        "hidden": true,
        "id": "9f25fa84"
      },
      "source": [
        "##### Ex:\n",
        "if n is 3 print \n",
        "```\n",
        "*****\n",
        " ***\n",
        "  *\n",
        "```\n",
        "\n",
        "if n is 5 print \n",
        "```\n",
        "*********\n",
        " *******\n",
        "  *****\n",
        "   ***\n",
        "    *\n",
        "```"
      ],
      "id": "9f25fa84"
    },
    {
      "cell_type": "code",
      "metadata": {
        "hidden": true,
        "id": "311c9298",
        "colab": {
          "base_uri": "https://localhost:8080/"
        },
        "outputId": "622a72ce-b38b-4806-eff4-8ceb3cc58ca2"
      },
      "source": [
        "n = int(input())\n",
        "for i in range(n,0,-1):\n",
        "    print(' '*(n-i),'*'*(2*i-1))"
      ],
      "id": "311c9298",
      "execution_count": 64,
      "outputs": [
        {
          "output_type": "stream",
          "name": "stdout",
          "text": [
            "10\n",
            " *******************\n",
            "  *****************\n",
            "   ***************\n",
            "    *************\n",
            "     ***********\n",
            "      *********\n",
            "       *******\n",
            "        *****\n",
            "         ***\n",
            "          *\n"
          ]
        }
      ]
    },
    {
      "cell_type": "markdown",
      "metadata": {
        "heading_collapsed": true,
        "hidden": true,
        "id": "ea2be7cc"
      },
      "source": [
        "#### Merge two triangles as above"
      ],
      "id": "ea2be7cc"
    },
    {
      "cell_type": "markdown",
      "metadata": {
        "heading_collapsed": true,
        "hidden": true,
        "id": "22fafd84"
      },
      "source": [
        "##### Ex:\n",
        "if n is 3 print \n",
        "```\n",
        "  *\n",
        " ***\n",
        "*****\n",
        "*****\n",
        " ***\n",
        "  *\n",
        "```\n",
        "\n",
        "if n is 5 print \n",
        "```\n",
        "    *\n",
        "   ***\n",
        "  *****\n",
        " *******\n",
        "*********\n",
        "*********\n",
        " *******\n",
        "  *****\n",
        "   ***\n",
        "    *\n",
        "```"
      ],
      "id": "22fafd84"
    },
    {
      "cell_type": "code",
      "metadata": {
        "hidden": true,
        "id": "ccf7582c",
        "colab": {
          "base_uri": "https://localhost:8080/"
        },
        "outputId": "1d54c1b0-e58d-442d-bca1-89bf013da1ec"
      },
      "source": [
        "n = int(input())\n",
        "for i in range(1,n+1):\n",
        "    print(' '*(n-i),'*'*(2*i-1))\n",
        "for i in range(n,0,-1):\n",
        "    print(' '*(n-i),'*'*(2*i-1))"
      ],
      "id": "ccf7582c",
      "execution_count": 65,
      "outputs": [
        {
          "output_type": "stream",
          "name": "stdout",
          "text": [
            "10\n",
            "          *\n",
            "         ***\n",
            "        *****\n",
            "       *******\n",
            "      *********\n",
            "     ***********\n",
            "    *************\n",
            "   ***************\n",
            "  *****************\n",
            " *******************\n",
            " *******************\n",
            "  *****************\n",
            "   ***************\n",
            "    *************\n",
            "     ***********\n",
            "      *********\n",
            "       *******\n",
            "        *****\n",
            "         ***\n",
            "          *\n"
          ]
        }
      ]
    },
    {
      "cell_type": "code",
      "metadata": {
        "hidden": true,
        "id": "81b1c9f9",
        "colab": {
          "base_uri": "https://localhost:8080/"
        },
        "outputId": "e1749543-2b04-472e-c0f3-d2e42dabe6ce"
      },
      "source": [
        "n = int(input())\n",
        "for i in range(1,2*n+1):\n",
        "    if i<n+1:\n",
        "        print(' '*(n-i),'*'*(2*i-1))\n",
        "    else:\n",
        "        print(' '*(i-n-1),'*'*(2*(2*n-i)+1))"
      ],
      "id": "81b1c9f9",
      "execution_count": 66,
      "outputs": [
        {
          "output_type": "stream",
          "name": "stdout",
          "text": [
            "10\n",
            "          *\n",
            "         ***\n",
            "        *****\n",
            "       *******\n",
            "      *********\n",
            "     ***********\n",
            "    *************\n",
            "   ***************\n",
            "  *****************\n",
            " *******************\n",
            " *******************\n",
            "  *****************\n",
            "   ***************\n",
            "    *************\n",
            "     ***********\n",
            "      *********\n",
            "       *******\n",
            "        *****\n",
            "         ***\n",
            "          *\n"
          ]
        }
      ]
    },
    {
      "cell_type": "markdown",
      "metadata": {
        "heading_collapsed": true,
        "hidden": true,
        "id": "03e8bf2f"
      },
      "source": [
        "#### Hourglass with above"
      ],
      "id": "03e8bf2f"
    },
    {
      "cell_type": "markdown",
      "metadata": {
        "heading_collapsed": true,
        "hidden": true,
        "id": "a40a3685"
      },
      "source": [
        "##### Ex:\n",
        "if n is 3 print \n",
        "```\n",
        "*****\n",
        " ***\n",
        "  *\n",
        "  *\n",
        " ***\n",
        "*****\n",
        "```\n",
        "\n",
        "if n is 5 print \n",
        "```\n",
        "*********\n",
        " *******\n",
        "  *****\n",
        "   ***\n",
        "    *\n",
        "    *\n",
        "   ***\n",
        "  *****\n",
        " *******\n",
        "*********\n",
        "```"
      ],
      "id": "a40a3685"
    },
    {
      "cell_type": "code",
      "metadata": {
        "hidden": true,
        "id": "e83876b4",
        "colab": {
          "base_uri": "https://localhost:8080/"
        },
        "outputId": "87d09add-1c69-4797-fd06-67b796f19657"
      },
      "source": [
        "n = int(input())\n",
        "for i in range(n,0,-1):\n",
        "    print(' '*(n-i),'*'*(2*i-1))\n",
        "for i in range(1,n+1):\n",
        "    print(' '*(n-i),'*'*(2*i-1))"
      ],
      "id": "e83876b4",
      "execution_count": 67,
      "outputs": [
        {
          "output_type": "stream",
          "name": "stdout",
          "text": [
            "10\n",
            " *******************\n",
            "  *****************\n",
            "   ***************\n",
            "    *************\n",
            "     ***********\n",
            "      *********\n",
            "       *******\n",
            "        *****\n",
            "         ***\n",
            "          *\n",
            "          *\n",
            "         ***\n",
            "        *****\n",
            "       *******\n",
            "      *********\n",
            "     ***********\n",
            "    *************\n",
            "   ***************\n",
            "  *****************\n",
            " *******************\n"
          ]
        }
      ]
    },
    {
      "cell_type": "markdown",
      "metadata": {
        "heading_collapsed": true,
        "hidden": true,
        "id": "8cd0297f"
      },
      "source": [
        "### Patterns with alphabets"
      ],
      "id": "8cd0297f"
    },
    {
      "cell_type": "markdown",
      "metadata": {
        "hidden": true,
        "id": "ee8983e5"
      },
      "source": [
        "**Option 1** : Make a list of alphabets \n",
        "https://www.geeksforgeeks.org/python-ways-to-initialize-list-with-alphabets/"
      ],
      "id": "ee8983e5"
    },
    {
      "cell_type": "code",
      "metadata": {
        "hidden": true,
        "id": "47851fa0",
        "colab": {
          "base_uri": "https://localhost:8080/"
        },
        "outputId": "f086dfe6-6412-4ea4-a92a-f7e1f98dab3a"
      },
      "source": [
        "import string\n",
        "print(string.ascii_lowercase)"
      ],
      "id": "47851fa0",
      "execution_count": 68,
      "outputs": [
        {
          "output_type": "stream",
          "name": "stdout",
          "text": [
            "abcdefghijklmnopqrstuvwxyz\n"
          ]
        }
      ]
    },
    {
      "cell_type": "markdown",
      "metadata": {
        "hidden": true,
        "id": "35e1bd91"
      },
      "source": [
        "**Option 2** : Work with alphabets as nos using ord () and convert back to alphabets using chr()\n",
        "https://www.journaldev.com/22767/python-ord-chr"
      ],
      "id": "35e1bd91"
    },
    {
      "cell_type": "markdown",
      "metadata": {
        "heading_collapsed": true,
        "hidden": true,
        "id": "ada36691"
      },
      "source": [
        "#### Print alphabets with each line containing letters repeated as many times as the line number starting with a in line 1"
      ],
      "id": "ada36691"
    },
    {
      "cell_type": "code",
      "metadata": {
        "code_folding": [],
        "hidden": true,
        "id": "5a7c35e9",
        "colab": {
          "base_uri": "https://localhost:8080/"
        },
        "outputId": "7ff6f154-9de3-48c8-b4d5-2128c2fbdcfe"
      },
      "source": [
        "for index,alphabet in enumerate(string.ascii_lowercase):\n",
        "    print(alphabet*(index+1))"
      ],
      "id": "5a7c35e9",
      "execution_count": 69,
      "outputs": [
        {
          "output_type": "stream",
          "name": "stdout",
          "text": [
            "a\n",
            "bb\n",
            "ccc\n",
            "dddd\n",
            "eeeee\n",
            "ffffff\n",
            "ggggggg\n",
            "hhhhhhhh\n",
            "iiiiiiiii\n",
            "jjjjjjjjjj\n",
            "kkkkkkkkkkk\n",
            "llllllllllll\n",
            "mmmmmmmmmmmmm\n",
            "nnnnnnnnnnnnnn\n",
            "ooooooooooooooo\n",
            "pppppppppppppppp\n",
            "qqqqqqqqqqqqqqqqq\n",
            "rrrrrrrrrrrrrrrrrr\n",
            "sssssssssssssssssss\n",
            "tttttttttttttttttttt\n",
            "uuuuuuuuuuuuuuuuuuuuu\n",
            "vvvvvvvvvvvvvvvvvvvvvv\n",
            "wwwwwwwwwwwwwwwwwwwwwww\n",
            "xxxxxxxxxxxxxxxxxxxxxxxx\n",
            "yyyyyyyyyyyyyyyyyyyyyyyyy\n",
            "zzzzzzzzzzzzzzzzzzzzzzzzzz\n"
          ]
        }
      ]
    },
    {
      "cell_type": "markdown",
      "metadata": {
        "heading_collapsed": true,
        "hidden": true,
        "id": "e9dd5ff4"
      },
      "source": [
        "#### Print alphabets with each line containing letters repeated as many times as the line number starting with z in line 1"
      ],
      "id": "e9dd5ff4"
    },
    {
      "cell_type": "code",
      "metadata": {
        "hidden": true,
        "id": "cf5896d0",
        "colab": {
          "base_uri": "https://localhost:8080/"
        },
        "outputId": "44594e94-2204-48b9-ec1b-607823846fdf"
      },
      "source": [
        "for index,alphabet in enumerate(string.ascii_lowercase[::-1]):\n",
        "    print(alphabet*(index+1))"
      ],
      "id": "cf5896d0",
      "execution_count": 70,
      "outputs": [
        {
          "output_type": "stream",
          "name": "stdout",
          "text": [
            "z\n",
            "yy\n",
            "xxx\n",
            "wwww\n",
            "vvvvv\n",
            "uuuuuu\n",
            "ttttttt\n",
            "ssssssss\n",
            "rrrrrrrrr\n",
            "qqqqqqqqqq\n",
            "ppppppppppp\n",
            "oooooooooooo\n",
            "nnnnnnnnnnnnn\n",
            "mmmmmmmmmmmmmm\n",
            "lllllllllllllll\n",
            "kkkkkkkkkkkkkkkk\n",
            "jjjjjjjjjjjjjjjjj\n",
            "iiiiiiiiiiiiiiiiii\n",
            "hhhhhhhhhhhhhhhhhhh\n",
            "gggggggggggggggggggg\n",
            "fffffffffffffffffffff\n",
            "eeeeeeeeeeeeeeeeeeeeee\n",
            "ddddddddddddddddddddddd\n",
            "cccccccccccccccccccccccc\n",
            "bbbbbbbbbbbbbbbbbbbbbbbbb\n",
            "aaaaaaaaaaaaaaaaaaaaaaaaaa\n"
          ]
        }
      ]
    },
    {
      "cell_type": "markdown",
      "metadata": {
        "heading_collapsed": true,
        "hidden": true,
        "id": "9a3269f0"
      },
      "source": [
        "#### Print n lines with each line containing that many distinct characters as line number starting from a"
      ],
      "id": "9a3269f0"
    },
    {
      "cell_type": "code",
      "metadata": {
        "hidden": true,
        "id": "23aeb246",
        "colab": {
          "base_uri": "https://localhost:8080/"
        },
        "outputId": "d3de3d63-628c-4549-984f-18b3032f45ce"
      },
      "source": [
        "n = int(input())\n",
        "for i in range(1,n+1):\n",
        "    print(string.ascii_lowercase[:i])"
      ],
      "id": "23aeb246",
      "execution_count": 72,
      "outputs": [
        {
          "output_type": "stream",
          "name": "stdout",
          "text": [
            "10\n",
            "a\n",
            "ab\n",
            "abc\n",
            "abcd\n",
            "abcde\n",
            "abcdef\n",
            "abcdefg\n",
            "abcdefgh\n",
            "abcdefghi\n",
            "abcdefghij\n"
          ]
        }
      ]
    },
    {
      "cell_type": "markdown",
      "metadata": {
        "heading_collapsed": true,
        "hidden": true,
        "id": "1acafc6b"
      },
      "source": [
        "#### Print n lines with each line containing that many distinct characters as line number ending with z"
      ],
      "id": "1acafc6b"
    },
    {
      "cell_type": "code",
      "metadata": {
        "hidden": true,
        "id": "b8f1a6e3",
        "colab": {
          "base_uri": "https://localhost:8080/"
        },
        "outputId": "d8e72b31-86aa-4e11-f0bb-aed3310355d7"
      },
      "source": [
        "n = int(input())\n",
        "for i in range(n):\n",
        "    print(' '*(n-i),string.ascii_lowercase[25-i:])"
      ],
      "id": "b8f1a6e3",
      "execution_count": 74,
      "outputs": [
        {
          "output_type": "stream",
          "name": "stdout",
          "text": [
            "10\n",
            "           z\n",
            "          yz\n",
            "         xyz\n",
            "        wxyz\n",
            "       vwxyz\n",
            "      uvwxyz\n",
            "     tuvwxyz\n",
            "    stuvwxyz\n",
            "   rstuvwxyz\n",
            "  qrstuvwxyz\n"
          ]
        }
      ]
    },
    {
      "cell_type": "markdown",
      "metadata": {
        "heading_collapsed": true,
        "hidden": true,
        "id": "90fb6813"
      },
      "source": [
        "#### Print n lines with each line containing that many distinct characters as line number ending with a"
      ],
      "id": "90fb6813"
    },
    {
      "cell_type": "code",
      "metadata": {
        "hidden": true,
        "id": "b5a5fa4c",
        "colab": {
          "base_uri": "https://localhost:8080/"
        },
        "outputId": "0dd0e92e-704d-452c-eb72-d6d77851b33e"
      },
      "source": [
        "n = int(input())\n",
        "for i in range(n):\n",
        "    print(' '*(n-i),string.ascii_lowercase[i::-1])"
      ],
      "id": "b5a5fa4c",
      "execution_count": 76,
      "outputs": [
        {
          "output_type": "stream",
          "name": "stdout",
          "text": [
            "10\n",
            "           a\n",
            "          ba\n",
            "         cba\n",
            "        dcba\n",
            "       edcba\n",
            "      fedcba\n",
            "     gfedcba\n",
            "    hgfedcba\n",
            "   ihgfedcba\n",
            "  jihgfedcba\n"
          ]
        }
      ]
    },
    {
      "cell_type": "markdown",
      "metadata": {
        "heading_collapsed": true,
        "hidden": true,
        "id": "09b4c7b8"
      },
      "source": [
        "#### Print n lines with each line containing that many distinct characters as line number starting with z"
      ],
      "id": "09b4c7b8"
    },
    {
      "cell_type": "code",
      "metadata": {
        "hidden": true,
        "id": "46c63d29",
        "colab": {
          "base_uri": "https://localhost:8080/"
        },
        "outputId": "e669f1d3-65ac-446f-e5d1-822250f45bf4"
      },
      "source": [
        "n = int(input())\n",
        "for i in range(n):\n",
        "    print(string.ascii_lowercase[:24-i:-1])"
      ],
      "id": "46c63d29",
      "execution_count": 77,
      "outputs": [
        {
          "output_type": "stream",
          "name": "stdout",
          "text": [
            "10\n",
            "z\n",
            "zy\n",
            "zyx\n",
            "zyxw\n",
            "zyxwv\n",
            "zyxwvu\n",
            "zyxwvut\n",
            "zyxwvuts\n",
            "zyxwvutsr\n",
            "zyxwvutsrq\n"
          ]
        }
      ]
    },
    {
      "cell_type": "markdown",
      "metadata": {
        "heading_collapsed": true,
        "hidden": true,
        "id": "8c132f6f"
      },
      "source": [
        "#### Print pattern as follows:"
      ],
      "id": "8c132f6f"
    },
    {
      "cell_type": "markdown",
      "metadata": {
        "heading_collapsed": true,
        "hidden": true,
        "id": "eb8da6e9"
      },
      "source": [
        "##### Ex: If user enters 5 print pattern as follows:\n",
        "```\n",
        "           a\n",
        "          bab\n",
        "         cbabc\n",
        "        dcbabcd\n",
        "       edcbabcde\n",
        "```"
      ],
      "id": "eb8da6e9"
    },
    {
      "cell_type": "code",
      "metadata": {
        "hidden": true,
        "id": "826d61ae",
        "colab": {
          "base_uri": "https://localhost:8080/"
        },
        "outputId": "bcd681dd-de2a-4718-8581-ef5746f26efe"
      },
      "source": [
        "n = int(input())\n",
        "for i in range(n):\n",
        "    print(' '*(n-i),string.ascii_lowercase[i::-1]+string.ascii_lowercase[1:i+1])"
      ],
      "id": "826d61ae",
      "execution_count": 78,
      "outputs": [
        {
          "output_type": "stream",
          "name": "stdout",
          "text": [
            "10\n",
            "           a\n",
            "          bab\n",
            "         cbabc\n",
            "        dcbabcd\n",
            "       edcbabcde\n",
            "      fedcbabcdef\n",
            "     gfedcbabcdefg\n",
            "    hgfedcbabcdefgh\n",
            "   ihgfedcbabcdefghi\n",
            "  jihgfedcbabcdefghij\n"
          ]
        }
      ]
    },
    {
      "cell_type": "markdown",
      "metadata": {
        "heading_collapsed": true,
        "hidden": true,
        "id": "0884d139"
      },
      "source": [
        "#### Print the pattern 2"
      ],
      "id": "0884d139"
    },
    {
      "cell_type": "markdown",
      "metadata": {
        "heading_collapsed": true,
        "hidden": true,
        "id": "deb7f270"
      },
      "source": [
        "##### Ex: If user enters 5 print pattern as follows:\n",
        "```\n",
        "           a\n",
        "          aba\n",
        "         abcba\n",
        "        abcdcba\n",
        "       abcdedcba\n",
        "```"
      ],
      "id": "deb7f270"
    },
    {
      "cell_type": "code",
      "metadata": {
        "hidden": true,
        "id": "805e118f",
        "colab": {
          "base_uri": "https://localhost:8080/"
        },
        "outputId": "d1410a73-3dd6-4b1d-f965-ee3a53f5cef1"
      },
      "source": [
        "n = int(input())\n",
        "for i in range(n):\n",
        "    print(' '*(n-i),string.ascii_lowercase[:i]+string.ascii_lowercase[i::-1])"
      ],
      "id": "805e118f",
      "execution_count": 80,
      "outputs": [
        {
          "output_type": "stream",
          "name": "stdout",
          "text": [
            "10\n",
            "           a\n",
            "          aba\n",
            "         abcba\n",
            "        abcdcba\n",
            "       abcdedcba\n",
            "      abcdefedcba\n",
            "     abcdefgfedcba\n",
            "    abcdefghgfedcba\n",
            "   abcdefghihgfedcba\n",
            "  abcdefghijihgfedcba\n"
          ]
        }
      ]
    },
    {
      "cell_type": "markdown",
      "metadata": {
        "heading_collapsed": true,
        "hidden": true,
        "id": "0f71c94f"
      },
      "source": [
        "### Patterns with numbers"
      ],
      "id": "0f71c94f"
    },
    {
      "cell_type": "markdown",
      "metadata": {
        "hidden": true,
        "id": "e405aede"
      },
      "source": [
        "- Same as alphabets\n",
        "> - Use range(10) or range(9,-1,-1) as appropriate to print from 0 to 9 or 9 to 0\n",
        "> - replace alphabet by str(alphabet) and it will work right away\n",
        "- for mixing 2 digit or 3 digit numbers similar logic can be used after allowing for spaces to make lengths of all numbers same"
      ],
      "id": "e405aede"
    },
    {
      "cell_type": "code",
      "metadata": {
        "hidden": true,
        "id": "f95704ac",
        "colab": {
          "base_uri": "https://localhost:8080/"
        },
        "outputId": "65275f40-4e09-4075-81fa-a3c6a73b1872"
      },
      "source": [
        "for index,no in enumerate(range(10)):\n",
        "    print(str(no)*(index+1))"
      ],
      "id": "f95704ac",
      "execution_count": 81,
      "outputs": [
        {
          "output_type": "stream",
          "name": "stdout",
          "text": [
            "0\n",
            "11\n",
            "222\n",
            "3333\n",
            "44444\n",
            "555555\n",
            "6666666\n",
            "77777777\n",
            "888888888\n",
            "9999999999\n"
          ]
        }
      ]
    },
    {
      "cell_type": "markdown",
      "metadata": {
        "heading_collapsed": true,
        "id": "16e9d12b"
      },
      "source": [
        "## Functions (Introduction)"
      ],
      "id": "16e9d12b"
    },
    {
      "cell_type": "markdown",
      "metadata": {
        "hidden": true,
        "id": "cec00b9f"
      },
      "source": [
        "Built in Funtions in Python : https://docs.python.org/3/library/functions.html"
      ],
      "id": "cec00b9f"
    },
    {
      "cell_type": "code",
      "metadata": {
        "hidden": true,
        "id": "ab46e3a1"
      },
      "source": [
        "import builtins\n",
        "print(dir(builtins))"
      ],
      "id": "ab46e3a1",
      "execution_count": null,
      "outputs": []
    },
    {
      "cell_type": "code",
      "metadata": {
        "hidden": true,
        "id": "bdedcf58"
      },
      "source": [
        "import types\n",
        "\n",
        "builtin_function_names = [name for name, obj in vars(builtins).items() \n",
        "                          if isinstance(obj, types.BuiltinFunctionType)]\n",
        "print(builtin_function_names)"
      ],
      "id": "bdedcf58",
      "execution_count": null,
      "outputs": []
    },
    {
      "cell_type": "code",
      "metadata": {
        "hidden": true,
        "id": "3830b254"
      },
      "source": [
        "def addition(a, b):\n",
        "    return a + b\n",
        "\n",
        "addition(2, 3)"
      ],
      "id": "3830b254",
      "execution_count": null,
      "outputs": []
    },
    {
      "cell_type": "markdown",
      "metadata": {
        "heading_collapsed": true,
        "id": "382fa438"
      },
      "source": [
        "## Topics to be discussed in next session:"
      ],
      "id": "382fa438"
    },
    {
      "cell_type": "markdown",
      "metadata": {
        "hidden": true,
        "id": "d5115090"
      },
      "source": [
        "Functions, scope of variables, built in functions (enumerate, zip, map, filter, reduce, all), Function arguments(args,  kwargs), recursive functions will be covered in subsequent sessions."
      ],
      "id": "d5115090"
    },
    {
      "cell_type": "markdown",
      "metadata": {
        "hidden": true,
        "id": "69d5690e"
      },
      "source": [
        "Refer our doubt clearing session on Lambda Functions as well."
      ],
      "id": "69d5690e"
    },
    {
      "cell_type": "markdown",
      "metadata": {
        "heading_collapsed": true,
        "id": "81a8c514"
      },
      "source": [
        "## Thank You !!!\n",
        "\n",
        "Regards and Best Wishes, Arun P R"
      ],
      "id": "81a8c514"
    }
  ]
}