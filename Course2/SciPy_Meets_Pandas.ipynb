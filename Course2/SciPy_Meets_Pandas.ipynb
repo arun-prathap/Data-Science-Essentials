{
  "nbformat": 4,
  "nbformat_minor": 0,
  "metadata": {
    "colab": {
      "name": "SciPy Meets Pandas.ipynb",
      "provenance": [],
      "collapsed_sections": [],
      "toc_visible": true
    },
    "kernelspec": {
      "name": "python3",
      "display_name": "Python 3"
    },
    "language_info": {
      "name": "python"
    }
  },
  "cells": [
    {
      "cell_type": "markdown",
      "metadata": {
        "id": "GlikR_SZnpZO"
      },
      "source": [
        "# SciPy meets Pandas"
      ]
    },
    {
      "cell_type": "markdown",
      "metadata": {
        "id": "JspWrQf0mPvI"
      },
      "source": [
        "## References\n",
        "\n",
        "* https://numpy.org/doc/stable/reference/routines.statistics.html\n",
        "* https://www.statsmodels.org/stable/stats.html\n",
        "* https://docs.scipy.org/doc/scipy/reference/stats.html"
      ]
    },
    {
      "cell_type": "markdown",
      "metadata": {
        "id": "9z1Q2wX8Ma_g"
      },
      "source": [
        "# Descriptive Statistics"
      ]
    },
    {
      "cell_type": "code",
      "metadata": {
        "colab": {
          "base_uri": "https://localhost:8080/",
          "height": 418
        },
        "id": "gTXFIWeOMSgl",
        "outputId": "68b6a336-4623-42d4-a11b-15b97f164524"
      },
      "source": [
        "import pandas as pd\n",
        "import numpy as np\n",
        "\n",
        "#Create a Dictionary of series\n",
        "d = {'Name':pd.Series(['Arjun','Bunty','Cathy','Devin','Eddie','Finch','Gerom',\n",
        "   'Heron','Indra','Jacks','Karan','Laila']),\n",
        "   'Age':pd.Series([25,26,25,23,30,29,23,34,40,30,51,46]),\n",
        "   'Rating':pd.Series([4.23,3.24,3.98,2.56,3.20,4.6,3.8,3.78,2.98,4.80,4.10,3.65])\n",
        "}\n",
        "\n",
        "#Create a DataFrame\n",
        "df = pd.DataFrame(d)\n",
        "df"
      ],
      "execution_count": 42,
      "outputs": [
        {
          "output_type": "execute_result",
          "data": {
            "text/html": [
              "<div>\n",
              "<style scoped>\n",
              "    .dataframe tbody tr th:only-of-type {\n",
              "        vertical-align: middle;\n",
              "    }\n",
              "\n",
              "    .dataframe tbody tr th {\n",
              "        vertical-align: top;\n",
              "    }\n",
              "\n",
              "    .dataframe thead th {\n",
              "        text-align: right;\n",
              "    }\n",
              "</style>\n",
              "<table border=\"1\" class=\"dataframe\">\n",
              "  <thead>\n",
              "    <tr style=\"text-align: right;\">\n",
              "      <th></th>\n",
              "      <th>Name</th>\n",
              "      <th>Age</th>\n",
              "      <th>Rating</th>\n",
              "    </tr>\n",
              "  </thead>\n",
              "  <tbody>\n",
              "    <tr>\n",
              "      <th>0</th>\n",
              "      <td>Arjun</td>\n",
              "      <td>25</td>\n",
              "      <td>4.23</td>\n",
              "    </tr>\n",
              "    <tr>\n",
              "      <th>1</th>\n",
              "      <td>Bunty</td>\n",
              "      <td>26</td>\n",
              "      <td>3.24</td>\n",
              "    </tr>\n",
              "    <tr>\n",
              "      <th>2</th>\n",
              "      <td>Cathy</td>\n",
              "      <td>25</td>\n",
              "      <td>3.98</td>\n",
              "    </tr>\n",
              "    <tr>\n",
              "      <th>3</th>\n",
              "      <td>Devin</td>\n",
              "      <td>23</td>\n",
              "      <td>2.56</td>\n",
              "    </tr>\n",
              "    <tr>\n",
              "      <th>4</th>\n",
              "      <td>Eddie</td>\n",
              "      <td>30</td>\n",
              "      <td>3.20</td>\n",
              "    </tr>\n",
              "    <tr>\n",
              "      <th>5</th>\n",
              "      <td>Finch</td>\n",
              "      <td>29</td>\n",
              "      <td>4.60</td>\n",
              "    </tr>\n",
              "    <tr>\n",
              "      <th>6</th>\n",
              "      <td>Gerom</td>\n",
              "      <td>23</td>\n",
              "      <td>3.80</td>\n",
              "    </tr>\n",
              "    <tr>\n",
              "      <th>7</th>\n",
              "      <td>Heron</td>\n",
              "      <td>34</td>\n",
              "      <td>3.78</td>\n",
              "    </tr>\n",
              "    <tr>\n",
              "      <th>8</th>\n",
              "      <td>Indra</td>\n",
              "      <td>40</td>\n",
              "      <td>2.98</td>\n",
              "    </tr>\n",
              "    <tr>\n",
              "      <th>9</th>\n",
              "      <td>Jacks</td>\n",
              "      <td>30</td>\n",
              "      <td>4.80</td>\n",
              "    </tr>\n",
              "    <tr>\n",
              "      <th>10</th>\n",
              "      <td>Karan</td>\n",
              "      <td>51</td>\n",
              "      <td>4.10</td>\n",
              "    </tr>\n",
              "    <tr>\n",
              "      <th>11</th>\n",
              "      <td>Laila</td>\n",
              "      <td>46</td>\n",
              "      <td>3.65</td>\n",
              "    </tr>\n",
              "  </tbody>\n",
              "</table>\n",
              "</div>"
            ],
            "text/plain": [
              "     Name  Age  Rating\n",
              "0   Arjun   25    4.23\n",
              "1   Bunty   26    3.24\n",
              "2   Cathy   25    3.98\n",
              "3   Devin   23    2.56\n",
              "4   Eddie   30    3.20\n",
              "5   Finch   29    4.60\n",
              "6   Gerom   23    3.80\n",
              "7   Heron   34    3.78\n",
              "8   Indra   40    2.98\n",
              "9   Jacks   30    4.80\n",
              "10  Karan   51    4.10\n",
              "11  Laila   46    3.65"
            ]
          },
          "metadata": {},
          "execution_count": 42
        }
      ]
    },
    {
      "cell_type": "code",
      "metadata": {
        "colab": {
          "base_uri": "https://localhost:8080/"
        },
        "id": "ZJmIpjJ3Nvbh",
        "outputId": "b17d9d0e-fb63-4819-8c0c-fc2217859c73"
      },
      "source": [
        "df.info()"
      ],
      "execution_count": 43,
      "outputs": [
        {
          "output_type": "stream",
          "name": "stdout",
          "text": [
            "<class 'pandas.core.frame.DataFrame'>\n",
            "RangeIndex: 12 entries, 0 to 11\n",
            "Data columns (total 3 columns):\n",
            " #   Column  Non-Null Count  Dtype  \n",
            "---  ------  --------------  -----  \n",
            " 0   Name    12 non-null     object \n",
            " 1   Age     12 non-null     int64  \n",
            " 2   Rating  12 non-null     float64\n",
            "dtypes: float64(1), int64(1), object(1)\n",
            "memory usage: 416.0+ bytes\n"
          ]
        }
      ]
    },
    {
      "cell_type": "code",
      "metadata": {
        "colab": {
          "base_uri": "https://localhost:8080/",
          "height": 295
        },
        "id": "zgN1BudpNHbj",
        "outputId": "19fafc47-9e62-40a3-a9e2-193ff7e3be01"
      },
      "source": [
        "df.describe()"
      ],
      "execution_count": 44,
      "outputs": [
        {
          "output_type": "execute_result",
          "data": {
            "text/html": [
              "<div>\n",
              "<style scoped>\n",
              "    .dataframe tbody tr th:only-of-type {\n",
              "        vertical-align: middle;\n",
              "    }\n",
              "\n",
              "    .dataframe tbody tr th {\n",
              "        vertical-align: top;\n",
              "    }\n",
              "\n",
              "    .dataframe thead th {\n",
              "        text-align: right;\n",
              "    }\n",
              "</style>\n",
              "<table border=\"1\" class=\"dataframe\">\n",
              "  <thead>\n",
              "    <tr style=\"text-align: right;\">\n",
              "      <th></th>\n",
              "      <th>Age</th>\n",
              "      <th>Rating</th>\n",
              "    </tr>\n",
              "  </thead>\n",
              "  <tbody>\n",
              "    <tr>\n",
              "      <th>count</th>\n",
              "      <td>12.000000</td>\n",
              "      <td>12.000000</td>\n",
              "    </tr>\n",
              "    <tr>\n",
              "      <th>mean</th>\n",
              "      <td>31.833333</td>\n",
              "      <td>3.743333</td>\n",
              "    </tr>\n",
              "    <tr>\n",
              "      <th>std</th>\n",
              "      <td>9.232682</td>\n",
              "      <td>0.661628</td>\n",
              "    </tr>\n",
              "    <tr>\n",
              "      <th>min</th>\n",
              "      <td>23.000000</td>\n",
              "      <td>2.560000</td>\n",
              "    </tr>\n",
              "    <tr>\n",
              "      <th>25%</th>\n",
              "      <td>25.000000</td>\n",
              "      <td>3.230000</td>\n",
              "    </tr>\n",
              "    <tr>\n",
              "      <th>50%</th>\n",
              "      <td>29.500000</td>\n",
              "      <td>3.790000</td>\n",
              "    </tr>\n",
              "    <tr>\n",
              "      <th>75%</th>\n",
              "      <td>35.500000</td>\n",
              "      <td>4.132500</td>\n",
              "    </tr>\n",
              "    <tr>\n",
              "      <th>max</th>\n",
              "      <td>51.000000</td>\n",
              "      <td>4.800000</td>\n",
              "    </tr>\n",
              "  </tbody>\n",
              "</table>\n",
              "</div>"
            ],
            "text/plain": [
              "             Age     Rating\n",
              "count  12.000000  12.000000\n",
              "mean   31.833333   3.743333\n",
              "std     9.232682   0.661628\n",
              "min    23.000000   2.560000\n",
              "25%    25.000000   3.230000\n",
              "50%    29.500000   3.790000\n",
              "75%    35.500000   4.132500\n",
              "max    51.000000   4.800000"
            ]
          },
          "metadata": {},
          "execution_count": 44
        }
      ]
    },
    {
      "cell_type": "code",
      "metadata": {
        "colab": {
          "base_uri": "https://localhost:8080/",
          "height": 172
        },
        "id": "hzp-ujEoNS69",
        "outputId": "8b611a3c-8233-4207-e1d8-192a7e86e8d5"
      },
      "source": [
        "df.describe(include='object')"
      ],
      "execution_count": 46,
      "outputs": [
        {
          "output_type": "execute_result",
          "data": {
            "text/html": [
              "<div>\n",
              "<style scoped>\n",
              "    .dataframe tbody tr th:only-of-type {\n",
              "        vertical-align: middle;\n",
              "    }\n",
              "\n",
              "    .dataframe tbody tr th {\n",
              "        vertical-align: top;\n",
              "    }\n",
              "\n",
              "    .dataframe thead th {\n",
              "        text-align: right;\n",
              "    }\n",
              "</style>\n",
              "<table border=\"1\" class=\"dataframe\">\n",
              "  <thead>\n",
              "    <tr style=\"text-align: right;\">\n",
              "      <th></th>\n",
              "      <th>Name</th>\n",
              "    </tr>\n",
              "  </thead>\n",
              "  <tbody>\n",
              "    <tr>\n",
              "      <th>count</th>\n",
              "      <td>12</td>\n",
              "    </tr>\n",
              "    <tr>\n",
              "      <th>unique</th>\n",
              "      <td>12</td>\n",
              "    </tr>\n",
              "    <tr>\n",
              "      <th>top</th>\n",
              "      <td>Devin</td>\n",
              "    </tr>\n",
              "    <tr>\n",
              "      <th>freq</th>\n",
              "      <td>1</td>\n",
              "    </tr>\n",
              "  </tbody>\n",
              "</table>\n",
              "</div>"
            ],
            "text/plain": [
              "         Name\n",
              "count      12\n",
              "unique     12\n",
              "top     Devin\n",
              "freq        1"
            ]
          },
          "metadata": {},
          "execution_count": 46
        }
      ]
    },
    {
      "cell_type": "code",
      "metadata": {
        "colab": {
          "base_uri": "https://localhost:8080/",
          "height": 388
        },
        "id": "TtL3FZWuNVjx",
        "outputId": "4f16ceea-ecae-4ff9-b057-2747be6053e1"
      },
      "source": [
        "df.describe(include=\"all\")"
      ],
      "execution_count": 47,
      "outputs": [
        {
          "output_type": "execute_result",
          "data": {
            "text/html": [
              "<div>\n",
              "<style scoped>\n",
              "    .dataframe tbody tr th:only-of-type {\n",
              "        vertical-align: middle;\n",
              "    }\n",
              "\n",
              "    .dataframe tbody tr th {\n",
              "        vertical-align: top;\n",
              "    }\n",
              "\n",
              "    .dataframe thead th {\n",
              "        text-align: right;\n",
              "    }\n",
              "</style>\n",
              "<table border=\"1\" class=\"dataframe\">\n",
              "  <thead>\n",
              "    <tr style=\"text-align: right;\">\n",
              "      <th></th>\n",
              "      <th>Name</th>\n",
              "      <th>Age</th>\n",
              "      <th>Rating</th>\n",
              "    </tr>\n",
              "  </thead>\n",
              "  <tbody>\n",
              "    <tr>\n",
              "      <th>count</th>\n",
              "      <td>12</td>\n",
              "      <td>12.000000</td>\n",
              "      <td>12.000000</td>\n",
              "    </tr>\n",
              "    <tr>\n",
              "      <th>unique</th>\n",
              "      <td>12</td>\n",
              "      <td>NaN</td>\n",
              "      <td>NaN</td>\n",
              "    </tr>\n",
              "    <tr>\n",
              "      <th>top</th>\n",
              "      <td>Devin</td>\n",
              "      <td>NaN</td>\n",
              "      <td>NaN</td>\n",
              "    </tr>\n",
              "    <tr>\n",
              "      <th>freq</th>\n",
              "      <td>1</td>\n",
              "      <td>NaN</td>\n",
              "      <td>NaN</td>\n",
              "    </tr>\n",
              "    <tr>\n",
              "      <th>mean</th>\n",
              "      <td>NaN</td>\n",
              "      <td>31.833333</td>\n",
              "      <td>3.743333</td>\n",
              "    </tr>\n",
              "    <tr>\n",
              "      <th>std</th>\n",
              "      <td>NaN</td>\n",
              "      <td>9.232682</td>\n",
              "      <td>0.661628</td>\n",
              "    </tr>\n",
              "    <tr>\n",
              "      <th>min</th>\n",
              "      <td>NaN</td>\n",
              "      <td>23.000000</td>\n",
              "      <td>2.560000</td>\n",
              "    </tr>\n",
              "    <tr>\n",
              "      <th>25%</th>\n",
              "      <td>NaN</td>\n",
              "      <td>25.000000</td>\n",
              "      <td>3.230000</td>\n",
              "    </tr>\n",
              "    <tr>\n",
              "      <th>50%</th>\n",
              "      <td>NaN</td>\n",
              "      <td>29.500000</td>\n",
              "      <td>3.790000</td>\n",
              "    </tr>\n",
              "    <tr>\n",
              "      <th>75%</th>\n",
              "      <td>NaN</td>\n",
              "      <td>35.500000</td>\n",
              "      <td>4.132500</td>\n",
              "    </tr>\n",
              "    <tr>\n",
              "      <th>max</th>\n",
              "      <td>NaN</td>\n",
              "      <td>51.000000</td>\n",
              "      <td>4.800000</td>\n",
              "    </tr>\n",
              "  </tbody>\n",
              "</table>\n",
              "</div>"
            ],
            "text/plain": [
              "         Name        Age     Rating\n",
              "count      12  12.000000  12.000000\n",
              "unique     12        NaN        NaN\n",
              "top     Devin        NaN        NaN\n",
              "freq        1        NaN        NaN\n",
              "mean      NaN  31.833333   3.743333\n",
              "std       NaN   9.232682   0.661628\n",
              "min       NaN  23.000000   2.560000\n",
              "25%       NaN  25.000000   3.230000\n",
              "50%       NaN  29.500000   3.790000\n",
              "75%       NaN  35.500000   4.132500\n",
              "max       NaN  51.000000   4.800000"
            ]
          },
          "metadata": {},
          "execution_count": 47
        }
      ]
    },
    {
      "cell_type": "code",
      "metadata": {
        "colab": {
          "base_uri": "https://localhost:8080/"
        },
        "id": "77nkPqTCNzEf",
        "outputId": "2aa05945-680f-4187-ab61-4b3987d9b01c"
      },
      "source": [
        "df.count()"
      ],
      "execution_count": 48,
      "outputs": [
        {
          "output_type": "execute_result",
          "data": {
            "text/plain": [
              "Name      12\n",
              "Age       12\n",
              "Rating    12\n",
              "dtype: int64"
            ]
          },
          "metadata": {},
          "execution_count": 48
        }
      ]
    },
    {
      "cell_type": "code",
      "metadata": {
        "colab": {
          "base_uri": "https://localhost:8080/"
        },
        "id": "Pd_w3d1zOAck",
        "outputId": "51751ddc-c8ca-4db5-a42a-f997bc34636a"
      },
      "source": [
        "df.min()"
      ],
      "execution_count": 49,
      "outputs": [
        {
          "output_type": "execute_result",
          "data": {
            "text/plain": [
              "Name      Arjun\n",
              "Age          23\n",
              "Rating     2.56\n",
              "dtype: object"
            ]
          },
          "metadata": {},
          "execution_count": 49
        }
      ]
    },
    {
      "cell_type": "code",
      "metadata": {
        "colab": {
          "base_uri": "https://localhost:8080/"
        },
        "id": "Hb8Inor0OAn7",
        "outputId": "b8a716d6-edcc-4930-bf53-234d1f2afc01"
      },
      "source": [
        "df.max()"
      ],
      "execution_count": 50,
      "outputs": [
        {
          "output_type": "execute_result",
          "data": {
            "text/plain": [
              "Name      Laila\n",
              "Age          51\n",
              "Rating      4.8\n",
              "dtype: object"
            ]
          },
          "metadata": {},
          "execution_count": 50
        }
      ]
    },
    {
      "cell_type": "code",
      "metadata": {
        "id": "29SYX9UKEae1",
        "colab": {
          "base_uri": "https://localhost:8080/"
        },
        "outputId": "51a80c27-8e01-4225-ce06-cb962f832f74"
      },
      "source": [
        "df[['Age','Rating']].max() - df[['Age','Rating']].min()#range"
      ],
      "execution_count": 53,
      "outputs": [
        {
          "output_type": "execute_result",
          "data": {
            "text/plain": [
              "Age       28.00\n",
              "Rating     2.24\n",
              "dtype: float64"
            ]
          },
          "metadata": {},
          "execution_count": 53
        }
      ]
    },
    {
      "cell_type": "code",
      "metadata": {
        "colab": {
          "base_uri": "https://localhost:8080/"
        },
        "id": "z4sstUJ5Mou1",
        "outputId": "69f0adc5-efaf-49ba-c2d6-44bd10d8e665"
      },
      "source": [
        "df.sum()"
      ],
      "execution_count": 54,
      "outputs": [
        {
          "output_type": "execute_result",
          "data": {
            "text/plain": [
              "Name      ArjunBuntyCathyDevinEddieFinchGeromHeronIndraJ...\n",
              "Age                                                     382\n",
              "Rating                                                44.92\n",
              "dtype: object"
            ]
          },
          "metadata": {},
          "execution_count": 54
        }
      ]
    },
    {
      "cell_type": "markdown",
      "metadata": {
        "id": "1G6peIxnhlkW"
      },
      "source": [
        "## Mean"
      ]
    },
    {
      "cell_type": "markdown",
      "metadata": {
        "id": "xWyZ1gWbaUSz"
      },
      "source": [
        "$\\bar x =   \\frac{1}{n} \\sum_{i=i}^{n} x_{i}  $\n",
        "\n",
        "$\\mu =   \\frac{1}{N} \\sum_{i=i}^{N} x_{i}  $"
      ]
    },
    {
      "cell_type": "code",
      "metadata": {
        "colab": {
          "base_uri": "https://localhost:8080/"
        },
        "id": "jcqpmrX5RpAy",
        "outputId": "969d4aac-851f-406c-f8fc-e8f7e000502b"
      },
      "source": [
        "print(df.Age.sum()/df.Age.count(), df.Rating.sum()/df.Rating.count())"
      ],
      "execution_count": 55,
      "outputs": [
        {
          "output_type": "stream",
          "name": "stdout",
          "text": [
            "31.833333333333332 3.7433333333333327\n"
          ]
        }
      ]
    },
    {
      "cell_type": "code",
      "metadata": {
        "colab": {
          "base_uri": "https://localhost:8080/"
        },
        "id": "YMnM56t1M0MW",
        "outputId": "c05fe5c7-d26c-4b2d-80d1-48688aa6e4d3"
      },
      "source": [
        "df.mean()"
      ],
      "execution_count": 56,
      "outputs": [
        {
          "output_type": "execute_result",
          "data": {
            "text/plain": [
              "Age       31.833333\n",
              "Rating     3.743333\n",
              "dtype: float64"
            ]
          },
          "metadata": {},
          "execution_count": 56
        }
      ]
    },
    {
      "cell_type": "markdown",
      "metadata": {
        "id": "iNPg0AsahpLT"
      },
      "source": [
        "## Median"
      ]
    },
    {
      "cell_type": "code",
      "metadata": {
        "colab": {
          "base_uri": "https://localhost:8080/"
        },
        "id": "CsP94truSkzD",
        "outputId": "b9be98c4-3c22-4a6b-f048-14889eaebac0"
      },
      "source": [
        "def find_median(input_list):\n",
        "  sorted_list = sorted(input_list)\n",
        "  len_list = len(sorted_list)\n",
        "  if len_list %2 == 0:\n",
        "    print((sorted_list[len_list//2-1]+sorted_list[len_list//2])/2)\n",
        "  else:\n",
        "    print(sorted_list[len_list//2])\n",
        "\n",
        "find_median(df.Age)\n",
        "find_median(df.Rating)"
      ],
      "execution_count": 57,
      "outputs": [
        {
          "output_type": "stream",
          "name": "stdout",
          "text": [
            "29.5\n",
            "3.79\n"
          ]
        }
      ]
    },
    {
      "cell_type": "code",
      "metadata": {
        "colab": {
          "base_uri": "https://localhost:8080/"
        },
        "id": "Y9Oglb-GNkMG",
        "outputId": "1dec6833-04d4-4b27-80e1-b0f602e3684a"
      },
      "source": [
        "df.median()"
      ],
      "execution_count": 58,
      "outputs": [
        {
          "output_type": "execute_result",
          "data": {
            "text/plain": [
              "Age       29.50\n",
              "Rating     3.79\n",
              "dtype: float64"
            ]
          },
          "metadata": {},
          "execution_count": 58
        }
      ]
    },
    {
      "cell_type": "markdown",
      "metadata": {
        "id": "hOIjadpuhsaZ"
      },
      "source": [
        "## Mode"
      ]
    },
    {
      "cell_type": "code",
      "metadata": {
        "colab": {
          "base_uri": "https://localhost:8080/"
        },
        "id": "t-3Z8HJMSSe7",
        "outputId": "4754887b-2dee-46c3-e68e-97a8f232676b"
      },
      "source": [
        "df.Age.mode()"
      ],
      "execution_count": 59,
      "outputs": [
        {
          "output_type": "execute_result",
          "data": {
            "text/plain": [
              "0    23\n",
              "1    25\n",
              "2    30\n",
              "dtype: int64"
            ]
          },
          "metadata": {},
          "execution_count": 59
        }
      ]
    },
    {
      "cell_type": "markdown",
      "metadata": {
        "id": "OYQ0WoZjht96"
      },
      "source": [
        "## Quantiles"
      ]
    },
    {
      "cell_type": "code",
      "metadata": {
        "colab": {
          "base_uri": "https://localhost:8080/"
        },
        "id": "zG-zSJqCljR1",
        "outputId": "3adcaff3-1ef5-415c-f413-a64e7e12952b"
      },
      "source": [
        "df.Age.quantile([0,0.25,0.5,0.75,1])"
      ],
      "execution_count": 60,
      "outputs": [
        {
          "output_type": "execute_result",
          "data": {
            "text/plain": [
              "0.00    23.0\n",
              "0.25    25.0\n",
              "0.50    29.5\n",
              "0.75    35.5\n",
              "1.00    51.0\n",
              "Name: Age, dtype: float64"
            ]
          },
          "metadata": {},
          "execution_count": 60
        }
      ]
    },
    {
      "cell_type": "markdown",
      "metadata": {
        "id": "sedbWqO5hw2y"
      },
      "source": [
        "## MAD"
      ]
    },
    {
      "cell_type": "markdown",
      "metadata": {
        "id": "rqe5GuJNceNc"
      },
      "source": [
        "$MAD_{Mean} =  \\frac{1}{n} \\sum_{i=i}^{n} |x_{i}-\\bar x|  $"
      ]
    },
    {
      "cell_type": "code",
      "metadata": {
        "colab": {
          "base_uri": "https://localhost:8080/",
          "height": 203
        },
        "id": "3jJdlV0tTnYb",
        "outputId": "b01ce5e7-6211-41e5-b62d-c203e8e234de"
      },
      "source": [
        "df['|x-xbar|']=abs(df.Age-df.Age.mean())\n",
        "df.head()"
      ],
      "execution_count": 61,
      "outputs": [
        {
          "output_type": "execute_result",
          "data": {
            "text/html": [
              "<div>\n",
              "<style scoped>\n",
              "    .dataframe tbody tr th:only-of-type {\n",
              "        vertical-align: middle;\n",
              "    }\n",
              "\n",
              "    .dataframe tbody tr th {\n",
              "        vertical-align: top;\n",
              "    }\n",
              "\n",
              "    .dataframe thead th {\n",
              "        text-align: right;\n",
              "    }\n",
              "</style>\n",
              "<table border=\"1\" class=\"dataframe\">\n",
              "  <thead>\n",
              "    <tr style=\"text-align: right;\">\n",
              "      <th></th>\n",
              "      <th>Name</th>\n",
              "      <th>Age</th>\n",
              "      <th>Rating</th>\n",
              "      <th>|x-xbar|</th>\n",
              "    </tr>\n",
              "  </thead>\n",
              "  <tbody>\n",
              "    <tr>\n",
              "      <th>0</th>\n",
              "      <td>Arjun</td>\n",
              "      <td>25</td>\n",
              "      <td>4.23</td>\n",
              "      <td>6.833333</td>\n",
              "    </tr>\n",
              "    <tr>\n",
              "      <th>1</th>\n",
              "      <td>Bunty</td>\n",
              "      <td>26</td>\n",
              "      <td>3.24</td>\n",
              "      <td>5.833333</td>\n",
              "    </tr>\n",
              "    <tr>\n",
              "      <th>2</th>\n",
              "      <td>Cathy</td>\n",
              "      <td>25</td>\n",
              "      <td>3.98</td>\n",
              "      <td>6.833333</td>\n",
              "    </tr>\n",
              "    <tr>\n",
              "      <th>3</th>\n",
              "      <td>Devin</td>\n",
              "      <td>23</td>\n",
              "      <td>2.56</td>\n",
              "      <td>8.833333</td>\n",
              "    </tr>\n",
              "    <tr>\n",
              "      <th>4</th>\n",
              "      <td>Eddie</td>\n",
              "      <td>30</td>\n",
              "      <td>3.20</td>\n",
              "      <td>1.833333</td>\n",
              "    </tr>\n",
              "  </tbody>\n",
              "</table>\n",
              "</div>"
            ],
            "text/plain": [
              "    Name  Age  Rating  |x-xbar|\n",
              "0  Arjun   25    4.23  6.833333\n",
              "1  Bunty   26    3.24  5.833333\n",
              "2  Cathy   25    3.98  6.833333\n",
              "3  Devin   23    2.56  8.833333\n",
              "4  Eddie   30    3.20  1.833333"
            ]
          },
          "metadata": {},
          "execution_count": 61
        }
      ]
    },
    {
      "cell_type": "code",
      "metadata": {
        "colab": {
          "base_uri": "https://localhost:8080/"
        },
        "id": "9LReBhOKKV-c",
        "outputId": "4ce87f2d-4ead-4fc3-9432-3baec52efe20"
      },
      "source": [
        "df['|x-xbar|'].sum()/df.Age.count()"
      ],
      "execution_count": 62,
      "outputs": [
        {
          "output_type": "execute_result",
          "data": {
            "text/plain": [
              "7.277777777777778"
            ]
          },
          "metadata": {},
          "execution_count": 62
        }
      ]
    },
    {
      "cell_type": "code",
      "metadata": {
        "colab": {
          "base_uri": "https://localhost:8080/"
        },
        "id": "C80IRn6YKiaH",
        "outputId": "9c513e9c-685b-4921-eb3b-8faf9ad4d469"
      },
      "source": [
        "df.Age.mad()#mean absolute deviation about mean"
      ],
      "execution_count": 63,
      "outputs": [
        {
          "output_type": "execute_result",
          "data": {
            "text/plain": [
              "7.277777777777779"
            ]
          },
          "metadata": {},
          "execution_count": 63
        }
      ]
    },
    {
      "cell_type": "markdown",
      "metadata": {
        "id": "E53w_Yy1c5ub"
      },
      "source": [
        "$MAD_{Median} =  \\frac{1}{n} \\sum_{i=i}^{n} |x_{i}-\\tilde x|  $"
      ]
    },
    {
      "cell_type": "code",
      "metadata": {
        "colab": {
          "base_uri": "https://localhost:8080/"
        },
        "id": "F7poUVesMOFW",
        "outputId": "d3c334a1-d088-4c96-877f-814cd19af698"
      },
      "source": [
        "df['|x-median|']=abs(df.Age-df.Age.median())\n",
        "df['|x-median|'].sum()/df.Age.count()#mean absolute deviation about median"
      ],
      "execution_count": 64,
      "outputs": [
        {
          "output_type": "execute_result",
          "data": {
            "text/plain": [
              "6.666666666666667"
            ]
          },
          "metadata": {},
          "execution_count": 64
        }
      ]
    },
    {
      "cell_type": "markdown",
      "metadata": {
        "id": "jKT-Kitih2Ty"
      },
      "source": [
        "## Variance"
      ]
    },
    {
      "cell_type": "markdown",
      "metadata": {
        "id": "icjjp31obrxX"
      },
      "source": [
        "$ s^2 =   \\frac{1}{n-1} \\sum_{i=i}^{n} (x_{i}-\\bar x)^2  $"
      ]
    },
    {
      "cell_type": "code",
      "metadata": {
        "colab": {
          "base_uri": "https://localhost:8080/"
        },
        "id": "9UY1DEVgLvFw",
        "outputId": "5d15901a-2134-46cf-c241-2198f532fde8"
      },
      "source": [
        "sum(df['|x-xbar|']**2)/(df.Age.count()-1)"
      ],
      "execution_count": 65,
      "outputs": [
        {
          "output_type": "execute_result",
          "data": {
            "text/plain": [
              "85.24242424242424"
            ]
          },
          "metadata": {},
          "execution_count": 65
        }
      ]
    },
    {
      "cell_type": "code",
      "metadata": {
        "colab": {
          "base_uri": "https://localhost:8080/"
        },
        "id": "Sh3aWVXmLbtQ",
        "outputId": "f3618cf8-daa9-4464-95c7-96d1ded66ebf"
      },
      "source": [
        "df.var()#sample variance"
      ],
      "execution_count": 66,
      "outputs": [
        {
          "output_type": "execute_result",
          "data": {
            "text/plain": [
              "Age           85.242424\n",
              "Rating         0.437752\n",
              "|x-xbar|      27.461279\n",
              "|x-median|    42.696970\n",
              "dtype: float64"
            ]
          },
          "metadata": {},
          "execution_count": 66
        }
      ]
    },
    {
      "cell_type": "markdown",
      "metadata": {
        "id": "CYUJypWccMji"
      },
      "source": [
        "$ \\sigma^2 =   \\frac{1}{N} \\sum_{i=i}^{N} (x_{i}-\\mu)^2  $"
      ]
    },
    {
      "cell_type": "code",
      "metadata": {
        "colab": {
          "base_uri": "https://localhost:8080/"
        },
        "id": "7Rq5VvRFLd4X",
        "outputId": "37e9e2cf-4fbf-4f35-d395-403ea9aefdfe"
      },
      "source": [
        "sum(df['|x-xbar|']**2)/(df.Age.count())"
      ],
      "execution_count": 67,
      "outputs": [
        {
          "output_type": "execute_result",
          "data": {
            "text/plain": [
              "78.13888888888889"
            ]
          },
          "metadata": {},
          "execution_count": 67
        }
      ]
    },
    {
      "cell_type": "code",
      "metadata": {
        "colab": {
          "base_uri": "https://localhost:8080/"
        },
        "id": "ojLKepy9LrUv",
        "outputId": "12da6846-d805-4d80-a206-a7b297760dc6"
      },
      "source": [
        "df.var(ddof=0)#population variance"
      ],
      "execution_count": 68,
      "outputs": [
        {
          "output_type": "execute_result",
          "data": {
            "text/plain": [
              "Age           78.138889\n",
              "Rating         0.401272\n",
              "|x-xbar|      25.172840\n",
              "|x-median|    39.138889\n",
              "dtype: float64"
            ]
          },
          "metadata": {},
          "execution_count": 68
        }
      ]
    },
    {
      "cell_type": "markdown",
      "metadata": {
        "id": "2oX6nO4oh7Tq"
      },
      "source": [
        "## Standard Deviation"
      ]
    },
    {
      "cell_type": "markdown",
      "metadata": {
        "id": "5AAAkkKCdA_n"
      },
      "source": [
        "$ s =   \\sqrt{\\frac{1}{n-1} \\sum_{i=i}^{n} (x_{i}-\\bar x)^2}  $"
      ]
    },
    {
      "cell_type": "code",
      "metadata": {
        "colab": {
          "base_uri": "https://localhost:8080/"
        },
        "id": "qTzdNu3NNAVr",
        "outputId": "846f0f61-d728-4569-c1c9-d2d788df906a"
      },
      "source": [
        "df.std()"
      ],
      "execution_count": 69,
      "outputs": [
        {
          "output_type": "execute_result",
          "data": {
            "text/plain": [
              "Age           9.232682\n",
              "Rating        0.661628\n",
              "|x-xbar|      5.240351\n",
              "|x-median|    6.534292\n",
              "dtype: float64"
            ]
          },
          "metadata": {},
          "execution_count": 69
        }
      ]
    },
    {
      "cell_type": "code",
      "metadata": {
        "id": "xGotsxKwNYEA",
        "colab": {
          "base_uri": "https://localhost:8080/"
        },
        "outputId": "3a824d4f-b317-4d1f-9436-703c24c9d94d"
      },
      "source": [
        "np.sqrt(sum(df['|x-xbar|']**2)/(df.Age.count()-1))"
      ],
      "execution_count": 70,
      "outputs": [
        {
          "output_type": "execute_result",
          "data": {
            "text/plain": [
              "9.232682396921506"
            ]
          },
          "metadata": {},
          "execution_count": 70
        }
      ]
    },
    {
      "cell_type": "code",
      "metadata": {
        "id": "kcBUaDF7LK4t",
        "colab": {
          "base_uri": "https://localhost:8080/"
        },
        "outputId": "5b47c76f-8a3a-4195-eb23-88c23d263069"
      },
      "source": [
        "df.Age.skew()"
      ],
      "execution_count": 71,
      "outputs": [
        {
          "output_type": "execute_result",
          "data": {
            "text/plain": [
              "1.135088832399207"
            ]
          },
          "metadata": {},
          "execution_count": 71
        }
      ]
    },
    {
      "cell_type": "code",
      "metadata": {
        "colab": {
          "base_uri": "https://localhost:8080/"
        },
        "id": "CdnZ5QJQp7iy",
        "outputId": "b8aab57d-3354-469e-8467-1d04b1357276"
      },
      "source": [
        "df.Age.kurt()"
      ],
      "execution_count": 72,
      "outputs": [
        {
          "output_type": "execute_result",
          "data": {
            "text/plain": [
              "0.24930965861233734"
            ]
          },
          "metadata": {},
          "execution_count": 72
        }
      ]
    },
    {
      "cell_type": "markdown",
      "metadata": {
        "id": "Zr70ISt-Mfw9"
      },
      "source": [
        "# Inferential Statistics"
      ]
    },
    {
      "cell_type": "markdown",
      "metadata": {
        "id": "XGO1mrJZNR1q"
      },
      "source": [
        "## Probability Distributions"
      ]
    },
    {
      "cell_type": "markdown",
      "metadata": {
        "id": "ERX0tC4CNUh6"
      },
      "source": [
        "### Binomial Distributions"
      ]
    },
    {
      "cell_type": "code",
      "metadata": {
        "id": "L3RgjKbMMhR_"
      },
      "source": [
        "from scipy.stats import binom\n",
        "# setting the values\n",
        "# of n and p\n",
        "n = 6\n",
        "p = 0.6"
      ],
      "execution_count": 73,
      "outputs": []
    },
    {
      "cell_type": "code",
      "metadata": {
        "colab": {
          "base_uri": "https://localhost:8080/"
        },
        "id": "NGjCmoA04wL4",
        "outputId": "dc3e279b-766f-4b14-adcb-dbbbce178df8"
      },
      "source": [
        "binom.pmf(0, n, p)"
      ],
      "execution_count": 76,
      "outputs": [
        {
          "output_type": "execute_result",
          "data": {
            "text/plain": [
              "0.004096000000000002"
            ]
          },
          "metadata": {},
          "execution_count": 76
        }
      ]
    },
    {
      "cell_type": "code",
      "metadata": {
        "colab": {
          "base_uri": "https://localhost:8080/"
        },
        "id": "nIxFKSiRPEHh",
        "outputId": "c7ff6f69-e905-4a83-cbc6-2caf9f5c0704"
      },
      "source": [
        "binom.pmf(1, n, p)"
      ],
      "execution_count": 74,
      "outputs": [
        {
          "output_type": "execute_result",
          "data": {
            "text/plain": [
              "0.03686400000000005"
            ]
          },
          "metadata": {},
          "execution_count": 74
        }
      ]
    },
    {
      "cell_type": "code",
      "metadata": {
        "colab": {
          "base_uri": "https://localhost:8080/"
        },
        "id": "w2AcIJAzPGl9",
        "outputId": "cacedeb3-65d6-42ec-d9ad-dbb9f8e6c4a2"
      },
      "source": [
        "binom.cdf(1, n, p)"
      ],
      "execution_count": 75,
      "outputs": [
        {
          "output_type": "execute_result",
          "data": {
            "text/plain": [
              "0.04096000000000002"
            ]
          },
          "metadata": {},
          "execution_count": 75
        }
      ]
    },
    {
      "cell_type": "code",
      "metadata": {
        "colab": {
          "base_uri": "https://localhost:8080/"
        },
        "id": "6olOazlyM0Yd",
        "outputId": "a85946c0-f7ab-439f-cbe5-aeea4f7f66d3"
      },
      "source": [
        "# obtaining the mean and variance \n",
        "mean, var = binom.stats(n, p)\n",
        "# printing mean and variance\n",
        "print(\"\\nmean = \"+str(mean))#--n*p\n",
        "print(\"variance = \"+str(var))#--n*p*q"
      ],
      "execution_count": 77,
      "outputs": [
        {
          "output_type": "stream",
          "name": "stdout",
          "text": [
            "\n",
            "mean = 3.5999999999999996\n",
            "variance = 1.44\n"
          ]
        }
      ]
    },
    {
      "cell_type": "code",
      "metadata": {
        "id": "hGDnt1l6PCn-"
      },
      "source": [
        "# defining the list of r values\n",
        "r_values = list(range(n + 1))"
      ],
      "execution_count": 78,
      "outputs": []
    },
    {
      "cell_type": "code",
      "metadata": {
        "colab": {
          "base_uri": "https://localhost:8080/"
        },
        "id": "rzNEoZuC5Piy",
        "outputId": "3a537141-473b-4245-d33a-e3c92b387a05"
      },
      "source": [
        "r_values"
      ],
      "execution_count": 79,
      "outputs": [
        {
          "output_type": "execute_result",
          "data": {
            "text/plain": [
              "[0, 1, 2, 3, 4, 5, 6]"
            ]
          },
          "metadata": {},
          "execution_count": 79
        }
      ]
    },
    {
      "cell_type": "code",
      "metadata": {
        "colab": {
          "base_uri": "https://localhost:8080/"
        },
        "id": "IH8s21Ho5TUX",
        "outputId": "ca051242-9fab-4916-938a-582dc62c9016"
      },
      "source": [
        "# list of pmf values\n",
        "dist = [binom.pmf(r, n, p) for r in r_values ]\n",
        "dist"
      ],
      "execution_count": 81,
      "outputs": [
        {
          "output_type": "execute_result",
          "data": {
            "text/plain": [
              "[0.004096000000000002,\n",
              " 0.03686400000000005,\n",
              " 0.13824000000000003,\n",
              " 0.2764800000000001,\n",
              " 0.31104,\n",
              " 0.18662400000000007,\n",
              " 0.04665599999999999]"
            ]
          },
          "metadata": {},
          "execution_count": 81
        }
      ]
    },
    {
      "cell_type": "code",
      "metadata": {
        "colab": {
          "base_uri": "https://localhost:8080/"
        },
        "id": "TrmXuq_uNGcC",
        "outputId": "417e9598-1258-4d64-93d9-5d1cd6e2e418"
      },
      "source": [
        "# printing the table\n",
        "print(\"r\\tp(r)\")\n",
        "for i in range(n + 1):\n",
        "    print(str(r_values[i]) + \"\\t\" + str(dist[i]))"
      ],
      "execution_count": 82,
      "outputs": [
        {
          "output_type": "stream",
          "name": "stdout",
          "text": [
            "r\tp(r)\n",
            "0\t0.004096000000000002\n",
            "1\t0.03686400000000005\n",
            "2\t0.13824000000000003\n",
            "3\t0.2764800000000001\n",
            "4\t0.31104\n",
            "5\t0.18662400000000007\n",
            "6\t0.04665599999999999\n"
          ]
        }
      ]
    },
    {
      "cell_type": "markdown",
      "metadata": {
        "id": "yqCCerKhPY36"
      },
      "source": [
        "### Standard Normal Distribution"
      ]
    },
    {
      "cell_type": "code",
      "metadata": {
        "colab": {
          "base_uri": "https://localhost:8080/"
        },
        "id": "iLookGTKNrIg",
        "outputId": "202df02d-0bb7-43cf-8aee-47b0944ad33f"
      },
      "source": [
        "from scipy import stats\n",
        "stats.norm.pdf(1)"
      ],
      "execution_count": 83,
      "outputs": [
        {
          "output_type": "execute_result",
          "data": {
            "text/plain": [
              "0.24197072451914337"
            ]
          },
          "metadata": {},
          "execution_count": 83
        }
      ]
    },
    {
      "cell_type": "code",
      "metadata": {
        "colab": {
          "base_uri": "https://localhost:8080/"
        },
        "id": "0qJoJyxoNKOL",
        "outputId": "ba861f9c-ecfa-4250-9e3a-e710e86610ca"
      },
      "source": [
        "stats.norm.cdf(1)"
      ],
      "execution_count": 84,
      "outputs": [
        {
          "output_type": "execute_result",
          "data": {
            "text/plain": [
              "0.8413447460685429"
            ]
          },
          "metadata": {},
          "execution_count": 84
        }
      ]
    },
    {
      "cell_type": "code",
      "metadata": {
        "colab": {
          "base_uri": "https://localhost:8080/"
        },
        "id": "ooBBlncfjGkE",
        "outputId": "e8c18e0b-f3e1-4cd9-bae1-c60ac60ff733"
      },
      "source": [
        "stats.norm.ppf(0.8413447460685429)"
      ],
      "execution_count": 85,
      "outputs": [
        {
          "output_type": "execute_result",
          "data": {
            "text/plain": [
              "1.0"
            ]
          },
          "metadata": {},
          "execution_count": 85
        }
      ]
    },
    {
      "cell_type": "code",
      "metadata": {
        "colab": {
          "base_uri": "https://localhost:8080/"
        },
        "id": "7Z0e-g2cQGnG",
        "outputId": "85b5924a-8ec8-4687-e370-1fa545771d32"
      },
      "source": [
        "stats.norm.sf(1)#survival function"
      ],
      "execution_count": 86,
      "outputs": [
        {
          "output_type": "execute_result",
          "data": {
            "text/plain": [
              "0.15865525393145707"
            ]
          },
          "metadata": {},
          "execution_count": 86
        }
      ]
    },
    {
      "cell_type": "code",
      "metadata": {
        "colab": {
          "base_uri": "https://localhost:8080/"
        },
        "id": "Z9yfG3BRN9PP",
        "outputId": "e440636f-ad04-472b-9b0d-6fd92ccdb4da"
      },
      "source": [
        "stats.norm.cdf(1.96)-stats.norm.cdf(-1.96)"
      ],
      "execution_count": 87,
      "outputs": [
        {
          "output_type": "execute_result",
          "data": {
            "text/plain": [
              "0.950004209703559"
            ]
          },
          "metadata": {},
          "execution_count": 87
        }
      ]
    },
    {
      "cell_type": "code",
      "metadata": {
        "colab": {
          "base_uri": "https://localhost:8080/"
        },
        "id": "Dh6izOfVOvvp",
        "outputId": "37b53fca-e18e-4276-a90a-54eaf393dd18"
      },
      "source": [
        "stats.norm.cdf(2.6)-stats.norm.cdf(-2.6)"
      ],
      "execution_count": 88,
      "outputs": [
        {
          "output_type": "execute_result",
          "data": {
            "text/plain": [
              "0.9906776239525625"
            ]
          },
          "metadata": {},
          "execution_count": 88
        }
      ]
    },
    {
      "cell_type": "code",
      "metadata": {
        "colab": {
          "base_uri": "https://localhost:8080/"
        },
        "id": "94nL50eGOv0s",
        "outputId": "3e4d2b3b-1d36-4f03-e5a8-01929a80dbee"
      },
      "source": [
        "stats.norm.cdf(3)-stats.norm.cdf(-3)"
      ],
      "execution_count": 90,
      "outputs": [
        {
          "output_type": "execute_result",
          "data": {
            "text/plain": [
              "0.9973002039367398"
            ]
          },
          "metadata": {},
          "execution_count": 90
        }
      ]
    },
    {
      "cell_type": "markdown",
      "metadata": {
        "id": "p6WK7MKTPg78"
      },
      "source": [
        "## Estimation"
      ]
    },
    {
      "cell_type": "markdown",
      "metadata": {
        "id": "mGpf3yvSjoBl"
      },
      "source": [
        "## Confidence Intervals"
      ]
    },
    {
      "cell_type": "code",
      "metadata": {
        "colab": {
          "base_uri": "https://localhost:8080/"
        },
        "id": "NVXYTdNvkBHC",
        "outputId": "e0003ac6-e10a-463e-f6bf-758a9ab84847"
      },
      "source": [
        "#define sample data\n",
        "np.random.seed(0)\n",
        "data = np.random.randint(10, 30, 50)\n",
        "\n",
        "#create 95% confidence interval for population mean weight\n",
        "st.norm.interval(alpha=0.95, loc=np.mean(data), scale=st.sem(data))"
      ],
      "execution_count": 91,
      "outputs": [
        {
          "output_type": "execute_result",
          "data": {
            "text/plain": [
              "(17.400060940568054, 21.079939059431943)"
            ]
          },
          "metadata": {},
          "execution_count": 91
        }
      ]
    },
    {
      "cell_type": "code",
      "metadata": {
        "colab": {
          "base_uri": "https://localhost:8080/"
        },
        "id": "USfAD060iwTX",
        "outputId": "464f1d9a-d872-4a43-c048-f7c1977b97bb"
      },
      "source": [
        "import numpy as np\n",
        "import scipy.stats as st\n",
        "\n",
        "#define sample data\n",
        "data = [12, 12, 13, 13, 15, 16, 17, 22, 23, 25, 26, 27, 28, 28, 29]\n",
        "\n",
        "#create 95% confidence interval for population mean weight\n",
        "st.t.interval(alpha=0.95, df=len(data)-1, loc=np.mean(data), scale=st.sem(data)) "
      ],
      "execution_count": 92,
      "outputs": [
        {
          "output_type": "execute_result",
          "data": {
            "text/plain": [
              "(16.75776979778498, 24.042230202215016)"
            ]
          },
          "metadata": {},
          "execution_count": 92
        }
      ]
    },
    {
      "cell_type": "markdown",
      "metadata": {
        "id": "7E3pWJ0IPdWc"
      },
      "source": [
        "## Hypothesis Testing"
      ]
    },
    {
      "cell_type": "markdown",
      "metadata": {
        "id": "Lwsl9HH9PjXt"
      },
      "source": [
        "### Single Population with known variance"
      ]
    },
    {
      "cell_type": "markdown",
      "metadata": {
        "id": "iHnu_6c1dNQZ"
      },
      "source": [
        "$z = \\frac{x-\\mu}{\\sigma/\\sqrt{n}}$"
      ]
    },
    {
      "cell_type": "markdown",
      "metadata": {
        "id": "wpo_qwwTPjbK"
      },
      "source": [
        "### Single Population with unknown variance"
      ]
    },
    {
      "cell_type": "markdown",
      "metadata": {
        "id": "yNeO3iYWdcQT"
      },
      "source": [
        "$z = \\frac{x-\\mu}{s/\\sqrt{n}}$ if n >=30,\n",
        "\n",
        "$t = \\frac{x-\\mu}{s/\\sqrt{n}}$ otherwise"
      ]
    },
    {
      "cell_type": "code",
      "metadata": {
        "colab": {
          "base_uri": "https://localhost:8080/"
        },
        "id": "UahfKF4GlQU-",
        "outputId": "c9448a8f-6872-4d52-968b-00bfdbce418a"
      },
      "source": [
        "ages = [22,34,46,23,22,37,35,45,34,16,41,23,43,26]\n",
        "print(np.mean(ages),np.std(ages))"
      ],
      "execution_count": 93,
      "outputs": [
        {
          "output_type": "stream",
          "name": "stdout",
          "text": [
            "31.928571428571427 9.49785152934438\n"
          ]
        }
      ]
    },
    {
      "cell_type": "code",
      "metadata": {
        "id": "MaBCGBMhSgP0",
        "colab": {
          "base_uri": "https://localhost:8080/"
        },
        "outputId": "5bb6366c-09ee-4383-c118-b869547b684c"
      },
      "source": [
        "from statsmodels.stats import weightstats\n",
        "ztest ,pval = weightstats.ztest(ages, x2=None, value=38)\n",
        "print(float(pval))\n",
        "if pval<0.05:#significance level\n",
        "    print(\"reject null hypothesis\")\n",
        "else:\n",
        "    print(\"fail to reject null hypothesis\")"
      ],
      "execution_count": 94,
      "outputs": [
        {
          "output_type": "stream",
          "name": "stdout",
          "text": [
            "0.021176604200172613\n",
            "reject null hypothesis\n"
          ]
        }
      ]
    },
    {
      "cell_type": "code",
      "metadata": {
        "colab": {
          "base_uri": "https://localhost:8080/"
        },
        "id": "ZDDyI6tAkj6y",
        "outputId": "9f0346fa-173c-472d-e335-5cf88220ea88"
      },
      "source": [
        "from scipy.stats import ttest_1samp\n",
        "tset, pval = ttest_1samp(ages, 38)\n",
        "print('p-values',pval)\n",
        "if pval < 0.05:    # alpha value is 0.05 or 5%\n",
        "    print(\"reject null hypothesis\")\n",
        "else:\n",
        "    print(\"fail to reject null hypothesis\")"
      ],
      "execution_count": 95,
      "outputs": [
        {
          "output_type": "stream",
          "name": "stdout",
          "text": [
            "p-values 0.03831449306690359\n",
            "reject null hypothesis\n"
          ]
        }
      ]
    },
    {
      "cell_type": "markdown",
      "metadata": {
        "id": "04DCqq1GPjeN"
      },
      "source": [
        "### Single & Two population case for proportion"
      ]
    },
    {
      "cell_type": "markdown",
      "metadata": {
        "id": "5FB1qN7pdyeP"
      },
      "source": [
        "$\\LARGE{z = \\frac{\\hat p - p_0}{\\sqrt{\\frac{pq}{n}}}}$"
      ]
    },
    {
      "cell_type": "markdown",
      "metadata": {
        "id": "8Aa6BQ8vnnrj"
      },
      "source": [
        "Ref : https://sonalake.com/latest/hypothesis-testing-of-proportion-based-samples/"
      ]
    },
    {
      "cell_type": "code",
      "metadata": {
        "colab": {
          "base_uri": "https://localhost:8080/"
        },
        "id": "M_ZOtYhJnkIM",
        "outputId": "dd01c67f-22fc-45b0-bf8e-0b301eadca60"
      },
      "source": [
        "from statsmodels.stats.proportion import proportions_ztest\n",
        "# can we assume anything from our sample\n",
        "significance = 0.05\n",
        "# our sample - 82% are good\n",
        "sample_success = 410\n",
        "sample_size = 500\n",
        "# our Ho is  80%\n",
        "null_hypothesis = 0.80\n",
        "# check our sample against Ho for Ha > Ho\n",
        "# for Ha < Ho use alternative='smaller'\n",
        "# for Ha != Ho use alternative='two-sided'\n",
        "stat, p_value = proportions_ztest(count=sample_success, nobs=sample_size, value=null_hypothesis, alternative='larger')\n",
        "# report\n",
        "print('z_stat: %0.3f, p_value: %0.3f' % (stat, p_value))\n",
        "if p_value > significance:\n",
        "   print (\"Fail to reject the null hypothesis - we have nothing else to say\")\n",
        "else:\n",
        "   print (\"Reject the null hypothesis - suggest the alternative hypothesis is true\")"
      ],
      "execution_count": 96,
      "outputs": [
        {
          "output_type": "stream",
          "name": "stdout",
          "text": [
            "z_stat: 1.164, p_value: 0.122\n",
            "Fail to reject the null hypothesis - we have nothing else to say\n"
          ]
        }
      ]
    },
    {
      "cell_type": "markdown",
      "metadata": {
        "id": "9legTB-zq86u"
      },
      "source": [
        "For two populations, we use the statistic as follows:"
      ]
    },
    {
      "cell_type": "markdown",
      "metadata": {
        "id": "u51FzJu1q8-H"
      },
      "source": [
        "$\\LARGE{z = \\frac{(\\hat {p_2} -\\hat {p_1}) - (p_2 - p_1)}{SE}}$"
      ]
    },
    {
      "cell_type": "markdown",
      "metadata": {
        "id": "9hm4tqTprcib"
      },
      "source": [
        "For two independant/heterogeneous populations, $\\LARGE{SE = \\sqrt{\\frac{\\hat {p_1} \\hat {q_1}}{n_1} + \\frac{\\hat {p_2} \\hat {q_2}}{n_2}}}$"
      ]
    },
    {
      "cell_type": "markdown",
      "metadata": {
        "id": "BXC2S-8wsEaU"
      },
      "source": [
        "For two dependant/homogeneous populations, $\\LARGE{SE = p_0 q_0 \\sqrt{\\frac{1}{n_1} + \\frac{1}{n_2}}}$, where $p_0 = \\frac{n_1 \\hat p_1 + n_2 \\hat p_2}{n_1 + n_2}$ and $q_0 = 1 - p_0$"
      ]
    },
    {
      "cell_type": "code",
      "metadata": {
        "colab": {
          "base_uri": "https://localhost:8080/"
        },
        "id": "7D51F5dLnsKa",
        "outputId": "ceabe245-548e-4162-de69-7f9d233041db"
      },
      "source": [
        "from statsmodels.stats.proportion import proportions_ztest\n",
        "import numpy as np\n",
        "# can we assume anything from our sample\n",
        "significance = 0.025\n",
        "# our samples - 82% are good in one, and ~79% are good in the other\n",
        "# note - the samples do not need to be the same size\n",
        "sample_success_a, sample_size_a = (410, 500)\n",
        "sample_success_b, sample_size_b = (379, 400)\n",
        "# check our sample against Ho for Ha != Ho\n",
        "successes = np.array([sample_success_a, sample_success_b])\n",
        "samples = np.array([sample_size_a, sample_size_b])\n",
        "# note, no need for a Ho value here - it's derived from the other parameters\n",
        "stat, p_value = proportions_ztest(count=successes, nobs=samples,  alternative='two-sided')\n",
        "# report\n",
        "print('z_stat: %0.3f, p_value: %0.3f' % (stat, p_value))\n",
        "if p_value > significance:\n",
        "   print (\"Fail to reject the null hypothesis - we have nothing else to say\")\n",
        "else:\n",
        "   print (\"Reject the null hypothesis - suggest the alternative hypothesis is true\")"
      ],
      "execution_count": 97,
      "outputs": [
        {
          "output_type": "stream",
          "name": "stdout",
          "text": [
            "z_stat: -5.780, p_value: 0.000\n",
            "Reject the null hypothesis - suggest the alternative hypothesis is true\n"
          ]
        }
      ]
    },
    {
      "cell_type": "markdown",
      "metadata": {
        "id": "dJmmBG-RreVH"
      },
      "source": [
        "## Two independant Samples"
      ]
    },
    {
      "cell_type": "markdown",
      "metadata": {
        "id": "WrnWW2_Svx7D"
      },
      "source": [
        "### Two Sample z-test - known population variance\n",
        "\n",
        "$z = \\frac{(\\bar {x_1}-\\bar {x_2})-(\\mu_1-\\mu_2)}{SE}$\n",
        "\n",
        "$SE = \\sqrt{\\frac{\\sigma_1^2}{n_1} + \\frac{\\sigma_2^2}{n_2}}$"
      ]
    },
    {
      "cell_type": "markdown",
      "metadata": {
        "id": "qTcQRwn9wXtf"
      },
      "source": [
        "### Two sample independant t- test (unpooled) - unknown population variance (unequal variance assumption), (can be applied in general case)\n",
        "\n",
        "$t = \\frac{(\\bar {x_1}-\\bar {x_2})-(\\mu_1-\\mu_2)}{SE}$\n",
        "\n",
        "$SE = \\sqrt{\\frac{s_1^2}{n_1} + \\frac{s_2^2}{n_2}}$\n",
        "\n",
        "with Degrees of freedom calculated as follows:\n",
        "\n",
        "Option 1 min(n1-1,n2-1)-->use if calculating manually\n",
        "\n",
        "Option 2 Satterthwaite Approximation -->used by softwares -->$\\frac{(\\frac{s_1^2}{n_1} + \\frac{s_2^2}{n_2})^2}{(\\frac{1}{n_1-1})(\\frac{s_1^2}{n_1})^2+(\\frac{1}{n_2-1})(\\frac{s_2^2}{n_2})^2}$\n",
        "\n",
        "Option 3 (n1+n2-2) -->not much used\n",
        "\n"
      ]
    },
    {
      "cell_type": "markdown",
      "metadata": {
        "id": "Y1FDYxWcxuaJ"
      },
      "source": [
        "### Two sample independant t- test (pooled) - unknown population variance, (equal variance assumption)\n",
        "\n",
        "$t = \\frac{(\\bar {x_1}-\\bar {x_2})-(\\mu_1-\\mu_2)}{SE}$\n",
        "\n",
        "$SE = s_p\\sqrt{\\frac{1}{n_1} + \\frac{1}{n_2}}$\n",
        "\n",
        "Pooled Variance, $s_p = \\sqrt{\\frac{(n_1-1)s_1^2 + (n_2-1)s_2^2}{n_1+n_2-2}}$\n",
        "\n",
        "with Degrees of freedom (n1 + n2 - 2)"
      ]
    },
    {
      "cell_type": "markdown",
      "metadata": {
        "id": "XtUZaEaTszqK"
      },
      "source": [
        "### Two sample paired t- test - two sets of measurements are from same set of samples"
      ]
    },
    {
      "cell_type": "code",
      "metadata": {
        "colab": {
          "base_uri": "https://localhost:8080/"
        },
        "id": "d2Rv1qzAtB7M",
        "outputId": "ac2a87bf-4d39-4205-d1d2-c25a30633d17"
      },
      "source": [
        "from statsmodels.stats import weightstats\n",
        "ages = [22,34,46,23,22,37,35,45,34,16,41,23,43,26]\n",
        "ages1 = [92,34,46,23,21,57,35,95,34,36,41,13,33,96]\n",
        "ztest ,pval = weightstats.ztest(ages, ages1)\n",
        "print(float(pval))\n",
        "if pval<0.05:\n",
        "    print(\"reject null hypothesis\")\n",
        "else:\n",
        "    print(\"fail to reject null hypothesis\")"
      ],
      "execution_count": 98,
      "outputs": [
        {
          "output_type": "stream",
          "name": "stdout",
          "text": [
            "0.05855451408701195\n",
            "fail to reject null hypothesis\n"
          ]
        }
      ]
    },
    {
      "cell_type": "code",
      "metadata": {
        "colab": {
          "base_uri": "https://localhost:8080/"
        },
        "id": "T0IaWAjDmvb3",
        "outputId": "7b34a4f4-ad38-4c18-ba9a-be61bc1319d7"
      },
      "source": [
        "from scipy.stats import ttest_ind\n",
        "help(ttest_ind)"
      ],
      "execution_count": 99,
      "outputs": [
        {
          "output_type": "stream",
          "name": "stdout",
          "text": [
            "Help on function ttest_ind in module scipy.stats.stats:\n",
            "\n",
            "ttest_ind(a, b, axis=0, equal_var=True, nan_policy='propagate')\n",
            "    Calculate the T-test for the means of *two independent* samples of scores.\n",
            "    \n",
            "    This is a two-sided test for the null hypothesis that 2 independent samples\n",
            "    have identical average (expected) values. This test assumes that the\n",
            "    populations have identical variances by default.\n",
            "    \n",
            "    Parameters\n",
            "    ----------\n",
            "    a, b : array_like\n",
            "        The arrays must have the same shape, except in the dimension\n",
            "        corresponding to `axis` (the first, by default).\n",
            "    axis : int or None, optional\n",
            "        Axis along which to compute test. If None, compute over the whole\n",
            "        arrays, `a`, and `b`.\n",
            "    equal_var : bool, optional\n",
            "        If True (default), perform a standard independent 2 sample test\n",
            "        that assumes equal population variances [1]_.\n",
            "        If False, perform Welch's t-test, which does not assume equal\n",
            "        population variance [2]_.\n",
            "    \n",
            "        .. versionadded:: 0.11.0\n",
            "    nan_policy : {'propagate', 'raise', 'omit'}, optional\n",
            "        Defines how to handle when input contains nan.\n",
            "        The following options are available (default is 'propagate'):\n",
            "    \n",
            "          * 'propagate': returns nan\n",
            "          * 'raise': throws an error\n",
            "          * 'omit': performs the calculations ignoring nan values\n",
            "    \n",
            "    \n",
            "    Returns\n",
            "    -------\n",
            "    statistic : float or array\n",
            "        The calculated t-statistic.\n",
            "    pvalue : float or array\n",
            "        The two-tailed p-value.\n",
            "    \n",
            "    Notes\n",
            "    -----\n",
            "    We can use this test, if we observe two independent samples from\n",
            "    the same or different population, e.g. exam scores of boys and\n",
            "    girls or of two ethnic groups. The test measures whether the\n",
            "    average (expected) value differs significantly across samples. If\n",
            "    we observe a large p-value, for example larger than 0.05 or 0.1,\n",
            "    then we cannot reject the null hypothesis of identical average scores.\n",
            "    If the p-value is smaller than the threshold, e.g. 1%, 5% or 10%,\n",
            "    then we reject the null hypothesis of equal averages.\n",
            "    \n",
            "    References\n",
            "    ----------\n",
            "    .. [1] https://en.wikipedia.org/wiki/T-test#Independent_two-sample_t-test\n",
            "    \n",
            "    .. [2] https://en.wikipedia.org/wiki/Welch%27s_t-test\n",
            "    \n",
            "    Examples\n",
            "    --------\n",
            "    >>> from scipy import stats\n",
            "    >>> np.random.seed(12345678)\n",
            "    \n",
            "    Test with sample with identical means:\n",
            "    \n",
            "    >>> rvs1 = stats.norm.rvs(loc=5,scale=10,size=500)\n",
            "    >>> rvs2 = stats.norm.rvs(loc=5,scale=10,size=500)\n",
            "    >>> stats.ttest_ind(rvs1,rvs2)\n",
            "    (0.26833823296239279, 0.78849443369564776)\n",
            "    >>> stats.ttest_ind(rvs1,rvs2, equal_var = False)\n",
            "    (0.26833823296239279, 0.78849452749500748)\n",
            "    \n",
            "    `ttest_ind` underestimates p for unequal variances:\n",
            "    \n",
            "    >>> rvs3 = stats.norm.rvs(loc=5, scale=20, size=500)\n",
            "    >>> stats.ttest_ind(rvs1, rvs3)\n",
            "    (-0.46580283298287162, 0.64145827413436174)\n",
            "    >>> stats.ttest_ind(rvs1, rvs3, equal_var = False)\n",
            "    (-0.46580283298287162, 0.64149646246569292)\n",
            "    \n",
            "    When n1 != n2, the equal variance t-statistic is no longer equal to the\n",
            "    unequal variance t-statistic:\n",
            "    \n",
            "    >>> rvs4 = stats.norm.rvs(loc=5, scale=20, size=100)\n",
            "    >>> stats.ttest_ind(rvs1, rvs4)\n",
            "    (-0.99882539442782481, 0.3182832709103896)\n",
            "    >>> stats.ttest_ind(rvs1, rvs4, equal_var = False)\n",
            "    (-0.69712570584654099, 0.48716927725402048)\n",
            "    \n",
            "    T-test with different means, variance, and n:\n",
            "    \n",
            "    >>> rvs5 = stats.norm.rvs(loc=8, scale=20, size=100)\n",
            "    >>> stats.ttest_ind(rvs1, rvs5)\n",
            "    (-1.4679669854490653, 0.14263895620529152)\n",
            "    >>> stats.ttest_ind(rvs1, rvs5, equal_var = False)\n",
            "    (-0.94365973617132992, 0.34744170334794122)\n",
            "\n"
          ]
        }
      ]
    },
    {
      "cell_type": "code",
      "metadata": {
        "colab": {
          "base_uri": "https://localhost:8080/"
        },
        "id": "8zQDYJ1LtZBU",
        "outputId": "33be65f4-9940-4f3d-8ece-536a579ad691"
      },
      "source": [
        "import numpy as np\n",
        "ages = [22,34,46,23,22,37,35,45,34,16,41,23,43,26]\n",
        "ages1 = [92,34,46,23,21,57,35,95,34,36,41,13,33,96]\n",
        "print(np.mean(ages),np.mean(ages1))\n",
        "tset, pval = ttest_ind(ages, ages1, equal_var=False)#equal_var True is default ->pooled case, use False for unpooled case/general case\n",
        "print('p-values',pval)\n",
        "if pval < 0.05:    # alpha value is 0.05 or 5%\n",
        "    print(\"reject null hypothesis\")\n",
        "else:\n",
        "    print(\"fail to reject null hypothesis\")"
      ],
      "execution_count": 102,
      "outputs": [
        {
          "output_type": "stream",
          "name": "stdout",
          "text": [
            "31.928571428571427 46.857142857142854\n",
            "p-values 0.07656154516721643\n",
            "fail to reject null hypothesis\n"
          ]
        }
      ]
    },
    {
      "cell_type": "markdown",
      "metadata": {
        "id": "s6_Vy4XXmYDq"
      },
      "source": [
        "## Why Paired test?"
      ]
    },
    {
      "cell_type": "code",
      "metadata": {
        "id": "YOw9XhDRPv3u",
        "colab": {
          "base_uri": "https://localhost:8080/"
        },
        "outputId": "6d574f77-bd56-4d2f-d0ac-aaaf33c206ef"
      },
      "source": [
        "from scipy.stats import ttest_ind\n",
        "data1 = [0.873, 2.817, 0.121, -0.945, -0.055, -1.436, 0.360, -1.478, -1.637, -1.869]\n",
        "data2 = [1.142, -0.432, -0.938, -0.729, -0.846, -0.157, 0.500, 1.183, -1.075, -0.169]\n",
        "stat, p = ttest_ind(data1, data2)\n",
        "print('stat=%.3f, p=%.3f' % (stat, p))\n",
        "if p > 0.05:\n",
        "\tprint('Probably the same distribution')\n",
        "else:\n",
        "\tprint('Probably different distributions')"
      ],
      "execution_count": 103,
      "outputs": [
        {
          "output_type": "stream",
          "name": "stdout",
          "text": [
            "stat=-0.326, p=0.748\n",
            "Probably the same distribution\n"
          ]
        }
      ]
    },
    {
      "cell_type": "code",
      "metadata": {
        "id": "kM7dwxtaSU7g",
        "colab": {
          "base_uri": "https://localhost:8080/"
        },
        "outputId": "291b23ae-3e11-4bc9-f346-a5b4a34ae499"
      },
      "source": [
        "from scipy.stats import ttest_rel\n",
        "data1 = [0.873, 2.817, 0.121, -0.945, -0.055, -1.436, 0.360, -1.478, -1.637, -1.869]\n",
        "data2 = [1.142, -0.432, -0.938, -0.729, -0.846, -0.157, 0.500, 1.183, -1.075, -0.169]\n",
        "stat, p = ttest_rel(data1, data2)\n",
        "print('stat=%.3f, p=%.3f' % (stat, p))\n",
        "if p > 0.05:\n",
        "\tprint('Probably the same distribution')\n",
        "else:\n",
        "\tprint('Probably different distributions')"
      ],
      "execution_count": 104,
      "outputs": [
        {
          "output_type": "stream",
          "name": "stdout",
          "text": [
            "stat=-0.334, p=0.746\n",
            "Probably the same distribution\n"
          ]
        }
      ]
    },
    {
      "cell_type": "code",
      "metadata": {
        "id": "xfGYUJMLSjo4",
        "colab": {
          "base_uri": "https://localhost:8080/"
        },
        "outputId": "acfdd339-ae37-4bff-ca61-5342e285008b"
      },
      "source": [
        "from scipy.stats import ttest_1samp\n",
        "tset, pval = ttest_1samp(np.array(data1)-np.array(data2),0)\n",
        "print(tset,'p-values',pval)\n",
        "if pval < 0.05:    # alpha value is 0.05 or 5%\n",
        "   print(\" we are rejecting null hypothesis\")\n",
        "else:\n",
        "  print(\"we are accepting null hypothesis\")"
      ],
      "execution_count": 105,
      "outputs": [
        {
          "output_type": "stream",
          "name": "stdout",
          "text": [
            "-0.3341680721407323 p-values 0.7459078283577478\n",
            "we are accepting null hypothesis\n"
          ]
        }
      ]
    },
    {
      "cell_type": "markdown",
      "metadata": {
        "id": "hLWiGYK6mitT"
      },
      "source": [
        "## scipy.stats.ttest_ind_from_stats"
      ]
    },
    {
      "cell_type": "code",
      "metadata": {
        "colab": {
          "base_uri": "https://localhost:8080/"
        },
        "id": "jIlPvKJ-Z78N",
        "outputId": "313236ef-df6b-43c3-e283-81c008b654ee"
      },
      "source": [
        "import scipy.stats\n",
        "help(scipy.stats.ttest_ind_from_stats)"
      ],
      "execution_count": 109,
      "outputs": [
        {
          "output_type": "stream",
          "name": "stdout",
          "text": [
            "Help on function ttest_ind_from_stats in module scipy.stats.stats:\n",
            "\n",
            "ttest_ind_from_stats(mean1, std1, nobs1, mean2, std2, nobs2, equal_var=True)\n",
            "    T-test for means of two independent samples from descriptive statistics.\n",
            "    \n",
            "    This is a two-sided test for the null hypothesis that two independent\n",
            "    samples have identical average (expected) values.\n",
            "    \n",
            "    Parameters\n",
            "    ----------\n",
            "    mean1 : array_like\n",
            "        The mean(s) of sample 1.\n",
            "    std1 : array_like\n",
            "        The standard deviation(s) of sample 1.\n",
            "    nobs1 : array_like\n",
            "        The number(s) of observations of sample 1.\n",
            "    mean2 : array_like\n",
            "        The mean(s) of sample 2.\n",
            "    std2 : array_like\n",
            "        The standard deviations(s) of sample 2.\n",
            "    nobs2 : array_like\n",
            "        The number(s) of observations of sample 2.\n",
            "    equal_var : bool, optional\n",
            "        If True (default), perform a standard independent 2 sample test\n",
            "        that assumes equal population variances [1]_.\n",
            "        If False, perform Welch's t-test, which does not assume equal\n",
            "        population variance [2]_.\n",
            "    \n",
            "    Returns\n",
            "    -------\n",
            "    statistic : float or array\n",
            "        The calculated t-statistics.\n",
            "    pvalue : float or array\n",
            "        The two-tailed p-value.\n",
            "    \n",
            "    See Also\n",
            "    --------\n",
            "    scipy.stats.ttest_ind\n",
            "    \n",
            "    Notes\n",
            "    -----\n",
            "    .. versionadded:: 0.16.0\n",
            "    \n",
            "    References\n",
            "    ----------\n",
            "    .. [1] https://en.wikipedia.org/wiki/T-test#Independent_two-sample_t-test\n",
            "    \n",
            "    .. [2] https://en.wikipedia.org/wiki/Welch%27s_t-test\n",
            "    \n",
            "    Examples\n",
            "    --------\n",
            "    Suppose we have the summary data for two samples, as follows::\n",
            "    \n",
            "                         Sample   Sample\n",
            "                   Size   Mean   Variance\n",
            "        Sample 1    13    15.0     87.5\n",
            "        Sample 2    11    12.0     39.0\n",
            "    \n",
            "    Apply the t-test to this data (with the assumption that the population\n",
            "    variances are equal):\n",
            "    \n",
            "    >>> from scipy.stats import ttest_ind_from_stats\n",
            "    >>> ttest_ind_from_stats(mean1=15.0, std1=np.sqrt(87.5), nobs1=13,\n",
            "    ...                      mean2=12.0, std2=np.sqrt(39.0), nobs2=11)\n",
            "    Ttest_indResult(statistic=0.9051358093310269, pvalue=0.3751996797581487)\n",
            "    \n",
            "    For comparison, here is the data from which those summary statistics\n",
            "    were taken.  With this data, we can compute the same result using\n",
            "    `scipy.stats.ttest_ind`:\n",
            "    \n",
            "    >>> a = np.array([1, 3, 4, 6, 11, 13, 15, 19, 22, 24, 25, 26, 26])\n",
            "    >>> b = np.array([2, 4, 6, 9, 11, 13, 14, 15, 18, 19, 21])\n",
            "    >>> from scipy.stats import ttest_ind\n",
            "    >>> ttest_ind(a, b)\n",
            "    Ttest_indResult(statistic=0.905135809331027, pvalue=0.3751996797581486)\n",
            "    \n",
            "    Suppose we instead have binary data and would like to apply a t-test to\n",
            "    compare the proportion of 1s in two independent groups::\n",
            "    \n",
            "                          Number of    Sample     Sample\n",
            "                    Size    ones        Mean     Variance\n",
            "        Sample 1    150      30         0.2        0.16\n",
            "        Sample 2    200      45         0.225      0.174375\n",
            "    \n",
            "    The sample mean :math:`\\hat{p}` is the proportion of ones in the sample\n",
            "    and the variance for a binary observation is estimated by\n",
            "    :math:`\\hat{p}(1-\\hat{p})`.\n",
            "    \n",
            "    >>> ttest_ind_from_stats(mean1=0.2, std1=np.sqrt(0.16), nobs1=150,\n",
            "    ...                      mean2=0.225, std2=np.sqrt(0.17437), nobs2=200)\n",
            "    Ttest_indResult(statistic=-0.564327545549774, pvalue=0.5728947691244874)\n",
            "    \n",
            "    For comparison, we could compute the t statistic and p-value using\n",
            "    arrays of 0s and 1s and `scipy.stat.ttest_ind`, as above.\n",
            "    \n",
            "    >>> group1 = np.array([1]*30 + [0]*(150-30))\n",
            "    >>> group2 = np.array([1]*45 + [0]*(200-45))\n",
            "    >>> ttest_ind(group1, group2)\n",
            "    Ttest_indResult(statistic=-0.5627179589855622, pvalue=0.573989277115258)\n",
            "\n"
          ]
        }
      ]
    },
    {
      "cell_type": "markdown",
      "metadata": {
        "id": "VDLV0xu7QgOc"
      },
      "source": [
        "### Example 1\n",
        "Average number of articles produced by two machines per day are 200 and 250 with SD 20 and 25 respectively on the basis of 25 days production. Can you regard both the machines equally efficient at 1% level of significance."
      ]
    },
    {
      "cell_type": "code",
      "metadata": {
        "colab": {
          "base_uri": "https://localhost:8080/"
        },
        "id": "k2ab1XXJZ0T-",
        "outputId": "082dcaba-df18-4358-a90c-33f5c200bdbc"
      },
      "source": [
        "import scipy.stats\n",
        "scipy.stats.ttest_ind_from_stats(200, 20, 25, 250, 25, 25, equal_var=True)"
      ],
      "execution_count": 110,
      "outputs": [
        {
          "output_type": "execute_result",
          "data": {
            "text/plain": [
              "Ttest_indResult(statistic=-7.808688094430304, pvalue=4.2897604160231015e-10)"
            ]
          },
          "metadata": {},
          "execution_count": 110
        }
      ]
    },
    {
      "cell_type": "markdown",
      "metadata": {
        "id": "W_HEIzwEbF9z"
      },
      "source": [
        "### Example 2\n",
        "Average number of articles produced by two machines per day are 200 and 215 with SD 20 and 25 respectively on the basis of 25 days and 30 days production respectively. Can you regard both the machines equally efficient at 1% level of significance."
      ]
    },
    {
      "cell_type": "code",
      "metadata": {
        "colab": {
          "base_uri": "https://localhost:8080/"
        },
        "id": "wbW4Fo7KbE77",
        "outputId": "e98cb043-1e88-46c0-bdf7-7a707df678d5"
      },
      "source": [
        "import scipy.stats\n",
        "scipy.stats.ttest_ind_from_stats(200, 20, 25, 215, 25, 30)"
      ],
      "execution_count": 111,
      "outputs": [
        {
          "output_type": "execute_result",
          "data": {
            "text/plain": [
              "Ttest_indResult(statistic=-2.421824695413772, pvalue=0.01889676686376)"
            ]
          },
          "metadata": {},
          "execution_count": 111
        }
      ]
    },
    {
      "cell_type": "code",
      "metadata": {
        "colab": {
          "base_uri": "https://localhost:8080/"
        },
        "id": "rR9sA7y-bObV",
        "outputId": "c2f76337-64b2-4638-ff90-0cac00a036a9"
      },
      "source": [
        "import scipy.stats\n",
        "scipy.stats.ttest_ind_from_stats(200, 20, 25, 215, 25, 30, equal_var=False)"
      ],
      "execution_count": 112,
      "outputs": [
        {
          "output_type": "execute_result",
          "data": {
            "text/plain": [
              "Ttest_indResult(statistic=-2.4715576637149037, pvalue=0.016704061211880682)"
            ]
          },
          "metadata": {},
          "execution_count": 112
        }
      ]
    },
    {
      "cell_type": "markdown",
      "metadata": {
        "id": "OgqpCEvNcEyj"
      },
      "source": [
        "### Example 3\n",
        "The heights of six randomly chosen sailors are in inches 63,65,58,69,71 and 72. The heights of 10 randomly chosen soldiers in inches are 61,62,65,66,69,69,70,71,72 and 73. Do these figures indicate that soldiers are on average shorter than sailors. Test at 5% significance level."
      ]
    },
    {
      "cell_type": "code",
      "metadata": {
        "id": "dVjDwMiLcfZx"
      },
      "source": [
        "sailors = [63,65,58,69,71,72]\n",
        "soldiers = [61,62,65,66,69,69,70,71,72,73]"
      ],
      "execution_count": 113,
      "outputs": []
    },
    {
      "cell_type": "code",
      "metadata": {
        "colab": {
          "base_uri": "https://localhost:8080/"
        },
        "id": "zB5inUmacG7i",
        "outputId": "ebeb21a2-4fa7-40a1-bd27-34440ad1ec80"
      },
      "source": [
        "from scipy.stats import ttest_ind\n",
        "ttest_ind(sailors, soldiers, equal_var=True)"
      ],
      "execution_count": 114,
      "outputs": [
        {
          "output_type": "execute_result",
          "data": {
            "text/plain": [
              "Ttest_indResult(statistic=-0.6167108606032418, pvalue=0.5473239774460055)"
            ]
          },
          "metadata": {},
          "execution_count": 114
        }
      ]
    },
    {
      "cell_type": "markdown",
      "metadata": {
        "id": "Kq0Z5ckkFVEj"
      },
      "source": [
        "Thanks & Regards\n",
        "\n",
        "Arun P R"
      ]
    }
  ]
}